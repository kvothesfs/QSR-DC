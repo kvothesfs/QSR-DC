{
 "cells": [
  {
   "cell_type": "markdown",
   "metadata": {},
   "source": [
    "# Clustering"
   ]
  },
  {
   "cell_type": "markdown",
   "metadata": {},
   "source": [
    "Imports:"
   ]
  },
  {
   "cell_type": "code",
   "execution_count": 1,
   "metadata": {},
   "outputs": [],
   "source": [
    "import os\n",
    "import pandas as pd\n",
    "\n",
    "import numpy as np\n",
    "from sklearn import svm\n",
    "import pandas as pd\n",
    "from sklearn.impute import SimpleImputer\n",
    "from sklearn.cluster import DBSCAN\n",
    "from sklearn.preprocessing import StandardScaler\n",
    "\n",
    "from sklearn.ensemble import IsolationForest\n",
    "\n",
    "from sklearn.decomposition import PCA\n",
    "from sklearn.decomposition import FastICA\n",
    "from sklearn.decomposition import TruncatedSVD\n",
    "from sklearn.neighbors import LocalOutlierFactor\n",
    "from sklearn.manifold import TSNE\n",
    "import pickle"
   ]
  },
  {
   "cell_type": "markdown",
   "metadata": {},
   "source": [
    "Directories:"
   ]
  },
  {
   "cell_type": "code",
   "execution_count": 11,
   "metadata": {},
   "outputs": [],
   "source": [
    "def get_parent_dir(directory):\n",
    "    import os\n",
    "    return os.path.dirname(directory)\n",
    "\n",
    "current_dirs_parent = get_parent_dir(os.getcwd())\n",
    "dataraw_dir=current_dirs_parent+\"/01.Data/Raw/\"\n",
    "preproc_dir=current_dirs_parent+\"/01.Data/Preprocessing/\"\n",
    "models_b_dir=current_dirs_parent+\"/03.Models/Set B/\""
   ]
  },
  {
   "cell_type": "markdown",
   "metadata": {},
   "source": [
    "Load preprocessed data:"
   ]
  },
  {
   "cell_type": "code",
   "execution_count": 3,
   "metadata": {},
   "outputs": [],
   "source": [
    "train_master_pd=pd.read_csv(preproc_dir+\"train_b_preproc1.csv\")\n",
    "test_master_pd=pd.read_csv(preproc_dir+\"test_b_preproc1.csv\")"
   ]
  },
  {
   "cell_type": "code",
   "execution_count": 4,
   "metadata": {},
   "outputs": [],
   "source": [
    "train_master_y0=train_master_pd[train_master_pd[\"y_lead2\"]==0]"
   ]
  },
  {
   "cell_type": "code",
   "execution_count": 5,
   "metadata": {},
   "outputs": [],
   "source": [
    "cols=train_master_pd.columns\n",
    "selcols=[a for a in cols if a.startswith(\"x\")]"
   ]
  },
  {
   "cell_type": "code",
   "execution_count": 6,
   "metadata": {},
   "outputs": [],
   "source": [
    "X_train=train_master_pd[train_master_pd.columns.intersection(selcols)].copy()\n",
    "X_train.fillna(0, inplace=True) \n",
    "X_train.replace(to_replace=np.inf, value=0, inplace=True)"
   ]
  },
  {
   "cell_type": "code",
   "execution_count": 7,
   "metadata": {},
   "outputs": [],
   "source": [
    "X_train_y0=train_master_y0[train_master_y0.columns.intersection(selcols)].copy()\n",
    "X_train_y0.fillna(0, inplace=True) \n",
    "X_train_y0.replace(to_replace=np.inf, value=0, inplace=True)"
   ]
  },
  {
   "cell_type": "code",
   "execution_count": 8,
   "metadata": {},
   "outputs": [],
   "source": [
    "X_test=test_master_pd[test_master_pd.columns.intersection(selcols)].copy()\n",
    "X_test.fillna(0, inplace=True) \n",
    "X_test.replace(to_replace=np.inf, value=0, inplace=True)"
   ]
  },
  {
   "cell_type": "markdown",
   "metadata": {},
   "source": [
    "Scaling data"
   ]
  },
  {
   "cell_type": "code",
   "execution_count": 9,
   "metadata": {},
   "outputs": [],
   "source": [
    "scaler= StandardScaler().fit(X_train)\n",
    "X_train_sc=scaler.transform(X_train)\n",
    "X_test_sc=scaler.transform(X_test)\n",
    "X_train_y0_sc=scaler.transform(X_train_y0)"
   ]
  },
  {
   "cell_type": "code",
   "execution_count": 29,
   "metadata": {},
   "outputs": [],
   "source": [
    "pickle.dump(scaler, open(models_b_dir+\"clust_scaler.pickle.dat\", \"wb\"))"
   ]
  },
  {
   "cell_type": "markdown",
   "metadata": {},
   "source": [
    "SVDD"
   ]
  },
  {
   "cell_type": "code",
   "execution_count": 27,
   "metadata": {},
   "outputs": [
    {
     "name": "stderr",
     "output_type": "stream",
     "text": [
      "C:\\Users\\jchas\\Anaconda3\\lib\\site-packages\\sklearn\\svm\\classes.py:1185: DeprecationWarning: The random_state parameter is deprecated and will be removed in version 0.22.\n",
      "  \" be removed in version 0.22.\", DeprecationWarning)\n"
     ]
    }
   ],
   "source": [
    "clf= svm.OneClassSVM(nu=0.1, kernel=\"rbf\", gamma=0.1,random_state=42)\n",
    "clf.fit(X_train_sc)\n",
    "\n",
    "y_pred_train = clf.predict(X_train_sc)\n",
    "y_pred_test = clf.predict(X_test_sc)\n",
    "\n",
    "svdd_test=pd.DataFrame(y_pred_test)\n",
    "svdd_train=pd.DataFrame(y_pred_train)"
   ]
  },
  {
   "cell_type": "code",
   "execution_count": 28,
   "metadata": {},
   "outputs": [],
   "source": [
    "pickle.dump(clf, open(models_b_dir+\"clust_svdd.pickle.dat\", \"wb\"))"
   ]
  },
  {
   "cell_type": "markdown",
   "metadata": {},
   "source": [
    "DBSCAN"
   ]
  },
  {
   "cell_type": "code",
   "execution_count": 13,
   "metadata": {},
   "outputs": [],
   "source": [
    "db = DBSCAN(eps=0.5, min_samples=10,metric=\"l2\")\n",
    "\n",
    "y_pred_train=db.fit_predict(X_train_sc)\n",
    "dbscan_train=pd.DataFrame(y_pred_train)\n",
    "\n",
    "y_pred_test=db.fit_predict(X_test_sc)\n",
    "dbscan_test=pd.DataFrame(y_pred_test)"
   ]
  },
  {
   "cell_type": "code",
   "execution_count": 14,
   "metadata": {},
   "outputs": [],
   "source": [
    "pickle.dump(db, open(models_b_dir+\"clust_db.pickle.dat\", \"wb\"))"
   ]
  },
  {
   "cell_type": "markdown",
   "metadata": {},
   "source": [
    "Isolation Forest"
   ]
  },
  {
   "cell_type": "code",
   "execution_count": 15,
   "metadata": {},
   "outputs": [],
   "source": [
    "rng = np.random.RandomState(42)\n",
    "isoforest = IsolationForest(behaviour='new', max_samples=\"auto\",\n",
    "                      random_state=rng, contamination='auto')\n",
    "\n",
    "isoforest.fit(X_train_y0_sc)\n",
    "y_pred_train = isoforest.predict(X_train_sc)\n",
    "y_pred_test = isoforest.predict(X_test_sc)\n",
    "\n",
    "isoforest_train=pd.DataFrame(y_pred_train)\n",
    "isoforest_test=pd.DataFrame(y_pred_test)"
   ]
  },
  {
   "cell_type": "code",
   "execution_count": 16,
   "metadata": {},
   "outputs": [],
   "source": [
    "pickle.dump(isoforest, open(models_b_dir+\"clust_isoforest.pickle.dat\", \"wb\"))"
   ]
  },
  {
   "cell_type": "markdown",
   "metadata": {},
   "source": [
    "PCA"
   ]
  },
  {
   "cell_type": "code",
   "execution_count": 17,
   "metadata": {},
   "outputs": [
    {
     "name": "stdout",
     "output_type": "stream",
     "text": [
      "[0.05953301 0.04691735 0.03207016 0.02935977 0.02123745]\n"
     ]
    }
   ],
   "source": [
    "pca = PCA(n_components=5, svd_solver='full',random_state=42)\n",
    "\n",
    "pca.fit(X_train_sc) \n",
    "print(pca.explained_variance_ratio_) \n",
    "\n",
    "train_pca=pca.transform(X_train_sc)\n",
    "test_pca=pca.transform(X_test_sc)\n",
    "\n",
    "train_pca_df=pd.DataFrame(train_pca)\n",
    "test_pca_df=pd.DataFrame(test_pca)"
   ]
  },
  {
   "cell_type": "code",
   "execution_count": 18,
   "metadata": {},
   "outputs": [],
   "source": [
    "pickle.dump(pca, open(models_b_dir+\"clust_pca.pickle.dat\", \"wb\"))"
   ]
  },
  {
   "cell_type": "markdown",
   "metadata": {},
   "source": [
    "ICA"
   ]
  },
  {
   "cell_type": "code",
   "execution_count": 19,
   "metadata": {},
   "outputs": [],
   "source": [
    "fica = FastICA(n_components=5,random_state=42)\n",
    "fica.fit(X_train_sc)\n",
    "train_fica=fica.transform(X_train_sc)\n",
    "test_fica=fica.transform(X_test_sc)\n",
    "\n",
    "train_fica_df=pd.DataFrame(train_fica)\n",
    "test_fica_df=pd.DataFrame(test_fica)"
   ]
  },
  {
   "cell_type": "code",
   "execution_count": 20,
   "metadata": {},
   "outputs": [],
   "source": [
    "pickle.dump(fica, open(models_b_dir+\"clust_fica.pickle.dat\", \"wb\"))"
   ]
  },
  {
   "cell_type": "markdown",
   "metadata": {},
   "source": [
    "SVD"
   ]
  },
  {
   "cell_type": "code",
   "execution_count": 21,
   "metadata": {},
   "outputs": [],
   "source": [
    "svd = TruncatedSVD(n_components=5, n_iter=7, random_state=42)\n",
    "svd.fit(X_train_sc)  \n",
    "train_svd=svd.transform(X_train_sc)\n",
    "test_svd=svd.transform(X_test_sc)\n",
    "\n",
    "train_svd_df=pd.DataFrame(train_svd)\n",
    "test_svd_df=pd.DataFrame(test_svd)"
   ]
  },
  {
   "cell_type": "code",
   "execution_count": 22,
   "metadata": {},
   "outputs": [],
   "source": [
    "pickle.dump(svd, open(models_b_dir+\"clust_svd.pickle.dat\", \"wb\"))"
   ]
  },
  {
   "cell_type": "markdown",
   "metadata": {},
   "source": [
    "LOF"
   ]
  },
  {
   "cell_type": "code",
   "execution_count": 23,
   "metadata": {},
   "outputs": [
    {
     "name": "stderr",
     "output_type": "stream",
     "text": [
      "C:\\Users\\jchas\\Anaconda3\\lib\\site-packages\\sklearn\\neighbors\\lof.py:236: FutureWarning: default contamination parameter 0.1 will change in version 0.22 to \"auto\". This will change the predict method behavior.\n",
      "  FutureWarning)\n"
     ]
    }
   ],
   "source": [
    "lof = LocalOutlierFactor(novelty=True)\n",
    "\n",
    "lof.fit(X_train_y0_sc)\n",
    "\n",
    "train_lof=lof.predict(X_train_sc)\n",
    "test_lof=lof.predict(X_test_sc)\n",
    "\n",
    "train_lof_df=pd.DataFrame(train_lof)\n",
    "test_lof_df=pd.DataFrame(test_lof)"
   ]
  },
  {
   "cell_type": "code",
   "execution_count": 24,
   "metadata": {},
   "outputs": [],
   "source": [
    "pickle.dump(lof, open(models_b_dir+\"clust_lof.pickle.dat\", \"wb\"))"
   ]
  },
  {
   "cell_type": "markdown",
   "metadata": {},
   "source": [
    "TSNE"
   ]
  },
  {
   "cell_type": "code",
   "execution_count": 25,
   "metadata": {},
   "outputs": [],
   "source": [
    "tsnes = TSNE(n_components=3,random_state=42)\n",
    "\n",
    "train_tsne=tsnes.fit_transform(X_train_sc)\n",
    "test_tsne=tsnes.fit_transform(X_test_sc)\n",
    "\n",
    "train_tsne_df=pd.DataFrame(train_tsne)\n",
    "test_tsne_df=pd.DataFrame(test_tsne)"
   ]
  },
  {
   "cell_type": "code",
   "execution_count": 26,
   "metadata": {},
   "outputs": [],
   "source": [
    "pickle.dump(tsnes, open(models_b_dir+\"clust_tsnes.pickle.dat\", \"wb\"))"
   ]
  },
  {
   "cell_type": "markdown",
   "metadata": {},
   "source": [
    "Bind Train Frames"
   ]
  },
  {
   "cell_type": "code",
   "execution_count": null,
   "metadata": {},
   "outputs": [],
   "source": [
    "colnames=[*[\"x_svdd_\"+str(i) for i in svdd_train.columns],\\\n",
    "          *[\"x_db_\"+str(i) for i in dbscan_train.columns],\\\n",
    "          *[\"x_iso_\"+str(i) for i in isoforest_train.columns],\\\n",
    "          *[\"x_pca_\"+str(i) for i in train_pca_df.columns],\\\n",
    "          *[\"x_svd_\"+str(i) for i in train_svd_df.columns],\\\n",
    "          *[\"x_lof_\"+str(i) for i in train_lof_df.columns],\\\n",
    "          *[\"x_tsne_\"+str(i) for i in train_tsne_df.columns]]\n",
    "\n",
    "final_train_df=pd.concat([svdd_train,\\\n",
    "                          dbscan_train,\\\n",
    "                          isoforest_train,\\\n",
    "                          train_pca_df,\\\n",
    "                          train_svd_df,\\\n",
    "                          train_lof_df,\\\n",
    "                          train_tsne_df],axis=1)\n",
    "\n",
    "final_train_df.columns=colnames"
   ]
  },
  {
   "cell_type": "markdown",
   "metadata": {},
   "source": [
    "Bind Test Frames"
   ]
  },
  {
   "cell_type": "code",
   "execution_count": null,
   "metadata": {},
   "outputs": [],
   "source": [
    "final_test_df=pd.concat([svdd_test,dbscan_test,isoforest_test,test_pca_df,test_svd_df,test_lof_df,test_tsne_df],axis=1)\n",
    "final_test_df.columns=colnames"
   ]
  },
  {
   "cell_type": "markdown",
   "metadata": {},
   "source": [
    "Write to file"
   ]
  },
  {
   "cell_type": "code",
   "execution_count": null,
   "metadata": {},
   "outputs": [],
   "source": [
    "final_train_df.to_csv(preproc_dir+\"train_b_cluster.csv\",index=False)  \n",
    "final_test_df.to_csv(preproc_dir+\"test_b_cluster.csv\",index=False)  "
   ]
  }
 ],
 "metadata": {
  "kernelspec": {
   "display_name": "Python 3",
   "language": "python",
   "name": "python3"
  },
  "language_info": {
   "codemirror_mode": {
    "name": "ipython",
    "version": 3
   },
   "file_extension": ".py",
   "mimetype": "text/x-python",
   "name": "python",
   "nbconvert_exporter": "python",
   "pygments_lexer": "ipython3",
   "version": "3.6.5"
  },
  "toc": {
   "nav_menu": {},
   "number_sections": true,
   "sideBar": true,
   "skip_h1_title": false,
   "title_cell": "Table of Contents",
   "title_sidebar": "Contents",
   "toc_cell": false,
   "toc_position": {},
   "toc_section_display": true,
   "toc_window_display": false
  }
 },
 "nbformat": 4,
 "nbformat_minor": 2
}
