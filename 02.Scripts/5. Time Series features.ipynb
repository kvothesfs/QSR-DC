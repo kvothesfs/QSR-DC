{
 "cells": [
  {
   "cell_type": "markdown",
   "metadata": {},
   "source": [
    "# Time Series features"
   ]
  },
  {
   "cell_type": "code",
   "execution_count": 32,
   "metadata": {},
   "outputs": [],
   "source": [
    "from pyts.multivariate.transformation import WEASELMUSE\n",
    "import pandas as pd\n",
    "import os\n",
    "import numpy as np\n",
    "from pyts.multivariate.transformation import MultivariateTransformer\n",
    "from pyts.image import GramianAngularField"
   ]
  },
  {
   "cell_type": "code",
   "execution_count": 9,
   "metadata": {},
   "outputs": [],
   "source": [
    "def get_parent_dir(directory):\n",
    "    import os\n",
    "    return os.path.dirname(directory)\n",
    "\n",
    "current_dirs_parent = get_parent_dir(os.getcwd())\n",
    "dataraw_dir=current_dirs_parent+\"/01.Data/Raw/\"\n",
    "preproc_dir=current_dirs_parent+\"/01.Data/Preprocessing/\"\n",
    "models_a_dir=current_dirs_parent+\"/03.Models/Set A/\"\n",
    "models_b_dir=current_dirs_parent+\"/03.Models/Set B/\""
   ]
  },
  {
   "cell_type": "markdown",
   "metadata": {},
   "source": [
    "Load scaled-derived data:"
   ]
  },
  {
   "cell_type": "code",
   "execution_count": 13,
   "metadata": {},
   "outputs": [],
   "source": [
    "train_b_2=pd.read_csv(preproc_dir+\"train_b_preproc_sc.csv\")\n",
    "test_b_2=pd.read_csv(preproc_dir+\"test_b_preproc_sc.csv\")"
   ]
  },
  {
   "cell_type": "code",
   "execution_count": 14,
   "metadata": {},
   "outputs": [],
   "source": [
    "cols_2=train_b_2.columns\n",
    "selcols_2=[a for a in cols_2 if a.startswith(\"x\")]"
   ]
  },
  {
   "cell_type": "code",
   "execution_count": 17,
   "metadata": {},
   "outputs": [],
   "source": [
    "X_train_2=train_b_2[train_b_2.columns.intersection(selcols_2)].copy()\n",
    "X_train_2.fillna(0, inplace=True) \n",
    "X_train_2.replace(to_replace=np.inf, value=0, inplace=True)\n",
    "#X_train.replace(to_replace=-np.inf, value=0, inplace=True)\n",
    "\n",
    "X_test_2=test_b_2[test_b_2.columns.intersection(selcols_2)].copy()\n",
    "X_test_2.fillna(0, inplace=True) \n",
    "X_test_2.replace(to_replace=np.inf, value=0, inplace=True)\n",
    "#X_test.replace(to_replace=-np.inf, value=0, inplace=True)\n",
    "\n",
    "y_train_2=train_b_2[\"y_lead2\"].copy()\n",
    "y_test_2=test_b_2[\"y_lead2\"].copy()"
   ]
  },
  {
   "cell_type": "code",
   "execution_count": 44,
   "metadata": {},
   "outputs": [
    {
     "ename": "TypeError",
     "evalue": "Argument given by name ('dtype') and position (2)",
     "output_type": "error",
     "traceback": [
      "\u001b[1;31m---------------------------------------------------------------------------\u001b[0m",
      "\u001b[1;31mTypeError\u001b[0m                                 Traceback (most recent call last)",
      "\u001b[1;32m<ipython-input-44-0a9a14fbec2c>\u001b[0m in \u001b[0;36m<module>\u001b[1;34m()\u001b[0m\n\u001b[1;32m----> 1\u001b[1;33m \u001b[0mX_train_2_3array\u001b[0m\u001b[1;33m=\u001b[0m\u001b[0mnp\u001b[0m\u001b[1;33m.\u001b[0m\u001b[0marray\u001b[0m\u001b[1;33m(\u001b[0m\u001b[0mX_train_2\u001b[0m\u001b[1;33m.\u001b[0m\u001b[0mvalues\u001b[0m\u001b[1;33m,\u001b[0m\u001b[0mtrain_b_2\u001b[0m\u001b[1;33m[\u001b[0m\u001b[1;34m\"time\"\u001b[0m\u001b[1;33m]\u001b[0m\u001b[1;33m.\u001b[0m\u001b[0mvalues\u001b[0m\u001b[1;33m,\u001b[0m\u001b[0mdtype\u001b[0m\u001b[1;33m=\u001b[0m\u001b[0mnp\u001b[0m\u001b[1;33m.\u001b[0m\u001b[0mfloat64\u001b[0m\u001b[1;33m)\u001b[0m\u001b[1;33m\u001b[0m\u001b[0m\n\u001b[0m",
      "\u001b[1;31mTypeError\u001b[0m: Argument given by name ('dtype') and position (2)"
     ]
    }
   ],
   "source": [
    "X_train_2_3array=np.array(X_train_2.values,train_b_2[\"time\"].values,dtype=np.float64)"
   ]
  },
  {
   "cell_type": "code",
   "execution_count": 34,
   "metadata": {},
   "outputs": [
    {
     "ename": "ValueError",
     "evalue": "X must be 3-dimensional (got 2).",
     "output_type": "error",
     "traceback": [
      "\u001b[1;31m---------------------------------------------------------------------------\u001b[0m",
      "\u001b[1;31mValueError\u001b[0m                                Traceback (most recent call last)",
      "\u001b[1;32m<ipython-input-34-0fbe16ad0415>\u001b[0m in \u001b[0;36m<module>\u001b[1;34m()\u001b[0m\n\u001b[0;32m      1\u001b[0m \u001b[0mtransformer\u001b[0m \u001b[1;33m=\u001b[0m \u001b[0mMultivariateTransformer\u001b[0m\u001b[1;33m(\u001b[0m\u001b[0mGramianAngularField\u001b[0m\u001b[1;33m(\u001b[0m\u001b[1;33m)\u001b[0m\u001b[1;33m,\u001b[0m\u001b[0mflatten\u001b[0m\u001b[1;33m=\u001b[0m\u001b[1;32mTrue\u001b[0m\u001b[1;33m)\u001b[0m\u001b[1;33m\u001b[0m\u001b[0m\n\u001b[1;32m----> 2\u001b[1;33m \u001b[0mX_new\u001b[0m \u001b[1;33m=\u001b[0m \u001b[0mtransformer\u001b[0m\u001b[1;33m.\u001b[0m\u001b[0mfit_transform\u001b[0m\u001b[1;33m(\u001b[0m\u001b[0mX_train_2\u001b[0m\u001b[1;33m)\u001b[0m\u001b[1;33m\u001b[0m\u001b[0m\n\u001b[0m",
      "\u001b[1;32m~\\Anaconda3\\lib\\site-packages\\sklearn\\base.py\u001b[0m in \u001b[0;36mfit_transform\u001b[1;34m(self, X, y, **fit_params)\u001b[0m\n\u001b[0;32m    551\u001b[0m         \u001b[1;32mif\u001b[0m \u001b[0my\u001b[0m \u001b[1;32mis\u001b[0m \u001b[1;32mNone\u001b[0m\u001b[1;33m:\u001b[0m\u001b[1;33m\u001b[0m\u001b[0m\n\u001b[0;32m    552\u001b[0m             \u001b[1;31m# fit method of arity 1 (unsupervised transformation)\u001b[0m\u001b[1;33m\u001b[0m\u001b[1;33m\u001b[0m\u001b[0m\n\u001b[1;32m--> 553\u001b[1;33m             \u001b[1;32mreturn\u001b[0m \u001b[0mself\u001b[0m\u001b[1;33m.\u001b[0m\u001b[0mfit\u001b[0m\u001b[1;33m(\u001b[0m\u001b[0mX\u001b[0m\u001b[1;33m,\u001b[0m \u001b[1;33m**\u001b[0m\u001b[0mfit_params\u001b[0m\u001b[1;33m)\u001b[0m\u001b[1;33m.\u001b[0m\u001b[0mtransform\u001b[0m\u001b[1;33m(\u001b[0m\u001b[0mX\u001b[0m\u001b[1;33m)\u001b[0m\u001b[1;33m\u001b[0m\u001b[0m\n\u001b[0m\u001b[0;32m    554\u001b[0m         \u001b[1;32melse\u001b[0m\u001b[1;33m:\u001b[0m\u001b[1;33m\u001b[0m\u001b[0m\n\u001b[0;32m    555\u001b[0m             \u001b[1;31m# fit method of arity 2 (supervised transformation)\u001b[0m\u001b[1;33m\u001b[0m\u001b[1;33m\u001b[0m\u001b[0m\n",
      "\u001b[1;32m~\\Anaconda3\\lib\\site-packages\\pyts\\multivariate\\transformation\\multivariate.py\u001b[0m in \u001b[0;36mfit\u001b[1;34m(self, X, y)\u001b[0m\n\u001b[0;32m     70\u001b[0m \u001b[1;33m\u001b[0m\u001b[0m\n\u001b[0;32m     71\u001b[0m         \"\"\"\n\u001b[1;32m---> 72\u001b[1;33m         \u001b[0mX\u001b[0m \u001b[1;33m=\u001b[0m \u001b[0mcheck_3d_array\u001b[0m\u001b[1;33m(\u001b[0m\u001b[0mX\u001b[0m\u001b[1;33m)\u001b[0m\u001b[1;33m\u001b[0m\u001b[0m\n\u001b[0m\u001b[0;32m     73\u001b[0m         \u001b[0m_\u001b[0m\u001b[1;33m,\u001b[0m \u001b[0mn_features\u001b[0m\u001b[1;33m,\u001b[0m \u001b[0m_\u001b[0m \u001b[1;33m=\u001b[0m \u001b[0mX\u001b[0m\u001b[1;33m.\u001b[0m\u001b[0mshape\u001b[0m\u001b[1;33m\u001b[0m\u001b[0m\n\u001b[0;32m     74\u001b[0m         \u001b[0mself\u001b[0m\u001b[1;33m.\u001b[0m\u001b[0m_check_params\u001b[0m\u001b[1;33m(\u001b[0m\u001b[0mn_features\u001b[0m\u001b[1;33m)\u001b[0m\u001b[1;33m\u001b[0m\u001b[0m\n",
      "\u001b[1;32m~\\Anaconda3\\lib\\site-packages\\pyts\\multivariate\\utils\\utils.py\u001b[0m in \u001b[0;36mcheck_3d_array\u001b[1;34m(X)\u001b[0m\n\u001b[0;32m     18\u001b[0m     \u001b[0mX\u001b[0m \u001b[1;33m=\u001b[0m \u001b[0mcheck_array\u001b[0m\u001b[1;33m(\u001b[0m\u001b[0mX\u001b[0m\u001b[1;33m,\u001b[0m \u001b[0mensure_2d\u001b[0m\u001b[1;33m=\u001b[0m\u001b[1;32mFalse\u001b[0m\u001b[1;33m,\u001b[0m \u001b[0mallow_nd\u001b[0m\u001b[1;33m=\u001b[0m\u001b[1;32mTrue\u001b[0m\u001b[1;33m)\u001b[0m\u001b[1;33m\u001b[0m\u001b[0m\n\u001b[0;32m     19\u001b[0m     \u001b[1;32mif\u001b[0m \u001b[0mX\u001b[0m\u001b[1;33m.\u001b[0m\u001b[0mndim\u001b[0m \u001b[1;33m!=\u001b[0m \u001b[1;36m3\u001b[0m\u001b[1;33m:\u001b[0m\u001b[1;33m\u001b[0m\u001b[0m\n\u001b[1;32m---> 20\u001b[1;33m         \u001b[1;32mraise\u001b[0m \u001b[0mValueError\u001b[0m\u001b[1;33m(\u001b[0m\u001b[1;34m\"X must be 3-dimensional (got {0}).\"\u001b[0m\u001b[1;33m.\u001b[0m\u001b[0mformat\u001b[0m\u001b[1;33m(\u001b[0m\u001b[0mX\u001b[0m\u001b[1;33m.\u001b[0m\u001b[0mndim\u001b[0m\u001b[1;33m)\u001b[0m\u001b[1;33m)\u001b[0m\u001b[1;33m\u001b[0m\u001b[0m\n\u001b[0m\u001b[0;32m     21\u001b[0m     \u001b[1;32mreturn\u001b[0m \u001b[0mX\u001b[0m\u001b[1;33m\u001b[0m\u001b[0m\n",
      "\u001b[1;31mValueError\u001b[0m: X must be 3-dimensional (got 2)."
     ]
    }
   ],
   "source": [
    "transformer = MultivariateTransformer(GramianAngularField(),flatten=True)\n",
    "X_new = transformer.fit_transform(X_train_2)"
   ]
  },
  {
   "cell_type": "code",
   "execution_count": 20,
   "metadata": {},
   "outputs": [],
   "source": [
    " from pyts.datasets import load_basic_motions"
   ]
  },
  {
   "cell_type": "code",
   "execution_count": 21,
   "metadata": {},
   "outputs": [],
   "source": [
    " X_train, X_test, y_train, y_test = load_basic_motions(return_X_y=True)"
   ]
  },
  {
   "cell_type": "code",
   "execution_count": 26,
   "metadata": {},
   "outputs": [
    {
     "data": {
      "text/plain": [
       "array([[-8.139050e-01, -8.139050e-01, -4.246280e-01,  3.168950e-01,\n",
       "         2.285800e-01, -1.623120e-01, -1.623120e-01,  2.101000e-03,\n",
       "         1.154630e-01, -2.131920e-01, -1.709780e-01, -1.940800e-01,\n",
       "        -7.352820e-01, -7.352820e-01,  1.588540e-01,  5.352130e-01,\n",
       "        -2.833000e-03,  3.565980e-01,  2.677630e-01, -4.686500e-02,\n",
       "         2.139430e-01,  7.373000e-02, -2.723010e-01,  1.825150e-01,\n",
       "        -1.154123e+00,  2.707500e-02, -1.652810e-01,  4.675890e-01,\n",
       "         3.403990e-01,  3.445650e-01, -4.274900e-02,  3.706900e-02,\n",
       "         2.942070e-01,  8.342600e-02, -3.753400e-02, -4.069370e-01,\n",
       "        -4.137210e-01, -4.137210e-01,  3.637180e-01, -2.654780e-01,\n",
       "        -1.565170e-01,  7.580000e-04,  7.580000e-04, -1.784320e-01,\n",
       "        -1.784320e-01, -1.716920e-01, -2.003950e-01, -2.145440e-01,\n",
       "        -2.145440e-01, -1.531740e-01,  6.305300e-02,  6.305300e-02,\n",
       "         1.793710e-01,  5.185700e-02,  5.393500e-02,  4.974570e-01,\n",
       "         3.129840e-01, -4.554800e-01, -4.233460e-01, -5.865150e-01,\n",
       "        -9.685100e-02,  2.798200e-01,  1.055450e-01,  2.134850e-01,\n",
       "        -3.301800e-02,  1.133270e-01,  4.042000e-02,  1.858200e-01,\n",
       "         1.858200e-01, -3.714300e-01, -5.290370e-01, -3.830460e-01,\n",
       "        -5.690380e-01,  3.430490e-01,  1.631700e-02,  3.721940e-01,\n",
       "         1.339150e-01,  1.339150e-01, -1.667650e-01,  1.117450e-01,\n",
       "         6.761500e-02, -1.525040e-01, -2.105630e-01, -2.105630e-01,\n",
       "        -2.752550e-01, -2.769540e-01,  1.227320e-01,  3.120080e-01,\n",
       "        -2.353990e-01, -2.375370e-01, -8.325500e-02,  3.418500e-02,\n",
       "        -1.719970e-01, -8.590800e-02, -1.009760e-01, -2.553640e-01,\n",
       "        -6.629200e-02, -2.064400e-01, -5.442550e-01, -5.442550e-01],\n",
       "       [ 8.256660e-01,  8.256660e-01, -1.305033e+00, -5.076930e-01,\n",
       "         2.882100e-02,  8.715410e-01,  8.715410e-01,  1.173920e+00,\n",
       "         7.927810e-01,  1.097710e-01, -5.362710e-01, -9.913220e-01,\n",
       "        -1.194219e+00, -1.194219e+00, -1.309782e+00, -7.782740e-01,\n",
       "         6.224380e-01,  1.528401e+00,  1.681070e+00,  1.590526e+00,\n",
       "         1.094367e+00,  3.625060e-01, -3.812550e-01, -8.979440e-01,\n",
       "        -1.901395e+00, -1.701837e+00, -8.802690e-01,  7.531310e-01,\n",
       "         1.418083e+00,  1.545642e+00,  1.570619e+00,  9.071020e-01,\n",
       "        -3.482870e-01, -1.066452e+00, -7.600480e-01, -6.239430e-01,\n",
       "        -7.676040e-01, -7.676040e-01, -2.835280e-01,  9.569580e-01,\n",
       "         1.369015e+00,  1.336810e+00,  1.336810e+00,  3.500010e-01,\n",
       "         3.500010e-01, -1.159130e-01, -4.393640e-01, -1.095621e+00,\n",
       "        -1.095621e+00, -9.447810e-01,  8.166310e-01,  8.166310e-01,\n",
       "         1.519381e+00,  1.889705e+00,  1.550083e+00,  4.401910e-01,\n",
       "        -5.457000e-02, -8.104320e-01, -1.494622e+00, -1.732656e+00,\n",
       "        -1.590913e+00, -4.102620e-01,  3.112410e-01,  1.229623e+00,\n",
       "         1.812892e+00,  1.892870e+00,  1.359296e+00,  3.160420e-01,\n",
       "         3.160420e-01, -1.125063e+00, -1.187219e+00, -9.283880e-01,\n",
       "        -1.378049e+00, -9.944180e-01, -3.720340e-01,  5.853860e-01,\n",
       "         1.682730e+00,  1.682730e+00,  1.918208e+00,  1.631300e+00,\n",
       "        -3.749000e-03, -7.680950e-01, -1.145070e+00, -1.145070e+00,\n",
       "        -9.561790e-01, -3.855200e-01, -6.649700e-02,  1.576950e-01,\n",
       "         5.718550e-01,  8.749950e-01,  7.932380e-01,  4.435650e-01,\n",
       "        -3.925900e-02, -1.524920e-01,  2.711050e-01,  3.146410e-01,\n",
       "         6.103050e-01,  2.090630e-01, -5.588470e-01, -5.588470e-01],\n",
       "       [ 3.271200e-02,  3.271200e-02,  8.261700e-01,  2.185690e-01,\n",
       "         5.863130e-01,  1.138116e+00,  1.138116e+00,  8.558200e-01,\n",
       "         7.286670e-01,  4.298040e-01,  3.620090e-01,  1.969180e-01,\n",
       "         3.421820e-01,  3.421820e-01,  4.748600e-01,  2.023990e-01,\n",
       "         2.986460e-01,  3.905740e-01,  2.483960e-01,  4.018890e-01,\n",
       "         4.720260e-01,  3.149070e-01,  5.398410e-01,  1.337320e-01,\n",
       "         6.183400e-02,  2.891350e-01,  2.912000e-03,  2.628460e-01,\n",
       "         4.686620e-01,  6.551040e-01,  7.805020e-01,  7.756180e-01,\n",
       "         3.532270e-01, -1.291400e-01, -1.603350e-01, -4.001300e-02,\n",
       "         1.438680e-01,  1.438680e-01, -1.582200e-02,  3.827500e-01,\n",
       "         5.790600e-01,  6.451730e-01,  6.451730e-01,  3.751850e-01,\n",
       "         3.751850e-01,  2.074700e-02, -9.599600e-02, -4.420100e-02,\n",
       "        -4.420100e-02, -8.535900e-02,  1.159530e-01,  1.159530e-01,\n",
       "         3.998120e-01,  4.427610e-01,  2.860630e-01, -8.476100e-02,\n",
       "        -3.560900e-01, -4.047780e-01, -2.112290e-01, -7.255100e-02,\n",
       "         1.425810e-01,  2.169220e-01,  1.417250e-01,  6.588100e-02,\n",
       "         2.239090e-01,  3.993190e-01,  4.632520e-01,  2.109030e-01,\n",
       "         2.109030e-01, -3.283710e-01, -2.327350e-01, -8.396600e-02,\n",
       "        -3.804700e-02,  1.255570e-01,  7.185000e-03,  2.018710e-01,\n",
       "         3.342370e-01,  3.342370e-01,  3.371990e-01,  2.259300e-01,\n",
       "        -3.654740e-01, -2.552880e-01, -2.163520e-01, -2.163520e-01,\n",
       "        -2.558400e-01, -3.020950e-01, -1.173220e-01,  1.040900e-02,\n",
       "         8.854900e-02,  1.936480e-01,  3.236190e-01,  3.097800e-01,\n",
       "         2.706220e-01,  4.468000e-03,  1.095000e-03, -9.129400e-02,\n",
       "         2.868640e-01,  6.791020e-01,  3.790320e-01,  3.790320e-01],\n",
       "       [ 2.130700e-02,  2.130700e-02, -3.728720e-01,  2.397000e-02,\n",
       "         6.658400e-02,  2.104060e-01,  2.104060e-01,  1.784460e-01,\n",
       "        -4.261400e-02, -5.326700e-02, -6.392100e-02, -8.789100e-02,\n",
       "         1.438220e-01,  1.438220e-01,  3.568920e-01,  6.125800e-02,\n",
       "         3.675450e-01,  4.101590e-01, -1.864400e-02,  2.210600e-01,\n",
       "         1.331700e-02, -6.711700e-01, -6.125800e-02, -3.622190e-01,\n",
       "        -2.636740e-01,  3.302580e-01, -1.038720e-01,  2.024160e-01,\n",
       "         2.929700e-02, -2.663000e-03, -5.326700e-02, -2.130700e-02,\n",
       "        -1.864360e-01, -1.970900e-01, -1.598020e-01, -1.251790e-01,\n",
       "         2.876440e-01,  2.876440e-01,  1.890990e-01,  1.864360e-01,\n",
       "         1.704560e-01,  9.854500e-02,  9.854500e-02,  2.663400e-02,\n",
       "         2.663400e-02, -3.728700e-02,  9.321800e-02,  1.198520e-01,\n",
       "         1.198520e-01,  1.731190e-01,  2.636740e-01,  2.636740e-01,\n",
       "         2.823180e-01, -1.065300e-02, -2.290500e-01, -4.128230e-01,\n",
       "        -6.844870e-01, -3.595550e-01, -1.997530e-01, -3.009610e-01,\n",
       "        -5.326700e-02,  6.125800e-02,  2.370400e-01,  3.702090e-01,\n",
       "        -2.929700e-02, -5.327000e-03, -3.728720e-01, -5.566450e-01,\n",
       "        -5.566450e-01, -7.164470e-01, -4.341300e-01, -5.859400e-02,\n",
       "         1.251790e-01,  4.581000e-01,  2.556840e-01,  5.832790e-01,\n",
       "         3.249310e-01,  3.249310e-01,  3.196050e-01,  1.784460e-01,\n",
       "        -1.251790e-01, -1.811090e-01, -2.210600e-01, -2.210600e-01,\n",
       "        -2.370400e-01, -3.196000e-02,  9.321800e-02,  5.593100e-02,\n",
       "         3.196000e-02,  1.331700e-02,  2.130700e-02,  3.728700e-02,\n",
       "        -1.864400e-02, -1.251790e-01, -2.556840e-01, -2.929710e-01,\n",
       "         9.588100e-02,  2.796540e-01,  1.598020e-01,  1.598020e-01],\n",
       "       [ 1.225150e-01,  1.225150e-01, -4.527700e-02, -1.305050e-01,\n",
       "        -2.636740e-01, -3.249310e-01, -3.249310e-01, -1.278420e-01,\n",
       "         3.995100e-02,  1.677920e-01,  1.012080e-01,  1.091980e-01,\n",
       "        -1.864400e-02, -1.864400e-02, -1.598000e-02, -9.055500e-02,\n",
       "        -3.089510e-01, -1.438220e-01, -7.990100e-02, -7.191100e-02,\n",
       "         3.196000e-02,  9.321800e-02,  3.196000e-02,  1.571390e-01,\n",
       "        -1.065300e-02, -2.663000e-03, -7.990000e-03, -2.823180e-01,\n",
       "        -2.849810e-01, -2.263870e-01, -1.331700e-02,  1.278420e-01,\n",
       "         2.956340e-01,  2.769910e-01,  1.917630e-01,  3.196000e-02,\n",
       "        -5.859400e-02, -5.859400e-02, -2.583470e-01, -2.823180e-01,\n",
       "        -1.864360e-01, -9.588100e-02, -9.588100e-02,  1.917630e-01,\n",
       "         1.917630e-01,  2.237230e-01,  1.917630e-01, -4.261400e-02,\n",
       "        -4.261400e-02, -1.411590e-01, -2.476940e-01, -2.476940e-01,\n",
       "        -1.544760e-01,  3.462400e-02,  1.811090e-01,  3.062880e-01,\n",
       "         2.903080e-01,  1.837730e-01,  8.522800e-02,  6.125800e-02,\n",
       "        -6.392100e-02, -1.305050e-01, -1.251790e-01, -6.125800e-02,\n",
       "        -9.854500e-02, -2.130700e-02,  1.171880e-01,  3.009610e-01,\n",
       "         3.009610e-01,  2.929710e-01,  9.854500e-02, -1.598000e-02,\n",
       "        -1.518120e-01, -2.636740e-01, -3.009610e-01, -4.554370e-01,\n",
       "        -3.249310e-01, -3.249310e-01, -1.757830e-01,  3.728700e-02,\n",
       "         1.384950e-01,  1.038720e-01,  7.990100e-02,  7.990100e-02,\n",
       "         6.924800e-02, -1.598000e-02, -9.588100e-02, -1.677920e-01,\n",
       "        -1.198520e-01, -1.091980e-01, -6.658400e-02,  3.462400e-02,\n",
       "         9.854500e-02,  1.251790e-01,  1.145250e-01,  7.723800e-02,\n",
       "        -3.462400e-02, -3.196000e-02,  1.145250e-01,  1.145250e-01],\n",
       "       [ 7.750410e-01,  7.750410e-01,  3.835260e-01,  5.886050e-01,\n",
       "         8.176550e-01,  8.043390e-01,  8.043390e-01, -1.251790e-01,\n",
       "        -3.622190e-01, -4.927240e-01, -5.433280e-01, -3.755360e-01,\n",
       "        -1.944260e-01, -1.944260e-01, -5.859400e-02,  4.447830e-01,\n",
       "         8.522790e-01,  5.406650e-01,  3.755360e-01, -1.145250e-01,\n",
       "        -4.873970e-01, -3.675450e-01, -6.871500e-01, -6.179020e-01,\n",
       "        -2.423670e-01,  2.663400e-02,  6.978040e-01,  9.241900e-01,\n",
       "         6.924770e-01,  3.355850e-01, -1.944260e-01, -6.258930e-01,\n",
       "        -8.522790e-01, -6.685070e-01, -2.769910e-01, -1.624660e-01,\n",
       "        -8.256500e-02, -8.256500e-02,  6.844870e-01,  6.738330e-01,\n",
       "         3.835260e-01,  1.012080e-01,  1.012080e-01, -4.554370e-01,\n",
       "        -4.554370e-01, -5.220210e-01, -5.166940e-01,  1.704560e-01,\n",
       "         1.704560e-01,  3.915160e-01,  8.256460e-01,  8.256460e-01,\n",
       "         5.113680e-01,  1.384950e-01, -2.769910e-01, -7.590610e-01,\n",
       "        -6.685070e-01, -6.631800e-01, -5.326750e-01, -7.723800e-02,\n",
       "         3.515650e-01,  8.229820e-01,  8.123290e-01,  7.697150e-01,\n",
       "         4.421200e-01, -5.326700e-02, -4.394560e-01, -8.203190e-01,\n",
       "        -8.203190e-01, -4.740800e-01, -2.476940e-01, -1.145250e-01,\n",
       "         1.464860e-01,  3.808620e-01,  7.324280e-01,  8.096650e-01,\n",
       "         6.099120e-01,  6.099120e-01,  1.118620e-01, -3.941790e-01,\n",
       "        -5.992590e-01, -5.353380e-01, -3.249310e-01, -3.249310e-01,\n",
       "         2.663000e-03,  2.370400e-01,  3.382480e-01,  4.314660e-01,\n",
       "         4.234760e-01,  2.636740e-01,  1.331700e-02, -2.157330e-01,\n",
       "        -2.583470e-01, -1.065350e-01, -7.990000e-03, -7.723800e-02,\n",
       "        -1.677920e-01, -3.728720e-01, -4.234760e-01, -4.234760e-01]])"
      ]
     },
     "execution_count": 26,
     "metadata": {},
     "output_type": "execute_result"
    }
   ],
   "source": [
    "X_train[2]"
   ]
  },
  {
   "cell_type": "code",
   "execution_count": 29,
   "metadata": {},
   "outputs": [
    {
     "data": {
      "text/plain": [
       "array([b'Standing', b'Standing', b'Standing', b'Standing', b'Standing',\n",
       "       b'Standing', b'Standing', b'Standing', b'Standing', b'Standing',\n",
       "       b'Running', b'Running', b'Running', b'Running', b'Running',\n",
       "       b'Running', b'Running', b'Running', b'Running', b'Running',\n",
       "       b'Walking', b'Walking', b'Walking', b'Walking', b'Walking',\n",
       "       b'Walking', b'Walking', b'Walking', b'Walking', b'Walking',\n",
       "       b'Badminton', b'Badminton', b'Badminton', b'Badminton',\n",
       "       b'Badminton', b'Badminton', b'Badminton', b'Badminton',\n",
       "       b'Badminton', b'Badminton'], dtype='|S12')"
      ]
     },
     "execution_count": 29,
     "metadata": {},
     "output_type": "execute_result"
    }
   ],
   "source": [
    "y_train"
   ]
  }
 ],
 "metadata": {
  "kernelspec": {
   "display_name": "Python 3",
   "language": "python",
   "name": "python3"
  },
  "language_info": {
   "codemirror_mode": {
    "name": "ipython",
    "version": 3
   },
   "file_extension": ".py",
   "mimetype": "text/x-python",
   "name": "python",
   "nbconvert_exporter": "python",
   "pygments_lexer": "ipython3",
   "version": "3.6.5"
  },
  "toc": {
   "nav_menu": {},
   "number_sections": true,
   "sideBar": true,
   "skip_h1_title": false,
   "title_cell": "Table of Contents",
   "title_sidebar": "Contents",
   "toc_cell": false,
   "toc_position": {},
   "toc_section_display": true,
   "toc_window_display": false
  }
 },
 "nbformat": 4,
 "nbformat_minor": 2
}
