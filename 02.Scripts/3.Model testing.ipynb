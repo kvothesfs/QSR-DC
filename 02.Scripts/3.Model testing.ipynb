{
 "cells": [
  {
   "cell_type": "markdown",
   "metadata": {},
   "source": [
    "# Model Testing"
   ]
  },
  {
   "cell_type": "markdown",
   "metadata": {},
   "source": [
    "Imports:"
   ]
  },
  {
   "cell_type": "code",
   "execution_count": 401,
   "metadata": {},
   "outputs": [],
   "source": [
    "import os\n",
    "import pandas as pd\n",
    "from sklearn.linear_model import LogisticRegression\n",
    "import sklearn.metrics as skmetric\n",
    "import numpy as np\n",
    "import matplotlib.pyplot as plt\n",
    "from sklearn.preprocessing import StandardScaler\n",
    "from funcsigs import signature\n",
    "import pickle"
   ]
  },
  {
   "cell_type": "markdown",
   "metadata": {},
   "source": [
    "Get the current working directory:"
   ]
  },
  {
   "cell_type": "code",
   "execution_count": 403,
   "metadata": {},
   "outputs": [],
   "source": [
    "def get_parent_dir(directory):\n",
    "    import os\n",
    "    return os.path.dirname(directory)\n",
    "\n",
    "current_dirs_parent = get_parent_dir(os.getcwd())\n",
    "dataraw_dir=current_dirs_parent+\"/01.Data/Raw/\"\n",
    "preproc_dir=current_dirs_parent+\"/01.Data/Preprocessing/\"\n",
    "models_a_dir=current_dirs_parent+\"/03.Models/Set A/\"\n",
    "models_b_dir=current_dirs_parent+\"/03.Models/Set B/\""
   ]
  },
  {
   "cell_type": "markdown",
   "metadata": {},
   "source": [
    "Load preprocessed data:"
   ]
  },
  {
   "cell_type": "code",
   "execution_count": 3,
   "metadata": {},
   "outputs": [],
   "source": [
    "train_b=pd.read_csv(preproc_dir+\"train_b_preproc1.csv\")\n",
    "test_b=pd.read_csv(preproc_dir+\"test_b_preproc1.csv\")"
   ]
  },
  {
   "cell_type": "code",
   "execution_count": 4,
   "metadata": {},
   "outputs": [],
   "source": [
    "cols=train_b.columns\n",
    "selcols=[a for a in cols if a.startswith(\"x\")]"
   ]
  },
  {
   "cell_type": "code",
   "execution_count": 5,
   "metadata": {},
   "outputs": [],
   "source": [
    "X_train=train_b[train_b.columns.intersection(selcols)].copy()\n",
    "X_train.fillna(0, inplace=True) \n",
    "X_train.replace(to_replace=np.inf, value=0, inplace=True)\n",
    "#X_train.replace(to_replace=-np.inf, value=0, inplace=True)\n",
    "\n",
    "X_test=test_b[test_b.columns.intersection(selcols)].copy()\n",
    "X_test.fillna(0, inplace=True) \n",
    "X_test.replace(to_replace=np.inf, value=0, inplace=True)\n",
    "#X_test.replace(to_replace=-np.inf, value=0, inplace=True)\n",
    "\n",
    "y_train=train_b[\"y_lead2\"].copy()\n",
    "y_test=test_b[\"y_lead2\"].copy()"
   ]
  },
  {
   "cell_type": "markdown",
   "metadata": {},
   "source": [
    "Train the logistic regression model:"
   ]
  },
  {
   "cell_type": "code",
   "execution_count": 6,
   "metadata": {},
   "outputs": [
    {
     "name": "stderr",
     "output_type": "stream",
     "text": [
      "C:\\Users\\jchas\\Anaconda3\\lib\\site-packages\\sklearn\\linear_model\\sag.py:337: ConvergenceWarning: The max_iter was reached which means the coef_ did not converge\n",
      "  \"the coef_ did not converge\", ConvergenceWarning)\n"
     ]
    },
    {
     "data": {
      "text/plain": [
       "LogisticRegression(C=0.01, class_weight='balanced', dual=False,\n",
       "                   fit_intercept=True, intercept_scaling=1, l1_ratio=None,\n",
       "                   max_iter=10000, multi_class='warn', n_jobs=4, penalty='l1',\n",
       "                   random_state=42, solver='saga', tol=0.0001, verbose=0,\n",
       "                   warm_start=False)"
      ]
     },
     "execution_count": 6,
     "metadata": {},
     "output_type": "execute_result"
    }
   ],
   "source": [
    "LR1=LogisticRegression(class_weight =\"balanced\", \n",
    "                       max_iter = 10000, \n",
    "                       penalty = \"l1\", \n",
    "                       solver = \"saga\",\n",
    "                       n_jobs=4,\n",
    "                       random_state=42, \n",
    "                       C = 0.01)\n",
    "\n",
    "LR1.fit(X_train,y_train)"
   ]
  },
  {
   "cell_type": "code",
   "execution_count": 7,
   "metadata": {},
   "outputs": [],
   "source": [
    "y_pred=LR1.predict(X_test)"
   ]
  },
  {
   "cell_type": "code",
   "execution_count": 8,
   "metadata": {},
   "outputs": [
    {
     "data": {
      "text/plain": [
       "(0, 1)"
      ]
     },
     "execution_count": 8,
     "metadata": {},
     "output_type": "execute_result"
    }
   ],
   "source": [
    "min(y_pred), max(y_pred)"
   ]
  },
  {
   "cell_type": "code",
   "execution_count": 9,
   "metadata": {},
   "outputs": [
    {
     "data": {
      "text/plain": [
       "0.008771929824561403"
      ]
     },
     "execution_count": 9,
     "metadata": {},
     "output_type": "execute_result"
    }
   ],
   "source": [
    "skmetric.f1_score(y_test,y_pred)"
   ]
  },
  {
   "cell_type": "code",
   "execution_count": 10,
   "metadata": {},
   "outputs": [
    {
     "data": {
      "text/plain": [
       "0.004608294930875576"
      ]
     },
     "execution_count": 10,
     "metadata": {},
     "output_type": "execute_result"
    }
   ],
   "source": [
    "skmetric.precision_score(y_test,y_pred)"
   ]
  },
  {
   "cell_type": "code",
   "execution_count": 11,
   "metadata": {},
   "outputs": [
    {
     "data": {
      "text/plain": [
       "0.09090909090909091"
      ]
     },
     "execution_count": 11,
     "metadata": {},
     "output_type": "execute_result"
    }
   ],
   "source": [
    "skmetric.recall_score(y_test,y_pred)"
   ]
  },
  {
   "cell_type": "markdown",
   "metadata": {},
   "source": [
    "Precision-Recall plot"
   ]
  },
  {
   "cell_type": "code",
   "execution_count": 12,
   "metadata": {},
   "outputs": [],
   "source": [
    "y_prob=LR1.predict_proba(X_test)"
   ]
  },
  {
   "cell_type": "code",
   "execution_count": 13,
   "metadata": {},
   "outputs": [],
   "source": [
    "precision, recall, _=skmetric.precision_recall_curve(y_true=y_test,probas_pred=y_prob[:,1],pos_label=1)"
   ]
  },
  {
   "cell_type": "code",
   "execution_count": 14,
   "metadata": {},
   "outputs": [
    {
     "data": {
      "text/plain": [
       "(0.0, 1.0)"
      ]
     },
     "execution_count": 14,
     "metadata": {},
     "output_type": "execute_result"
    },
    {
     "data": {
      "image/png": "[encoded data removed]",
      "text/plain": [
       "<Figure size 432x288 with 1 Axes>"
      ]
     },
     "metadata": {},
     "output_type": "display_data"
    }
   ],
   "source": [
    "step_kwargs = ({'step': 'post'}\n",
    "               if 'step' in signature(plt.fill_between).parameters\n",
    "               else {})\n",
    "plt.step(recall, precision, color='b', alpha=0.2,\n",
    "         where='post')\n",
    "plt.fill_between(recall, precision, alpha=0.2, color='b', **step_kwargs)\n",
    "\n",
    "plt.xlabel('Recall')\n",
    "plt.ylabel('Precision')\n",
    "plt.ylim([0.0, 1.05])\n",
    "plt.xlim([0.0, 1.0])"
   ]
  },
  {
   "cell_type": "code",
   "execution_count": 15,
   "metadata": {},
   "outputs": [],
   "source": [
    "feature_importance = abs(LR1.coef_[0])\n",
    "feature_importance = 100.0 * (feature_importance / feature_importance.max())\n",
    "sorted_idx = np.argsort(feature_importance)[len(feature_importance)-20:len(feature_importance)]\n",
    "pos = np.arange(sorted_idx.shape[0]) + .5"
   ]
  },
  {
   "cell_type": "code",
   "execution_count": 16,
   "metadata": {},
   "outputs": [
    {
     "data": {
      "image/png": "[encoded data removed]",
      "text/plain": [
       "<Figure size 432x288 with 1 Axes>"
      ]
     },
     "metadata": {},
     "output_type": "display_data"
    }
   ],
   "source": [
    "featfig = plt.figure()\n",
    "featax = featfig.add_subplot(1, 1, 1)\n",
    "featax.barh(pos, feature_importance[sorted_idx], align='center')\n",
    "featax.set_yticks(pos)\n",
    "featax.set_yticklabels(np.array(X_train.columns)[sorted_idx], fontsize=8)\n",
    "featax.set_xlabel('Relative Feature Importance')\n",
    "plt.tight_layout()   \n",
    "plt.show()"
   ]
  },
  {
   "cell_type": "markdown",
   "metadata": {},
   "source": [
    "Scaling the variables:"
   ]
  },
  {
   "cell_type": "code",
   "execution_count": 17,
   "metadata": {},
   "outputs": [],
   "source": [
    "scaler= StandardScaler().fit(X_train)\n",
    "X_train_sc=scaler.transform(X_train)\n",
    "X_test_sc=scaler.transform(X_test)"
   ]
  },
  {
   "cell_type": "markdown",
   "metadata": {},
   "source": [
    "Additional LR:"
   ]
  },
  {
   "cell_type": "code",
   "execution_count": 18,
   "metadata": {},
   "outputs": [
    {
     "data": {
      "text/plain": [
       "LogisticRegression(C=0.01, class_weight='balanced', dual=False,\n",
       "                   fit_intercept=True, intercept_scaling=1, l1_ratio=None,\n",
       "                   max_iter=10000, multi_class='warn', n_jobs=4, penalty='l1',\n",
       "                   random_state=42, solver='saga', tol=0.0001, verbose=0,\n",
       "                   warm_start=False)"
      ]
     },
     "execution_count": 18,
     "metadata": {},
     "output_type": "execute_result"
    }
   ],
   "source": [
    "LR2=LogisticRegression(class_weight =\"balanced\", \n",
    "                       max_iter = 10000, \n",
    "                       penalty = \"l1\", \n",
    "                       solver = \"saga\",\n",
    "                       n_jobs=4,\n",
    "                       random_state=42, \n",
    "                       C = 0.01)\n",
    "\n",
    "LR2.fit(X_train_sc,y_train)"
   ]
  },
  {
   "cell_type": "code",
   "execution_count": 19,
   "metadata": {},
   "outputs": [],
   "source": [
    "y_pred_sc=LR2.predict(X_test_sc)"
   ]
  },
  {
   "cell_type": "code",
   "execution_count": 20,
   "metadata": {},
   "outputs": [
    {
     "data": {
      "text/plain": [
       "(0, 1)"
      ]
     },
     "execution_count": 20,
     "metadata": {},
     "output_type": "execute_result"
    }
   ],
   "source": [
    "min(y_pred_sc), max(y_pred_sc)"
   ]
  },
  {
   "cell_type": "code",
   "execution_count": 21,
   "metadata": {},
   "outputs": [
    {
     "data": {
      "text/plain": [
       "0.01694915254237288"
      ]
     },
     "execution_count": 21,
     "metadata": {},
     "output_type": "execute_result"
    }
   ],
   "source": [
    "skmetric.f1_score(y_test,y_pred_sc)"
   ]
  },
  {
   "cell_type": "code",
   "execution_count": 22,
   "metadata": {},
   "outputs": [
    {
     "data": {
      "text/plain": [
       "0.008888888888888889"
      ]
     },
     "execution_count": 22,
     "metadata": {},
     "output_type": "execute_result"
    }
   ],
   "source": [
    "skmetric.precision_score(y_test,y_pred_sc)"
   ]
  },
  {
   "cell_type": "code",
   "execution_count": 23,
   "metadata": {},
   "outputs": [
    {
     "data": {
      "text/plain": [
       "0.18181818181818182"
      ]
     },
     "execution_count": 23,
     "metadata": {},
     "output_type": "execute_result"
    }
   ],
   "source": [
    "skmetric.recall_score(y_test,y_pred_sc)"
   ]
  },
  {
   "cell_type": "markdown",
   "metadata": {},
   "source": [
    "Precision-Recall Plot"
   ]
  },
  {
   "cell_type": "code",
   "execution_count": 24,
   "metadata": {},
   "outputs": [],
   "source": [
    "y_prob_sc=LR2.predict_proba(X_test_sc)"
   ]
  },
  {
   "cell_type": "code",
   "execution_count": 25,
   "metadata": {},
   "outputs": [],
   "source": [
    "precision, recall, _=skmetric.precision_recall_curve(y_true=y_test,probas_pred=y_prob_sc[:,1],pos_label=1)"
   ]
  },
  {
   "cell_type": "code",
   "execution_count": 26,
   "metadata": {},
   "outputs": [
    {
     "data": {
      "text/plain": [
       "(0.0, 1.0)"
      ]
     },
     "execution_count": 26,
     "metadata": {},
     "output_type": "execute_result"
    },
    {
     "data": {
      "image/png": "[encoded data removed]",
      "text/plain": [
       "<Figure size 432x288 with 1 Axes>"
      ]
     },
     "metadata": {},
     "output_type": "display_data"
    }
   ],
   "source": [
    "step_kwargs = ({'step': 'post'}\n",
    "               if 'step' in signature(plt.fill_between).parameters\n",
    "               else {})\n",
    "plt.step(recall, precision, color='b', alpha=0.2,\n",
    "         where='post')\n",
    "plt.fill_between(recall, precision, alpha=0.2, color='b', **step_kwargs)\n",
    "\n",
    "plt.xlabel('Recall')\n",
    "plt.ylabel('Precision')\n",
    "plt.ylim([0.0, 1.05])\n",
    "plt.xlim([0.0, 1.0])"
   ]
  },
  {
   "cell_type": "code",
   "execution_count": 27,
   "metadata": {},
   "outputs": [],
   "source": [
    "feature_importance = abs(LR2.coef_[0])\n",
    "feature_importance = 100.0 * (feature_importance / feature_importance.max())\n",
    "sorted_idx = np.argsort(feature_importance)[len(feature_importance)-20:len(feature_importance)]\n",
    "pos = np.arange(sorted_idx.shape[0]) + .5"
   ]
  },
  {
   "cell_type": "code",
   "execution_count": 28,
   "metadata": {},
   "outputs": [
    {
     "data": {
      "image/png": "[encoded data removed]",
      "text/plain": [
       "<Figure size 432x288 with 1 Axes>"
      ]
     },
     "metadata": {},
     "output_type": "display_data"
    }
   ],
   "source": [
    "featfig = plt.figure()\n",
    "featax = featfig.add_subplot(1, 1, 1)\n",
    "featax.barh(pos, feature_importance[sorted_idx], align='center')\n",
    "featax.set_yticks(pos)\n",
    "featax.set_yticklabels(np.array(X_train.columns)[sorted_idx], fontsize=8)\n",
    "featax.set_xlabel('Relative Feature Importance')\n",
    "plt.tight_layout()   \n",
    "plt.show()"
   ]
  },
  {
   "cell_type": "markdown",
   "metadata": {},
   "source": [
    "Testing only original features:"
   ]
  },
  {
   "cell_type": "code",
   "execution_count": 29,
   "metadata": {},
   "outputs": [],
   "source": [
    "xoriginal=selcols[:61]"
   ]
  },
  {
   "cell_type": "code",
   "execution_count": 30,
   "metadata": {},
   "outputs": [],
   "source": [
    "X_train_orig=train_b[train_b.columns.intersection(xoriginal)].copy()\n",
    "X_train_orig.fillna(0, inplace=True) \n",
    "X_train_orig.replace(to_replace=np.inf, value=0, inplace=True)\n",
    "#X_train.replace(to_replace=-np.inf, value=0, inplace=True)\n",
    "\n",
    "X_test_orig=test_b[test_b.columns.intersection(xoriginal)].copy()\n",
    "X_test_orig.fillna(0, inplace=True) \n",
    "X_test_orig.replace(to_replace=np.inf, value=0, inplace=True)\n",
    "#X_test.replace(to_replace=-np.inf, value=0, inplace=True)"
   ]
  },
  {
   "cell_type": "code",
   "execution_count": 31,
   "metadata": {},
   "outputs": [
    {
     "name": "stderr",
     "output_type": "stream",
     "text": [
      "C:\\Users\\jchas\\Anaconda3\\lib\\site-packages\\sklearn\\linear_model\\sag.py:337: ConvergenceWarning: The max_iter was reached which means the coef_ did not converge\n",
      "  \"the coef_ did not converge\", ConvergenceWarning)\n"
     ]
    },
    {
     "data": {
      "text/plain": [
       "LogisticRegression(C=0.01, class_weight='balanced', dual=False,\n",
       "                   fit_intercept=True, intercept_scaling=1, l1_ratio=None,\n",
       "                   max_iter=10000, multi_class='warn', n_jobs=4, penalty='l1',\n",
       "                   random_state=42, solver='saga', tol=0.0001, verbose=0,\n",
       "                   warm_start=False)"
      ]
     },
     "execution_count": 31,
     "metadata": {},
     "output_type": "execute_result"
    }
   ],
   "source": [
    "LR3=LogisticRegression(class_weight =\"balanced\", \n",
    "                       max_iter = 10000, \n",
    "                       penalty = \"l1\", \n",
    "                       solver = \"saga\",\n",
    "                       n_jobs=4,\n",
    "                       random_state=42, \n",
    "                       C = 0.01)\n",
    "\n",
    "LR3.fit(X_train_orig,y_train)"
   ]
  },
  {
   "cell_type": "code",
   "execution_count": 32,
   "metadata": {},
   "outputs": [],
   "source": [
    "y_pred_orig=LR3.predict(X_test_orig)"
   ]
  },
  {
   "cell_type": "code",
   "execution_count": 33,
   "metadata": {
    "scrolled": true
   },
   "outputs": [
    {
     "data": {
      "text/plain": [
       "(0, 1)"
      ]
     },
     "execution_count": 33,
     "metadata": {},
     "output_type": "execute_result"
    }
   ],
   "source": [
    "min(y_pred_orig), max(y_pred_orig)"
   ]
  },
  {
   "cell_type": "code",
   "execution_count": 34,
   "metadata": {},
   "outputs": [
    {
     "data": {
      "text/plain": [
       "0.010309278350515464"
      ]
     },
     "execution_count": 34,
     "metadata": {},
     "output_type": "execute_result"
    }
   ],
   "source": [
    "skmetric.f1_score(y_test,y_pred_orig)"
   ]
  },
  {
   "cell_type": "code",
   "execution_count": 35,
   "metadata": {},
   "outputs": [
    {
     "data": {
      "text/plain": [
       "0.005253940455341506"
      ]
     },
     "execution_count": 35,
     "metadata": {},
     "output_type": "execute_result"
    }
   ],
   "source": [
    "skmetric.precision_score(y_test,y_pred_orig)"
   ]
  },
  {
   "cell_type": "code",
   "execution_count": 36,
   "metadata": {},
   "outputs": [
    {
     "data": {
      "text/plain": [
       "0.2727272727272727"
      ]
     },
     "execution_count": 36,
     "metadata": {},
     "output_type": "execute_result"
    }
   ],
   "source": [
    "skmetric.recall_score(y_test,y_pred_orig)"
   ]
  },
  {
   "cell_type": "code",
   "execution_count": 37,
   "metadata": {},
   "outputs": [],
   "source": [
    "y_prob_orig=LR3.predict_proba(X_test_orig)"
   ]
  },
  {
   "cell_type": "code",
   "execution_count": 38,
   "metadata": {},
   "outputs": [],
   "source": [
    "precision, recall, _=skmetric.precision_recall_curve(y_true=y_test,probas_pred=y_prob_orig[:,1],pos_label=1)"
   ]
  },
  {
   "cell_type": "code",
   "execution_count": 39,
   "metadata": {},
   "outputs": [
    {
     "data": {
      "text/plain": [
       "(0.0, 1.0)"
      ]
     },
     "execution_count": 39,
     "metadata": {},
     "output_type": "execute_result"
    },
    {
     "data": {
      "image/png": "[encoded data removed]",
      "text/plain": [
       "<Figure size 432x288 with 1 Axes>"
      ]
     },
     "metadata": {},
     "output_type": "display_data"
    }
   ],
   "source": [
    "step_kwargs = ({'step': 'post'}\n",
    "               if 'step' in signature(plt.fill_between).parameters\n",
    "               else {})\n",
    "plt.step(recall, precision, color='b', alpha=0.2,\n",
    "         where='post')\n",
    "plt.fill_between(recall, precision, alpha=0.2, color='b', **step_kwargs)\n",
    "\n",
    "plt.xlabel('Recall')\n",
    "plt.ylabel('Precision')\n",
    "plt.ylim([0.0, 1.05])\n",
    "plt.xlim([0.0, 1.0])"
   ]
  },
  {
   "cell_type": "code",
   "execution_count": 40,
   "metadata": {},
   "outputs": [],
   "source": [
    "feature_importance = abs(LR3.coef_[0])\n",
    "feature_importance = 100.0 * (feature_importance / feature_importance.max())\n",
    "sorted_idx = np.argsort(feature_importance)[len(feature_importance)-20:len(feature_importance)]\n",
    "pos = np.arange(sorted_idx.shape[0]) + .5"
   ]
  },
  {
   "cell_type": "code",
   "execution_count": 41,
   "metadata": {},
   "outputs": [
    {
     "data": {
      "image/png": "[encoded data removed]",
      "text/plain": [
       "<Figure size 432x288 with 1 Axes>"
      ]
     },
     "metadata": {},
     "output_type": "display_data"
    }
   ],
   "source": [
    "featfig = plt.figure()\n",
    "featax = featfig.add_subplot(1, 1, 1)\n",
    "featax.barh(pos, feature_importance[sorted_idx], align='center')\n",
    "featax.set_yticks(pos)\n",
    "featax.set_yticklabels(np.array(X_train.columns)[sorted_idx], fontsize=8)\n",
    "featax.set_xlabel('Relative Feature Importance')\n",
    "plt.tight_layout()   \n",
    "plt.show()"
   ]
  },
  {
   "cell_type": "markdown",
   "metadata": {},
   "source": [
    "Scaling original features:"
   ]
  },
  {
   "cell_type": "code",
   "execution_count": 42,
   "metadata": {},
   "outputs": [],
   "source": [
    "scaler_orig= StandardScaler().fit(X_train_orig)\n",
    "X_train_orig_sc=scaler_orig.transform(X_train_orig)\n",
    "X_test_orig_sc=scaler_orig.transform(X_test_orig)"
   ]
  },
  {
   "cell_type": "code",
   "execution_count": 43,
   "metadata": {},
   "outputs": [
    {
     "data": {
      "text/plain": [
       "LogisticRegression(C=0.01, class_weight='balanced', dual=False,\n",
       "                   fit_intercept=True, intercept_scaling=1, l1_ratio=None,\n",
       "                   max_iter=10000, multi_class='warn', n_jobs=4, penalty='l1',\n",
       "                   random_state=42, solver='saga', tol=0.0001, verbose=0,\n",
       "                   warm_start=False)"
      ]
     },
     "execution_count": 43,
     "metadata": {},
     "output_type": "execute_result"
    }
   ],
   "source": [
    "LR4=LogisticRegression(class_weight =\"balanced\", \n",
    "                       max_iter = 10000, \n",
    "                       penalty = \"l1\", \n",
    "                       solver = \"saga\",\n",
    "                       n_jobs=4,\n",
    "                       random_state=42, \n",
    "                       C = 0.01)\n",
    "\n",
    "LR4.fit(X_train_orig_sc,y_train)"
   ]
  },
  {
   "cell_type": "code",
   "execution_count": 44,
   "metadata": {},
   "outputs": [],
   "source": [
    "y_pred_orig_sc=LR4.predict(X_test_orig_sc)"
   ]
  },
  {
   "cell_type": "code",
   "execution_count": 45,
   "metadata": {
    "scrolled": true
   },
   "outputs": [
    {
     "data": {
      "text/plain": [
       "(0, 1)"
      ]
     },
     "execution_count": 45,
     "metadata": {},
     "output_type": "execute_result"
    }
   ],
   "source": [
    "min(y_pred_orig_sc), max(y_pred_orig_sc)"
   ]
  },
  {
   "cell_type": "code",
   "execution_count": 46,
   "metadata": {},
   "outputs": [
    {
     "data": {
      "text/plain": [
       "0.013745704467353952"
      ]
     },
     "execution_count": 46,
     "metadata": {},
     "output_type": "execute_result"
    }
   ],
   "source": [
    "skmetric.f1_score(y_test,y_pred_orig_sc)"
   ]
  },
  {
   "cell_type": "code",
   "execution_count": 47,
   "metadata": {},
   "outputs": [
    {
     "data": {
      "text/plain": [
       "0.007142857142857143"
      ]
     },
     "execution_count": 47,
     "metadata": {},
     "output_type": "execute_result"
    }
   ],
   "source": [
    "skmetric.precision_score(y_test,y_pred_orig_sc)"
   ]
  },
  {
   "cell_type": "code",
   "execution_count": 48,
   "metadata": {},
   "outputs": [
    {
     "data": {
      "text/plain": [
       "0.18181818181818182"
      ]
     },
     "execution_count": 48,
     "metadata": {},
     "output_type": "execute_result"
    }
   ],
   "source": [
    "skmetric.recall_score(y_test,y_pred_orig_sc)"
   ]
  },
  {
   "cell_type": "code",
   "execution_count": 49,
   "metadata": {},
   "outputs": [],
   "source": [
    "y_prob_orig_sc=LR4.predict_proba(X_test_orig_sc)"
   ]
  },
  {
   "cell_type": "code",
   "execution_count": 50,
   "metadata": {},
   "outputs": [],
   "source": [
    "precision, recall, _=skmetric.precision_recall_curve(y_true=y_test,probas_pred=y_prob_orig_sc[:,1],pos_label=1)"
   ]
  },
  {
   "cell_type": "code",
   "execution_count": 51,
   "metadata": {},
   "outputs": [
    {
     "data": {
      "text/plain": [
       "(0.0, 1.0)"
      ]
     },
     "execution_count": 51,
     "metadata": {},
     "output_type": "execute_result"
    },
    {
     "data": {
      "image/png": "[encoded data removed]",
      "text/plain": [
       "<Figure size 432x288 with 1 Axes>"
      ]
     },
     "metadata": {},
     "output_type": "display_data"
    }
   ],
   "source": [
    "step_kwargs = ({'step': 'post'}\n",
    "               if 'step' in signature(plt.fill_between).parameters\n",
    "               else {})\n",
    "plt.step(recall, precision, color='b', alpha=0.2,\n",
    "         where='post')\n",
    "plt.fill_between(recall, precision, alpha=0.2, color='b', **step_kwargs)\n",
    "\n",
    "plt.xlabel('Recall')\n",
    "plt.ylabel('Precision')\n",
    "plt.ylim([0.0, 1.05])\n",
    "plt.xlim([0.0, 1.0])"
   ]
  },
  {
   "cell_type": "code",
   "execution_count": 52,
   "metadata": {},
   "outputs": [],
   "source": [
    "feature_importance = abs(LR4.coef_[0])\n",
    "feature_importance = 100.0 * (feature_importance / feature_importance.max())\n",
    "sorted_idx = np.argsort(feature_importance)[len(feature_importance)-20:len(feature_importance)]\n",
    "pos = np.arange(sorted_idx.shape[0]) + .5"
   ]
  },
  {
   "cell_type": "code",
   "execution_count": 53,
   "metadata": {},
   "outputs": [
    {
     "data": {
      "image/png": "[encoded data removed]",
      "text/plain": [
       "<Figure size 432x288 with 1 Axes>"
      ]
     },
     "metadata": {},
     "output_type": "display_data"
    }
   ],
   "source": [
    "featfig = plt.figure()\n",
    "featax = featfig.add_subplot(1, 1, 1)\n",
    "featax.barh(pos, feature_importance[sorted_idx], align='center')\n",
    "featax.set_yticks(pos)\n",
    "featax.set_yticklabels(np.array(X_train.columns)[sorted_idx], fontsize=8)\n",
    "featax.set_xlabel('Relative Feature Importance')\n",
    "plt.tight_layout()   \n",
    "plt.show()"
   ]
  },
  {
   "cell_type": "markdown",
   "metadata": {},
   "source": [
    "Testing only the derived features:"
   ]
  },
  {
   "cell_type": "code",
   "execution_count": 54,
   "metadata": {},
   "outputs": [],
   "source": [
    "xderived=selcols[61:]"
   ]
  },
  {
   "cell_type": "code",
   "execution_count": 55,
   "metadata": {},
   "outputs": [],
   "source": [
    "X_train_derived=train_b[train_b.columns.intersection(xderived)].copy()\n",
    "X_train_derived.fillna(0, inplace=True) \n",
    "X_train_derived.replace(to_replace=np.inf, value=0, inplace=True)\n",
    "#X_train.replace(to_replace=-np.inf, value=0, inplace=True)\n",
    "\n",
    "X_test_derived=test_b[test_b.columns.intersection(xderived)].copy()\n",
    "X_test_derived.fillna(0, inplace=True) \n",
    "X_test_derived.replace(to_replace=np.inf, value=0, inplace=True)\n",
    "#X_test.replace(to_replace=-np.inf, value=0, inplace=True)"
   ]
  },
  {
   "cell_type": "code",
   "execution_count": 56,
   "metadata": {},
   "outputs": [
    {
     "data": {
      "text/plain": [
       "LogisticRegression(C=0.01, class_weight='balanced', dual=False,\n",
       "                   fit_intercept=True, intercept_scaling=1, l1_ratio=None,\n",
       "                   max_iter=10000, multi_class='warn', n_jobs=4, penalty='l1',\n",
       "                   random_state=42, solver='saga', tol=0.0001, verbose=0,\n",
       "                   warm_start=False)"
      ]
     },
     "execution_count": 56,
     "metadata": {},
     "output_type": "execute_result"
    }
   ],
   "source": [
    "LR5=LogisticRegression(class_weight =\"balanced\", \n",
    "                       max_iter = 10000, \n",
    "                       penalty = \"l1\", \n",
    "                       solver = \"saga\",\n",
    "                       n_jobs=4,\n",
    "                       random_state=42, \n",
    "                       C = 0.01)\n",
    "\n",
    "LR5.fit(X_train_derived,y_train)"
   ]
  },
  {
   "cell_type": "code",
   "execution_count": 57,
   "metadata": {},
   "outputs": [],
   "source": [
    "y_pred_derived=LR5.predict(X_test_derived)"
   ]
  },
  {
   "cell_type": "code",
   "execution_count": 58,
   "metadata": {
    "scrolled": true
   },
   "outputs": [
    {
     "data": {
      "text/plain": [
       "(0, 1)"
      ]
     },
     "execution_count": 58,
     "metadata": {},
     "output_type": "execute_result"
    }
   ],
   "source": [
    "min(y_pred_derived), max(y_pred_derived)"
   ]
  },
  {
   "cell_type": "code",
   "execution_count": 59,
   "metadata": {},
   "outputs": [
    {
     "data": {
      "text/plain": [
       "0.011513157894736843"
      ]
     },
     "execution_count": 59,
     "metadata": {},
     "output_type": "execute_result"
    }
   ],
   "source": [
    "skmetric.f1_score(y_test,y_pred_derived)"
   ]
  },
  {
   "cell_type": "code",
   "execution_count": 60,
   "metadata": {},
   "outputs": [
    {
     "data": {
      "text/plain": [
       "0.005809128630705394"
      ]
     },
     "execution_count": 60,
     "metadata": {},
     "output_type": "execute_result"
    }
   ],
   "source": [
    "skmetric.precision_score(y_test,y_pred_derived)"
   ]
  },
  {
   "cell_type": "code",
   "execution_count": 61,
   "metadata": {},
   "outputs": [
    {
     "data": {
      "text/plain": [
       "0.6363636363636364"
      ]
     },
     "execution_count": 61,
     "metadata": {},
     "output_type": "execute_result"
    }
   ],
   "source": [
    "skmetric.recall_score(y_test,y_pred_derived)"
   ]
  },
  {
   "cell_type": "code",
   "execution_count": 62,
   "metadata": {},
   "outputs": [],
   "source": [
    "y_prob_derived=LR5.predict_proba(X_test_derived)"
   ]
  },
  {
   "cell_type": "code",
   "execution_count": 63,
   "metadata": {},
   "outputs": [],
   "source": [
    "precision, recall, _=skmetric.precision_recall_curve(y_true=y_test,probas_pred=y_prob_derived[:,1],pos_label=1)"
   ]
  },
  {
   "cell_type": "code",
   "execution_count": 64,
   "metadata": {},
   "outputs": [
    {
     "data": {
      "text/plain": [
       "(0.0, 1.0)"
      ]
     },
     "execution_count": 64,
     "metadata": {},
     "output_type": "execute_result"
    },
    {
     "data": {
      "image/png": "[encoded data removed]",
      "text/plain": [
       "<Figure size 432x288 with 1 Axes>"
      ]
     },
     "metadata": {},
     "output_type": "display_data"
    }
   ],
   "source": [
    "step_kwargs = ({'step': 'post'}\n",
    "               if 'step' in signature(plt.fill_between).parameters\n",
    "               else {})\n",
    "plt.step(recall, precision, color='b', alpha=0.2,\n",
    "         where='post')\n",
    "plt.fill_between(recall, precision, alpha=0.2, color='b', **step_kwargs)\n",
    "\n",
    "plt.xlabel('Recall')\n",
    "plt.ylabel('Precision')\n",
    "plt.ylim([0.0, 1.05])\n",
    "plt.xlim([0.0, 1.0])"
   ]
  },
  {
   "cell_type": "code",
   "execution_count": 65,
   "metadata": {},
   "outputs": [],
   "source": [
    "feature_importance = abs(LR5.coef_[0])\n",
    "feature_importance = 100.0 * (feature_importance / feature_importance.max())\n",
    "sorted_idx = np.argsort(feature_importance)[len(feature_importance)-20:len(feature_importance)]\n",
    "pos = np.arange(sorted_idx.shape[0]) + .5"
   ]
  },
  {
   "cell_type": "code",
   "execution_count": 66,
   "metadata": {},
   "outputs": [
    {
     "data": {
      "image/png": "[encoded data removed]",
      "text/plain": [
       "<Figure size 432x288 with 1 Axes>"
      ]
     },
     "metadata": {},
     "output_type": "display_data"
    }
   ],
   "source": [
    "featfig = plt.figure()\n",
    "featax = featfig.add_subplot(1, 1, 1)\n",
    "featax.barh(pos, feature_importance[sorted_idx], align='center')\n",
    "featax.set_yticks(pos)\n",
    "featax.set_yticklabels(np.array(X_train.columns)[sorted_idx], fontsize=8)\n",
    "featax.set_xlabel('Relative Feature Importance')\n",
    "plt.tight_layout()   \n",
    "plt.show()"
   ]
  },
  {
   "cell_type": "markdown",
   "metadata": {},
   "source": [
    "Scaling derived features:"
   ]
  },
  {
   "cell_type": "code",
   "execution_count": 67,
   "metadata": {},
   "outputs": [],
   "source": [
    "scaler_derived= StandardScaler().fit(X_train_derived)\n",
    "X_train_derived_sc=scaler_derived.transform(X_train_derived)\n",
    "X_test_derived_sc=scaler_derived.transform(X_test_derived)"
   ]
  },
  {
   "cell_type": "code",
   "execution_count": 68,
   "metadata": {},
   "outputs": [
    {
     "data": {
      "text/plain": [
       "LogisticRegression(C=0.01, class_weight='balanced', dual=False,\n",
       "                   fit_intercept=True, intercept_scaling=1, l1_ratio=None,\n",
       "                   max_iter=10000, multi_class='warn', n_jobs=4, penalty='l1',\n",
       "                   random_state=42, solver='saga', tol=0.0001, verbose=0,\n",
       "                   warm_start=False)"
      ]
     },
     "execution_count": 68,
     "metadata": {},
     "output_type": "execute_result"
    }
   ],
   "source": [
    "LR6=LogisticRegression(class_weight =\"balanced\", \n",
    "                       max_iter = 10000, \n",
    "                       penalty = \"l1\", \n",
    "                       solver = \"saga\",\n",
    "                       n_jobs=4,\n",
    "                       random_state=42, \n",
    "                       C = 0.01)\n",
    "\n",
    "LR6.fit(X_train_derived_sc,y_train)"
   ]
  },
  {
   "cell_type": "code",
   "execution_count": 69,
   "metadata": {},
   "outputs": [],
   "source": [
    "y_pred_derived_sc=LR6.predict(X_test_derived_sc)"
   ]
  },
  {
   "cell_type": "code",
   "execution_count": 70,
   "metadata": {
    "scrolled": true
   },
   "outputs": [
    {
     "data": {
      "text/plain": [
       "(0, 1)"
      ]
     },
     "execution_count": 70,
     "metadata": {},
     "output_type": "execute_result"
    }
   ],
   "source": [
    "min(y_pred_derived_sc), max(y_pred_derived_sc)"
   ]
  },
  {
   "cell_type": "code",
   "execution_count": 71,
   "metadata": {},
   "outputs": [
    {
     "data": {
      "text/plain": [
       "0.021276595744680847"
      ]
     },
     "execution_count": 71,
     "metadata": {},
     "output_type": "execute_result"
    }
   ],
   "source": [
    "skmetric.f1_score(y_test,y_pred_derived_sc)"
   ]
  },
  {
   "cell_type": "code",
   "execution_count": 72,
   "metadata": {},
   "outputs": [
    {
     "data": {
      "text/plain": [
       "0.010958904109589041"
      ]
     },
     "execution_count": 72,
     "metadata": {},
     "output_type": "execute_result"
    }
   ],
   "source": [
    "skmetric.precision_score(y_test,y_pred_derived_sc)"
   ]
  },
  {
   "cell_type": "code",
   "execution_count": 73,
   "metadata": {},
   "outputs": [
    {
     "data": {
      "text/plain": [
       "0.36363636363636365"
      ]
     },
     "execution_count": 73,
     "metadata": {},
     "output_type": "execute_result"
    }
   ],
   "source": [
    "skmetric.recall_score(y_test,y_pred_derived_sc)"
   ]
  },
  {
   "cell_type": "code",
   "execution_count": 74,
   "metadata": {},
   "outputs": [],
   "source": [
    "y_prob_derived_sc=LR6.predict_proba(X_test_derived_sc)"
   ]
  },
  {
   "cell_type": "code",
   "execution_count": 75,
   "metadata": {},
   "outputs": [],
   "source": [
    "precision, recall, _=skmetric.precision_recall_curve(y_true=y_test,probas_pred=y_prob_derived_sc[:,1],pos_label=1)"
   ]
  },
  {
   "cell_type": "code",
   "execution_count": 76,
   "metadata": {},
   "outputs": [
    {
     "data": {
      "text/plain": [
       "(0.0, 1.0)"
      ]
     },
     "execution_count": 76,
     "metadata": {},
     "output_type": "execute_result"
    },
    {
     "data": {
      "image/png": "[encoded data removed]",
      "text/plain": [
       "<Figure size 432x288 with 1 Axes>"
      ]
     },
     "metadata": {},
     "output_type": "display_data"
    }
   ],
   "source": [
    "step_kwargs = ({'step': 'post'}\n",
    "               if 'step' in signature(plt.fill_between).parameters\n",
    "               else {})\n",
    "plt.step(recall, precision, color='b', alpha=0.2,\n",
    "         where='post')\n",
    "plt.fill_between(recall, precision, alpha=0.2, color='b', **step_kwargs)\n",
    "\n",
    "plt.xlabel('Recall')\n",
    "plt.ylabel('Precision')\n",
    "plt.ylim([0.0, 1.05])\n",
    "plt.xlim([0.0, 1.0])"
   ]
  },
  {
   "cell_type": "code",
   "execution_count": 77,
   "metadata": {},
   "outputs": [],
   "source": [
    "feature_importance = abs(LR6.coef_[0])\n",
    "feature_importance = 100.0 * (feature_importance / feature_importance.max())\n",
    "sorted_idx = np.argsort(feature_importance)[len(feature_importance)-20:len(feature_importance)]\n",
    "pos = np.arange(sorted_idx.shape[0]) + .5"
   ]
  },
  {
   "cell_type": "code",
   "execution_count": 78,
   "metadata": {},
   "outputs": [
    {
     "data": {
      "image/png": "[encoded data removed]",
      "text/plain": [
       "<Figure size 432x288 with 1 Axes>"
      ]
     },
     "metadata": {},
     "output_type": "display_data"
    }
   ],
   "source": [
    "featfig = plt.figure()\n",
    "featax = featfig.add_subplot(1, 1, 1)\n",
    "featax.barh(pos, feature_importance[sorted_idx], align='center')\n",
    "featax.set_yticks(pos)\n",
    "featax.set_yticklabels(np.array(X_train.columns)[sorted_idx], fontsize=8)\n",
    "featax.set_xlabel('Relative Feature Importance')\n",
    "plt.tight_layout()   \n",
    "plt.show()"
   ]
  },
  {
   "cell_type": "markdown",
   "metadata": {},
   "source": [
    "Add clustering features:"
   ]
  },
  {
   "cell_type": "code",
   "execution_count": 79,
   "metadata": {},
   "outputs": [],
   "source": [
    "train_b_cluster=pd.read_csv(preproc_dir+\"train_b_cluster.csv\")\n",
    "test_b_cluster=pd.read_csv(preproc_dir+\"test_b_cluster.csv\")"
   ]
  },
  {
   "cell_type": "markdown",
   "metadata": {},
   "source": [
    "Test only clustering features:"
   ]
  },
  {
   "cell_type": "code",
   "execution_count": 83,
   "metadata": {},
   "outputs": [
    {
     "data": {
      "text/plain": [
       "LogisticRegression(C=0.01, class_weight='balanced', dual=False,\n",
       "                   fit_intercept=True, intercept_scaling=1, l1_ratio=None,\n",
       "                   max_iter=10000, multi_class='warn', n_jobs=4, penalty='l1',\n",
       "                   random_state=42, solver='saga', tol=0.0001, verbose=0,\n",
       "                   warm_start=False)"
      ]
     },
     "execution_count": 83,
     "metadata": {},
     "output_type": "execute_result"
    }
   ],
   "source": [
    "LR7=LogisticRegression(class_weight =\"balanced\", \n",
    "                       max_iter = 10000, \n",
    "                       penalty = \"l1\", \n",
    "                       solver = \"saga\",\n",
    "                       n_jobs=4,\n",
    "                       random_state=42, \n",
    "                       C = 0.01)\n",
    "\n",
    "LR7.fit(train_b_cluster,y_train)"
   ]
  },
  {
   "cell_type": "code",
   "execution_count": 84,
   "metadata": {},
   "outputs": [],
   "source": [
    "y_pred_clust=LR7.predict(test_b_cluster)"
   ]
  },
  {
   "cell_type": "code",
   "execution_count": 85,
   "metadata": {
    "scrolled": true
   },
   "outputs": [
    {
     "data": {
      "text/plain": [
       "(0, 1)"
      ]
     },
     "execution_count": 85,
     "metadata": {},
     "output_type": "execute_result"
    }
   ],
   "source": [
    "min(y_pred_clust), max(y_pred_clust)"
   ]
  },
  {
   "cell_type": "code",
   "execution_count": 238,
   "metadata": {},
   "outputs": [
    {
     "data": {
      "text/plain": [
       "0.015056461731493099"
      ]
     },
     "execution_count": 238,
     "metadata": {},
     "output_type": "execute_result"
    }
   ],
   "source": [
    "skmetric.f1_score(y_test,y_pred_clust)"
   ]
  },
  {
   "cell_type": "code",
   "execution_count": 87,
   "metadata": {},
   "outputs": [
    {
     "data": {
      "text/plain": [
       "0.007633587786259542"
      ]
     },
     "execution_count": 87,
     "metadata": {},
     "output_type": "execute_result"
    }
   ],
   "source": [
    "skmetric.precision_score(y_test,y_pred_clust)"
   ]
  },
  {
   "cell_type": "code",
   "execution_count": 88,
   "metadata": {},
   "outputs": [
    {
     "data": {
      "text/plain": [
       "0.5454545454545454"
      ]
     },
     "execution_count": 88,
     "metadata": {},
     "output_type": "execute_result"
    }
   ],
   "source": [
    "skmetric.recall_score(y_test,y_pred_clust)"
   ]
  },
  {
   "cell_type": "code",
   "execution_count": 89,
   "metadata": {},
   "outputs": [],
   "source": [
    "y_prob_clust=LR7.predict_proba(test_b_cluster)"
   ]
  },
  {
   "cell_type": "code",
   "execution_count": 90,
   "metadata": {},
   "outputs": [],
   "source": [
    "precision, recall, _=skmetric.precision_recall_curve(y_true=y_test,probas_pred=y_prob_derived_sc[:,1],pos_label=1)"
   ]
  },
  {
   "cell_type": "code",
   "execution_count": 91,
   "metadata": {
    "scrolled": true
   },
   "outputs": [
    {
     "data": {
      "text/plain": [
       "(0.0, 1.0)"
      ]
     },
     "execution_count": 91,
     "metadata": {},
     "output_type": "execute_result"
    },
    {
     "data": {
      "image/png": "[encoded data removed]",
      "text/plain": [
       "<Figure size 432x288 with 1 Axes>"
      ]
     },
     "metadata": {},
     "output_type": "display_data"
    }
   ],
   "source": [
    "step_kwargs = ({'step': 'post'}\n",
    "               if 'step' in signature(plt.fill_between).parameters\n",
    "               else {})\n",
    "plt.step(recall, precision, color='b', alpha=0.2,\n",
    "         where='post')\n",
    "plt.fill_between(recall, precision, alpha=0.2, color='b', **step_kwargs)\n",
    "\n",
    "plt.xlabel('Recall')\n",
    "plt.ylabel('Precision')\n",
    "plt.ylim([0.0, 1.05])\n",
    "plt.xlim([0.0, 1.0])"
   ]
  },
  {
   "cell_type": "code",
   "execution_count": 92,
   "metadata": {},
   "outputs": [],
   "source": [
    "feature_importance = abs(LR7.coef_[0])\n",
    "feature_importance = 100.0 * (feature_importance / feature_importance.max())\n",
    "sorted_idx = np.argsort(feature_importance)[len(feature_importance)-20:len(feature_importance)]\n",
    "pos = np.arange(sorted_idx.shape[0]) + .5"
   ]
  },
  {
   "cell_type": "code",
   "execution_count": 94,
   "metadata": {},
   "outputs": [
    {
     "data": {
      "image/png": "[encoded data removed]",
      "text/plain": [
       "<Figure size 432x288 with 1 Axes>"
      ]
     },
     "metadata": {},
     "output_type": "display_data"
    }
   ],
   "source": [
    "featfig = plt.figure()\n",
    "featax = featfig.add_subplot(1, 1, 1)\n",
    "featax.barh(pos, feature_importance[sorted_idx], align='center')\n",
    "featax.set_yticks(pos)\n",
    "featax.set_yticklabels(np.array(train_b_cluster.columns)[sorted_idx], fontsize=8)\n",
    "featax.set_xlabel('Relative Feature Importance')\n",
    "plt.tight_layout()   \n",
    "plt.show()"
   ]
  },
  {
   "cell_type": "markdown",
   "metadata": {},
   "source": [
    "Test clustering+All features:"
   ]
  },
  {
   "cell_type": "code",
   "execution_count": 114,
   "metadata": {},
   "outputs": [],
   "source": [
    "train_b_addclust=pd.concat([X_train,train_b_cluster],axis=1)\n",
    "test_b_addclust=pd.concat([X_test,test_b_cluster],axis=1)"
   ]
  },
  {
   "cell_type": "code",
   "execution_count": 115,
   "metadata": {},
   "outputs": [],
   "source": [
    "cols_addclust=train_b_addclust.columns\n",
    "selcols_addclust=[a for a in cols if a.startswith(\"x\")]"
   ]
  },
  {
   "cell_type": "code",
   "execution_count": 116,
   "metadata": {},
   "outputs": [
    {
     "data": {
      "text/plain": [
       "Index(['x1', 'x2', 'x3', 'x4', 'x5', 'x6', 'x7', 'x8', 'x9', 'x10',\n",
       "       ...\n",
       "       'x_pca_4', 'x_svd_0', 'x_svd_1', 'x_svd_2', 'x_svd_3', 'x_svd_4',\n",
       "       'x_lof_0', 'x_tsne_0', 'x_tsne_1', 'x_tsne_2'],\n",
       "      dtype='object', length=1782)"
      ]
     },
     "execution_count": 116,
     "metadata": {},
     "output_type": "execute_result"
    }
   ],
   "source": [
    "cols_addclust"
   ]
  },
  {
   "cell_type": "code",
   "execution_count": 98,
   "metadata": {},
   "outputs": [
    {
     "name": "stderr",
     "output_type": "stream",
     "text": [
      "C:\\Users\\jchas\\Anaconda3\\lib\\site-packages\\sklearn\\linear_model\\sag.py:337: ConvergenceWarning: The max_iter was reached which means the coef_ did not converge\n",
      "  \"the coef_ did not converge\", ConvergenceWarning)\n"
     ]
    },
    {
     "data": {
      "text/plain": [
       "LogisticRegression(C=0.01, class_weight='balanced', dual=False,\n",
       "                   fit_intercept=True, intercept_scaling=1, l1_ratio=None,\n",
       "                   max_iter=10000, multi_class='warn', n_jobs=4, penalty='l1',\n",
       "                   random_state=42, solver='saga', tol=0.0001, verbose=0,\n",
       "                   warm_start=False)"
      ]
     },
     "execution_count": 98,
     "metadata": {},
     "output_type": "execute_result"
    }
   ],
   "source": [
    "LR8=LogisticRegression(class_weight =\"balanced\", \n",
    "                       max_iter = 10000, \n",
    "                       penalty = \"l1\", \n",
    "                       solver = \"saga\",\n",
    "                       n_jobs=4,\n",
    "                       random_state=42, \n",
    "                       C = 0.01)\n",
    "\n",
    "LR8.fit(train_b_addclust,y_train)"
   ]
  },
  {
   "cell_type": "code",
   "execution_count": 117,
   "metadata": {},
   "outputs": [],
   "source": [
    "y_pred_addclust=LR8.predict(test_b_addclust)"
   ]
  },
  {
   "cell_type": "code",
   "execution_count": 118,
   "metadata": {},
   "outputs": [
    {
     "data": {
      "text/plain": [
       "(0, 0)"
      ]
     },
     "execution_count": 118,
     "metadata": {},
     "output_type": "execute_result"
    }
   ],
   "source": [
    "min(y_pred_addclust), max(y_pred_addclust)"
   ]
  },
  {
   "cell_type": "code",
   "execution_count": 119,
   "metadata": {},
   "outputs": [
    {
     "name": "stderr",
     "output_type": "stream",
     "text": [
      "C:\\Users\\jchas\\Anaconda3\\lib\\site-packages\\sklearn\\metrics\\classification.py:1437: UndefinedMetricWarning: F-score is ill-defined and being set to 0.0 due to no predicted samples.\n",
      "  'precision', 'predicted', average, warn_for)\n"
     ]
    },
    {
     "data": {
      "text/plain": [
       "0.0"
      ]
     },
     "execution_count": 119,
     "metadata": {},
     "output_type": "execute_result"
    }
   ],
   "source": [
    "skmetric.f1_score(y_test,y_pred_addclust)"
   ]
  },
  {
   "cell_type": "markdown",
   "metadata": {},
   "source": [
    "Scaling this set:"
   ]
  },
  {
   "cell_type": "code",
   "execution_count": 120,
   "metadata": {},
   "outputs": [],
   "source": [
    "scaler_addclust= StandardScaler().fit(train_b_addclust)\n",
    "X_train_addclust_sc=scaler_addclust.transform(train_b_addclust)\n",
    "X_test_addclust_sc=scaler_addclust.transform(test_b_addclust)"
   ]
  },
  {
   "cell_type": "code",
   "execution_count": 267,
   "metadata": {},
   "outputs": [
    {
     "data": {
      "text/plain": [
       "(16558, 1782)"
      ]
     },
     "execution_count": 267,
     "metadata": {},
     "output_type": "execute_result"
    }
   ],
   "source": [
    "X_train_addclust_sc.shape"
   ]
  },
  {
   "cell_type": "code",
   "execution_count": 121,
   "metadata": {},
   "outputs": [
    {
     "data": {
      "text/plain": [
       "LogisticRegression(C=0.01, class_weight='balanced', dual=False,\n",
       "                   fit_intercept=True, intercept_scaling=1, l1_ratio=None,\n",
       "                   max_iter=10000, multi_class='warn', n_jobs=4, penalty='l1',\n",
       "                   random_state=42, solver='saga', tol=0.0001, verbose=0,\n",
       "                   warm_start=False)"
      ]
     },
     "execution_count": 121,
     "metadata": {},
     "output_type": "execute_result"
    }
   ],
   "source": [
    "LR9=LogisticRegression(class_weight =\"balanced\", \n",
    "                       max_iter = 10000, \n",
    "                       penalty = \"l1\", \n",
    "                       solver = \"saga\",\n",
    "                       n_jobs=4,\n",
    "                       random_state=42, \n",
    "                       C = 0.01)\n",
    "\n",
    "LR9.fit(X_train_addclust_sc,y_train)"
   ]
  },
  {
   "cell_type": "code",
   "execution_count": 125,
   "metadata": {},
   "outputs": [],
   "source": [
    "y_pred_addclust_sc=LR9.predict(X_test_addclust_sc)"
   ]
  },
  {
   "cell_type": "code",
   "execution_count": 126,
   "metadata": {},
   "outputs": [
    {
     "data": {
      "text/plain": [
       "(0, 1)"
      ]
     },
     "execution_count": 126,
     "metadata": {},
     "output_type": "execute_result"
    }
   ],
   "source": [
    "min(y_pred_addclust_sc), max(y_pred_addclust_sc)"
   ]
  },
  {
   "cell_type": "code",
   "execution_count": 288,
   "metadata": {},
   "outputs": [
    {
     "data": {
      "text/plain": [
       "252"
      ]
     },
     "execution_count": 288,
     "metadata": {},
     "output_type": "execute_result"
    }
   ],
   "source": [
    "sum(y_pred_addclust_sc)"
   ]
  },
  {
   "cell_type": "code",
   "execution_count": 289,
   "metadata": {},
   "outputs": [
    {
     "data": {
      "text/plain": [
       "257"
      ]
     },
     "execution_count": 289,
     "metadata": {},
     "output_type": "execute_result"
    }
   ],
   "source": [
    "sum(abs(y_pred_addclust_sc-y_test))"
   ]
  },
  {
   "cell_type": "code",
   "execution_count": 287,
   "metadata": {},
   "outputs": [
    {
     "data": {
      "text/plain": [
       "1.0"
      ]
     },
     "execution_count": 287,
     "metadata": {},
     "output_type": "execute_result"
    }
   ],
   "source": [
    "skmetric.f1_score(y_test,y_test)"
   ]
  },
  {
   "cell_type": "code",
   "execution_count": 127,
   "metadata": {},
   "outputs": [
    {
     "data": {
      "text/plain": [
       "0.022813688212927757"
      ]
     },
     "execution_count": 127,
     "metadata": {},
     "output_type": "execute_result"
    }
   ],
   "source": [
    "skmetric.f1_score(y_test,y_pred_addclust_sc)"
   ]
  },
  {
   "cell_type": "code",
   "execution_count": 128,
   "metadata": {},
   "outputs": [
    {
     "data": {
      "text/plain": [
       "0.011904761904761904"
      ]
     },
     "execution_count": 128,
     "metadata": {},
     "output_type": "execute_result"
    }
   ],
   "source": [
    "skmetric.precision_score(y_test,y_pred_addclust_sc)"
   ]
  },
  {
   "cell_type": "code",
   "execution_count": 129,
   "metadata": {},
   "outputs": [
    {
     "data": {
      "text/plain": [
       "0.2727272727272727"
      ]
     },
     "execution_count": 129,
     "metadata": {},
     "output_type": "execute_result"
    }
   ],
   "source": [
    "skmetric.recall_score(y_test,y_pred_addclust_sc)"
   ]
  },
  {
   "cell_type": "code",
   "execution_count": 130,
   "metadata": {},
   "outputs": [],
   "source": [
    "y_prob_addclust_sc=LR9.predict_proba(X_test_addclust_sc)"
   ]
  },
  {
   "cell_type": "code",
   "execution_count": 131,
   "metadata": {},
   "outputs": [],
   "source": [
    "precision, recall, _=skmetric.precision_recall_curve(y_true=y_test,probas_pred=y_prob_addclust_sc[:,1],pos_label=1)"
   ]
  },
  {
   "cell_type": "code",
   "execution_count": 132,
   "metadata": {
    "scrolled": true
   },
   "outputs": [
    {
     "data": {
      "text/plain": [
       "(0.0, 1.0)"
      ]
     },
     "execution_count": 132,
     "metadata": {},
     "output_type": "execute_result"
    },
    {
     "data": {
      "image/png": "[encoded data removed]",
      "text/plain": [
       "<Figure size 432x288 with 1 Axes>"
      ]
     },
     "metadata": {},
     "output_type": "display_data"
    }
   ],
   "source": [
    "step_kwargs = ({'step': 'post'}\n",
    "               if 'step' in signature(plt.fill_between).parameters\n",
    "               else {})\n",
    "plt.step(recall, precision, color='b', alpha=0.2,\n",
    "         where='post')\n",
    "plt.fill_between(recall, precision, alpha=0.2, color='b', **step_kwargs)\n",
    "\n",
    "plt.xlabel('Recall')\n",
    "plt.ylabel('Precision')\n",
    "plt.ylim([0.0, 1.05])\n",
    "plt.xlim([0.0, 1.0])"
   ]
  },
  {
   "cell_type": "code",
   "execution_count": 133,
   "metadata": {},
   "outputs": [],
   "source": [
    "feature_importance = abs(LR9.coef_[0])\n",
    "feature_importance = 100.0 * (feature_importance / feature_importance.max())\n",
    "sorted_idx = np.argsort(feature_importance)[len(feature_importance)-20:len(feature_importance)]\n",
    "pos = np.arange(sorted_idx.shape[0]) + .5"
   ]
  },
  {
   "cell_type": "code",
   "execution_count": 136,
   "metadata": {},
   "outputs": [
    {
     "data": {
      "image/png": "[encoded data removed]",
      "text/plain": [
       "<Figure size 432x288 with 1 Axes>"
      ]
     },
     "metadata": {},
     "output_type": "display_data"
    }
   ],
   "source": [
    "featfig = plt.figure()\n",
    "featax = featfig.add_subplot(1, 1, 1)\n",
    "featax.barh(pos, feature_importance[sorted_idx], align='center')\n",
    "featax.set_yticks(pos)\n",
    "featax.set_yticklabels(np.array(train_b_addclust.columns)[sorted_idx], fontsize=8)\n",
    "featax.set_xlabel('Relative Feature Importance')\n",
    "plt.tight_layout()   \n",
    "plt.show()"
   ]
  },
  {
   "cell_type": "code",
   "execution_count": 404,
   "metadata": {},
   "outputs": [],
   "source": [
    "pickle.dump(LR9, open(models_b_dir+\"LR9.pickle.dat\", \"wb\"))"
   ]
  },
  {
   "cell_type": "markdown",
   "metadata": {},
   "source": [
    "Add output from XGB"
   ]
  },
  {
   "cell_type": "code",
   "execution_count": 416,
   "metadata": {},
   "outputs": [],
   "source": [
    "xgb_train_b=pd.read_csv(preproc_dir+\"xgb_out_train_b_own.csv\")\n",
    "xgb_test_b=pd.read_csv(preproc_dir+\"xgb_out_test_b_own.csv\")"
   ]
  },
  {
   "cell_type": "code",
   "execution_count": 417,
   "metadata": {},
   "outputs": [
    {
     "data": {
      "text/plain": [
       "0.5417843204057448"
      ]
     },
     "execution_count": 417,
     "metadata": {},
     "output_type": "execute_result"
    }
   ],
   "source": [
    "def logisticf(x):\n",
    "    p=1/(1+np.exp(x))\n",
    "    return p\n",
    "\n",
    "logisticf(-0.167528)"
   ]
  },
  {
   "cell_type": "code",
   "execution_count": 418,
   "metadata": {},
   "outputs": [],
   "source": [
    "xgb_train_b_prob=logisticf(xgb_train_b)\n",
    "xgb_test_b_prob=logisticf(xgb_test_b)\n",
    "\n",
    "xgb_train_b_prob=xgb_train_b_prob.add_suffix(\"_prob\")\n",
    "xgb_test_b_prob=xgb_test_b_prob.add_suffix(\"_prob\")"
   ]
  },
  {
   "cell_type": "code",
   "execution_count": 423,
   "metadata": {},
   "outputs": [
    {
     "data": {
      "text/html": [
       "<div>\n",
       "<style scoped>\n",
       "    .dataframe tbody tr th:only-of-type {\n",
       "        vertical-align: middle;\n",
       "    }\n",
       "\n",
       "    .dataframe tbody tr th {\n",
       "        vertical-align: top;\n",
       "    }\n",
       "\n",
       "    .dataframe thead th {\n",
       "        text-align: right;\n",
       "    }\n",
       "</style>\n",
       "<table border=\"1\" class=\"dataframe\">\n",
       "  <thead>\n",
       "    <tr style=\"text-align: right;\">\n",
       "      <th></th>\n",
       "      <th>xgb_y_prob_prob</th>\n",
       "      <th>xgb_ylead1_prob_prob</th>\n",
       "      <th>xgb_yblead2_prob_prob</th>\n",
       "    </tr>\n",
       "  </thead>\n",
       "  <tbody>\n",
       "    <tr>\n",
       "      <td>0</td>\n",
       "      <td>0.502119</td>\n",
       "      <td>0.501556</td>\n",
       "      <td>0.500966</td>\n",
       "    </tr>\n",
       "    <tr>\n",
       "      <td>1</td>\n",
       "      <td>0.502119</td>\n",
       "      <td>0.501134</td>\n",
       "      <td>0.500966</td>\n",
       "    </tr>\n",
       "    <tr>\n",
       "      <td>2</td>\n",
       "      <td>0.500198</td>\n",
       "      <td>0.485159</td>\n",
       "      <td>0.500229</td>\n",
       "    </tr>\n",
       "    <tr>\n",
       "      <td>3</td>\n",
       "      <td>0.473901</td>\n",
       "      <td>0.475266</td>\n",
       "      <td>0.497594</td>\n",
       "    </tr>\n",
       "    <tr>\n",
       "      <td>4</td>\n",
       "      <td>0.473901</td>\n",
       "      <td>0.473767</td>\n",
       "      <td>0.502434</td>\n",
       "    </tr>\n",
       "    <tr>\n",
       "      <td>...</td>\n",
       "      <td>...</td>\n",
       "      <td>...</td>\n",
       "      <td>...</td>\n",
       "    </tr>\n",
       "    <tr>\n",
       "      <td>16553</td>\n",
       "      <td>0.503468</td>\n",
       "      <td>0.508318</td>\n",
       "      <td>0.499647</td>\n",
       "    </tr>\n",
       "    <tr>\n",
       "      <td>16554</td>\n",
       "      <td>0.500216</td>\n",
       "      <td>0.505268</td>\n",
       "      <td>0.499647</td>\n",
       "    </tr>\n",
       "    <tr>\n",
       "      <td>16555</td>\n",
       "      <td>0.487032</td>\n",
       "      <td>0.505343</td>\n",
       "      <td>0.499647</td>\n",
       "    </tr>\n",
       "    <tr>\n",
       "      <td>16556</td>\n",
       "      <td>0.488716</td>\n",
       "      <td>0.503990</td>\n",
       "      <td>0.499647</td>\n",
       "    </tr>\n",
       "    <tr>\n",
       "      <td>16557</td>\n",
       "      <td>0.488387</td>\n",
       "      <td>0.501273</td>\n",
       "      <td>0.499647</td>\n",
       "    </tr>\n",
       "  </tbody>\n",
       "</table>\n",
       "<p>16558 rows × 3 columns</p>\n",
       "</div>"
      ],
      "text/plain": [
       "       xgb_y_prob_prob  xgb_ylead1_prob_prob  xgb_yblead2_prob_prob\n",
       "0             0.502119              0.501556               0.500966\n",
       "1             0.502119              0.501134               0.500966\n",
       "2             0.500198              0.485159               0.500229\n",
       "3             0.473901              0.475266               0.497594\n",
       "4             0.473901              0.473767               0.502434\n",
       "...                ...                   ...                    ...\n",
       "16553         0.503468              0.508318               0.499647\n",
       "16554         0.500216              0.505268               0.499647\n",
       "16555         0.487032              0.505343               0.499647\n",
       "16556         0.488716              0.503990               0.499647\n",
       "16557         0.488387              0.501273               0.499647\n",
       "\n",
       "[16558 rows x 3 columns]"
      ]
     },
     "execution_count": 423,
     "metadata": {},
     "output_type": "execute_result"
    }
   ],
   "source": []
  },
  {
   "cell_type": "markdown",
   "metadata": {},
   "source": [
    "Check performance by itself"
   ]
  },
  {
   "cell_type": "code",
   "execution_count": 351,
   "metadata": {},
   "outputs": [
    {
     "data": {
      "text/plain": [
       "LogisticRegression(C=0.01, class_weight='balanced', dual=False,\n",
       "                   fit_intercept=True, intercept_scaling=1, l1_ratio=None,\n",
       "                   max_iter=10000, multi_class='warn', n_jobs=4, penalty='l1',\n",
       "                   random_state=42, solver='saga', tol=0.0001, verbose=0,\n",
       "                   warm_start=False)"
      ]
     },
     "execution_count": 351,
     "metadata": {},
     "output_type": "execute_result"
    }
   ],
   "source": [
    "LR10=LogisticRegression(class_weight =\"balanced\", \n",
    "                       max_iter = 10000, \n",
    "                       penalty = \"l1\", \n",
    "                       solver = \"saga\",\n",
    "                       n_jobs=4,\n",
    "                       random_state=42, \n",
    "                       C = 0.01)\n",
    "\n",
    "LR10.fit(pd.concat([xgb_train_b,xgb_train_b_prob],axis=1),y_train)"
   ]
  },
  {
   "cell_type": "code",
   "execution_count": 352,
   "metadata": {},
   "outputs": [],
   "source": [
    "y_pred_xgb=LR10.predict(pd.concat([xgb_test_b,xgb_test_b_prob],axis=1))"
   ]
  },
  {
   "cell_type": "code",
   "execution_count": 353,
   "metadata": {},
   "outputs": [
    {
     "data": {
      "text/plain": [
       "(0, 1)"
      ]
     },
     "execution_count": 353,
     "metadata": {},
     "output_type": "execute_result"
    }
   ],
   "source": [
    "min(y_pred_xgb), max(y_pred_xgb)"
   ]
  },
  {
   "cell_type": "code",
   "execution_count": 357,
   "metadata": {},
   "outputs": [
    {
     "data": {
      "text/plain": [
       "0.010230179028132993"
      ]
     },
     "execution_count": 357,
     "metadata": {},
     "output_type": "execute_result"
    }
   ],
   "source": [
    "skmetric.f1_score(y_test,y_pred_xgb)"
   ]
  },
  {
   "cell_type": "code",
   "execution_count": 358,
   "metadata": {},
   "outputs": [
    {
     "data": {
      "text/plain": [
       "0.005263157894736842"
      ]
     },
     "execution_count": 358,
     "metadata": {},
     "output_type": "execute_result"
    }
   ],
   "source": [
    "skmetric.precision_score(y_test,y_pred_xgb)"
   ]
  },
  {
   "cell_type": "code",
   "execution_count": 359,
   "metadata": {},
   "outputs": [
    {
     "data": {
      "text/plain": [
       "0.18181818181818182"
      ]
     },
     "execution_count": 359,
     "metadata": {},
     "output_type": "execute_result"
    }
   ],
   "source": [
    "skmetric.recall_score(y_test,y_pred_xgb)"
   ]
  },
  {
   "cell_type": "code",
   "execution_count": 360,
   "metadata": {},
   "outputs": [],
   "source": [
    "y_prob_xgb=LR10.predict_proba(pd.concat([xgb_test_b,xgb_test_b_prob],axis=1))"
   ]
  },
  {
   "cell_type": "code",
   "execution_count": 361,
   "metadata": {},
   "outputs": [],
   "source": [
    "precision, recall, _=skmetric.precision_recall_curve(y_true=y_test,probas_pred=y_prob_xgb[:,1],pos_label=1)"
   ]
  },
  {
   "cell_type": "code",
   "execution_count": 362,
   "metadata": {
    "scrolled": true
   },
   "outputs": [
    {
     "data": {
      "text/plain": [
       "(0.0, 1.0)"
      ]
     },
     "execution_count": 362,
     "metadata": {},
     "output_type": "execute_result"
    },
    {
     "data": {
      "image/png": "[encoded data removed]",
      "text/plain": [
       "<Figure size 432x288 with 1 Axes>"
      ]
     },
     "metadata": {},
     "output_type": "display_data"
    }
   ],
   "source": [
    "step_kwargs = ({'step': 'post'}\n",
    "               if 'step' in signature(plt.fill_between).parameters\n",
    "               else {})\n",
    "plt.step(recall, precision, color='b', alpha=0.2,\n",
    "         where='post')\n",
    "plt.fill_between(recall, precision, alpha=0.2, color='b', **step_kwargs)\n",
    "\n",
    "plt.xlabel('Recall')\n",
    "plt.ylabel('Precision')\n",
    "plt.ylim([0.0, 1.05])\n",
    "plt.xlim([0.0, 1.0])"
   ]
  },
  {
   "cell_type": "code",
   "execution_count": 363,
   "metadata": {},
   "outputs": [],
   "source": [
    "feature_importance = abs(LR10.coef_[0])\n",
    "feature_importance = 100.0 * (feature_importance / feature_importance.max())\n",
    "sorted_idx = np.argsort(feature_importance)[len(feature_importance)-20:len(feature_importance)]\n",
    "pos = np.arange(sorted_idx.shape[0]) + .5"
   ]
  },
  {
   "cell_type": "code",
   "execution_count": 364,
   "metadata": {},
   "outputs": [
    {
     "data": {
      "image/png": "[encoded data removed]",
      "text/plain": [
       "<Figure size 432x288 with 1 Axes>"
      ]
     },
     "metadata": {},
     "output_type": "display_data"
    }
   ],
   "source": [
    "featfig = plt.figure()\n",
    "featax = featfig.add_subplot(1, 1, 1)\n",
    "featax.barh(pos, feature_importance[sorted_idx], align='center')\n",
    "featax.set_yticks(pos)\n",
    "featax.set_yticklabels(np.array((pd.concat([xgb_train_b,xgb_train_b_prob],axis=1)).columns)[sorted_idx], fontsize=8)\n",
    "featax.set_xlabel('Relative Feature Importance')\n",
    "plt.tight_layout()   \n",
    "plt.show()"
   ]
  },
  {
   "cell_type": "markdown",
   "metadata": {},
   "source": [
    "Adding probs to addclust:"
   ]
  },
  {
   "cell_type": "code",
   "execution_count": 365,
   "metadata": {},
   "outputs": [],
   "source": [
    "X_train_addclust_addprob_sc=np.concatenate([X_train_addclust_sc,xgb_train_b,xgb_train_b_prob],axis=1)\n",
    "X_test_addclust_addprob_sc=np.concatenate([X_test_addclust_sc,xgb_test_b,xgb_test_b_prob],axis=1)"
   ]
  },
  {
   "cell_type": "code",
   "execution_count": 366,
   "metadata": {},
   "outputs": [
    {
     "data": {
      "text/html": [
       "<div>\n",
       "<style scoped>\n",
       "    .dataframe tbody tr th:only-of-type {\n",
       "        vertical-align: middle;\n",
       "    }\n",
       "\n",
       "    .dataframe tbody tr th {\n",
       "        vertical-align: top;\n",
       "    }\n",
       "\n",
       "    .dataframe thead th {\n",
       "        text-align: right;\n",
       "    }\n",
       "</style>\n",
       "<table border=\"1\" class=\"dataframe\">\n",
       "  <thead>\n",
       "    <tr style=\"text-align: right;\">\n",
       "      <th></th>\n",
       "      <th>0</th>\n",
       "      <th>1</th>\n",
       "      <th>2</th>\n",
       "      <th>3</th>\n",
       "      <th>4</th>\n",
       "      <th>5</th>\n",
       "      <th>6</th>\n",
       "      <th>7</th>\n",
       "      <th>8</th>\n",
       "      <th>9</th>\n",
       "      <th>...</th>\n",
       "      <th>1778</th>\n",
       "      <th>1779</th>\n",
       "      <th>1780</th>\n",
       "      <th>1781</th>\n",
       "      <th>1782</th>\n",
       "      <th>1783</th>\n",
       "      <th>1784</th>\n",
       "      <th>1785</th>\n",
       "      <th>1786</th>\n",
       "      <th>1787</th>\n",
       "    </tr>\n",
       "  </thead>\n",
       "  <tbody>\n",
       "    <tr>\n",
       "      <td>0</td>\n",
       "      <td>0.449511</td>\n",
       "      <td>-0.958492</td>\n",
       "      <td>-0.806094</td>\n",
       "      <td>0.241215</td>\n",
       "      <td>-0.184303</td>\n",
       "      <td>-0.544205</td>\n",
       "      <td>-0.100582</td>\n",
       "      <td>-0.83792</td>\n",
       "      <td>-0.368877</td>\n",
       "      <td>-0.324346</td>\n",
       "      <td>...</td>\n",
       "      <td>0.319306</td>\n",
       "      <td>-0.084966</td>\n",
       "      <td>0.087245</td>\n",
       "      <td>-1.557961</td>\n",
       "      <td>-0.008477</td>\n",
       "      <td>-0.006223</td>\n",
       "      <td>-0.003866</td>\n",
       "      <td>0.502119</td>\n",
       "      <td>0.501556</td>\n",
       "      <td>0.500966</td>\n",
       "    </tr>\n",
       "    <tr>\n",
       "      <td>1</td>\n",
       "      <td>0.594406</td>\n",
       "      <td>-0.947138</td>\n",
       "      <td>-0.792889</td>\n",
       "      <td>0.261642</td>\n",
       "      <td>-0.199306</td>\n",
       "      <td>-0.492327</td>\n",
       "      <td>-0.100582</td>\n",
       "      <td>-0.83792</td>\n",
       "      <td>-0.368877</td>\n",
       "      <td>-0.324346</td>\n",
       "      <td>...</td>\n",
       "      <td>-3.131788</td>\n",
       "      <td>-0.238830</td>\n",
       "      <td>0.169126</td>\n",
       "      <td>-1.358950</td>\n",
       "      <td>-0.008477</td>\n",
       "      <td>-0.004536</td>\n",
       "      <td>-0.003866</td>\n",
       "      <td>0.502119</td>\n",
       "      <td>0.501134</td>\n",
       "      <td>0.500966</td>\n",
       "    </tr>\n",
       "    <tr>\n",
       "      <td>2</td>\n",
       "      <td>0.430762</td>\n",
       "      <td>-0.976377</td>\n",
       "      <td>-0.850007</td>\n",
       "      <td>0.245926</td>\n",
       "      <td>-0.214308</td>\n",
       "      <td>-0.467323</td>\n",
       "      <td>-0.004758</td>\n",
       "      <td>-0.83792</td>\n",
       "      <td>-0.169231</td>\n",
       "      <td>-0.139113</td>\n",
       "      <td>...</td>\n",
       "      <td>0.319306</td>\n",
       "      <td>0.065805</td>\n",
       "      <td>0.180325</td>\n",
       "      <td>-1.649667</td>\n",
       "      <td>-0.000793</td>\n",
       "      <td>0.059381</td>\n",
       "      <td>-0.000915</td>\n",
       "      <td>0.500198</td>\n",
       "      <td>0.485159</td>\n",
       "      <td>0.500229</td>\n",
       "    </tr>\n",
       "    <tr>\n",
       "      <td>3</td>\n",
       "      <td>0.339693</td>\n",
       "      <td>-0.992700</td>\n",
       "      <td>-0.793785</td>\n",
       "      <td>0.238703</td>\n",
       "      <td>-0.228708</td>\n",
       "      <td>-0.485801</td>\n",
       "      <td>-0.087804</td>\n",
       "      <td>-0.83792</td>\n",
       "      <td>-0.102007</td>\n",
       "      <td>-0.045063</td>\n",
       "      <td>...</td>\n",
       "      <td>-3.131788</td>\n",
       "      <td>-0.357424</td>\n",
       "      <td>-0.192885</td>\n",
       "      <td>-2.221694</td>\n",
       "      <td>0.104490</td>\n",
       "      <td>0.099018</td>\n",
       "      <td>0.009626</td>\n",
       "      <td>0.473901</td>\n",
       "      <td>0.475266</td>\n",
       "      <td>0.497594</td>\n",
       "    </tr>\n",
       "    <tr>\n",
       "      <td>4</td>\n",
       "      <td>0.287016</td>\n",
       "      <td>-0.990804</td>\n",
       "      <td>-0.846595</td>\n",
       "      <td>0.254442</td>\n",
       "      <td>-0.239573</td>\n",
       "      <td>-0.458349</td>\n",
       "      <td>-0.100582</td>\n",
       "      <td>-0.83792</td>\n",
       "      <td>-0.169231</td>\n",
       "      <td>-0.045063</td>\n",
       "      <td>...</td>\n",
       "      <td>-3.131788</td>\n",
       "      <td>-0.357361</td>\n",
       "      <td>-0.192818</td>\n",
       "      <td>-2.221601</td>\n",
       "      <td>0.104490</td>\n",
       "      <td>0.105028</td>\n",
       "      <td>-0.009736</td>\n",
       "      <td>0.473901</td>\n",
       "      <td>0.473767</td>\n",
       "      <td>0.502434</td>\n",
       "    </tr>\n",
       "  </tbody>\n",
       "</table>\n",
       "<p>5 rows × 1788 columns</p>\n",
       "</div>"
      ],
      "text/plain": [
       "       0         1         2         3         4         5         6     \\\n",
       "0  0.449511 -0.958492 -0.806094  0.241215 -0.184303 -0.544205 -0.100582   \n",
       "1  0.594406 -0.947138 -0.792889  0.261642 -0.199306 -0.492327 -0.100582   \n",
       "2  0.430762 -0.976377 -0.850007  0.245926 -0.214308 -0.467323 -0.004758   \n",
       "3  0.339693 -0.992700 -0.793785  0.238703 -0.228708 -0.485801 -0.087804   \n",
       "4  0.287016 -0.990804 -0.846595  0.254442 -0.239573 -0.458349 -0.100582   \n",
       "\n",
       "      7         8         9     ...      1778      1779      1780      1781  \\\n",
       "0 -0.83792 -0.368877 -0.324346  ...  0.319306 -0.084966  0.087245 -1.557961   \n",
       "1 -0.83792 -0.368877 -0.324346  ... -3.131788 -0.238830  0.169126 -1.358950   \n",
       "2 -0.83792 -0.169231 -0.139113  ...  0.319306  0.065805  0.180325 -1.649667   \n",
       "3 -0.83792 -0.102007 -0.045063  ... -3.131788 -0.357424 -0.192885 -2.221694   \n",
       "4 -0.83792 -0.169231 -0.045063  ... -3.131788 -0.357361 -0.192818 -2.221601   \n",
       "\n",
       "       1782      1783      1784      1785      1786      1787  \n",
       "0 -0.008477 -0.006223 -0.003866  0.502119  0.501556  0.500966  \n",
       "1 -0.008477 -0.004536 -0.003866  0.502119  0.501134  0.500966  \n",
       "2 -0.000793  0.059381 -0.000915  0.500198  0.485159  0.500229  \n",
       "3  0.104490  0.099018  0.009626  0.473901  0.475266  0.497594  \n",
       "4  0.104490  0.105028 -0.009736  0.473901  0.473767  0.502434  \n",
       "\n",
       "[5 rows x 1788 columns]"
      ]
     },
     "execution_count": 366,
     "metadata": {},
     "output_type": "execute_result"
    }
   ],
   "source": [
    "pd.DataFrame(X_train_addclust_addprob_sc).head()"
   ]
  },
  {
   "cell_type": "code",
   "execution_count": 367,
   "metadata": {},
   "outputs": [],
   "source": [
    "colnames=pd.concat([train_b_addclust,xgb_train_b,xgb_train_b_prob],axis=1).columns"
   ]
  },
  {
   "cell_type": "code",
   "execution_count": 368,
   "metadata": {},
   "outputs": [
    {
     "data": {
      "text/plain": [
       "1788"
      ]
     },
     "execution_count": 368,
     "metadata": {},
     "output_type": "execute_result"
    }
   ],
   "source": [
    "len(colnames)"
   ]
  },
  {
   "cell_type": "code",
   "execution_count": 369,
   "metadata": {},
   "outputs": [
    {
     "data": {
      "text/plain": [
       "(16558, 1782)"
      ]
     },
     "execution_count": 369,
     "metadata": {},
     "output_type": "execute_result"
    }
   ],
   "source": [
    "X_train_addclust_sc.shape"
   ]
  },
  {
   "cell_type": "code",
   "execution_count": 370,
   "metadata": {},
   "outputs": [
    {
     "data": {
      "text/plain": [
       "LogisticRegression(C=0.01, class_weight='balanced', dual=False,\n",
       "                   fit_intercept=True, intercept_scaling=1, l1_ratio=None,\n",
       "                   max_iter=10000, multi_class='warn', n_jobs=4, penalty='l1',\n",
       "                   random_state=42, solver='saga', tol=0.0001, verbose=0,\n",
       "                   warm_start=False)"
      ]
     },
     "execution_count": 370,
     "metadata": {},
     "output_type": "execute_result"
    }
   ],
   "source": [
    "LR11=LogisticRegression(class_weight =\"balanced\", \n",
    "                       max_iter = 10000, \n",
    "                       penalty = \"l1\", \n",
    "                       solver = \"saga\",\n",
    "                       n_jobs=4,\n",
    "                       random_state=42, \n",
    "                       C = 0.01)\n",
    "\n",
    "LR11.fit(X=X_train_addclust_addprob_sc,y=y_train)"
   ]
  },
  {
   "cell_type": "code",
   "execution_count": 371,
   "metadata": {},
   "outputs": [],
   "source": [
    "y_pred_xgb_addclust=LR11.predict(X_test_addclust_addprob_sc)"
   ]
  },
  {
   "cell_type": "code",
   "execution_count": 372,
   "metadata": {},
   "outputs": [
    {
     "data": {
      "text/plain": [
       "(0, 1)"
      ]
     },
     "execution_count": 372,
     "metadata": {},
     "output_type": "execute_result"
    }
   ],
   "source": [
    "min(y_pred_xgb_addclust), max(y_pred_xgb_addclust)"
   ]
  },
  {
   "cell_type": "code",
   "execution_count": 373,
   "metadata": {},
   "outputs": [
    {
     "data": {
      "text/plain": [
       "1840"
      ]
     },
     "execution_count": 373,
     "metadata": {},
     "output_type": "execute_result"
    }
   ],
   "source": [
    "np.count_nonzero(~np.isnan(y_pred_xgb_addclust))"
   ]
  },
  {
   "cell_type": "code",
   "execution_count": 374,
   "metadata": {},
   "outputs": [
    {
     "data": {
      "text/plain": [
       "array([0, 1, 0, ..., 0, 0, 0], dtype=int64)"
      ]
     },
     "execution_count": 374,
     "metadata": {},
     "output_type": "execute_result"
    }
   ],
   "source": [
    "y_pred_addclust_sc"
   ]
  },
  {
   "cell_type": "code",
   "execution_count": 375,
   "metadata": {},
   "outputs": [
    {
     "data": {
      "text/plain": [
       "0       0\n",
       "1       0\n",
       "2       0\n",
       "3       0\n",
       "4       0\n",
       "       ..\n",
       "1835    0\n",
       "1836    0\n",
       "1837    0\n",
       "1838    0\n",
       "1839    0\n",
       "Name: y_lead2, Length: 1840, dtype: int64"
      ]
     },
     "execution_count": 375,
     "metadata": {},
     "output_type": "execute_result"
    }
   ],
   "source": [
    "y_test"
   ]
  },
  {
   "cell_type": "code",
   "execution_count": 376,
   "metadata": {},
   "outputs": [
    {
     "data": {
      "text/plain": [
       "0.02222222222222222"
      ]
     },
     "execution_count": 376,
     "metadata": {},
     "output_type": "execute_result"
    }
   ],
   "source": [
    "skmetric.f1_score(y_test,y_pred_xgb_addclust)"
   ]
  },
  {
   "cell_type": "code",
   "execution_count": 377,
   "metadata": {},
   "outputs": [
    {
     "data": {
      "text/plain": [
       "11"
      ]
     },
     "execution_count": 377,
     "metadata": {},
     "output_type": "execute_result"
    }
   ],
   "source": [
    "sum(y_test)"
   ]
  },
  {
   "cell_type": "code",
   "execution_count": 378,
   "metadata": {},
   "outputs": [
    {
     "data": {
      "text/plain": [
       "169"
      ]
     },
     "execution_count": 378,
     "metadata": {},
     "output_type": "execute_result"
    }
   ],
   "source": [
    "sum(y_pred_xgb_addclust)"
   ]
  },
  {
   "cell_type": "code",
   "execution_count": 379,
   "metadata": {},
   "outputs": [
    {
     "data": {
      "text/plain": [
       "176"
      ]
     },
     "execution_count": 379,
     "metadata": {},
     "output_type": "execute_result"
    }
   ],
   "source": [
    "sum(abs(y_pred_xgb_addclust-y_test))"
   ]
  },
  {
   "cell_type": "code",
   "execution_count": 380,
   "metadata": {},
   "outputs": [],
   "source": [
    "pd.DataFrame(y_test).to_csv(preproc_dir+\"y_test.csv\",index=False)\n",
    "pd.DataFrame(y_pred_xgb_addclust).to_csv(preproc_dir+\"y_pred_xgb_addclust.csv\",index=False)"
   ]
  },
  {
   "cell_type": "code",
   "execution_count": 381,
   "metadata": {},
   "outputs": [
    {
     "data": {
      "text/plain": [
       "0.011834319526627219"
      ]
     },
     "execution_count": 381,
     "metadata": {},
     "output_type": "execute_result"
    }
   ],
   "source": [
    "skmetric.precision_score(y_test,y_pred_xgb_addclust)"
   ]
  },
  {
   "cell_type": "code",
   "execution_count": 382,
   "metadata": {},
   "outputs": [
    {
     "data": {
      "text/plain": [
       "0.18181818181818182"
      ]
     },
     "execution_count": 382,
     "metadata": {},
     "output_type": "execute_result"
    }
   ],
   "source": [
    "skmetric.recall_score(y_test,y_pred_xgb_addclust)"
   ]
  },
  {
   "cell_type": "code",
   "execution_count": 345,
   "metadata": {},
   "outputs": [],
   "source": [
    "y_prob_xgb_addclust=LR11.predict_proba(X_test_addclust_addprob_sc)"
   ]
  },
  {
   "cell_type": "code",
   "execution_count": 346,
   "metadata": {},
   "outputs": [],
   "source": [
    "precision, recall, _=skmetric.precision_recall_curve(y_true=y_test,probas_pred=y_prob_xgb_addclust[:,1],pos_label=1)"
   ]
  },
  {
   "cell_type": "code",
   "execution_count": 347,
   "metadata": {
    "scrolled": true
   },
   "outputs": [
    {
     "data": {
      "text/plain": [
       "(0.0, 1.0)"
      ]
     },
     "execution_count": 347,
     "metadata": {},
     "output_type": "execute_result"
    },
    {
     "data": {
      "image/png": "[encoded data removed]",
      "text/plain": [
       "<Figure size 432x288 with 1 Axes>"
      ]
     },
     "metadata": {},
     "output_type": "display_data"
    }
   ],
   "source": [
    "step_kwargs = ({'step': 'post'}\n",
    "               if 'step' in signature(plt.fill_between).parameters\n",
    "               else {})\n",
    "plt.step(recall, precision, color='b', alpha=0.2,\n",
    "         where='post')\n",
    "plt.fill_between(recall, precision, alpha=0.2, color='b', **step_kwargs)\n",
    "\n",
    "plt.xlabel('Recall')\n",
    "plt.ylabel('Precision')\n",
    "plt.ylim([0.0, 1.05])\n",
    "plt.xlim([0.0, 1.0])"
   ]
  },
  {
   "cell_type": "code",
   "execution_count": 330,
   "metadata": {},
   "outputs": [],
   "source": [
    "feature_importance = abs(LR11.coef_[0])\n",
    "feature_importance = 100.0 * (feature_importance / feature_importance.max())\n",
    "sorted_idx = np.argsort(feature_importance)[len(feature_importance)-20:len(feature_importance)]\n",
    "pos = np.arange(sorted_idx.shape[0]) + .5"
   ]
  },
  {
   "cell_type": "code",
   "execution_count": 331,
   "metadata": {},
   "outputs": [
    {
     "data": {
      "image/png": "[encoded data removed]",
      "text/plain": [
       "<Figure size 432x288 with 1 Axes>"
      ]
     },
     "metadata": {},
     "output_type": "display_data"
    }
   ],
   "source": [
    "featfig = plt.figure()\n",
    "featax = featfig.add_subplot(1, 1, 1)\n",
    "featax.barh(pos, feature_importance[sorted_idx], align='center')\n",
    "featax.set_yticks(pos)\n",
    "featax.set_yticklabels(np.array(colnames)[sorted_idx], fontsize=8)\n",
    "featax.set_xlabel('Relative Feature Importance')\n",
    "plt.tight_layout()   \n",
    "plt.show()"
   ]
  },
  {
   "cell_type": "code",
   "execution_count": 405,
   "metadata": {},
   "outputs": [],
   "source": [
    "pickle.dump(LR11, open(models_b_dir+\"LR11.pickle.dat\", \"wb\"))"
   ]
  },
  {
   "cell_type": "markdown",
   "metadata": {},
   "source": [
    "Use the scale-derive-fit pipeline:"
   ]
  },
  {
   "cell_type": "code",
   "execution_count": 383,
   "metadata": {},
   "outputs": [],
   "source": [
    "train_b_2=pd.read_csv(preproc_dir+\"train_b_preproc_sc.csv\")\n",
    "test_b_2=pd.read_csv(preproc_dir+\"test_b_preproc_sc.csv\")"
   ]
  },
  {
   "cell_type": "code",
   "execution_count": 384,
   "metadata": {},
   "outputs": [],
   "source": [
    "cols_2=train_b_2.columns\n",
    "selcols_2=[a for a in cols_2 if a.startswith(\"x\")]"
   ]
  },
  {
   "cell_type": "code",
   "execution_count": 385,
   "metadata": {},
   "outputs": [],
   "source": [
    "X_train_2=train_b_2[train_b_2.columns.intersection(selcols_2)].copy()\n",
    "X_train_2.fillna(0, inplace=True) \n",
    "X_train_2.replace(to_replace=np.inf, value=0, inplace=True)\n",
    "#X_train.replace(to_replace=-np.inf, value=0, inplace=True)\n",
    "\n",
    "X_test_2=test_b_2[test_b_2.columns.intersection(selcols_2)].copy()\n",
    "X_test_2.fillna(0, inplace=True) \n",
    "X_test_2.replace(to_replace=np.inf, value=0, inplace=True)\n",
    "#X_test.replace(to_replace=-np.inf, value=0, inplace=True)\n",
    "\n",
    "y_train_2=train_b_2[\"y_lead2\"].copy()\n",
    "y_test_2=test_b_2[\"y_lead2\"].copy()"
   ]
  },
  {
   "cell_type": "markdown",
   "metadata": {},
   "source": [
    "Train the logistic regression model:"
   ]
  },
  {
   "cell_type": "code",
   "execution_count": 386,
   "metadata": {},
   "outputs": [
    {
     "data": {
      "text/plain": [
       "LogisticRegression(C=0.01, class_weight='balanced', dual=False,\n",
       "                   fit_intercept=True, intercept_scaling=1, l1_ratio=None,\n",
       "                   max_iter=10000, multi_class='warn', n_jobs=4, penalty='l1',\n",
       "                   random_state=42, solver='saga', tol=0.0001, verbose=0,\n",
       "                   warm_start=False)"
      ]
     },
     "execution_count": 386,
     "metadata": {},
     "output_type": "execute_result"
    }
   ],
   "source": [
    "LR12=LogisticRegression(class_weight =\"balanced\", \n",
    "                       max_iter = 10000, \n",
    "                       penalty = \"l1\", \n",
    "                       solver = \"saga\",\n",
    "                       n_jobs=4,\n",
    "                       random_state=42, \n",
    "                       C = 0.01)\n",
    "\n",
    "LR12.fit(X_train_2,y_train_2)"
   ]
  },
  {
   "cell_type": "code",
   "execution_count": 395,
   "metadata": {},
   "outputs": [],
   "source": [
    "y_pred_2=LR12.predict(X_test_2)"
   ]
  },
  {
   "cell_type": "code",
   "execution_count": 396,
   "metadata": {
    "scrolled": true
   },
   "outputs": [
    {
     "data": {
      "text/plain": [
       "(0, 1)"
      ]
     },
     "execution_count": 396,
     "metadata": {},
     "output_type": "execute_result"
    }
   ],
   "source": [
    "min(y_pred_2), max(y_pred_2)"
   ]
  },
  {
   "cell_type": "code",
   "execution_count": 397,
   "metadata": {},
   "outputs": [
    {
     "data": {
      "text/plain": [
       "0.0"
      ]
     },
     "execution_count": 397,
     "metadata": {},
     "output_type": "execute_result"
    }
   ],
   "source": [
    "skmetric.f1_score(y_test,y_pred_2)"
   ]
  },
  {
   "cell_type": "code",
   "execution_count": 398,
   "metadata": {},
   "outputs": [
    {
     "data": {
      "text/plain": [
       "34"
      ]
     },
     "execution_count": 398,
     "metadata": {},
     "output_type": "execute_result"
    }
   ],
   "source": [
    "sum(y_pred_2)"
   ]
  },
  {
   "cell_type": "code",
   "execution_count": 399,
   "metadata": {},
   "outputs": [
    {
     "data": {
      "text/plain": [
       "45"
      ]
     },
     "execution_count": 399,
     "metadata": {},
     "output_type": "execute_result"
    }
   ],
   "source": [
    "sum(abs(y_pred_2-y_test))"
   ]
  },
  {
   "cell_type": "code",
   "execution_count": 406,
   "metadata": {},
   "outputs": [],
   "source": [
    "pickle.dump(LR12, open(models_b_dir+\"LR12.pickle.dat\", \"wb\"))"
   ]
  },
  {
   "cell_type": "markdown",
   "metadata": {},
   "source": [
    "Add moving average on the probabilities from XGB:"
   ]
  },
  {
   "cell_type": "code",
   "execution_count": 415,
   "metadata": {},
   "outputs": [],
   "source": [
    "def EMW_prob_lagdif_xi_n(df,n_list=[1,2,3],alpha_list=[0.25,0.5,0.75]):\n",
    "    dfout=df.copy()\n",
    "    i_list=dfout.columns\n",
    "    for a in alpha_list:    \n",
    "        for i in i_list:\n",
    "            dfout[str(i)+\"_emwpdf_a\"+str(a)]=dfout[i].ewm(alpha=a).mean()            \n",
    "    return(dfout)"
   ]
  },
  {
   "cell_type": "code",
   "execution_count": 457,
   "metadata": {},
   "outputs": [],
   "source": [
    "xgb_train_b_emw=EMW_prob_lagdif_xi_n(xgb_train_b,alpha_list=[0.1,0.5,0.95])\n",
    "xgb_train_b_prob_emw=EMW_prob_lagdif_xi_n(xgb_train_b_prob,alpha_list=[0.1,0.5,0.95])\n",
    "\n",
    "xgb_test_b_emw=EMW_prob_lagdif_xi_n(xgb_test_b,alpha_list=[0.1,0.5,0.95])\n",
    "xgb_test_b_prob_emw=EMW_prob_lagdif_xi_n(xgb_test_b_prob,alpha_list=[0.1,0.5,0.95])"
   ]
  },
  {
   "cell_type": "code",
   "execution_count": 459,
   "metadata": {},
   "outputs": [
    {
     "data": {
      "text/html": [
       "<div>\n",
       "<style scoped>\n",
       "    .dataframe tbody tr th:only-of-type {\n",
       "        vertical-align: middle;\n",
       "    }\n",
       "\n",
       "    .dataframe tbody tr th {\n",
       "        vertical-align: top;\n",
       "    }\n",
       "\n",
       "    .dataframe thead th {\n",
       "        text-align: right;\n",
       "    }\n",
       "</style>\n",
       "<table border=\"1\" class=\"dataframe\">\n",
       "  <thead>\n",
       "    <tr style=\"text-align: right;\">\n",
       "      <th></th>\n",
       "      <th>xgb_y_prob_prob</th>\n",
       "      <th>xgb_ylead1_prob_prob</th>\n",
       "      <th>xgb_yblead2_prob_prob</th>\n",
       "      <th>xgb_y_prob_prob_emwpdf_a0.1</th>\n",
       "      <th>xgb_ylead1_prob_prob_emwpdf_a0.1</th>\n",
       "      <th>xgb_yblead2_prob_prob_emwpdf_a0.1</th>\n",
       "      <th>xgb_y_prob_prob_emwpdf_a0.5</th>\n",
       "      <th>xgb_ylead1_prob_prob_emwpdf_a0.5</th>\n",
       "      <th>xgb_yblead2_prob_prob_emwpdf_a0.5</th>\n",
       "      <th>xgb_y_prob_prob_emwpdf_a0.95</th>\n",
       "      <th>xgb_ylead1_prob_prob_emwpdf_a0.95</th>\n",
       "      <th>xgb_yblead2_prob_prob_emwpdf_a0.95</th>\n",
       "    </tr>\n",
       "  </thead>\n",
       "  <tbody>\n",
       "    <tr>\n",
       "      <td>0</td>\n",
       "      <td>0.502119</td>\n",
       "      <td>0.501556</td>\n",
       "      <td>0.500966</td>\n",
       "      <td>0.502119</td>\n",
       "      <td>0.501556</td>\n",
       "      <td>0.500966</td>\n",
       "      <td>0.502119</td>\n",
       "      <td>0.501556</td>\n",
       "      <td>0.500966</td>\n",
       "      <td>0.502119</td>\n",
       "      <td>0.501556</td>\n",
       "      <td>0.500966</td>\n",
       "    </tr>\n",
       "    <tr>\n",
       "      <td>1</td>\n",
       "      <td>0.502119</td>\n",
       "      <td>0.501134</td>\n",
       "      <td>0.500966</td>\n",
       "      <td>0.502119</td>\n",
       "      <td>0.501334</td>\n",
       "      <td>0.500966</td>\n",
       "      <td>0.502119</td>\n",
       "      <td>0.501275</td>\n",
       "      <td>0.500966</td>\n",
       "      <td>0.502119</td>\n",
       "      <td>0.501154</td>\n",
       "      <td>0.500966</td>\n",
       "    </tr>\n",
       "    <tr>\n",
       "      <td>2</td>\n",
       "      <td>0.500198</td>\n",
       "      <td>0.485159</td>\n",
       "      <td>0.500229</td>\n",
       "      <td>0.501410</td>\n",
       "      <td>0.495365</td>\n",
       "      <td>0.500694</td>\n",
       "      <td>0.501022</td>\n",
       "      <td>0.492066</td>\n",
       "      <td>0.500545</td>\n",
       "      <td>0.500294</td>\n",
       "      <td>0.485957</td>\n",
       "      <td>0.500265</td>\n",
       "    </tr>\n",
       "    <tr>\n",
       "      <td>3</td>\n",
       "      <td>0.473901</td>\n",
       "      <td>0.475266</td>\n",
       "      <td>0.497594</td>\n",
       "      <td>0.493411</td>\n",
       "      <td>0.489521</td>\n",
       "      <td>0.499793</td>\n",
       "      <td>0.486557</td>\n",
       "      <td>0.483106</td>\n",
       "      <td>0.498971</td>\n",
       "      <td>0.475221</td>\n",
       "      <td>0.475800</td>\n",
       "      <td>0.497727</td>\n",
       "    </tr>\n",
       "    <tr>\n",
       "      <td>4</td>\n",
       "      <td>0.473901</td>\n",
       "      <td>0.473767</td>\n",
       "      <td>0.502434</td>\n",
       "      <td>0.488647</td>\n",
       "      <td>0.485674</td>\n",
       "      <td>0.500438</td>\n",
       "      <td>0.480025</td>\n",
       "      <td>0.478286</td>\n",
       "      <td>0.500758</td>\n",
       "      <td>0.473967</td>\n",
       "      <td>0.473869</td>\n",
       "      <td>0.502199</td>\n",
       "    </tr>\n",
       "  </tbody>\n",
       "</table>\n",
       "</div>"
      ],
      "text/plain": [
       "   xgb_y_prob_prob  xgb_ylead1_prob_prob  xgb_yblead2_prob_prob  \\\n",
       "0         0.502119              0.501556               0.500966   \n",
       "1         0.502119              0.501134               0.500966   \n",
       "2         0.500198              0.485159               0.500229   \n",
       "3         0.473901              0.475266               0.497594   \n",
       "4         0.473901              0.473767               0.502434   \n",
       "\n",
       "   xgb_y_prob_prob_emwpdf_a0.1  xgb_ylead1_prob_prob_emwpdf_a0.1  \\\n",
       "0                     0.502119                          0.501556   \n",
       "1                     0.502119                          0.501334   \n",
       "2                     0.501410                          0.495365   \n",
       "3                     0.493411                          0.489521   \n",
       "4                     0.488647                          0.485674   \n",
       "\n",
       "   xgb_yblead2_prob_prob_emwpdf_a0.1  xgb_y_prob_prob_emwpdf_a0.5  \\\n",
       "0                           0.500966                     0.502119   \n",
       "1                           0.500966                     0.502119   \n",
       "2                           0.500694                     0.501022   \n",
       "3                           0.499793                     0.486557   \n",
       "4                           0.500438                     0.480025   \n",
       "\n",
       "   xgb_ylead1_prob_prob_emwpdf_a0.5  xgb_yblead2_prob_prob_emwpdf_a0.5  \\\n",
       "0                          0.501556                           0.500966   \n",
       "1                          0.501275                           0.500966   \n",
       "2                          0.492066                           0.500545   \n",
       "3                          0.483106                           0.498971   \n",
       "4                          0.478286                           0.500758   \n",
       "\n",
       "   xgb_y_prob_prob_emwpdf_a0.95  xgb_ylead1_prob_prob_emwpdf_a0.95  \\\n",
       "0                      0.502119                           0.501556   \n",
       "1                      0.502119                           0.501154   \n",
       "2                      0.500294                           0.485957   \n",
       "3                      0.475221                           0.475800   \n",
       "4                      0.473967                           0.473869   \n",
       "\n",
       "   xgb_yblead2_prob_prob_emwpdf_a0.95  \n",
       "0                            0.500966  \n",
       "1                            0.500966  \n",
       "2                            0.500265  \n",
       "3                            0.497727  \n",
       "4                            0.502199  "
      ]
     },
     "execution_count": 459,
     "metadata": {},
     "output_type": "execute_result"
    }
   ],
   "source": [
    "xgb_train_b_prob_emw.head()"
   ]
  },
  {
   "cell_type": "code",
   "execution_count": 460,
   "metadata": {},
   "outputs": [
    {
     "data": {
      "text/html": [
       "<div>\n",
       "<style scoped>\n",
       "    .dataframe tbody tr th:only-of-type {\n",
       "        vertical-align: middle;\n",
       "    }\n",
       "\n",
       "    .dataframe tbody tr th {\n",
       "        vertical-align: top;\n",
       "    }\n",
       "\n",
       "    .dataframe thead th {\n",
       "        text-align: right;\n",
       "    }\n",
       "</style>\n",
       "<table border=\"1\" class=\"dataframe\">\n",
       "  <thead>\n",
       "    <tr style=\"text-align: right;\">\n",
       "      <th></th>\n",
       "      <th>xgb_y_prob</th>\n",
       "      <th>xgb_ylead1_prob</th>\n",
       "      <th>xgb_yblead2_prob</th>\n",
       "      <th>xgb_y_prob_emwpdf_a0.1</th>\n",
       "      <th>xgb_ylead1_prob_emwpdf_a0.1</th>\n",
       "      <th>xgb_yblead2_prob_emwpdf_a0.1</th>\n",
       "      <th>xgb_y_prob_emwpdf_a0.5</th>\n",
       "      <th>xgb_ylead1_prob_emwpdf_a0.5</th>\n",
       "      <th>xgb_yblead2_prob_emwpdf_a0.5</th>\n",
       "      <th>xgb_y_prob_emwpdf_a0.95</th>\n",
       "      <th>xgb_ylead1_prob_emwpdf_a0.95</th>\n",
       "      <th>xgb_yblead2_prob_emwpdf_a0.95</th>\n",
       "    </tr>\n",
       "  </thead>\n",
       "  <tbody>\n",
       "    <tr>\n",
       "      <td>0</td>\n",
       "      <td>-0.008477</td>\n",
       "      <td>-0.006223</td>\n",
       "      <td>-0.003866</td>\n",
       "      <td>-0.008477</td>\n",
       "      <td>-0.006223</td>\n",
       "      <td>-0.003866</td>\n",
       "      <td>-0.008477</td>\n",
       "      <td>-0.006223</td>\n",
       "      <td>-0.003866</td>\n",
       "      <td>-0.008477</td>\n",
       "      <td>-0.006223</td>\n",
       "      <td>-0.003866</td>\n",
       "    </tr>\n",
       "    <tr>\n",
       "      <td>1</td>\n",
       "      <td>-0.008477</td>\n",
       "      <td>-0.004536</td>\n",
       "      <td>-0.003866</td>\n",
       "      <td>-0.008477</td>\n",
       "      <td>-0.005335</td>\n",
       "      <td>-0.003866</td>\n",
       "      <td>-0.008477</td>\n",
       "      <td>-0.005099</td>\n",
       "      <td>-0.003866</td>\n",
       "      <td>-0.008477</td>\n",
       "      <td>-0.004617</td>\n",
       "      <td>-0.003866</td>\n",
       "    </tr>\n",
       "    <tr>\n",
       "      <td>2</td>\n",
       "      <td>-0.000793</td>\n",
       "      <td>0.059381</td>\n",
       "      <td>-0.000915</td>\n",
       "      <td>-0.005641</td>\n",
       "      <td>0.018545</td>\n",
       "      <td>-0.002777</td>\n",
       "      <td>-0.004086</td>\n",
       "      <td>0.031747</td>\n",
       "      <td>-0.002179</td>\n",
       "      <td>-0.001176</td>\n",
       "      <td>0.056189</td>\n",
       "      <td>-0.001062</td>\n",
       "    </tr>\n",
       "    <tr>\n",
       "      <td>3</td>\n",
       "      <td>0.104490</td>\n",
       "      <td>0.099018</td>\n",
       "      <td>0.009626</td>\n",
       "      <td>0.026383</td>\n",
       "      <td>0.041945</td>\n",
       "      <td>0.000830</td>\n",
       "      <td>0.053821</td>\n",
       "      <td>0.067625</td>\n",
       "      <td>0.004117</td>\n",
       "      <td>0.099207</td>\n",
       "      <td>0.096877</td>\n",
       "      <td>0.009091</td>\n",
       "    </tr>\n",
       "    <tr>\n",
       "      <td>4</td>\n",
       "      <td>0.104490</td>\n",
       "      <td>0.105028</td>\n",
       "      <td>-0.009736</td>\n",
       "      <td>0.045456</td>\n",
       "      <td>0.057350</td>\n",
       "      <td>-0.001750</td>\n",
       "      <td>0.079973</td>\n",
       "      <td>0.086929</td>\n",
       "      <td>-0.003033</td>\n",
       "      <td>0.104225</td>\n",
       "      <td>0.104620</td>\n",
       "      <td>-0.008795</td>\n",
       "    </tr>\n",
       "  </tbody>\n",
       "</table>\n",
       "</div>"
      ],
      "text/plain": [
       "   xgb_y_prob  xgb_ylead1_prob  xgb_yblead2_prob  xgb_y_prob_emwpdf_a0.1  \\\n",
       "0   -0.008477        -0.006223         -0.003866               -0.008477   \n",
       "1   -0.008477        -0.004536         -0.003866               -0.008477   \n",
       "2   -0.000793         0.059381         -0.000915               -0.005641   \n",
       "3    0.104490         0.099018          0.009626                0.026383   \n",
       "4    0.104490         0.105028         -0.009736                0.045456   \n",
       "\n",
       "   xgb_ylead1_prob_emwpdf_a0.1  xgb_yblead2_prob_emwpdf_a0.1  \\\n",
       "0                    -0.006223                     -0.003866   \n",
       "1                    -0.005335                     -0.003866   \n",
       "2                     0.018545                     -0.002777   \n",
       "3                     0.041945                      0.000830   \n",
       "4                     0.057350                     -0.001750   \n",
       "\n",
       "   xgb_y_prob_emwpdf_a0.5  xgb_ylead1_prob_emwpdf_a0.5  \\\n",
       "0               -0.008477                    -0.006223   \n",
       "1               -0.008477                    -0.005099   \n",
       "2               -0.004086                     0.031747   \n",
       "3                0.053821                     0.067625   \n",
       "4                0.079973                     0.086929   \n",
       "\n",
       "   xgb_yblead2_prob_emwpdf_a0.5  xgb_y_prob_emwpdf_a0.95  \\\n",
       "0                     -0.003866                -0.008477   \n",
       "1                     -0.003866                -0.008477   \n",
       "2                     -0.002179                -0.001176   \n",
       "3                      0.004117                 0.099207   \n",
       "4                     -0.003033                 0.104225   \n",
       "\n",
       "   xgb_ylead1_prob_emwpdf_a0.95  xgb_yblead2_prob_emwpdf_a0.95  \n",
       "0                     -0.006223                      -0.003866  \n",
       "1                     -0.004617                      -0.003866  \n",
       "2                      0.056189                      -0.001062  \n",
       "3                      0.096877                       0.009091  \n",
       "4                      0.104620                      -0.008795  "
      ]
     },
     "execution_count": 460,
     "metadata": {},
     "output_type": "execute_result"
    }
   ],
   "source": [
    "xgb_train_b_emw.head()"
   ]
  },
  {
   "cell_type": "code",
   "execution_count": 461,
   "metadata": {},
   "outputs": [],
   "source": [
    "X_train_sc_df=pd.DataFrame(columns=X_train.columns,data=X_train_sc)\n",
    "X_test_sc_df=pd.DataFrame(columns=X_test.columns,data=X_test_sc)"
   ]
  },
  {
   "cell_type": "code",
   "execution_count": 462,
   "metadata": {},
   "outputs": [
    {
     "data": {
      "text/html": [
       "<div>\n",
       "<style scoped>\n",
       "    .dataframe tbody tr th:only-of-type {\n",
       "        vertical-align: middle;\n",
       "    }\n",
       "\n",
       "    .dataframe tbody tr th {\n",
       "        vertical-align: top;\n",
       "    }\n",
       "\n",
       "    .dataframe thead th {\n",
       "        text-align: right;\n",
       "    }\n",
       "</style>\n",
       "<table border=\"1\" class=\"dataframe\">\n",
       "  <thead>\n",
       "    <tr style=\"text-align: right;\">\n",
       "      <th></th>\n",
       "      <th>x1</th>\n",
       "      <th>x2</th>\n",
       "      <th>x3</th>\n",
       "      <th>x4</th>\n",
       "      <th>x5</th>\n",
       "      <th>x6</th>\n",
       "      <th>x7</th>\n",
       "      <th>x8</th>\n",
       "      <th>x9</th>\n",
       "      <th>x10</th>\n",
       "      <th>...</th>\n",
       "      <th>x60_df2_l3</th>\n",
       "      <th>x61_df2_l3</th>\n",
       "      <th>xminute</th>\n",
       "      <th>xhour</th>\n",
       "      <th>xday</th>\n",
       "      <th>xmonth</th>\n",
       "      <th>xtimedif</th>\n",
       "      <th>xskip</th>\n",
       "      <th>xskipid</th>\n",
       "      <th>xsinceskip</th>\n",
       "    </tr>\n",
       "  </thead>\n",
       "  <tbody>\n",
       "    <tr>\n",
       "      <td>0</td>\n",
       "      <td>0.449511</td>\n",
       "      <td>-0.958492</td>\n",
       "      <td>-0.806094</td>\n",
       "      <td>0.241215</td>\n",
       "      <td>-0.184303</td>\n",
       "      <td>-0.544205</td>\n",
       "      <td>-0.100582</td>\n",
       "      <td>-0.83792</td>\n",
       "      <td>-0.368877</td>\n",
       "      <td>-0.324346</td>\n",
       "      <td>...</td>\n",
       "      <td>0.000002</td>\n",
       "      <td>0.0</td>\n",
       "      <td>-1.680658</td>\n",
       "      <td>-1.615914</td>\n",
       "      <td>-1.659404</td>\n",
       "      <td>0.0</td>\n",
       "      <td>-0.028983</td>\n",
       "      <td>-0.077161</td>\n",
       "      <td>-1.774221</td>\n",
       "      <td>-1.187332</td>\n",
       "    </tr>\n",
       "    <tr>\n",
       "      <td>1</td>\n",
       "      <td>0.594406</td>\n",
       "      <td>-0.947138</td>\n",
       "      <td>-0.792889</td>\n",
       "      <td>0.261642</td>\n",
       "      <td>-0.199306</td>\n",
       "      <td>-0.492327</td>\n",
       "      <td>-0.100582</td>\n",
       "      <td>-0.83792</td>\n",
       "      <td>-0.368877</td>\n",
       "      <td>-0.324346</td>\n",
       "      <td>...</td>\n",
       "      <td>0.000002</td>\n",
       "      <td>0.0</td>\n",
       "      <td>-1.564927</td>\n",
       "      <td>-1.615914</td>\n",
       "      <td>-1.659404</td>\n",
       "      <td>0.0</td>\n",
       "      <td>-0.028983</td>\n",
       "      <td>-0.077161</td>\n",
       "      <td>-1.774221</td>\n",
       "      <td>-1.181664</td>\n",
       "    </tr>\n",
       "    <tr>\n",
       "      <td>2</td>\n",
       "      <td>0.430762</td>\n",
       "      <td>-0.976377</td>\n",
       "      <td>-0.850007</td>\n",
       "      <td>0.245926</td>\n",
       "      <td>-0.214308</td>\n",
       "      <td>-0.467323</td>\n",
       "      <td>-0.004758</td>\n",
       "      <td>-0.83792</td>\n",
       "      <td>-0.169231</td>\n",
       "      <td>-0.139113</td>\n",
       "      <td>...</td>\n",
       "      <td>0.000002</td>\n",
       "      <td>0.0</td>\n",
       "      <td>-1.449196</td>\n",
       "      <td>-1.615914</td>\n",
       "      <td>-1.659404</td>\n",
       "      <td>0.0</td>\n",
       "      <td>-0.028983</td>\n",
       "      <td>-0.077161</td>\n",
       "      <td>-1.774221</td>\n",
       "      <td>-1.175996</td>\n",
       "    </tr>\n",
       "    <tr>\n",
       "      <td>3</td>\n",
       "      <td>0.339693</td>\n",
       "      <td>-0.992700</td>\n",
       "      <td>-0.793785</td>\n",
       "      <td>0.238703</td>\n",
       "      <td>-0.228708</td>\n",
       "      <td>-0.485801</td>\n",
       "      <td>-0.087804</td>\n",
       "      <td>-0.83792</td>\n",
       "      <td>-0.102007</td>\n",
       "      <td>-0.045063</td>\n",
       "      <td>...</td>\n",
       "      <td>0.000002</td>\n",
       "      <td>0.0</td>\n",
       "      <td>-1.333465</td>\n",
       "      <td>-1.615914</td>\n",
       "      <td>-1.659404</td>\n",
       "      <td>0.0</td>\n",
       "      <td>-0.028983</td>\n",
       "      <td>-0.077161</td>\n",
       "      <td>-1.774221</td>\n",
       "      <td>-1.170329</td>\n",
       "    </tr>\n",
       "    <tr>\n",
       "      <td>4</td>\n",
       "      <td>0.287016</td>\n",
       "      <td>-0.990804</td>\n",
       "      <td>-0.846595</td>\n",
       "      <td>0.254442</td>\n",
       "      <td>-0.239573</td>\n",
       "      <td>-0.458349</td>\n",
       "      <td>-0.100582</td>\n",
       "      <td>-0.83792</td>\n",
       "      <td>-0.169231</td>\n",
       "      <td>-0.045063</td>\n",
       "      <td>...</td>\n",
       "      <td>0.000002</td>\n",
       "      <td>0.0</td>\n",
       "      <td>-1.217734</td>\n",
       "      <td>-1.615914</td>\n",
       "      <td>-1.659404</td>\n",
       "      <td>0.0</td>\n",
       "      <td>-0.028983</td>\n",
       "      <td>-0.077161</td>\n",
       "      <td>-1.774221</td>\n",
       "      <td>-1.164661</td>\n",
       "    </tr>\n",
       "  </tbody>\n",
       "</table>\n",
       "<p>5 rows × 1765 columns</p>\n",
       "</div>"
      ],
      "text/plain": [
       "         x1        x2        x3        x4        x5        x6        x7  \\\n",
       "0  0.449511 -0.958492 -0.806094  0.241215 -0.184303 -0.544205 -0.100582   \n",
       "1  0.594406 -0.947138 -0.792889  0.261642 -0.199306 -0.492327 -0.100582   \n",
       "2  0.430762 -0.976377 -0.850007  0.245926 -0.214308 -0.467323 -0.004758   \n",
       "3  0.339693 -0.992700 -0.793785  0.238703 -0.228708 -0.485801 -0.087804   \n",
       "4  0.287016 -0.990804 -0.846595  0.254442 -0.239573 -0.458349 -0.100582   \n",
       "\n",
       "        x8        x9       x10  ...  x60_df2_l3  x61_df2_l3   xminute  \\\n",
       "0 -0.83792 -0.368877 -0.324346  ...    0.000002         0.0 -1.680658   \n",
       "1 -0.83792 -0.368877 -0.324346  ...    0.000002         0.0 -1.564927   \n",
       "2 -0.83792 -0.169231 -0.139113  ...    0.000002         0.0 -1.449196   \n",
       "3 -0.83792 -0.102007 -0.045063  ...    0.000002         0.0 -1.333465   \n",
       "4 -0.83792 -0.169231 -0.045063  ...    0.000002         0.0 -1.217734   \n",
       "\n",
       "      xhour      xday  xmonth  xtimedif     xskip   xskipid  xsinceskip  \n",
       "0 -1.615914 -1.659404     0.0 -0.028983 -0.077161 -1.774221   -1.187332  \n",
       "1 -1.615914 -1.659404     0.0 -0.028983 -0.077161 -1.774221   -1.181664  \n",
       "2 -1.615914 -1.659404     0.0 -0.028983 -0.077161 -1.774221   -1.175996  \n",
       "3 -1.615914 -1.659404     0.0 -0.028983 -0.077161 -1.774221   -1.170329  \n",
       "4 -1.615914 -1.659404     0.0 -0.028983 -0.077161 -1.774221   -1.164661  \n",
       "\n",
       "[5 rows x 1765 columns]"
      ]
     },
     "execution_count": 462,
     "metadata": {},
     "output_type": "execute_result"
    }
   ],
   "source": [
    "X_train_sc_df.head()"
   ]
  },
  {
   "cell_type": "code",
   "execution_count": 463,
   "metadata": {},
   "outputs": [
    {
     "data": {
      "text/plain": [
       "(1840, 1765)"
      ]
     },
     "execution_count": 463,
     "metadata": {},
     "output_type": "execute_result"
    }
   ],
   "source": [
    "X_test_sc_df.shape"
   ]
  },
  {
   "cell_type": "code",
   "execution_count": 464,
   "metadata": {},
   "outputs": [
    {
     "data": {
      "text/plain": [
       "(1840, 17)"
      ]
     },
     "execution_count": 464,
     "metadata": {},
     "output_type": "execute_result"
    }
   ],
   "source": [
    "test_b_cluster.shape"
   ]
  },
  {
   "cell_type": "code",
   "execution_count": 465,
   "metadata": {},
   "outputs": [
    {
     "data": {
      "text/plain": [
       "(1840, 12)"
      ]
     },
     "execution_count": 465,
     "metadata": {},
     "output_type": "execute_result"
    }
   ],
   "source": [
    "xgb_test_b_emw.shape"
   ]
  },
  {
   "cell_type": "code",
   "execution_count": 466,
   "metadata": {},
   "outputs": [
    {
     "data": {
      "text/html": [
       "<div>\n",
       "<style scoped>\n",
       "    .dataframe tbody tr th:only-of-type {\n",
       "        vertical-align: middle;\n",
       "    }\n",
       "\n",
       "    .dataframe tbody tr th {\n",
       "        vertical-align: top;\n",
       "    }\n",
       "\n",
       "    .dataframe thead th {\n",
       "        text-align: right;\n",
       "    }\n",
       "</style>\n",
       "<table border=\"1\" class=\"dataframe\">\n",
       "  <thead>\n",
       "    <tr style=\"text-align: right;\">\n",
       "      <th></th>\n",
       "      <th>x_svdd_0</th>\n",
       "      <th>x_db_0</th>\n",
       "      <th>x_iso_0</th>\n",
       "      <th>x_pca_0</th>\n",
       "      <th>x_pca_1</th>\n",
       "      <th>x_pca_2</th>\n",
       "      <th>x_pca_3</th>\n",
       "      <th>x_pca_4</th>\n",
       "      <th>x_svd_0</th>\n",
       "      <th>x_svd_1</th>\n",
       "      <th>x_svd_2</th>\n",
       "      <th>x_svd_3</th>\n",
       "      <th>x_svd_4</th>\n",
       "      <th>x_lof_0</th>\n",
       "      <th>x_tsne_0</th>\n",
       "      <th>x_tsne_1</th>\n",
       "      <th>x_tsne_2</th>\n",
       "    </tr>\n",
       "  </thead>\n",
       "  <tbody>\n",
       "    <tr>\n",
       "      <td>0</td>\n",
       "      <td>1</td>\n",
       "      <td>-1</td>\n",
       "      <td>1</td>\n",
       "      <td>-0.686867</td>\n",
       "      <td>-0.811409</td>\n",
       "      <td>-0.410102</td>\n",
       "      <td>-0.043960</td>\n",
       "      <td>-0.413310</td>\n",
       "      <td>-0.686866</td>\n",
       "      <td>-0.811395</td>\n",
       "      <td>-0.410091</td>\n",
       "      <td>-0.042648</td>\n",
       "      <td>-0.416869</td>\n",
       "      <td>1</td>\n",
       "      <td>-1.496916</td>\n",
       "      <td>1.367181</td>\n",
       "      <td>-23.990810</td>\n",
       "    </tr>\n",
       "    <tr>\n",
       "      <td>1</td>\n",
       "      <td>-1</td>\n",
       "      <td>-1</td>\n",
       "      <td>1</td>\n",
       "      <td>-0.657539</td>\n",
       "      <td>-0.444951</td>\n",
       "      <td>-0.356121</td>\n",
       "      <td>0.119632</td>\n",
       "      <td>-0.467611</td>\n",
       "      <td>-0.657538</td>\n",
       "      <td>-0.444923</td>\n",
       "      <td>-0.355922</td>\n",
       "      <td>0.121178</td>\n",
       "      <td>-0.469383</td>\n",
       "      <td>-1</td>\n",
       "      <td>-4.168827</td>\n",
       "      <td>2.655357</td>\n",
       "      <td>-20.939829</td>\n",
       "    </tr>\n",
       "    <tr>\n",
       "      <td>2</td>\n",
       "      <td>-1</td>\n",
       "      <td>-1</td>\n",
       "      <td>1</td>\n",
       "      <td>-0.636332</td>\n",
       "      <td>-1.276798</td>\n",
       "      <td>-1.010448</td>\n",
       "      <td>-0.285822</td>\n",
       "      <td>-0.599342</td>\n",
       "      <td>-0.636330</td>\n",
       "      <td>-1.276774</td>\n",
       "      <td>-1.010442</td>\n",
       "      <td>-0.284012</td>\n",
       "      <td>-0.604762</td>\n",
       "      <td>1</td>\n",
       "      <td>1.121307</td>\n",
       "      <td>2.831553</td>\n",
       "      <td>-25.396730</td>\n",
       "    </tr>\n",
       "    <tr>\n",
       "      <td>3</td>\n",
       "      <td>-1</td>\n",
       "      <td>-1</td>\n",
       "      <td>1</td>\n",
       "      <td>-0.582869</td>\n",
       "      <td>-2.035815</td>\n",
       "      <td>-0.831341</td>\n",
       "      <td>0.170509</td>\n",
       "      <td>0.953705</td>\n",
       "      <td>-0.582867</td>\n",
       "      <td>-2.035824</td>\n",
       "      <td>-0.831735</td>\n",
       "      <td>0.171392</td>\n",
       "      <td>0.948596</td>\n",
       "      <td>-1</td>\n",
       "      <td>-6.228264</td>\n",
       "      <td>-3.039969</td>\n",
       "      <td>-34.166313</td>\n",
       "    </tr>\n",
       "    <tr>\n",
       "      <td>4</td>\n",
       "      <td>-1</td>\n",
       "      <td>-1</td>\n",
       "      <td>1</td>\n",
       "      <td>-0.850604</td>\n",
       "      <td>-1.820071</td>\n",
       "      <td>-0.320338</td>\n",
       "      <td>0.000410</td>\n",
       "      <td>0.015128</td>\n",
       "      <td>-0.850603</td>\n",
       "      <td>-1.820051</td>\n",
       "      <td>-0.320337</td>\n",
       "      <td>0.002198</td>\n",
       "      <td>0.012070</td>\n",
       "      <td>-1</td>\n",
       "      <td>-6.227168</td>\n",
       "      <td>-3.038906</td>\n",
       "      <td>-34.164886</td>\n",
       "    </tr>\n",
       "  </tbody>\n",
       "</table>\n",
       "</div>"
      ],
      "text/plain": [
       "   x_svdd_0  x_db_0  x_iso_0   x_pca_0   x_pca_1   x_pca_2   x_pca_3  \\\n",
       "0         1      -1        1 -0.686867 -0.811409 -0.410102 -0.043960   \n",
       "1        -1      -1        1 -0.657539 -0.444951 -0.356121  0.119632   \n",
       "2        -1      -1        1 -0.636332 -1.276798 -1.010448 -0.285822   \n",
       "3        -1      -1        1 -0.582869 -2.035815 -0.831341  0.170509   \n",
       "4        -1      -1        1 -0.850604 -1.820071 -0.320338  0.000410   \n",
       "\n",
       "    x_pca_4   x_svd_0   x_svd_1   x_svd_2   x_svd_3   x_svd_4  x_lof_0  \\\n",
       "0 -0.413310 -0.686866 -0.811395 -0.410091 -0.042648 -0.416869        1   \n",
       "1 -0.467611 -0.657538 -0.444923 -0.355922  0.121178 -0.469383       -1   \n",
       "2 -0.599342 -0.636330 -1.276774 -1.010442 -0.284012 -0.604762        1   \n",
       "3  0.953705 -0.582867 -2.035824 -0.831735  0.171392  0.948596       -1   \n",
       "4  0.015128 -0.850603 -1.820051 -0.320337  0.002198  0.012070       -1   \n",
       "\n",
       "   x_tsne_0  x_tsne_1   x_tsne_2  \n",
       "0 -1.496916  1.367181 -23.990810  \n",
       "1 -4.168827  2.655357 -20.939829  \n",
       "2  1.121307  2.831553 -25.396730  \n",
       "3 -6.228264 -3.039969 -34.166313  \n",
       "4 -6.227168 -3.038906 -34.164886  "
      ]
     },
     "execution_count": 466,
     "metadata": {},
     "output_type": "execute_result"
    }
   ],
   "source": [
    "train_b_cluster.head()"
   ]
  },
  {
   "cell_type": "code",
   "execution_count": 480,
   "metadata": {},
   "outputs": [],
   "source": [
    "final_b_train=pd.concat([X_train_sc_df,train_b_cluster,xgb_train_b_emw,xgb_train_b_prob_emw],axis=1)\n",
    "final_b_test=pd.concat([X_test_sc_df,test_b_cluster,xgb_test_b_emw,xgb_test_b_prob_emw],axis=1,ignore_index=True)"
   ]
  },
  {
   "cell_type": "code",
   "execution_count": 481,
   "metadata": {},
   "outputs": [
    {
     "data": {
      "text/html": [
       "<div>\n",
       "<style scoped>\n",
       "    .dataframe tbody tr th:only-of-type {\n",
       "        vertical-align: middle;\n",
       "    }\n",
       "\n",
       "    .dataframe tbody tr th {\n",
       "        vertical-align: top;\n",
       "    }\n",
       "\n",
       "    .dataframe thead th {\n",
       "        text-align: right;\n",
       "    }\n",
       "</style>\n",
       "<table border=\"1\" class=\"dataframe\">\n",
       "  <thead>\n",
       "    <tr style=\"text-align: right;\">\n",
       "      <th></th>\n",
       "      <th>x1</th>\n",
       "      <th>x2</th>\n",
       "      <th>x3</th>\n",
       "      <th>x4</th>\n",
       "      <th>x5</th>\n",
       "      <th>x6</th>\n",
       "      <th>x7</th>\n",
       "      <th>x8</th>\n",
       "      <th>x9</th>\n",
       "      <th>x10</th>\n",
       "      <th>...</th>\n",
       "      <th>xgb_yblead2_prob_prob</th>\n",
       "      <th>xgb_y_prob_prob_emwpdf_a0.1</th>\n",
       "      <th>xgb_ylead1_prob_prob_emwpdf_a0.1</th>\n",
       "      <th>xgb_yblead2_prob_prob_emwpdf_a0.1</th>\n",
       "      <th>xgb_y_prob_prob_emwpdf_a0.5</th>\n",
       "      <th>xgb_ylead1_prob_prob_emwpdf_a0.5</th>\n",
       "      <th>xgb_yblead2_prob_prob_emwpdf_a0.5</th>\n",
       "      <th>xgb_y_prob_prob_emwpdf_a0.95</th>\n",
       "      <th>xgb_ylead1_prob_prob_emwpdf_a0.95</th>\n",
       "      <th>xgb_yblead2_prob_prob_emwpdf_a0.95</th>\n",
       "    </tr>\n",
       "  </thead>\n",
       "  <tbody>\n",
       "    <tr>\n",
       "      <td>16553</td>\n",
       "      <td>-0.059516</td>\n",
       "      <td>0.079529</td>\n",
       "      <td>-0.116580</td>\n",
       "      <td>0.361886</td>\n",
       "      <td>0.119158</td>\n",
       "      <td>1.256387</td>\n",
       "      <td>-1.717993</td>\n",
       "      <td>0.356684</td>\n",
       "      <td>-0.368877</td>\n",
       "      <td>0.048978</td>\n",
       "      <td>...</td>\n",
       "      <td>0.499647</td>\n",
       "      <td>0.501686</td>\n",
       "      <td>0.503335</td>\n",
       "      <td>0.498811</td>\n",
       "      <td>0.503008</td>\n",
       "      <td>0.505626</td>\n",
       "      <td>0.499575</td>\n",
       "      <td>0.503490</td>\n",
       "      <td>0.508036</td>\n",
       "      <td>0.499647</td>\n",
       "    </tr>\n",
       "    <tr>\n",
       "      <td>16554</td>\n",
       "      <td>-0.156089</td>\n",
       "      <td>0.128671</td>\n",
       "      <td>-0.121695</td>\n",
       "      <td>0.366648</td>\n",
       "      <td>0.141211</td>\n",
       "      <td>1.248525</td>\n",
       "      <td>-1.717993</td>\n",
       "      <td>0.486298</td>\n",
       "      <td>-0.368877</td>\n",
       "      <td>0.042908</td>\n",
       "      <td>...</td>\n",
       "      <td>0.499647</td>\n",
       "      <td>0.501539</td>\n",
       "      <td>0.503529</td>\n",
       "      <td>0.498895</td>\n",
       "      <td>0.501612</td>\n",
       "      <td>0.505447</td>\n",
       "      <td>0.499611</td>\n",
       "      <td>0.500379</td>\n",
       "      <td>0.505406</td>\n",
       "      <td>0.499647</td>\n",
       "    </tr>\n",
       "    <tr>\n",
       "      <td>16555</td>\n",
       "      <td>-0.083366</td>\n",
       "      <td>0.096420</td>\n",
       "      <td>-0.125600</td>\n",
       "      <td>0.371411</td>\n",
       "      <td>0.163241</td>\n",
       "      <td>1.284853</td>\n",
       "      <td>-1.717993</td>\n",
       "      <td>0.486298</td>\n",
       "      <td>-0.368877</td>\n",
       "      <td>-0.045063</td>\n",
       "      <td>...</td>\n",
       "      <td>0.499647</td>\n",
       "      <td>0.500088</td>\n",
       "      <td>0.503710</td>\n",
       "      <td>0.498970</td>\n",
       "      <td>0.494322</td>\n",
       "      <td>0.505395</td>\n",
       "      <td>0.499629</td>\n",
       "      <td>0.487699</td>\n",
       "      <td>0.505346</td>\n",
       "      <td>0.499647</td>\n",
       "    </tr>\n",
       "    <tr>\n",
       "      <td>16556</td>\n",
       "      <td>-0.208939</td>\n",
       "      <td>0.096209</td>\n",
       "      <td>-0.104038</td>\n",
       "      <td>0.361599</td>\n",
       "      <td>0.185293</td>\n",
       "      <td>1.233937</td>\n",
       "      <td>-1.622169</td>\n",
       "      <td>0.486298</td>\n",
       "      <td>-0.368877</td>\n",
       "      <td>-0.045063</td>\n",
       "      <td>...</td>\n",
       "      <td>0.499647</td>\n",
       "      <td>0.498951</td>\n",
       "      <td>0.503738</td>\n",
       "      <td>0.499038</td>\n",
       "      <td>0.491519</td>\n",
       "      <td>0.504693</td>\n",
       "      <td>0.499638</td>\n",
       "      <td>0.488665</td>\n",
       "      <td>0.504058</td>\n",
       "      <td>0.499647</td>\n",
       "    </tr>\n",
       "    <tr>\n",
       "      <td>16557</td>\n",
       "      <td>-0.175635</td>\n",
       "      <td>0.129827</td>\n",
       "      <td>-0.125600</td>\n",
       "      <td>0.391109</td>\n",
       "      <td>0.207322</td>\n",
       "      <td>1.246716</td>\n",
       "      <td>-1.622169</td>\n",
       "      <td>0.486298</td>\n",
       "      <td>-0.368877</td>\n",
       "      <td>-0.045063</td>\n",
       "      <td>...</td>\n",
       "      <td>0.499647</td>\n",
       "      <td>0.497894</td>\n",
       "      <td>0.503492</td>\n",
       "      <td>0.499099</td>\n",
       "      <td>0.489953</td>\n",
       "      <td>0.502983</td>\n",
       "      <td>0.499642</td>\n",
       "      <td>0.488401</td>\n",
       "      <td>0.501412</td>\n",
       "      <td>0.499647</td>\n",
       "    </tr>\n",
       "  </tbody>\n",
       "</table>\n",
       "<p>5 rows × 1806 columns</p>\n",
       "</div>"
      ],
      "text/plain": [
       "             x1        x2        x3        x4        x5        x6        x7  \\\n",
       "16553 -0.059516  0.079529 -0.116580  0.361886  0.119158  1.256387 -1.717993   \n",
       "16554 -0.156089  0.128671 -0.121695  0.366648  0.141211  1.248525 -1.717993   \n",
       "16555 -0.083366  0.096420 -0.125600  0.371411  0.163241  1.284853 -1.717993   \n",
       "16556 -0.208939  0.096209 -0.104038  0.361599  0.185293  1.233937 -1.622169   \n",
       "16557 -0.175635  0.129827 -0.125600  0.391109  0.207322  1.246716 -1.622169   \n",
       "\n",
       "             x8        x9       x10  ...  xgb_yblead2_prob_prob  \\\n",
       "16553  0.356684 -0.368877  0.048978  ...               0.499647   \n",
       "16554  0.486298 -0.368877  0.042908  ...               0.499647   \n",
       "16555  0.486298 -0.368877 -0.045063  ...               0.499647   \n",
       "16556  0.486298 -0.368877 -0.045063  ...               0.499647   \n",
       "16557  0.486298 -0.368877 -0.045063  ...               0.499647   \n",
       "\n",
       "       xgb_y_prob_prob_emwpdf_a0.1  xgb_ylead1_prob_prob_emwpdf_a0.1  \\\n",
       "16553                     0.501686                          0.503335   \n",
       "16554                     0.501539                          0.503529   \n",
       "16555                     0.500088                          0.503710   \n",
       "16556                     0.498951                          0.503738   \n",
       "16557                     0.497894                          0.503492   \n",
       "\n",
       "       xgb_yblead2_prob_prob_emwpdf_a0.1  xgb_y_prob_prob_emwpdf_a0.5  \\\n",
       "16553                           0.498811                     0.503008   \n",
       "16554                           0.498895                     0.501612   \n",
       "16555                           0.498970                     0.494322   \n",
       "16556                           0.499038                     0.491519   \n",
       "16557                           0.499099                     0.489953   \n",
       "\n",
       "       xgb_ylead1_prob_prob_emwpdf_a0.5  xgb_yblead2_prob_prob_emwpdf_a0.5  \\\n",
       "16553                          0.505626                           0.499575   \n",
       "16554                          0.505447                           0.499611   \n",
       "16555                          0.505395                           0.499629   \n",
       "16556                          0.504693                           0.499638   \n",
       "16557                          0.502983                           0.499642   \n",
       "\n",
       "       xgb_y_prob_prob_emwpdf_a0.95  xgb_ylead1_prob_prob_emwpdf_a0.95  \\\n",
       "16553                      0.503490                           0.508036   \n",
       "16554                      0.500379                           0.505406   \n",
       "16555                      0.487699                           0.505346   \n",
       "16556                      0.488665                           0.504058   \n",
       "16557                      0.488401                           0.501412   \n",
       "\n",
       "       xgb_yblead2_prob_prob_emwpdf_a0.95  \n",
       "16553                            0.499647  \n",
       "16554                            0.499647  \n",
       "16555                            0.499647  \n",
       "16556                            0.499647  \n",
       "16557                            0.499647  \n",
       "\n",
       "[5 rows x 1806 columns]"
      ]
     },
     "execution_count": 481,
     "metadata": {},
     "output_type": "execute_result"
    }
   ],
   "source": [
    "final_b_train.tail()"
   ]
  },
  {
   "cell_type": "code",
   "execution_count": 468,
   "metadata": {},
   "outputs": [
    {
     "data": {
      "text/plain": [
       "(1840, 1806)"
      ]
     },
     "execution_count": 468,
     "metadata": {},
     "output_type": "execute_result"
    }
   ],
   "source": [
    "final_b_test.shape"
   ]
  },
  {
   "cell_type": "code",
   "execution_count": 483,
   "metadata": {},
   "outputs": [],
   "source": [
    "def cust_dummies(df,varlist=[\"xmonth\",\"xhour\",\n",
    "                             \"xminute\",\"x28\",\"x61\",\n",
    "                             \"x_svdd_0\",\"x_db_0\",\n",
    "                             \"x_iso_0\",\"x_lof_0\",\"xskip\"]):\n",
    "    dfout=df.copy()\n",
    "    for var in varlist:\n",
    "        dfout=pd.concat([dfout,pd.get_dummies(dfout[var],prefix=var)],axis=1)\n",
    "    return(dfout)"
   ]
  },
  {
   "cell_type": "code",
   "execution_count": 443,
   "metadata": {},
   "outputs": [
    {
     "data": {
      "text/plain": [
       "LogisticRegression(C=0.01, class_weight='balanced', dual=False,\n",
       "                   fit_intercept=True, intercept_scaling=1, l1_ratio=None,\n",
       "                   max_iter=10000, multi_class='warn', n_jobs=4, penalty='l1',\n",
       "                   random_state=42, solver='saga', tol=0.0001, verbose=0,\n",
       "                   warm_start=False)"
      ]
     },
     "execution_count": 443,
     "metadata": {},
     "output_type": "execute_result"
    }
   ],
   "source": [
    "LR13=LogisticRegression(class_weight =\"balanced\", \n",
    "                       max_iter = 10000, \n",
    "                       penalty = \"l1\", \n",
    "                       solver = \"saga\",\n",
    "                       n_jobs=4,\n",
    "                       random_state=42, \n",
    "                       C = 0.01)\n",
    "\n",
    "LR13.fit(final_b_train,y_train)"
   ]
  },
  {
   "cell_type": "code",
   "execution_count": 469,
   "metadata": {},
   "outputs": [],
   "source": [
    "y_pred_final=LR13.predict(final_b_test)"
   ]
  },
  {
   "cell_type": "code",
   "execution_count": 470,
   "metadata": {
    "scrolled": true
   },
   "outputs": [
    {
     "data": {
      "text/plain": [
       "(0, 1)"
      ]
     },
     "execution_count": 470,
     "metadata": {},
     "output_type": "execute_result"
    }
   ],
   "source": [
    "min(y_pred_final), max(y_pred_final)"
   ]
  },
  {
   "cell_type": "code",
   "execution_count": 471,
   "metadata": {},
   "outputs": [
    {
     "data": {
      "text/plain": [
       "0.024242424242424246"
      ]
     },
     "execution_count": 471,
     "metadata": {},
     "output_type": "execute_result"
    }
   ],
   "source": [
    "skmetric.f1_score(y_test,y_pred_final)"
   ]
  },
  {
   "cell_type": "code",
   "execution_count": 472,
   "metadata": {},
   "outputs": [
    {
     "data": {
      "text/plain": [
       "154"
      ]
     },
     "execution_count": 472,
     "metadata": {},
     "output_type": "execute_result"
    }
   ],
   "source": [
    "sum(y_pred_final)"
   ]
  },
  {
   "cell_type": "code",
   "execution_count": 473,
   "metadata": {},
   "outputs": [
    {
     "data": {
      "text/plain": [
       "161"
      ]
     },
     "execution_count": 473,
     "metadata": {},
     "output_type": "execute_result"
    }
   ],
   "source": [
    "sum(abs(y_pred_final-y_test))"
   ]
  },
  {
   "cell_type": "code",
   "execution_count": 474,
   "metadata": {},
   "outputs": [],
   "source": [
    "pickle.dump(LR13, open(models_b_dir+\"LR13.pickle.dat\", \"wb\"))"
   ]
  },
  {
   "cell_type": "code",
   "execution_count": 485,
   "metadata": {},
   "outputs": [
    {
     "data": {
      "text/plain": [
       "0.012987012987012988"
      ]
     },
     "execution_count": 485,
     "metadata": {},
     "output_type": "execute_result"
    }
   ],
   "source": [
    "skmetric.precision_score(y_test,y_pred_final)"
   ]
  },
  {
   "cell_type": "code",
   "execution_count": 486,
   "metadata": {},
   "outputs": [
    {
     "data": {
      "text/plain": [
       "0.18181818181818182"
      ]
     },
     "execution_count": 486,
     "metadata": {},
     "output_type": "execute_result"
    }
   ],
   "source": [
    "skmetric.recall_score(y_test,y_pred_final)"
   ]
  },
  {
   "cell_type": "code",
   "execution_count": 488,
   "metadata": {},
   "outputs": [],
   "source": [
    "y_prob_final=LR13.predict_proba(final_b_test)"
   ]
  },
  {
   "cell_type": "code",
   "execution_count": 489,
   "metadata": {},
   "outputs": [],
   "source": [
    "precision, recall, _=skmetric.precision_recall_curve(y_true=y_test,probas_pred=y_prob_final[:,1],pos_label=1)"
   ]
  },
  {
   "cell_type": "code",
   "execution_count": 490,
   "metadata": {
    "scrolled": true
   },
   "outputs": [
    {
     "data": {
      "text/plain": [
       "(0.0, 1.0)"
      ]
     },
     "execution_count": 490,
     "metadata": {},
     "output_type": "execute_result"
    },
    {
     "data": {
      "image/png": "[encoded data removed]",
      "text/plain": [
       "<Figure size 432x288 with 1 Axes>"
      ]
     },
     "metadata": {},
     "output_type": "display_data"
    }
   ],
   "source": [
    "step_kwargs = ({'step': 'post'}\n",
    "               if 'step' in signature(plt.fill_between).parameters\n",
    "               else {})\n",
    "plt.step(recall, precision, color='b', alpha=0.2,\n",
    "         where='post')\n",
    "plt.fill_between(recall, precision, alpha=0.2, color='b', **step_kwargs)\n",
    "\n",
    "plt.xlabel('Recall')\n",
    "plt.ylabel('Precision')\n",
    "plt.ylim([0.0, 1.05])\n",
    "plt.xlim([0.0, 1.0])"
   ]
  },
  {
   "cell_type": "code",
   "execution_count": 491,
   "metadata": {},
   "outputs": [],
   "source": [
    "feature_importance = abs(LR13.coef_[0])\n",
    "feature_importance = 100.0 * (feature_importance / feature_importance.max())\n",
    "sorted_idx = np.argsort(feature_importance)[len(feature_importance)-20:len(feature_importance)]\n",
    "pos = np.arange(sorted_idx.shape[0]) + .5"
   ]
  },
  {
   "cell_type": "code",
   "execution_count": 493,
   "metadata": {},
   "outputs": [
    {
     "data": {
      "image/png": "[encoded data removed]",
      "text/plain": [
       "<Figure size 432x288 with 1 Axes>"
      ]
     },
     "metadata": {},
     "output_type": "display_data"
    }
   ],
   "source": [
    "featfig = plt.figure()\n",
    "featax = featfig.add_subplot(1, 1, 1)\n",
    "featax.barh(pos, feature_importance[sorted_idx], align='center')\n",
    "featax.set_yticks(pos)\n",
    "featax.set_yticklabels(np.array(final_b_train.columns)[sorted_idx], fontsize=8)\n",
    "featax.set_xlabel('Relative Feature Importance')\n",
    "plt.tight_layout()   \n",
    "plt.show()"
   ]
  }
 ],
 "metadata": {
  "kernelspec": {
   "display_name": "Python 3",
   "language": "python",
   "name": "python3"
  },
  "language_info": {
   "codemirror_mode": {
    "name": "ipython",
    "version": 3
   },
   "file_extension": ".py",
   "mimetype": "text/x-python",
   "name": "python",
   "nbconvert_exporter": "python",
   "pygments_lexer": "ipython3",
   "version": "3.6.5"
  },
  "toc": {
   "nav_menu": {},
   "number_sections": true,
   "sideBar": true,
   "skip_h1_title": false,
   "title_cell": "Table of Contents",
   "title_sidebar": "Contents",
   "toc_cell": false,
   "toc_position": {},
   "toc_section_display": true,
   "toc_window_display": false
  }
 },
 "nbformat": 4,
 "nbformat_minor": 2
}
