{
 "cells": [
  {
   "cell_type": "markdown",
   "metadata": {},
   "source": [
    "# Augmented variables from set A"
   ]
  },
  {
   "cell_type": "markdown",
   "metadata": {},
   "source": [
    "Imports"
   ]
  },
  {
   "cell_type": "code",
   "execution_count": 42,
   "metadata": {},
   "outputs": [],
   "source": [
    "import os\n",
    "import pandas as pd\n",
    "import xgboost as xgb\n",
    "from bayes_opt import BayesianOptimization\n",
    "import sklearn.metrics as skmetric\n",
    "from sklearn.preprocessing import StandardScaler\n",
    "import numpy as np\n",
    "import pickle"
   ]
  },
  {
   "cell_type": "markdown",
   "metadata": {},
   "source": [
    "Get parent directoy:"
   ]
  },
  {
   "cell_type": "code",
   "execution_count": 79,
   "metadata": {},
   "outputs": [],
   "source": [
    "def get_parent_dir(directory):\n",
    "    import os\n",
    "    return os.path.dirname(directory)\n",
    "\n",
    "current_dirs_parent = get_parent_dir(os.getcwd())\n",
    "dataraw_dir=current_dirs_parent+\"/01.Data/Raw/\"\n",
    "preproc_dir=current_dirs_parent+\"/01.Data/Preprocessing/\"\n",
    "models_a_dir=current_dirs_parent+\"/03.Models/Set A/\"\n",
    "models_b_dir=current_dirs_parent+\"/03.Models/Set B/\""
   ]
  },
  {
   "cell_type": "markdown",
   "metadata": {},
   "source": [
    "Load data"
   ]
  },
  {
   "cell_type": "code",
   "execution_count": 3,
   "metadata": {},
   "outputs": [],
   "source": [
    "train_a=pd.read_csv(preproc_dir+\"train_a_preproc1.csv\")\n",
    "test_a=pd.read_csv(preproc_dir+\"test_a_preproc1.csv\")"
   ]
  },
  {
   "cell_type": "code",
   "execution_count": 4,
   "metadata": {},
   "outputs": [
    {
     "data": {
      "text/plain": [
       "(17582, 1767)"
      ]
     },
     "execution_count": 4,
     "metadata": {},
     "output_type": "execute_result"
    }
   ],
   "source": [
    "train_a.shape"
   ]
  },
  {
   "cell_type": "code",
   "execution_count": 5,
   "metadata": {},
   "outputs": [
    {
     "data": {
      "text/plain": [
       "(1879, 1767)"
      ]
     },
     "execution_count": 5,
     "metadata": {},
     "output_type": "execute_result"
    }
   ],
   "source": [
    "test_a.shape"
   ]
  },
  {
   "cell_type": "markdown",
   "metadata": {},
   "source": [
    "Mean on failed states"
   ]
  },
  {
   "cell_type": "code",
   "execution_count": 6,
   "metadata": {},
   "outputs": [],
   "source": [
    "train_a_failed=train_a.loc[train_a[\"y\"]==1]"
   ]
  },
  {
   "cell_type": "code",
   "execution_count": 7,
   "metadata": {},
   "outputs": [
    {
     "data": {
      "text/html": [
       "<div>\n",
       "<style scoped>\n",
       "    .dataframe tbody tr th:only-of-type {\n",
       "        vertical-align: middle;\n",
       "    }\n",
       "\n",
       "    .dataframe tbody tr th {\n",
       "        vertical-align: top;\n",
       "    }\n",
       "\n",
       "    .dataframe thead th {\n",
       "        text-align: right;\n",
       "    }\n",
       "</style>\n",
       "<table border=\"1\" class=\"dataframe\">\n",
       "  <thead>\n",
       "    <tr style=\"text-align: right;\">\n",
       "      <th></th>\n",
       "      <th>time</th>\n",
       "      <th>y</th>\n",
       "      <th>x1</th>\n",
       "      <th>x2</th>\n",
       "      <th>x3</th>\n",
       "      <th>x4</th>\n",
       "      <th>x5</th>\n",
       "      <th>x6</th>\n",
       "      <th>x7</th>\n",
       "      <th>x8</th>\n",
       "      <th>...</th>\n",
       "      <th>x60_df2_l3</th>\n",
       "      <th>x61_df2_l3</th>\n",
       "      <th>xminute</th>\n",
       "      <th>xhour</th>\n",
       "      <th>xday</th>\n",
       "      <th>xmonth</th>\n",
       "      <th>xtimedif</th>\n",
       "      <th>xskip</th>\n",
       "      <th>xskipid</th>\n",
       "      <th>xsinceskip</th>\n",
       "    </tr>\n",
       "  </thead>\n",
       "  <tbody>\n",
       "    <tr>\n",
       "      <td>259</td>\n",
       "      <td>1999-05-01 08:38:00</td>\n",
       "      <td>1</td>\n",
       "      <td>0.875829</td>\n",
       "      <td>0.180124</td>\n",
       "      <td>4.388169</td>\n",
       "      <td>321.833781</td>\n",
       "      <td>124.737513</td>\n",
       "      <td>292.598124</td>\n",
       "      <td>-3.373756</td>\n",
       "      <td>-3.413735</td>\n",
       "      <td>...</td>\n",
       "      <td>0.000001</td>\n",
       "      <td>1.0</td>\n",
       "      <td>38</td>\n",
       "      <td>8</td>\n",
       "      <td>1</td>\n",
       "      <td>5</td>\n",
       "      <td>0.0</td>\n",
       "      <td>0</td>\n",
       "      <td>1</td>\n",
       "      <td>260</td>\n",
       "    </tr>\n",
       "    <tr>\n",
       "      <td>260</td>\n",
       "      <td>1999-05-01 10:32:00</td>\n",
       "      <td>1</td>\n",
       "      <td>0.988543</td>\n",
       "      <td>4.594932</td>\n",
       "      <td>4.576621</td>\n",
       "      <td>-3.803762</td>\n",
       "      <td>125.132639</td>\n",
       "      <td>-1.441717</td>\n",
       "      <td>-3.373756</td>\n",
       "      <td>-3.413735</td>\n",
       "      <td>...</td>\n",
       "      <td>-0.000899</td>\n",
       "      <td>1.0</td>\n",
       "      <td>32</td>\n",
       "      <td>10</td>\n",
       "      <td>1</td>\n",
       "      <td>5</td>\n",
       "      <td>112.0</td>\n",
       "      <td>1</td>\n",
       "      <td>2</td>\n",
       "      <td>1</td>\n",
       "    </tr>\n",
       "    <tr>\n",
       "      <td>261</td>\n",
       "      <td>1999-05-01 10:34:00</td>\n",
       "      <td>1</td>\n",
       "      <td>0.990521</td>\n",
       "      <td>4.616294</td>\n",
       "      <td>4.576621</td>\n",
       "      <td>-3.803762</td>\n",
       "      <td>125.231760</td>\n",
       "      <td>-1.353542</td>\n",
       "      <td>-3.373756</td>\n",
       "      <td>-3.413735</td>\n",
       "      <td>...</td>\n",
       "      <td>-0.000899</td>\n",
       "      <td>1.0</td>\n",
       "      <td>34</td>\n",
       "      <td>10</td>\n",
       "      <td>1</td>\n",
       "      <td>5</td>\n",
       "      <td>0.0</td>\n",
       "      <td>0</td>\n",
       "      <td>2</td>\n",
       "      <td>2</td>\n",
       "    </tr>\n",
       "    <tr>\n",
       "      <td>262</td>\n",
       "      <td>1999-05-01 10:36:00</td>\n",
       "      <td>1</td>\n",
       "      <td>0.992498</td>\n",
       "      <td>4.594932</td>\n",
       "      <td>4.576621</td>\n",
       "      <td>-3.803762</td>\n",
       "      <td>125.330882</td>\n",
       "      <td>-1.265367</td>\n",
       "      <td>-3.373756</td>\n",
       "      <td>-3.413735</td>\n",
       "      <td>...</td>\n",
       "      <td>-0.000899</td>\n",
       "      <td>-1.0</td>\n",
       "      <td>36</td>\n",
       "      <td>10</td>\n",
       "      <td>1</td>\n",
       "      <td>5</td>\n",
       "      <td>0.0</td>\n",
       "      <td>0</td>\n",
       "      <td>2</td>\n",
       "      <td>3</td>\n",
       "    </tr>\n",
       "    <tr>\n",
       "      <td>263</td>\n",
       "      <td>1999-05-01 10:38:00</td>\n",
       "      <td>1</td>\n",
       "      <td>0.994476</td>\n",
       "      <td>4.594932</td>\n",
       "      <td>4.576621</td>\n",
       "      <td>5.958600</td>\n",
       "      <td>125.430018</td>\n",
       "      <td>1.574210</td>\n",
       "      <td>-3.373756</td>\n",
       "      <td>-3.413735</td>\n",
       "      <td>...</td>\n",
       "      <td>0.000899</td>\n",
       "      <td>-2.0</td>\n",
       "      <td>38</td>\n",
       "      <td>10</td>\n",
       "      <td>1</td>\n",
       "      <td>5</td>\n",
       "      <td>0.0</td>\n",
       "      <td>0</td>\n",
       "      <td>2</td>\n",
       "      <td>4</td>\n",
       "    </tr>\n",
       "  </tbody>\n",
       "</table>\n",
       "<p>5 rows × 1767 columns</p>\n",
       "</div>"
      ],
      "text/plain": [
       "                    time  y        x1        x2        x3          x4  \\\n",
       "259  1999-05-01 08:38:00  1  0.875829  0.180124  4.388169  321.833781   \n",
       "260  1999-05-01 10:32:00  1  0.988543  4.594932  4.576621   -3.803762   \n",
       "261  1999-05-01 10:34:00  1  0.990521  4.616294  4.576621   -3.803762   \n",
       "262  1999-05-01 10:36:00  1  0.992498  4.594932  4.576621   -3.803762   \n",
       "263  1999-05-01 10:38:00  1  0.994476  4.594932  4.576621    5.958600   \n",
       "\n",
       "             x5          x6        x7        x8  ...  x60_df2_l3  x61_df2_l3  \\\n",
       "259  124.737513  292.598124 -3.373756 -3.413735  ...    0.000001         1.0   \n",
       "260  125.132639   -1.441717 -3.373756 -3.413735  ...   -0.000899         1.0   \n",
       "261  125.231760   -1.353542 -3.373756 -3.413735  ...   -0.000899         1.0   \n",
       "262  125.330882   -1.265367 -3.373756 -3.413735  ...   -0.000899        -1.0   \n",
       "263  125.430018    1.574210 -3.373756 -3.413735  ...    0.000899        -2.0   \n",
       "\n",
       "     xminute  xhour  xday  xmonth  xtimedif  xskip  xskipid  xsinceskip  \n",
       "259       38      8     1       5       0.0      0        1         260  \n",
       "260       32     10     1       5     112.0      1        2           1  \n",
       "261       34     10     1       5       0.0      0        2           2  \n",
       "262       36     10     1       5       0.0      0        2           3  \n",
       "263       38     10     1       5       0.0      0        2           4  \n",
       "\n",
       "[5 rows x 1767 columns]"
      ]
     },
     "execution_count": 7,
     "metadata": {},
     "output_type": "execute_result"
    }
   ],
   "source": [
    "train_a_failed.head()"
   ]
  },
  {
   "cell_type": "code",
   "execution_count": 8,
   "metadata": {},
   "outputs": [
    {
     "data": {
      "text/html": [
       "<div>\n",
       "<style scoped>\n",
       "    .dataframe tbody tr th:only-of-type {\n",
       "        vertical-align: middle;\n",
       "    }\n",
       "\n",
       "    .dataframe tbody tr th {\n",
       "        vertical-align: top;\n",
       "    }\n",
       "\n",
       "    .dataframe thead th {\n",
       "        text-align: right;\n",
       "    }\n",
       "</style>\n",
       "<table border=\"1\" class=\"dataframe\">\n",
       "  <thead>\n",
       "    <tr style=\"text-align: right;\">\n",
       "      <th></th>\n",
       "      <th>time</th>\n",
       "      <th>y</th>\n",
       "      <th>x1</th>\n",
       "      <th>x2</th>\n",
       "      <th>x3</th>\n",
       "      <th>x4</th>\n",
       "      <th>x5</th>\n",
       "      <th>x6</th>\n",
       "      <th>x7</th>\n",
       "      <th>x8</th>\n",
       "      <th>...</th>\n",
       "      <th>x60_df2_l3</th>\n",
       "      <th>x61_df2_l3</th>\n",
       "      <th>xminute</th>\n",
       "      <th>xhour</th>\n",
       "      <th>xday</th>\n",
       "      <th>xmonth</th>\n",
       "      <th>xtimedif</th>\n",
       "      <th>xskip</th>\n",
       "      <th>xskipid</th>\n",
       "      <th>xsinceskip</th>\n",
       "    </tr>\n",
       "  </thead>\n",
       "  <tbody>\n",
       "    <tr>\n",
       "      <td>16828</td>\n",
       "      <td>1999-05-25 08:22:00</td>\n",
       "      <td>1</td>\n",
       "      <td>0.645837</td>\n",
       "      <td>18.117684</td>\n",
       "      <td>4.506428</td>\n",
       "      <td>224.054881</td>\n",
       "      <td>124.641566</td>\n",
       "      <td>292.793253</td>\n",
       "      <td>-3.433878</td>\n",
       "      <td>-3.323706</td>\n",
       "      <td>...</td>\n",
       "      <td>-1.000000e-06</td>\n",
       "      <td>0.0</td>\n",
       "      <td>22</td>\n",
       "      <td>8</td>\n",
       "      <td>25</td>\n",
       "      <td>5</td>\n",
       "      <td>0.0</td>\n",
       "      <td>0</td>\n",
       "      <td>14</td>\n",
       "      <td>23</td>\n",
       "    </tr>\n",
       "    <tr>\n",
       "      <td>16948</td>\n",
       "      <td>1999-05-25 12:22:00</td>\n",
       "      <td>1</td>\n",
       "      <td>0.307198</td>\n",
       "      <td>14.728827</td>\n",
       "      <td>17.909956</td>\n",
       "      <td>320.794260</td>\n",
       "      <td>125.374857</td>\n",
       "      <td>313.596354</td>\n",
       "      <td>-3.413735</td>\n",
       "      <td>-3.333777</td>\n",
       "      <td>...</td>\n",
       "      <td>-1.000000e-06</td>\n",
       "      <td>0.0</td>\n",
       "      <td>22</td>\n",
       "      <td>12</td>\n",
       "      <td>25</td>\n",
       "      <td>5</td>\n",
       "      <td>0.0</td>\n",
       "      <td>0</td>\n",
       "      <td>14</td>\n",
       "      <td>143</td>\n",
       "    </tr>\n",
       "    <tr>\n",
       "      <td>16949</td>\n",
       "      <td>1999-05-25 12:24:00</td>\n",
       "      <td>1</td>\n",
       "      <td>0.178031</td>\n",
       "      <td>14.797270</td>\n",
       "      <td>18.253865</td>\n",
       "      <td>321.189249</td>\n",
       "      <td>125.354411</td>\n",
       "      <td>319.607005</td>\n",
       "      <td>-3.413735</td>\n",
       "      <td>-3.333777</td>\n",
       "      <td>...</td>\n",
       "      <td>1.000000e-06</td>\n",
       "      <td>0.0</td>\n",
       "      <td>24</td>\n",
       "      <td>12</td>\n",
       "      <td>25</td>\n",
       "      <td>5</td>\n",
       "      <td>0.0</td>\n",
       "      <td>0</td>\n",
       "      <td>14</td>\n",
       "      <td>144</td>\n",
       "    </tr>\n",
       "    <tr>\n",
       "      <td>17282</td>\n",
       "      <td>1999-05-25 23:30:00</td>\n",
       "      <td>1</td>\n",
       "      <td>0.290296</td>\n",
       "      <td>14.485831</td>\n",
       "      <td>17.659005</td>\n",
       "      <td>293.298655</td>\n",
       "      <td>124.926859</td>\n",
       "      <td>289.025584</td>\n",
       "      <td>-3.493694</td>\n",
       "      <td>-3.383827</td>\n",
       "      <td>...</td>\n",
       "      <td>0.000000e+00</td>\n",
       "      <td>0.0</td>\n",
       "      <td>30</td>\n",
       "      <td>23</td>\n",
       "      <td>25</td>\n",
       "      <td>5</td>\n",
       "      <td>0.0</td>\n",
       "      <td>0</td>\n",
       "      <td>14</td>\n",
       "      <td>477</td>\n",
       "    </tr>\n",
       "    <tr>\n",
       "      <td>17283</td>\n",
       "      <td>1999-05-25 23:32:00</td>\n",
       "      <td>1</td>\n",
       "      <td>0.270459</td>\n",
       "      <td>14.450160</td>\n",
       "      <td>17.368878</td>\n",
       "      <td>293.197489</td>\n",
       "      <td>124.912684</td>\n",
       "      <td>291.573283</td>\n",
       "      <td>-3.484971</td>\n",
       "      <td>-3.383827</td>\n",
       "      <td>...</td>\n",
       "      <td>0.000000e+00</td>\n",
       "      <td>0.0</td>\n",
       "      <td>32</td>\n",
       "      <td>23</td>\n",
       "      <td>25</td>\n",
       "      <td>5</td>\n",
       "      <td>0.0</td>\n",
       "      <td>0</td>\n",
       "      <td>14</td>\n",
       "      <td>478</td>\n",
       "    </tr>\n",
       "  </tbody>\n",
       "</table>\n",
       "<p>5 rows × 1767 columns</p>\n",
       "</div>"
      ],
      "text/plain": [
       "                      time  y        x1         x2         x3          x4  \\\n",
       "16828  1999-05-25 08:22:00  1  0.645837  18.117684   4.506428  224.054881   \n",
       "16948  1999-05-25 12:22:00  1  0.307198  14.728827  17.909956  320.794260   \n",
       "16949  1999-05-25 12:24:00  1  0.178031  14.797270  18.253865  321.189249   \n",
       "17282  1999-05-25 23:30:00  1  0.290296  14.485831  17.659005  293.298655   \n",
       "17283  1999-05-25 23:32:00  1  0.270459  14.450160  17.368878  293.197489   \n",
       "\n",
       "               x5          x6        x7        x8  ...    x60_df2_l3  \\\n",
       "16828  124.641566  292.793253 -3.433878 -3.323706  ... -1.000000e-06   \n",
       "16948  125.374857  313.596354 -3.413735 -3.333777  ... -1.000000e-06   \n",
       "16949  125.354411  319.607005 -3.413735 -3.333777  ...  1.000000e-06   \n",
       "17282  124.926859  289.025584 -3.493694 -3.383827  ...  0.000000e+00   \n",
       "17283  124.912684  291.573283 -3.484971 -3.383827  ...  0.000000e+00   \n",
       "\n",
       "       x61_df2_l3  xminute  xhour  xday  xmonth  xtimedif  xskip  xskipid  \\\n",
       "16828         0.0       22      8    25       5       0.0      0       14   \n",
       "16948         0.0       22     12    25       5       0.0      0       14   \n",
       "16949         0.0       24     12    25       5       0.0      0       14   \n",
       "17282         0.0       30     23    25       5       0.0      0       14   \n",
       "17283         0.0       32     23    25       5       0.0      0       14   \n",
       "\n",
       "       xsinceskip  \n",
       "16828          23  \n",
       "16948         143  \n",
       "16949         144  \n",
       "17282         477  \n",
       "17283         478  \n",
       "\n",
       "[5 rows x 1767 columns]"
      ]
     },
     "execution_count": 8,
     "metadata": {},
     "output_type": "execute_result"
    }
   ],
   "source": [
    "train_a_failed.tail()"
   ]
  },
  {
   "cell_type": "code",
   "execution_count": 9,
   "metadata": {},
   "outputs": [],
   "source": [
    "columns=train_a_failed.columns\n",
    "selcols=[col for col in columns if col.startswith(\"x\")]\n",
    "\n",
    "X_failed=train_a_failed[train_a_failed.columns.intersection(selcols)].copy()"
   ]
  },
  {
   "cell_type": "code",
   "execution_count": 10,
   "metadata": {},
   "outputs": [],
   "source": [
    "failed_mean=X_failed.mean()"
   ]
  },
  {
   "cell_type": "code",
   "execution_count": 11,
   "metadata": {},
   "outputs": [
    {
     "data": {
      "text/plain": [
       "x1              0.299776\n",
       "x2              7.068634\n",
       "x3              4.626460\n",
       "x4            277.254285\n",
       "x5            125.394050\n",
       "                 ...    \n",
       "xmonth          5.000000\n",
       "xtimedif        1.220756\n",
       "xskip           0.010554\n",
       "xskipid         6.838171\n",
       "xsinceskip    766.598945\n",
       "Length: 1765, dtype: float64"
      ]
     },
     "execution_count": 11,
     "metadata": {},
     "output_type": "execute_result"
    }
   ],
   "source": [
    "failed_mean"
   ]
  },
  {
   "cell_type": "code",
   "execution_count": 12,
   "metadata": {},
   "outputs": [],
   "source": [
    "failed_min=X_failed.min()"
   ]
  },
  {
   "cell_type": "code",
   "execution_count": 13,
   "metadata": {},
   "outputs": [
    {
     "data": {
      "text/plain": [
       "x1             -3.803762\n",
       "x2             -3.644716\n",
       "x3             -2.814962\n",
       "x4             -3.803762\n",
       "x5            121.104266\n",
       "                 ...    \n",
       "xmonth          5.000000\n",
       "xtimedif        0.000000\n",
       "xskip           0.000000\n",
       "xskipid         1.000000\n",
       "xsinceskip      1.000000\n",
       "Length: 1765, dtype: float64"
      ]
     },
     "execution_count": 13,
     "metadata": {},
     "output_type": "execute_result"
    }
   ],
   "source": [
    "failed_min"
   ]
  },
  {
   "cell_type": "code",
   "execution_count": 14,
   "metadata": {},
   "outputs": [],
   "source": [
    "failed_max=X_failed.max()"
   ]
  },
  {
   "cell_type": "code",
   "execution_count": 15,
   "metadata": {},
   "outputs": [
    {
     "data": {
      "text/plain": [
       "x1               4.886031\n",
       "x2              26.271027\n",
       "x3              30.169444\n",
       "x4             628.387156\n",
       "x5             129.724940\n",
       "                 ...     \n",
       "xmonth           5.000000\n",
       "xtimedif       832.000000\n",
       "xskip            1.000000\n",
       "xskipid         14.000000\n",
       "xsinceskip    3752.000000\n",
       "Length: 1765, dtype: float64"
      ]
     },
     "execution_count": 15,
     "metadata": {},
     "output_type": "execute_result"
    }
   ],
   "source": [
    "failed_max"
   ]
  },
  {
   "cell_type": "markdown",
   "metadata": {},
   "source": [
    "Xgboost trees on failed states"
   ]
  },
  {
   "cell_type": "code",
   "execution_count": 16,
   "metadata": {},
   "outputs": [],
   "source": [
    "X_a_train=train_a[train_a.columns.intersection(selcols)].copy()\n",
    "X_a_test=test_a[test_a.columns.intersection(selcols)].copy()"
   ]
  },
  {
   "cell_type": "code",
   "execution_count": 48,
   "metadata": {},
   "outputs": [],
   "source": [
    "y_train_label=train_a[\"y\"]\n",
    "y_lead1_train_label=train_a[\"y\"].shift(-1,fill_value=0)\n",
    "y_lead2_train_label=train_a[\"y\"].shift(-2,fill_value=0)"
   ]
  },
  {
   "cell_type": "code",
   "execution_count": 20,
   "metadata": {},
   "outputs": [
    {
     "name": "stdout",
     "output_type": "stream",
     "text": [
      "250    0\n",
      "251    0\n",
      "252    0\n",
      "253    0\n",
      "254    0\n",
      "255    0\n",
      "256    0\n",
      "257    0\n",
      "258    0\n",
      "259    1\n",
      "Name: y, dtype: int64 250    0.0\n",
      "251    0.0\n",
      "252    0.0\n",
      "253    0.0\n",
      "254    0.0\n",
      "255    0.0\n",
      "256    0.0\n",
      "257    0.0\n",
      "258    1.0\n",
      "259    1.0\n",
      "Name: y, dtype: float64 250    0.0\n",
      "251    0.0\n",
      "252    0.0\n",
      "253    0.0\n",
      "254    0.0\n",
      "255    0.0\n",
      "256    0.0\n",
      "257    1.0\n",
      "258    1.0\n",
      "259    1.0\n",
      "Name: y, dtype: float64\n"
     ]
    }
   ],
   "source": [
    "init=250\n",
    "step=10\n",
    "print(y_train_label[init:(init+step)],y_lead1_train_label[init:(init+step)],y_lead2_train_label[init:(init+step)])"
   ]
  },
  {
   "cell_type": "code",
   "execution_count": 26,
   "metadata": {},
   "outputs": [],
   "source": [
    "X_a_train.fillna(0, inplace=True) \n",
    "X_a_train.replace(to_replace=np.inf, value=0, inplace=True)\n",
    "\n",
    "X_a_test.fillna(0, inplace=True) \n",
    "X_a_test.replace(to_replace=np.inf, value=0, inplace=True)"
   ]
  },
  {
   "cell_type": "code",
   "execution_count": 27,
   "metadata": {},
   "outputs": [],
   "source": [
    "scaler= StandardScaler().fit(X_a_train)\n",
    "X_train_sc=scaler.transform(X_a_train)\n",
    "X_test_sc=scaler.transform(X_a_test)"
   ]
  },
  {
   "cell_type": "code",
   "execution_count": 36,
   "metadata": {},
   "outputs": [
    {
     "name": "stderr",
     "output_type": "stream",
     "text": [
      "C:\\Users\\jchas\\Anaconda3\\lib\\site-packages\\xgboost\\core.py:587: FutureWarning: Series.base is deprecated and will be removed in a future version\n",
      "  if getattr(data, 'base', None) is not None and \\\n",
      "C:\\Users\\jchas\\Anaconda3\\lib\\site-packages\\xgboost\\core.py:588: FutureWarning: Series.base is deprecated and will be removed in a future version\n",
      "  data.base is not None and isinstance(data, np.ndarray) \\\n"
     ]
    }
   ],
   "source": [
    "dtrain_lead2 = xgb.DMatrix(X_train_sc, label=y_train_label)\n",
    "dtest_lead2 = xgb.DMatrix(X_train_sc)"
   ]
  },
  {
   "cell_type": "code",
   "execution_count": 37,
   "metadata": {},
   "outputs": [
    {
     "name": "stdout",
     "output_type": "stream",
     "text": [
      "|   iter    |  target   |   alpha   | colsam... |    eta    |   gamma   |  lambda1  | max_depth | subsample |\n",
      "-------------------------------------------------------------------------------------------------------------\n",
      "| \u001b[0m 1       \u001b[0m | \u001b[0m 0.9702  \u001b[0m | \u001b[0m 0.7673  \u001b[0m | \u001b[0m 0.4459  \u001b[0m | \u001b[0m 0.8319  \u001b[0m | \u001b[0m 0.3628  \u001b[0m | \u001b[0m 0.6387  \u001b[0m | \u001b[0m 7.086   \u001b[0m | \u001b[0m 0.4268  \u001b[0m |\n",
      "| \u001b[95m 2       \u001b[0m | \u001b[95m 0.9845  \u001b[0m | \u001b[95m 0.8556  \u001b[0m | \u001b[95m 0.6656  \u001b[0m | \u001b[95m 0.7755  \u001b[0m | \u001b[95m 0.8283  \u001b[0m | \u001b[95m 0.6997  \u001b[0m | \u001b[95m 13.17   \u001b[0m | \u001b[95m 0.8516  \u001b[0m |\n",
      "| \u001b[95m 3       \u001b[0m | \u001b[95m 0.9845  \u001b[0m | \u001b[95m 0.5412  \u001b[0m | \u001b[95m 0.8283  \u001b[0m | \u001b[95m 0.302   \u001b[0m | \u001b[95m 0.3641  \u001b[0m | \u001b[95m 0.4121  \u001b[0m | \u001b[95m 5.537   \u001b[0m | \u001b[95m 0.5095  \u001b[0m |\n",
      "| \u001b[95m 4       \u001b[0m | \u001b[95m 0.9848  \u001b[0m | \u001b[95m 0.7971  \u001b[0m | \u001b[95m 0.318   \u001b[0m | \u001b[95m 0.4568  \u001b[0m | \u001b[95m 0.3802  \u001b[0m | \u001b[95m 0.478   \u001b[0m | \u001b[95m 7.829   \u001b[0m | \u001b[95m 0.7011  \u001b[0m |\n",
      "| \u001b[0m 5       \u001b[0m | \u001b[0m 0.9754  \u001b[0m | \u001b[0m 0.8306  \u001b[0m | \u001b[0m 0.3605  \u001b[0m | \u001b[0m 0.717   \u001b[0m | \u001b[0m 0.681   \u001b[0m | \u001b[0m 0.1171  \u001b[0m | \u001b[0m 3.848   \u001b[0m | \u001b[0m 0.5419  \u001b[0m |\n",
      "| \u001b[95m 6       \u001b[0m | \u001b[95m 0.987   \u001b[0m | \u001b[95m 0.7181  \u001b[0m | \u001b[95m 0.6313  \u001b[0m | \u001b[95m 0.3024  \u001b[0m | \u001b[95m 0.875   \u001b[0m | \u001b[95m 0.2961  \u001b[0m | \u001b[95m 12.23   \u001b[0m | \u001b[95m 0.7137  \u001b[0m |\n",
      "| \u001b[0m 7       \u001b[0m | \u001b[0m 0.9865  \u001b[0m | \u001b[0m 0.1823  \u001b[0m | \u001b[0m 0.7424  \u001b[0m | \u001b[0m 0.3302  \u001b[0m | \u001b[0m 0.679   \u001b[0m | \u001b[0m 0.8887  \u001b[0m | \u001b[0m 11.65   \u001b[0m | \u001b[0m 0.7262  \u001b[0m |\n",
      "| \u001b[0m 8       \u001b[0m | \u001b[0m 0.9802  \u001b[0m | \u001b[0m 0.9598  \u001b[0m | \u001b[0m 0.6495  \u001b[0m | \u001b[0m 0.6744  \u001b[0m | \u001b[0m 0.5289  \u001b[0m | \u001b[0m 0.519   \u001b[0m | \u001b[0m 4.469   \u001b[0m | \u001b[0m 0.6167  \u001b[0m |\n",
      "| \u001b[0m 9       \u001b[0m | \u001b[0m 0.9846  \u001b[0m | \u001b[0m 0.8972  \u001b[0m | \u001b[0m 0.9424  \u001b[0m | \u001b[0m 0.3703  \u001b[0m | \u001b[0m 0.534   \u001b[0m | \u001b[0m 0.8359  \u001b[0m | \u001b[0m 5.996   \u001b[0m | \u001b[0m 0.6842  \u001b[0m |\n",
      "| \u001b[0m 10      \u001b[0m | \u001b[0m 0.9776  \u001b[0m | \u001b[0m 0.05227 \u001b[0m | \u001b[0m 0.4141  \u001b[0m | \u001b[0m 0.6729  \u001b[0m | \u001b[0m 0.3171  \u001b[0m | \u001b[0m 0.2859  \u001b[0m | \u001b[0m 13.55   \u001b[0m | \u001b[0m 0.4902  \u001b[0m |\n",
      "| \u001b[95m 11      \u001b[0m | \u001b[95m 0.9874  \u001b[0m | \u001b[95m 0.4986  \u001b[0m | \u001b[95m 1.0     \u001b[0m | \u001b[95m 0.3     \u001b[0m | \u001b[95m 0.3     \u001b[0m | \u001b[95m 0.0     \u001b[0m | \u001b[95m 14.17   \u001b[0m | \u001b[95m 0.9     \u001b[0m |\n",
      "| \u001b[95m 12      \u001b[0m | \u001b[95m 0.9874  \u001b[0m | \u001b[95m 0.4968  \u001b[0m | \u001b[95m 0.3194  \u001b[0m | \u001b[95m 0.3258  \u001b[0m | \u001b[95m 0.4836  \u001b[0m | \u001b[95m 0.8796  \u001b[0m | \u001b[95m 14.99   \u001b[0m | \u001b[95m 0.8779  \u001b[0m |\n",
      "| \u001b[0m 13      \u001b[0m | \u001b[0m 0.9869  \u001b[0m | \u001b[0m 0.0     \u001b[0m | \u001b[0m 0.7686  \u001b[0m | \u001b[0m 0.3     \u001b[0m | \u001b[0m 0.3     \u001b[0m | \u001b[0m 3.414e-0\u001b[0m | \u001b[0m 4.332   \u001b[0m | \u001b[0m 0.9     \u001b[0m |\n",
      "| \u001b[0m 14      \u001b[0m | \u001b[0m 0.9872  \u001b[0m | \u001b[0m 0.9983  \u001b[0m | \u001b[0m 1.0     \u001b[0m | \u001b[0m 0.3     \u001b[0m | \u001b[0m 0.9     \u001b[0m | \u001b[0m 1.0     \u001b[0m | \u001b[0m 9.397   \u001b[0m | \u001b[0m 0.9     \u001b[0m |\n",
      "| \u001b[0m 15      \u001b[0m | \u001b[0m 0.9848  \u001b[0m | \u001b[0m 1.0     \u001b[0m | \u001b[0m 0.8208  \u001b[0m | \u001b[0m 0.3     \u001b[0m | \u001b[0m 0.3     \u001b[0m | \u001b[0m 0.0     \u001b[0m | \u001b[0m 3.0     \u001b[0m | \u001b[0m 0.9     \u001b[0m |\n",
      "| \u001b[0m 16      \u001b[0m | \u001b[0m 0.9872  \u001b[0m | \u001b[0m 0.7358  \u001b[0m | \u001b[0m 0.7293  \u001b[0m | \u001b[0m 0.3023  \u001b[0m | \u001b[0m 0.8592  \u001b[0m | \u001b[0m 0.6501  \u001b[0m | \u001b[0m 14.72   \u001b[0m | \u001b[0m 0.8988  \u001b[0m |\n",
      "| \u001b[0m 17      \u001b[0m | \u001b[0m 0.9851  \u001b[0m | \u001b[0m 0.9273  \u001b[0m | \u001b[0m 0.3226  \u001b[0m | \u001b[0m 0.3213  \u001b[0m | \u001b[0m 0.869   \u001b[0m | \u001b[0m 0.9446  \u001b[0m | \u001b[0m 3.767   \u001b[0m | \u001b[0m 0.8471  \u001b[0m |\n",
      "| \u001b[0m 18      \u001b[0m | \u001b[0m 0.987   \u001b[0m | \u001b[0m 0.2834  \u001b[0m | \u001b[0m 0.9994  \u001b[0m | \u001b[0m 0.3108  \u001b[0m | \u001b[0m 0.7519  \u001b[0m | \u001b[0m 0.08993 \u001b[0m | \u001b[0m 12.29   \u001b[0m | \u001b[0m 0.8985  \u001b[0m |\n",
      "| \u001b[95m 19      \u001b[0m | \u001b[95m 0.9881  \u001b[0m | \u001b[95m 0.6682  \u001b[0m | \u001b[95m 0.7912  \u001b[0m | \u001b[95m 0.3015  \u001b[0m | \u001b[95m 0.805   \u001b[0m | \u001b[95m 0.7869  \u001b[0m | \u001b[95m 11.97   \u001b[0m | \u001b[95m 0.8954  \u001b[0m |\n",
      "| \u001b[0m 20      \u001b[0m | \u001b[0m 0.9876  \u001b[0m | \u001b[0m 0.2718  \u001b[0m | \u001b[0m 0.8573  \u001b[0m | \u001b[0m 0.3019  \u001b[0m | \u001b[0m 0.4494  \u001b[0m | \u001b[0m 0.9287  \u001b[0m | \u001b[0m 11.29   \u001b[0m | \u001b[0m 0.8953  \u001b[0m |\n",
      "| \u001b[0m 21      \u001b[0m | \u001b[0m 0.9867  \u001b[0m | \u001b[0m 0.1707  \u001b[0m | \u001b[0m 0.9154  \u001b[0m | \u001b[0m 0.3014  \u001b[0m | \u001b[0m 0.8994  \u001b[0m | \u001b[0m 0.1453  \u001b[0m | \u001b[0m 9.52    \u001b[0m | \u001b[0m 0.8965  \u001b[0m |\n",
      "| \u001b[0m 22      \u001b[0m | \u001b[0m 0.987   \u001b[0m | \u001b[0m 0.7512  \u001b[0m | \u001b[0m 0.9375  \u001b[0m | \u001b[0m 0.3046  \u001b[0m | \u001b[0m 0.3871  \u001b[0m | \u001b[0m 0.955   \u001b[0m | \u001b[0m 14.85   \u001b[0m | \u001b[0m 0.8979  \u001b[0m |\n",
      "| \u001b[0m 23      \u001b[0m | \u001b[0m 0.987   \u001b[0m | \u001b[0m 0.957   \u001b[0m | \u001b[0m 0.3561  \u001b[0m | \u001b[0m 0.3122  \u001b[0m | \u001b[0m 0.847   \u001b[0m | \u001b[0m 0.9833  \u001b[0m | \u001b[0m 12.93   \u001b[0m | \u001b[0m 0.8903  \u001b[0m |\n",
      "| \u001b[0m 24      \u001b[0m | \u001b[0m 0.9875  \u001b[0m | \u001b[0m 0.3601  \u001b[0m | \u001b[0m 0.9876  \u001b[0m | \u001b[0m 0.3093  \u001b[0m | \u001b[0m 0.7694  \u001b[0m | \u001b[0m 0.9936  \u001b[0m | \u001b[0m 11.82   \u001b[0m | \u001b[0m 0.8975  \u001b[0m |\n",
      "| \u001b[0m 25      \u001b[0m | \u001b[0m 0.9878  \u001b[0m | \u001b[0m 0.2356  \u001b[0m | \u001b[0m 0.7539  \u001b[0m | \u001b[0m 0.3051  \u001b[0m | \u001b[0m 0.8848  \u001b[0m | \u001b[0m 0.5642  \u001b[0m | \u001b[0m 14.92   \u001b[0m | \u001b[0m 0.8823  \u001b[0m |\n",
      "| \u001b[0m 26      \u001b[0m | \u001b[0m 0.9876  \u001b[0m | \u001b[0m 0.5018  \u001b[0m | \u001b[0m 0.9498  \u001b[0m | \u001b[0m 0.3023  \u001b[0m | \u001b[0m 0.8686  \u001b[0m | \u001b[0m 0.4872  \u001b[0m | \u001b[0m 14.93   \u001b[0m | \u001b[0m 0.8909  \u001b[0m |\n",
      "| \u001b[0m 27      \u001b[0m | \u001b[0m 0.9864  \u001b[0m | \u001b[0m 0.9483  \u001b[0m | \u001b[0m 0.9135  \u001b[0m | \u001b[0m 0.3035  \u001b[0m | \u001b[0m 0.7404  \u001b[0m | \u001b[0m 0.1589  \u001b[0m | \u001b[0m 14.63   \u001b[0m | \u001b[0m 0.8895  \u001b[0m |\n",
      "| \u001b[0m 28      \u001b[0m | \u001b[0m 0.9869  \u001b[0m | \u001b[0m 0.05645 \u001b[0m | \u001b[0m 0.8767  \u001b[0m | \u001b[0m 0.3092  \u001b[0m | \u001b[0m 0.8329  \u001b[0m | \u001b[0m 0.7431  \u001b[0m | \u001b[0m 10.37   \u001b[0m | \u001b[0m 0.8882  \u001b[0m |\n",
      "| \u001b[0m 29      \u001b[0m | \u001b[0m 0.9875  \u001b[0m | \u001b[0m 0.9448  \u001b[0m | \u001b[0m 0.5152  \u001b[0m | \u001b[0m 0.3033  \u001b[0m | \u001b[0m 0.8528  \u001b[0m | \u001b[0m 0.3352  \u001b[0m | \u001b[0m 10.86   \u001b[0m | \u001b[0m 0.896   \u001b[0m |\n",
      "| \u001b[0m 30      \u001b[0m | \u001b[0m 0.9867  \u001b[0m | \u001b[0m 0.09055 \u001b[0m | \u001b[0m 0.6194  \u001b[0m | \u001b[0m 0.3047  \u001b[0m | \u001b[0m 0.6886  \u001b[0m | \u001b[0m 0.9831  \u001b[0m | \u001b[0m 13.01   \u001b[0m | \u001b[0m 0.8944  \u001b[0m |\n",
      "| \u001b[0m 31      \u001b[0m | \u001b[0m 0.9873  \u001b[0m | \u001b[0m 0.9929  \u001b[0m | \u001b[0m 0.9697  \u001b[0m | \u001b[0m 0.3028  \u001b[0m | \u001b[0m 0.3262  \u001b[0m | \u001b[0m 0.753   \u001b[0m | \u001b[0m 12.21   \u001b[0m | \u001b[0m 0.8752  \u001b[0m |\n",
      "| \u001b[0m 32      \u001b[0m | \u001b[0m 0.986   \u001b[0m | \u001b[0m 0.9199  \u001b[0m | \u001b[0m 0.9902  \u001b[0m | \u001b[0m 0.3124  \u001b[0m | \u001b[0m 0.8625  \u001b[0m | \u001b[0m 0.899   \u001b[0m | \u001b[0m 10.43   \u001b[0m | \u001b[0m 0.8988  \u001b[0m |\n",
      "| \u001b[0m 33      \u001b[0m | \u001b[0m 0.9872  \u001b[0m | \u001b[0m 0.906   \u001b[0m | \u001b[0m 0.4254  \u001b[0m | \u001b[0m 0.3002  \u001b[0m | \u001b[0m 0.3599  \u001b[0m | \u001b[0m 0.01206 \u001b[0m | \u001b[0m 11.66   \u001b[0m | \u001b[0m 0.8871  \u001b[0m |\n",
      "| \u001b[0m 34      \u001b[0m | \u001b[0m 0.9866  \u001b[0m | \u001b[0m 0.01567 \u001b[0m | \u001b[0m 0.4458  \u001b[0m | \u001b[0m 0.3025  \u001b[0m | \u001b[0m 0.8679  \u001b[0m | \u001b[0m 0.2416  \u001b[0m | \u001b[0m 13.36   \u001b[0m | \u001b[0m 0.8932  \u001b[0m |\n",
      "| \u001b[0m 35      \u001b[0m | \u001b[0m 0.988   \u001b[0m | \u001b[0m 0.8994  \u001b[0m | \u001b[0m 0.9273  \u001b[0m | \u001b[0m 0.3006  \u001b[0m | \u001b[0m 0.8015  \u001b[0m | \u001b[0m 0.264   \u001b[0m | \u001b[0m 14.38   \u001b[0m | \u001b[0m 0.8967  \u001b[0m |\n",
      "| \u001b[0m 36      \u001b[0m | \u001b[0m 0.9873  \u001b[0m | \u001b[0m 0.7144  \u001b[0m | \u001b[0m 0.3346  \u001b[0m | \u001b[0m 0.3068  \u001b[0m | \u001b[0m 0.8494  \u001b[0m | \u001b[0m 0.987   \u001b[0m | \u001b[0m 14.7    \u001b[0m | \u001b[0m 0.8972  \u001b[0m |\n",
      "| \u001b[0m 37      \u001b[0m | \u001b[0m 0.9876  \u001b[0m | \u001b[0m 0.9378  \u001b[0m | \u001b[0m 0.4599  \u001b[0m | \u001b[0m 0.3037  \u001b[0m | \u001b[0m 0.4405  \u001b[0m | \u001b[0m 0.9956  \u001b[0m | \u001b[0m 12.03   \u001b[0m | \u001b[0m 0.8963  \u001b[0m |\n",
      "| \u001b[0m 38      \u001b[0m | \u001b[0m 0.9865  \u001b[0m | \u001b[0m 0.6214  \u001b[0m | \u001b[0m 0.9643  \u001b[0m | \u001b[0m 0.3126  \u001b[0m | \u001b[0m 0.7774  \u001b[0m | \u001b[0m 0.8476  \u001b[0m | \u001b[0m 14.9    \u001b[0m | \u001b[0m 0.89    \u001b[0m |\n",
      "| \u001b[0m 39      \u001b[0m | \u001b[0m 0.9867  \u001b[0m | \u001b[0m 0.7102  \u001b[0m | \u001b[0m 0.5858  \u001b[0m | \u001b[0m 0.301   \u001b[0m | \u001b[0m 0.8873  \u001b[0m | \u001b[0m 0.8037  \u001b[0m | \u001b[0m 11.01   \u001b[0m | \u001b[0m 0.8984  \u001b[0m |\n",
      "| \u001b[0m 40      \u001b[0m | \u001b[0m 0.9868  \u001b[0m | \u001b[0m 0.9061  \u001b[0m | \u001b[0m 0.8927  \u001b[0m | \u001b[0m 0.3084  \u001b[0m | \u001b[0m 0.3041  \u001b[0m | \u001b[0m 0.7854  \u001b[0m | \u001b[0m 14.25   \u001b[0m | \u001b[0m 0.8962  \u001b[0m |\n",
      "| \u001b[0m 41      \u001b[0m | \u001b[0m 0.987   \u001b[0m | \u001b[0m 0.1166  \u001b[0m | \u001b[0m 0.3751  \u001b[0m | \u001b[0m 0.3051  \u001b[0m | \u001b[0m 0.408   \u001b[0m | \u001b[0m 0.9828  \u001b[0m | \u001b[0m 12.02   \u001b[0m | \u001b[0m 0.8985  \u001b[0m |\n",
      "| \u001b[0m 42      \u001b[0m | \u001b[0m 0.9878  \u001b[0m | \u001b[0m 0.9832  \u001b[0m | \u001b[0m 0.6288  \u001b[0m | \u001b[0m 0.3013  \u001b[0m | \u001b[0m 0.8495  \u001b[0m | \u001b[0m 0.005843\u001b[0m | \u001b[0m 10.28   \u001b[0m | \u001b[0m 0.8745  \u001b[0m |\n",
      "| \u001b[0m 43      \u001b[0m | \u001b[0m 0.987   \u001b[0m | \u001b[0m 0.9139  \u001b[0m | \u001b[0m 0.9417  \u001b[0m | \u001b[0m 0.3034  \u001b[0m | \u001b[0m 0.8796  \u001b[0m | \u001b[0m 0.1263  \u001b[0m | \u001b[0m 13.41   \u001b[0m | \u001b[0m 0.8974  \u001b[0m |\n",
      "| \u001b[0m 44      \u001b[0m | \u001b[0m 0.9879  \u001b[0m | \u001b[0m 0.04954 \u001b[0m | \u001b[0m 0.3133  \u001b[0m | \u001b[0m 0.3083  \u001b[0m | \u001b[0m 0.3431  \u001b[0m | \u001b[0m 0.04965 \u001b[0m | \u001b[0m 14.7    \u001b[0m | \u001b[0m 0.891   \u001b[0m |\n"
     ]
    },
    {
     "name": "stdout",
     "output_type": "stream",
     "text": [
      "| \u001b[0m 45      \u001b[0m | \u001b[0m 0.9881  \u001b[0m | \u001b[0m 0.7397  \u001b[0m | \u001b[0m 0.9649  \u001b[0m | \u001b[0m 0.3001  \u001b[0m | \u001b[0m 0.3469  \u001b[0m | \u001b[0m 0.9653  \u001b[0m | \u001b[0m 11.4    \u001b[0m | \u001b[0m 0.8952  \u001b[0m |\n",
      "| \u001b[0m 46      \u001b[0m | \u001b[0m 0.9875  \u001b[0m | \u001b[0m 0.9825  \u001b[0m | \u001b[0m 0.4307  \u001b[0m | \u001b[0m 0.3054  \u001b[0m | \u001b[0m 0.4162  \u001b[0m | \u001b[0m 0.03917 \u001b[0m | \u001b[0m 11.27   \u001b[0m | \u001b[0m 0.8844  \u001b[0m |\n",
      "| \u001b[0m 47      \u001b[0m | \u001b[0m 0.9878  \u001b[0m | \u001b[0m 0.02103 \u001b[0m | \u001b[0m 0.5238  \u001b[0m | \u001b[0m 0.3011  \u001b[0m | \u001b[0m 0.8821  \u001b[0m | \u001b[0m 0.4623  \u001b[0m | \u001b[0m 10.36   \u001b[0m | \u001b[0m 0.8995  \u001b[0m |\n",
      "| \u001b[0m 48      \u001b[0m | \u001b[0m 0.9879  \u001b[0m | \u001b[0m 0.9078  \u001b[0m | \u001b[0m 0.4571  \u001b[0m | \u001b[0m 0.3006  \u001b[0m | \u001b[0m 0.8778  \u001b[0m | \u001b[0m 0.01513 \u001b[0m | \u001b[0m 12.06   \u001b[0m | \u001b[0m 0.8963  \u001b[0m |\n",
      "| \u001b[0m 49      \u001b[0m | \u001b[0m 0.9873  \u001b[0m | \u001b[0m 0.9039  \u001b[0m | \u001b[0m 0.8189  \u001b[0m | \u001b[0m 0.3029  \u001b[0m | \u001b[0m 0.8064  \u001b[0m | \u001b[0m 0.9977  \u001b[0m | \u001b[0m 14.84   \u001b[0m | \u001b[0m 0.8984  \u001b[0m |\n",
      "| \u001b[0m 50      \u001b[0m | \u001b[0m 0.9876  \u001b[0m | \u001b[0m 0.05187 \u001b[0m | \u001b[0m 0.9493  \u001b[0m | \u001b[0m 0.3031  \u001b[0m | \u001b[0m 0.3701  \u001b[0m | \u001b[0m 0.5098  \u001b[0m | \u001b[0m 12.16   \u001b[0m | \u001b[0m 0.8993  \u001b[0m |\n",
      "| \u001b[0m 51      \u001b[0m | \u001b[0m 0.9878  \u001b[0m | \u001b[0m 0.9607  \u001b[0m | \u001b[0m 0.7631  \u001b[0m | \u001b[0m 0.3095  \u001b[0m | \u001b[0m 0.7445  \u001b[0m | \u001b[0m 0.00725 \u001b[0m | \u001b[0m 12.18   \u001b[0m | \u001b[0m 0.8968  \u001b[0m |\n",
      "| \u001b[0m 52      \u001b[0m | \u001b[0m 0.9867  \u001b[0m | \u001b[0m 0.6059  \u001b[0m | \u001b[0m 0.4522  \u001b[0m | \u001b[0m 0.3001  \u001b[0m | \u001b[0m 0.3434  \u001b[0m | \u001b[0m 0.02997 \u001b[0m | \u001b[0m 11.26   \u001b[0m | \u001b[0m 0.8988  \u001b[0m |\n",
      "| \u001b[0m 53      \u001b[0m | \u001b[0m 0.9871  \u001b[0m | \u001b[0m 0.02104 \u001b[0m | \u001b[0m 0.9992  \u001b[0m | \u001b[0m 0.3039  \u001b[0m | \u001b[0m 0.6391  \u001b[0m | \u001b[0m 0.6166  \u001b[0m | \u001b[0m 9.162   \u001b[0m | \u001b[0m 0.8968  \u001b[0m |\n",
      "| \u001b[0m 54      \u001b[0m | \u001b[0m 0.9876  \u001b[0m | \u001b[0m 0.09779 \u001b[0m | \u001b[0m 0.9044  \u001b[0m | \u001b[0m 0.3033  \u001b[0m | \u001b[0m 0.8428  \u001b[0m | \u001b[0m 0.3234  \u001b[0m | \u001b[0m 12.65   \u001b[0m | \u001b[0m 0.8994  \u001b[0m |\n",
      "| \u001b[0m 55      \u001b[0m | \u001b[0m 0.9877  \u001b[0m | \u001b[0m 0.0643  \u001b[0m | \u001b[0m 0.9018  \u001b[0m | \u001b[0m 0.3018  \u001b[0m | \u001b[0m 0.8513  \u001b[0m | \u001b[0m 0.2718  \u001b[0m | \u001b[0m 12.32   \u001b[0m | \u001b[0m 0.8946  \u001b[0m |\n",
      "| \u001b[0m 56      \u001b[0m | \u001b[0m 0.987   \u001b[0m | \u001b[0m 0.9221  \u001b[0m | \u001b[0m 0.978   \u001b[0m | \u001b[0m 0.3014  \u001b[0m | \u001b[0m 0.884   \u001b[0m | \u001b[0m 0.3113  \u001b[0m | \u001b[0m 11.28   \u001b[0m | \u001b[0m 0.8795  \u001b[0m |\n",
      "| \u001b[0m 57      \u001b[0m | \u001b[0m 0.9869  \u001b[0m | \u001b[0m 0.03821 \u001b[0m | \u001b[0m 0.437   \u001b[0m | \u001b[0m 0.3031  \u001b[0m | \u001b[0m 0.8891  \u001b[0m | \u001b[0m 0.3117  \u001b[0m | \u001b[0m 14.92   \u001b[0m | \u001b[0m 0.8666  \u001b[0m |\n",
      "| \u001b[0m 58      \u001b[0m | \u001b[0m 0.9866  \u001b[0m | \u001b[0m 0.677   \u001b[0m | \u001b[0m 0.428   \u001b[0m | \u001b[0m 0.3026  \u001b[0m | \u001b[0m 0.8849  \u001b[0m | \u001b[0m 0.9523  \u001b[0m | \u001b[0m 12.89   \u001b[0m | \u001b[0m 0.8949  \u001b[0m |\n",
      "| \u001b[0m 59      \u001b[0m | \u001b[0m 0.9875  \u001b[0m | \u001b[0m 0.9661  \u001b[0m | \u001b[0m 0.3055  \u001b[0m | \u001b[0m 0.3031  \u001b[0m | \u001b[0m 0.7281  \u001b[0m | \u001b[0m 0.04729 \u001b[0m | \u001b[0m 11.81   \u001b[0m | \u001b[0m 0.8954  \u001b[0m |\n",
      "| \u001b[0m 60      \u001b[0m | \u001b[0m 0.9875  \u001b[0m | \u001b[0m 0.9326  \u001b[0m | \u001b[0m 0.7101  \u001b[0m | \u001b[0m 0.3072  \u001b[0m | \u001b[0m 0.4215  \u001b[0m | \u001b[0m 0.1109  \u001b[0m | \u001b[0m 14.95   \u001b[0m | \u001b[0m 0.8928  \u001b[0m |\n",
      "| \u001b[0m 61      \u001b[0m | \u001b[0m 0.9859  \u001b[0m | \u001b[0m 0.7762  \u001b[0m | \u001b[0m 0.8805  \u001b[0m | \u001b[0m 0.3008  \u001b[0m | \u001b[0m 0.3324  \u001b[0m | \u001b[0m 0.03163 \u001b[0m | \u001b[0m 12.04   \u001b[0m | \u001b[0m 0.8905  \u001b[0m |\n",
      "| \u001b[0m 62      \u001b[0m | \u001b[0m 0.9868  \u001b[0m | \u001b[0m 0.5731  \u001b[0m | \u001b[0m 0.4269  \u001b[0m | \u001b[0m 0.3065  \u001b[0m | \u001b[0m 0.877   \u001b[0m | \u001b[0m 0.9088  \u001b[0m | \u001b[0m 14.03   \u001b[0m | \u001b[0m 0.8992  \u001b[0m |\n",
      "| \u001b[0m 63      \u001b[0m | \u001b[0m 0.9874  \u001b[0m | \u001b[0m 0.0327  \u001b[0m | \u001b[0m 0.9489  \u001b[0m | \u001b[0m 0.3015  \u001b[0m | \u001b[0m 0.3277  \u001b[0m | \u001b[0m 0.8679  \u001b[0m | \u001b[0m 11.16   \u001b[0m | \u001b[0m 0.8903  \u001b[0m |\n",
      "| \u001b[0m 64      \u001b[0m | \u001b[0m 0.9864  \u001b[0m | \u001b[0m 0.2599  \u001b[0m | \u001b[0m 0.9527  \u001b[0m | \u001b[0m 0.3006  \u001b[0m | \u001b[0m 0.8323  \u001b[0m | \u001b[0m 0.8814  \u001b[0m | \u001b[0m 6.929   \u001b[0m | \u001b[0m 0.8981  \u001b[0m |\n",
      "| \u001b[0m 65      \u001b[0m | \u001b[0m 0.9873  \u001b[0m | \u001b[0m 0.1571  \u001b[0m | \u001b[0m 0.3389  \u001b[0m | \u001b[0m 0.3003  \u001b[0m | \u001b[0m 0.5187  \u001b[0m | \u001b[0m 0.7286  \u001b[0m | \u001b[0m 13.96   \u001b[0m | \u001b[0m 0.8993  \u001b[0m |\n",
      "| \u001b[0m 66      \u001b[0m | \u001b[0m 0.9878  \u001b[0m | \u001b[0m 0.03928 \u001b[0m | \u001b[0m 0.5075  \u001b[0m | \u001b[0m 0.3024  \u001b[0m | \u001b[0m 0.8016  \u001b[0m | \u001b[0m 0.003546\u001b[0m | \u001b[0m 11.99   \u001b[0m | \u001b[0m 0.8977  \u001b[0m |\n",
      "| \u001b[0m 67      \u001b[0m | \u001b[0m 0.9865  \u001b[0m | \u001b[0m 0.9193  \u001b[0m | \u001b[0m 0.9406  \u001b[0m | \u001b[0m 0.3002  \u001b[0m | \u001b[0m 0.8739  \u001b[0m | \u001b[0m 0.7609  \u001b[0m | \u001b[0m 11.58   \u001b[0m | \u001b[0m 0.8889  \u001b[0m |\n",
      "| \u001b[0m 68      \u001b[0m | \u001b[0m 0.9872  \u001b[0m | \u001b[0m 0.1085  \u001b[0m | \u001b[0m 0.9748  \u001b[0m | \u001b[0m 0.3121  \u001b[0m | \u001b[0m 0.8846  \u001b[0m | \u001b[0m 0.0183  \u001b[0m | \u001b[0m 8.659   \u001b[0m | \u001b[0m 0.8985  \u001b[0m |\n",
      "| \u001b[0m 69      \u001b[0m | \u001b[0m 0.9864  \u001b[0m | \u001b[0m 0.0149  \u001b[0m | \u001b[0m 0.9797  \u001b[0m | \u001b[0m 0.3233  \u001b[0m | \u001b[0m 0.8076  \u001b[0m | \u001b[0m 0.7553  \u001b[0m | \u001b[0m 14.86   \u001b[0m | \u001b[0m 0.896   \u001b[0m |\n",
      "| \u001b[95m 70      \u001b[0m | \u001b[95m 0.9884  \u001b[0m | \u001b[95m 0.9826  \u001b[0m | \u001b[95m 0.3114  \u001b[0m | \u001b[95m 0.3051  \u001b[0m | \u001b[95m 0.4286  \u001b[0m | \u001b[95m 0.197   \u001b[0m | \u001b[95m 13.19   \u001b[0m | \u001b[95m 0.8958  \u001b[0m |\n",
      "| \u001b[0m 71      \u001b[0m | \u001b[0m 0.9866  \u001b[0m | \u001b[0m 0.9264  \u001b[0m | \u001b[0m 0.5787  \u001b[0m | \u001b[0m 0.3064  \u001b[0m | \u001b[0m 0.352   \u001b[0m | \u001b[0m 0.2139  \u001b[0m | \u001b[0m 14.84   \u001b[0m | \u001b[0m 0.896   \u001b[0m |\n",
      "| \u001b[0m 72      \u001b[0m | \u001b[0m 0.9879  \u001b[0m | \u001b[0m 0.9397  \u001b[0m | \u001b[0m 0.3132  \u001b[0m | \u001b[0m 0.3008  \u001b[0m | \u001b[0m 0.6632  \u001b[0m | \u001b[0m 0.7076  \u001b[0m | \u001b[0m 11.14   \u001b[0m | \u001b[0m 0.8952  \u001b[0m |\n",
      "| \u001b[0m 73      \u001b[0m | \u001b[0m 0.987   \u001b[0m | \u001b[0m 0.7951  \u001b[0m | \u001b[0m 0.3975  \u001b[0m | \u001b[0m 0.3034  \u001b[0m | \u001b[0m 0.3446  \u001b[0m | \u001b[0m 0.8706  \u001b[0m | \u001b[0m 11.73   \u001b[0m | \u001b[0m 0.8986  \u001b[0m |\n",
      "| \u001b[0m 74      \u001b[0m | \u001b[0m 0.9867  \u001b[0m | \u001b[0m 0.9401  \u001b[0m | \u001b[0m 0.9244  \u001b[0m | \u001b[0m 0.3078  \u001b[0m | \u001b[0m 0.5664  \u001b[0m | \u001b[0m 0.01074 \u001b[0m | \u001b[0m 14.1    \u001b[0m | \u001b[0m 0.8929  \u001b[0m |\n",
      "| \u001b[0m 75      \u001b[0m | \u001b[0m 0.9879  \u001b[0m | \u001b[0m 0.8517  \u001b[0m | \u001b[0m 0.3122  \u001b[0m | \u001b[0m 0.3062  \u001b[0m | \u001b[0m 0.8453  \u001b[0m | \u001b[0m 0.5915  \u001b[0m | \u001b[0m 14.89   \u001b[0m | \u001b[0m 0.8894  \u001b[0m |\n",
      "| \u001b[0m 76      \u001b[0m | \u001b[0m 0.988   \u001b[0m | \u001b[0m 0.1562  \u001b[0m | \u001b[0m 0.3175  \u001b[0m | \u001b[0m 0.3149  \u001b[0m | \u001b[0m 0.8691  \u001b[0m | \u001b[0m 0.09599 \u001b[0m | \u001b[0m 14.99   \u001b[0m | \u001b[0m 0.8928  \u001b[0m |\n",
      "| \u001b[0m 77      \u001b[0m | \u001b[0m 0.986   \u001b[0m | \u001b[0m 0.2594  \u001b[0m | \u001b[0m 0.3019  \u001b[0m | \u001b[0m 0.3092  \u001b[0m | \u001b[0m 0.7511  \u001b[0m | \u001b[0m 0.05657 \u001b[0m | \u001b[0m 9.763   \u001b[0m | \u001b[0m 0.8963  \u001b[0m |\n",
      "| \u001b[0m 78      \u001b[0m | \u001b[0m 0.9857  \u001b[0m | \u001b[0m 0.01454 \u001b[0m | \u001b[0m 0.4693  \u001b[0m | \u001b[0m 0.3345  \u001b[0m | \u001b[0m 0.8383  \u001b[0m | \u001b[0m 0.9583  \u001b[0m | \u001b[0m 3.167   \u001b[0m | \u001b[0m 0.8972  \u001b[0m |\n",
      "| \u001b[0m 79      \u001b[0m | \u001b[0m 0.987   \u001b[0m | \u001b[0m 0.2164  \u001b[0m | \u001b[0m 0.3005  \u001b[0m | \u001b[0m 0.3017  \u001b[0m | \u001b[0m 0.5583  \u001b[0m | \u001b[0m 0.126   \u001b[0m | \u001b[0m 14.75   \u001b[0m | \u001b[0m 0.884   \u001b[0m |\n",
      "| \u001b[0m 80      \u001b[0m | \u001b[0m 0.9872  \u001b[0m | \u001b[0m 0.6736  \u001b[0m | \u001b[0m 0.3265  \u001b[0m | \u001b[0m 0.3015  \u001b[0m | \u001b[0m 0.3437  \u001b[0m | \u001b[0m 0.9711  \u001b[0m | \u001b[0m 9.954   \u001b[0m | \u001b[0m 0.8942  \u001b[0m |\n",
      "| \u001b[0m 81      \u001b[0m | \u001b[0m 0.9872  \u001b[0m | \u001b[0m 0.1403  \u001b[0m | \u001b[0m 0.9828  \u001b[0m | \u001b[0m 0.302   \u001b[0m | \u001b[0m 0.8664  \u001b[0m | \u001b[0m 0.96    \u001b[0m | \u001b[0m 13.47   \u001b[0m | \u001b[0m 0.898   \u001b[0m |\n",
      "| \u001b[0m 82      \u001b[0m | \u001b[0m 0.9873  \u001b[0m | \u001b[0m 0.2812  \u001b[0m | \u001b[0m 0.5976  \u001b[0m | \u001b[0m 0.3018  \u001b[0m | \u001b[0m 0.8335  \u001b[0m | \u001b[0m 0.0445  \u001b[0m | \u001b[0m 14.38   \u001b[0m | \u001b[0m 0.8933  \u001b[0m |\n",
      "| \u001b[0m 83      \u001b[0m | \u001b[0m 0.9871  \u001b[0m | \u001b[0m 0.2978  \u001b[0m | \u001b[0m 0.3002  \u001b[0m | \u001b[0m 0.3088  \u001b[0m | \u001b[0m 0.8896  \u001b[0m | \u001b[0m 0.1022  \u001b[0m | \u001b[0m 11.72   \u001b[0m | \u001b[0m 0.8892  \u001b[0m |\n",
      "| \u001b[0m 84      \u001b[0m | \u001b[0m 0.9865  \u001b[0m | \u001b[0m 0.9572  \u001b[0m | \u001b[0m 0.3378  \u001b[0m | \u001b[0m 0.3179  \u001b[0m | \u001b[0m 0.8225  \u001b[0m | \u001b[0m 0.02912 \u001b[0m | \u001b[0m 13.41   \u001b[0m | \u001b[0m 0.8953  \u001b[0m |\n",
      "| \u001b[0m 85      \u001b[0m | \u001b[0m 0.9879  \u001b[0m | \u001b[0m 0.6986  \u001b[0m | \u001b[0m 0.3988  \u001b[0m | \u001b[0m 0.303   \u001b[0m | \u001b[0m 0.35    \u001b[0m | \u001b[0m 0.1419  \u001b[0m | \u001b[0m 14.72   \u001b[0m | \u001b[0m 0.8996  \u001b[0m |\n",
      "| \u001b[0m 86      \u001b[0m | \u001b[0m 0.9876  \u001b[0m | \u001b[0m 0.0402  \u001b[0m | \u001b[0m 0.3013  \u001b[0m | \u001b[0m 0.3066  \u001b[0m | \u001b[0m 0.5719  \u001b[0m | \u001b[0m 0.9232  \u001b[0m | \u001b[0m 14.35   \u001b[0m | \u001b[0m 0.8873  \u001b[0m |\n",
      "| \u001b[0m 87      \u001b[0m | \u001b[0m 0.9876  \u001b[0m | \u001b[0m 0.01341 \u001b[0m | \u001b[0m 0.9581  \u001b[0m | \u001b[0m 0.305   \u001b[0m | \u001b[0m 0.4133  \u001b[0m | \u001b[0m 0.9999  \u001b[0m | \u001b[0m 14.81   \u001b[0m | \u001b[0m 0.8935  \u001b[0m |\n",
      "| \u001b[0m 88      \u001b[0m | \u001b[0m 0.9879  \u001b[0m | \u001b[0m 0.3854  \u001b[0m | \u001b[0m 0.3735  \u001b[0m | \u001b[0m 0.3013  \u001b[0m | \u001b[0m 0.3337  \u001b[0m | \u001b[0m 0.8691  \u001b[0m | \u001b[0m 11.52   \u001b[0m | \u001b[0m 0.8933  \u001b[0m |\n",
      "| \u001b[0m 89      \u001b[0m | \u001b[0m 0.9869  \u001b[0m | \u001b[0m 0.7996  \u001b[0m | \u001b[0m 0.375   \u001b[0m | \u001b[0m 0.3012  \u001b[0m | \u001b[0m 0.8848  \u001b[0m | \u001b[0m 0.1382  \u001b[0m | \u001b[0m 14.04   \u001b[0m | \u001b[0m 0.8987  \u001b[0m |\n"
     ]
    },
    {
     "name": "stdout",
     "output_type": "stream",
     "text": [
      "| \u001b[0m 90      \u001b[0m | \u001b[0m 0.9872  \u001b[0m | \u001b[0m 0.9421  \u001b[0m | \u001b[0m 0.3417  \u001b[0m | \u001b[0m 0.301   \u001b[0m | \u001b[0m 0.666   \u001b[0m | \u001b[0m 0.9127  \u001b[0m | \u001b[0m 14.17   \u001b[0m | \u001b[0m 0.8828  \u001b[0m |\n",
      "| \u001b[95m 91      \u001b[0m | \u001b[95m 0.9884  \u001b[0m | \u001b[95m 0.8955  \u001b[0m | \u001b[95m 0.3584  \u001b[0m | \u001b[95m 0.3062  \u001b[0m | \u001b[95m 0.5401  \u001b[0m | \u001b[95m 0.003648\u001b[0m | \u001b[95m 14.74   \u001b[0m | \u001b[95m 0.8838  \u001b[0m |\n",
      "| \u001b[0m 92      \u001b[0m | \u001b[0m 0.9867  \u001b[0m | \u001b[0m 0.05154 \u001b[0m | \u001b[0m 0.7579  \u001b[0m | \u001b[0m 0.3023  \u001b[0m | \u001b[0m 0.4168  \u001b[0m | \u001b[0m 0.1107  \u001b[0m | \u001b[0m 14.01   \u001b[0m | \u001b[0m 0.8987  \u001b[0m |\n",
      "| \u001b[0m 93      \u001b[0m | \u001b[0m 0.9876  \u001b[0m | \u001b[0m 0.3563  \u001b[0m | \u001b[0m 0.3519  \u001b[0m | \u001b[0m 0.3074  \u001b[0m | \u001b[0m 0.3724  \u001b[0m | \u001b[0m 0.9415  \u001b[0m | \u001b[0m 14.23   \u001b[0m | \u001b[0m 0.8981  \u001b[0m |\n",
      "| \u001b[0m 94      \u001b[0m | \u001b[0m 0.9878  \u001b[0m | \u001b[0m 0.06854 \u001b[0m | \u001b[0m 0.5355  \u001b[0m | \u001b[0m 0.303   \u001b[0m | \u001b[0m 0.3272  \u001b[0m | \u001b[0m 0.9315  \u001b[0m | \u001b[0m 13.97   \u001b[0m | \u001b[0m 0.8915  \u001b[0m |\n",
      "| \u001b[0m 95      \u001b[0m | \u001b[0m 0.9874  \u001b[0m | \u001b[0m 0.01012 \u001b[0m | \u001b[0m 0.8661  \u001b[0m | \u001b[0m 0.3019  \u001b[0m | \u001b[0m 0.56    \u001b[0m | \u001b[0m 0.01173 \u001b[0m | \u001b[0m 14.48   \u001b[0m | \u001b[0m 0.8987  \u001b[0m |\n",
      "| \u001b[0m 96      \u001b[0m | \u001b[0m 0.987   \u001b[0m | \u001b[0m 0.8496  \u001b[0m | \u001b[0m 0.9621  \u001b[0m | \u001b[0m 0.3047  \u001b[0m | \u001b[0m 0.3762  \u001b[0m | \u001b[0m 0.08974 \u001b[0m | \u001b[0m 13.49   \u001b[0m | \u001b[0m 0.8968  \u001b[0m |\n",
      "| \u001b[0m 97      \u001b[0m | \u001b[0m 0.9874  \u001b[0m | \u001b[0m 0.9005  \u001b[0m | \u001b[0m 0.6466  \u001b[0m | \u001b[0m 0.3003  \u001b[0m | \u001b[0m 0.7501  \u001b[0m | \u001b[0m 0.9453  \u001b[0m | \u001b[0m 14.98   \u001b[0m | \u001b[0m 0.8997  \u001b[0m |\n",
      "| \u001b[0m 98      \u001b[0m | \u001b[0m 0.987   \u001b[0m | \u001b[0m 0.05963 \u001b[0m | \u001b[0m 0.3753  \u001b[0m | \u001b[0m 0.3108  \u001b[0m | \u001b[0m 0.308   \u001b[0m | \u001b[0m 0.9997  \u001b[0m | \u001b[0m 10.2    \u001b[0m | \u001b[0m 0.896   \u001b[0m |\n",
      "| \u001b[0m 99      \u001b[0m | \u001b[0m 0.9872  \u001b[0m | \u001b[0m 0.3217  \u001b[0m | \u001b[0m 0.8711  \u001b[0m | \u001b[0m 0.3003  \u001b[0m | \u001b[0m 0.727   \u001b[0m | \u001b[0m 0.9455  \u001b[0m | \u001b[0m 14.93   \u001b[0m | \u001b[0m 0.8928  \u001b[0m |\n",
      "| \u001b[0m 100     \u001b[0m | \u001b[0m 0.9873  \u001b[0m | \u001b[0m 0.9707  \u001b[0m | \u001b[0m 0.6755  \u001b[0m | \u001b[0m 0.3     \u001b[0m | \u001b[0m 0.8994  \u001b[0m | \u001b[0m 0.9929  \u001b[0m | \u001b[0m 14.5    \u001b[0m | \u001b[0m 0.8808  \u001b[0m |\n",
      "| \u001b[0m 101     \u001b[0m | \u001b[0m 0.9867  \u001b[0m | \u001b[0m 0.9822  \u001b[0m | \u001b[0m 0.5567  \u001b[0m | \u001b[0m 0.3025  \u001b[0m | \u001b[0m 0.3712  \u001b[0m | \u001b[0m 0.2658  \u001b[0m | \u001b[0m 14.11   \u001b[0m | \u001b[0m 0.8946  \u001b[0m |\n",
      "| \u001b[0m 102     \u001b[0m | \u001b[0m 0.9883  \u001b[0m | \u001b[0m 0.1238  \u001b[0m | \u001b[0m 0.4008  \u001b[0m | \u001b[0m 0.3086  \u001b[0m | \u001b[0m 0.3381  \u001b[0m | \u001b[0m 0.02798 \u001b[0m | \u001b[0m 14.86   \u001b[0m | \u001b[0m 0.8952  \u001b[0m |\n",
      "| \u001b[0m 103     \u001b[0m | \u001b[0m 0.9873  \u001b[0m | \u001b[0m 0.9922  \u001b[0m | \u001b[0m 0.5041  \u001b[0m | \u001b[0m 0.3034  \u001b[0m | \u001b[0m 0.6435  \u001b[0m | \u001b[0m 0.7041  \u001b[0m | \u001b[0m 15.0    \u001b[0m | \u001b[0m 0.8985  \u001b[0m |\n",
      "| \u001b[0m 104     \u001b[0m | \u001b[0m 0.9862  \u001b[0m | \u001b[0m 0.005596\u001b[0m | \u001b[0m 0.3638  \u001b[0m | \u001b[0m 0.3008  \u001b[0m | \u001b[0m 0.8573  \u001b[0m | \u001b[0m 0.3254  \u001b[0m | \u001b[0m 13.29   \u001b[0m | \u001b[0m 0.8874  \u001b[0m |\n",
      "| \u001b[0m 105     \u001b[0m | \u001b[0m 0.9878  \u001b[0m | \u001b[0m 0.04848 \u001b[0m | \u001b[0m 0.3883  \u001b[0m | \u001b[0m 0.3012  \u001b[0m | \u001b[0m 0.8425  \u001b[0m | \u001b[0m 0.6936  \u001b[0m | \u001b[0m 6.093   \u001b[0m | \u001b[0m 0.8982  \u001b[0m |\n",
      "| \u001b[0m 106     \u001b[0m | \u001b[0m 0.9863  \u001b[0m | \u001b[0m 0.367   \u001b[0m | \u001b[0m 0.8946  \u001b[0m | \u001b[0m 0.3045  \u001b[0m | \u001b[0m 0.3449  \u001b[0m | \u001b[0m 0.9425  \u001b[0m | \u001b[0m 3.177   \u001b[0m | \u001b[0m 0.8982  \u001b[0m |\n",
      "| \u001b[0m 107     \u001b[0m | \u001b[0m 0.9868  \u001b[0m | \u001b[0m 0.91    \u001b[0m | \u001b[0m 0.3567  \u001b[0m | \u001b[0m 0.3008  \u001b[0m | \u001b[0m 0.4373  \u001b[0m | \u001b[0m 0.04058 \u001b[0m | \u001b[0m 9.598   \u001b[0m | \u001b[0m 0.8964  \u001b[0m |\n",
      "| \u001b[0m 108     \u001b[0m | \u001b[0m 0.9875  \u001b[0m | \u001b[0m 0.9722  \u001b[0m | \u001b[0m 0.6322  \u001b[0m | \u001b[0m 0.3004  \u001b[0m | \u001b[0m 0.3618  \u001b[0m | \u001b[0m 0.9539  \u001b[0m | \u001b[0m 13.4    \u001b[0m | \u001b[0m 0.8909  \u001b[0m |\n",
      "| \u001b[0m 109     \u001b[0m | \u001b[0m 0.988   \u001b[0m | \u001b[0m 0.9373  \u001b[0m | \u001b[0m 0.3723  \u001b[0m | \u001b[0m 0.3157  \u001b[0m | \u001b[0m 0.3477  \u001b[0m | \u001b[0m 0.9329  \u001b[0m | \u001b[0m 8.835   \u001b[0m | \u001b[0m 0.8999  \u001b[0m |\n",
      "| \u001b[0m 110     \u001b[0m | \u001b[0m 0.9872  \u001b[0m | \u001b[0m 0.785   \u001b[0m | \u001b[0m 0.9656  \u001b[0m | \u001b[0m 0.3031  \u001b[0m | \u001b[0m 0.3921  \u001b[0m | \u001b[0m 0.3794  \u001b[0m | \u001b[0m 14.8    \u001b[0m | \u001b[0m 0.8963  \u001b[0m |\n",
      "=============================================================================================================\n"
     ]
    }
   ],
   "source": [
    "def xgb_evaluate(max_depth, eta, subsample,colsample_bytree,gamma,lambda1,alpha):\n",
    "    params = {'eval_metric': 'aucpr',\n",
    "              'max_depth': int(max_depth),\n",
    "              'subsample': subsample, #0.8\n",
    "              'eta': eta, #0.3.. 0.2\n",
    "              'gamma': gamma,\n",
    "              'lambda': lambda1,\n",
    "              'aplha': alpha,\n",
    "              'colsample_bytree': colsample_bytree,\n",
    "              'objective': 'binary:logistic',\n",
    "              'verbosity': 0}\n",
    "    # Used around 1000 boosting rounds in the full model\n",
    "    cv_result = xgb.cv(params, dtrain_lead2, num_boost_round=100, nfold=5)    \n",
    "    \n",
    "    # Bayesian optimization only knows how to maximize, not minimize, so return the negative RMSE\n",
    "    return cv_result['test-aucpr-mean'].iloc[-1]\n",
    "\n",
    "xgb_bo = BayesianOptimization(xgb_evaluate, {'max_depth': (3, 15),                                              \n",
    "                                             'subsample': (0.3, 0.9),\n",
    "                                             'eta': (0.3, 0.9),\n",
    "                                             'gamma': (0.3, 0.9),\n",
    "                                             'lambda1': (0.0, 1.0),\n",
    "                                             'alpha': (0.0, 1.0),\n",
    "                                             'colsample_bytree': (0.3, 1)})\n",
    "    \n",
    "\n",
    "xgb_bo.maximize(init_points=10, n_iter=100, acq='ei')\n"
   ]
  },
  {
   "cell_type": "code",
   "execution_count": 39,
   "metadata": {},
   "outputs": [],
   "source": [
    "params = xgb_bo.max[\"params\"]\n",
    "params['max_depth'] = int(params['max_depth'])\n",
    "\n",
    "# Train a new model with the best parameters from the search\n",
    "model2 = xgb.train(params, dtrain_lead2, num_boost_round=500)"
   ]
  },
  {
   "cell_type": "code",
   "execution_count": 40,
   "metadata": {},
   "outputs": [],
   "source": [
    "# Predict on testing and training set\n",
    "y_pred = model2.predict(dtest_lead2)\n",
    "y_train_pred = model2.predict(dtrain_lead2)"
   ]
  },
  {
   "cell_type": "code",
   "execution_count": 45,
   "metadata": {},
   "outputs": [],
   "source": [
    "pickle.dump(model2, open(models_a_dir+\"xgboost_y.pickle.dat\", \"wb\"))"
   ]
  },
  {
   "cell_type": "markdown",
   "metadata": {},
   "source": [
    "Xgboost trees previous to failed states"
   ]
  },
  {
   "cell_type": "code",
   "execution_count": 49,
   "metadata": {},
   "outputs": [
    {
     "name": "stderr",
     "output_type": "stream",
     "text": [
      "C:\\Users\\jchas\\Anaconda3\\lib\\site-packages\\xgboost\\core.py:587: FutureWarning: Series.base is deprecated and will be removed in a future version\n",
      "  if getattr(data, 'base', None) is not None and \\\n",
      "C:\\Users\\jchas\\Anaconda3\\lib\\site-packages\\xgboost\\core.py:588: FutureWarning: Series.base is deprecated and will be removed in a future version\n",
      "  data.base is not None and isinstance(data, np.ndarray) \\\n"
     ]
    }
   ],
   "source": [
    "dtrain_lead1 = xgb.DMatrix(X_train_sc, label=y_lead1_train_label)\n",
    "dtest_lead1 = xgb.DMatrix(X_train_sc)"
   ]
  },
  {
   "cell_type": "code",
   "execution_count": 50,
   "metadata": {},
   "outputs": [
    {
     "name": "stdout",
     "output_type": "stream",
     "text": [
      "|   iter    |  target   |   alpha   | colsam... |    eta    |   gamma   |  lambda1  | max_depth | subsample |\n",
      "-------------------------------------------------------------------------------------------------------------\n",
      "| \u001b[0m 1       \u001b[0m | \u001b[0m 0.919   \u001b[0m | \u001b[0m 0.4771  \u001b[0m | \u001b[0m 0.4508  \u001b[0m | \u001b[0m 0.7609  \u001b[0m | \u001b[0m 0.7552  \u001b[0m | \u001b[0m 0.4277  \u001b[0m | \u001b[0m 12.83   \u001b[0m | \u001b[0m 0.8587  \u001b[0m |\n",
      "| \u001b[0m 2       \u001b[0m | \u001b[0m 0.9094  \u001b[0m | \u001b[0m 0.5691  \u001b[0m | \u001b[0m 0.4643  \u001b[0m | \u001b[0m 0.5301  \u001b[0m | \u001b[0m 0.3541  \u001b[0m | \u001b[0m 0.02682 \u001b[0m | \u001b[0m 7.559   \u001b[0m | \u001b[0m 0.5575  \u001b[0m |\n",
      "| \u001b[0m 3       \u001b[0m | \u001b[0m 0.9167  \u001b[0m | \u001b[0m 0.8543  \u001b[0m | \u001b[0m 0.6843  \u001b[0m | \u001b[0m 0.4729  \u001b[0m | \u001b[0m 0.6471  \u001b[0m | \u001b[0m 0.5617  \u001b[0m | \u001b[0m 6.962   \u001b[0m | \u001b[0m 0.4961  \u001b[0m |\n",
      "| \u001b[95m 4       \u001b[0m | \u001b[95m 0.929   \u001b[0m | \u001b[95m 0.7508  \u001b[0m | \u001b[95m 0.4597  \u001b[0m | \u001b[95m 0.3049  \u001b[0m | \u001b[95m 0.6361  \u001b[0m | \u001b[95m 0.6719  \u001b[0m | \u001b[95m 9.549   \u001b[0m | \u001b[95m 0.6761  \u001b[0m |\n",
      "| \u001b[0m 5       \u001b[0m | \u001b[0m 0.8925  \u001b[0m | \u001b[0m 0.5987  \u001b[0m | \u001b[0m 0.9065  \u001b[0m | \u001b[0m 0.8676  \u001b[0m | \u001b[0m 0.7631  \u001b[0m | \u001b[0m 0.8132  \u001b[0m | \u001b[0m 3.165   \u001b[0m | \u001b[0m 0.5982  \u001b[0m |\n",
      "| \u001b[0m 6       \u001b[0m | \u001b[0m 0.9184  \u001b[0m | \u001b[0m 0.774   \u001b[0m | \u001b[0m 0.3344  \u001b[0m | \u001b[0m 0.4436  \u001b[0m | \u001b[0m 0.4251  \u001b[0m | \u001b[0m 0.5365  \u001b[0m | \u001b[0m 4.66    \u001b[0m | \u001b[0m 0.5956  \u001b[0m |\n",
      "| \u001b[0m 7       \u001b[0m | \u001b[0m 0.9271  \u001b[0m | \u001b[0m 0.2998  \u001b[0m | \u001b[0m 0.5258  \u001b[0m | \u001b[0m 0.3745  \u001b[0m | \u001b[0m 0.3497  \u001b[0m | \u001b[0m 0.414   \u001b[0m | \u001b[0m 10.68   \u001b[0m | \u001b[0m 0.7484  \u001b[0m |\n",
      "| \u001b[0m 8       \u001b[0m | \u001b[0m 0.871   \u001b[0m | \u001b[0m 0.6006  \u001b[0m | \u001b[0m 0.9515  \u001b[0m | \u001b[0m 0.8714  \u001b[0m | \u001b[0m 0.5765  \u001b[0m | \u001b[0m 0.7582  \u001b[0m | \u001b[0m 7.61    \u001b[0m | \u001b[0m 0.337   \u001b[0m |\n",
      "| \u001b[0m 9       \u001b[0m | \u001b[0m 0.9106  \u001b[0m | \u001b[0m 0.05242 \u001b[0m | \u001b[0m 0.4678  \u001b[0m | \u001b[0m 0.6289  \u001b[0m | \u001b[0m 0.773   \u001b[0m | \u001b[0m 0.2146  \u001b[0m | \u001b[0m 3.312   \u001b[0m | \u001b[0m 0.7545  \u001b[0m |\n",
      "| \u001b[0m 10      \u001b[0m | \u001b[0m 0.9058  \u001b[0m | \u001b[0m 0.9616  \u001b[0m | \u001b[0m 0.4387  \u001b[0m | \u001b[0m 0.6648  \u001b[0m | \u001b[0m 0.6208  \u001b[0m | \u001b[0m 0.09213 \u001b[0m | \u001b[0m 4.392   \u001b[0m | \u001b[0m 0.5644  \u001b[0m |\n",
      "| \u001b[0m 11      \u001b[0m | \u001b[0m 0.9239  \u001b[0m | \u001b[0m 1.0     \u001b[0m | \u001b[0m 1.0     \u001b[0m | \u001b[0m 0.3     \u001b[0m | \u001b[0m 0.9     \u001b[0m | \u001b[0m 0.0     \u001b[0m | \u001b[0m 15.0    \u001b[0m | \u001b[0m 0.9     \u001b[0m |\n",
      "| \u001b[0m 12      \u001b[0m | \u001b[0m 0.9273  \u001b[0m | \u001b[0m 0.0     \u001b[0m | \u001b[0m 0.3     \u001b[0m | \u001b[0m 0.3     \u001b[0m | \u001b[0m 0.9     \u001b[0m | \u001b[0m 0.0     \u001b[0m | \u001b[0m 12.75   \u001b[0m | \u001b[0m 0.9     \u001b[0m |\n",
      "| \u001b[0m 13      \u001b[0m | \u001b[0m 0.9204  \u001b[0m | \u001b[0m 1.0     \u001b[0m | \u001b[0m 1.0     \u001b[0m | \u001b[0m 0.3     \u001b[0m | \u001b[0m 0.9     \u001b[0m | \u001b[0m 0.0     \u001b[0m | \u001b[0m 5.545   \u001b[0m | \u001b[0m 0.9     \u001b[0m |\n",
      "| \u001b[95m 14      \u001b[0m | \u001b[95m 0.9314  \u001b[0m | \u001b[95m 1.0     \u001b[0m | \u001b[95m 0.3     \u001b[0m | \u001b[95m 0.3     \u001b[0m | \u001b[95m 0.3     \u001b[0m | \u001b[95m 1.0     \u001b[0m | \u001b[95m 15.0    \u001b[0m | \u001b[95m 0.9     \u001b[0m |\n",
      "| \u001b[0m 15      \u001b[0m | \u001b[0m 0.93    \u001b[0m | \u001b[0m 1.0     \u001b[0m | \u001b[0m 0.3     \u001b[0m | \u001b[0m 0.3     \u001b[0m | \u001b[0m 0.3     \u001b[0m | \u001b[0m 0.0     \u001b[0m | \u001b[0m 12.47   \u001b[0m | \u001b[0m 0.9     \u001b[0m |\n",
      "| \u001b[0m 16      \u001b[0m | \u001b[0m 0.9081  \u001b[0m | \u001b[0m 1.0     \u001b[0m | \u001b[0m 0.3     \u001b[0m | \u001b[0m 0.3     \u001b[0m | \u001b[0m 0.9     \u001b[0m | \u001b[0m 1.0     \u001b[0m | \u001b[0m 3.0     \u001b[0m | \u001b[0m 0.3     \u001b[0m |\n",
      "| \u001b[0m 17      \u001b[0m | \u001b[0m 0.9251  \u001b[0m | \u001b[0m 1.0     \u001b[0m | \u001b[0m 0.3     \u001b[0m | \u001b[0m 0.3     \u001b[0m | \u001b[0m 0.9     \u001b[0m | \u001b[0m 1.0     \u001b[0m | \u001b[0m 6.77    \u001b[0m | \u001b[0m 0.9     \u001b[0m |\n",
      "| \u001b[0m 18      \u001b[0m | \u001b[0m 0.914   \u001b[0m | \u001b[0m 1.0     \u001b[0m | \u001b[0m 1.0     \u001b[0m | \u001b[0m 0.3     \u001b[0m | \u001b[0m 0.9     \u001b[0m | \u001b[0m 1.0     \u001b[0m | \u001b[0m 13.3    \u001b[0m | \u001b[0m 0.3     \u001b[0m |\n",
      "| \u001b[0m 19      \u001b[0m | \u001b[0m 0.899   \u001b[0m | \u001b[0m 1.11e-16\u001b[0m | \u001b[0m 1.0     \u001b[0m | \u001b[0m 0.3     \u001b[0m | \u001b[0m 0.3     \u001b[0m | \u001b[0m 0.0     \u001b[0m | \u001b[0m 3.0     \u001b[0m | \u001b[0m 0.3     \u001b[0m |\n",
      "| \u001b[0m 20      \u001b[0m | \u001b[0m 0.929   \u001b[0m | \u001b[0m 0.0     \u001b[0m | \u001b[0m 1.0     \u001b[0m | \u001b[0m 0.3     \u001b[0m | \u001b[0m 0.3     \u001b[0m | \u001b[0m 1.0     \u001b[0m | \u001b[0m 15.0    \u001b[0m | \u001b[0m 0.9     \u001b[0m |\n",
      "| \u001b[0m 21      \u001b[0m | \u001b[0m 0.9303  \u001b[0m | \u001b[0m 0.4916  \u001b[0m | \u001b[0m 0.3     \u001b[0m | \u001b[0m 0.3     \u001b[0m | \u001b[0m 0.7706  \u001b[0m | \u001b[0m 1.0     \u001b[0m | \u001b[0m 11.96   \u001b[0m | \u001b[0m 0.9     \u001b[0m |\n",
      "| \u001b[0m 22      \u001b[0m | \u001b[0m 0.8408  \u001b[0m | \u001b[0m 0.0     \u001b[0m | \u001b[0m 0.3     \u001b[0m | \u001b[0m 0.657   \u001b[0m | \u001b[0m 0.3     \u001b[0m | \u001b[0m 0.0     \u001b[0m | \u001b[0m 15.0    \u001b[0m | \u001b[0m 0.3     \u001b[0m |\n",
      "| \u001b[0m 23      \u001b[0m | \u001b[0m 0.922   \u001b[0m | \u001b[0m 1.0     \u001b[0m | \u001b[0m 1.0     \u001b[0m | \u001b[0m 0.3     \u001b[0m | \u001b[0m 0.9     \u001b[0m | \u001b[0m 0.003627\u001b[0m | \u001b[0m 10.9    \u001b[0m | \u001b[0m 0.9     \u001b[0m |\n",
      "| \u001b[0m 24      \u001b[0m | \u001b[0m 0.9278  \u001b[0m | \u001b[0m 1.0     \u001b[0m | \u001b[0m 1.0     \u001b[0m | \u001b[0m 0.3     \u001b[0m | \u001b[0m 0.6752  \u001b[0m | \u001b[0m 1.0     \u001b[0m | \u001b[0m 14.35   \u001b[0m | \u001b[0m 0.9     \u001b[0m |\n",
      "| \u001b[0m 25      \u001b[0m | \u001b[0m 0.9093  \u001b[0m | \u001b[0m 0.0     \u001b[0m | \u001b[0m 0.3     \u001b[0m | \u001b[0m 0.3     \u001b[0m | \u001b[0m 0.9     \u001b[0m | \u001b[0m 0.4826  \u001b[0m | \u001b[0m 5.56    \u001b[0m | \u001b[0m 0.3     \u001b[0m |\n",
      "| \u001b[0m 26      \u001b[0m | \u001b[0m 0.9083  \u001b[0m | \u001b[0m 0.9942  \u001b[0m | \u001b[0m 0.3     \u001b[0m | \u001b[0m 0.3     \u001b[0m | \u001b[0m 0.6946  \u001b[0m | \u001b[0m 3.455e-0\u001b[0m | \u001b[0m 9.677   \u001b[0m | \u001b[0m 0.3     \u001b[0m |\n",
      "| \u001b[0m 27      \u001b[0m | \u001b[0m 0.9274  \u001b[0m | \u001b[0m 0.1802  \u001b[0m | \u001b[0m 0.9532  \u001b[0m | \u001b[0m 0.3     \u001b[0m | \u001b[0m 0.3118  \u001b[0m | \u001b[0m 0.874   \u001b[0m | \u001b[0m 12.88   \u001b[0m | \u001b[0m 0.9     \u001b[0m |\n",
      "| \u001b[0m 28      \u001b[0m | \u001b[0m 0.9292  \u001b[0m | \u001b[0m 0.9911  \u001b[0m | \u001b[0m 0.5852  \u001b[0m | \u001b[0m 0.3     \u001b[0m | \u001b[0m 0.3     \u001b[0m | \u001b[0m 0.8587  \u001b[0m | \u001b[0m 9.079   \u001b[0m | \u001b[0m 0.9     \u001b[0m |\n",
      "| \u001b[0m 29      \u001b[0m | \u001b[0m 0.9255  \u001b[0m | \u001b[0m 0.9119  \u001b[0m | \u001b[0m 0.4113  \u001b[0m | \u001b[0m 0.312   \u001b[0m | \u001b[0m 0.3248  \u001b[0m | \u001b[0m 0.4692  \u001b[0m | \u001b[0m 7.021   \u001b[0m | \u001b[0m 0.8149  \u001b[0m |\n",
      "| \u001b[0m 30      \u001b[0m | \u001b[0m 0.929   \u001b[0m | \u001b[0m 0.9371  \u001b[0m | \u001b[0m 0.3166  \u001b[0m | \u001b[0m 0.3056  \u001b[0m | \u001b[0m 0.8836  \u001b[0m | \u001b[0m 0.5498  \u001b[0m | \u001b[0m 13.16   \u001b[0m | \u001b[0m 0.897   \u001b[0m |\n",
      "| \u001b[0m 31      \u001b[0m | \u001b[0m 0.9278  \u001b[0m | \u001b[0m 0.0374  \u001b[0m | \u001b[0m 0.315   \u001b[0m | \u001b[0m 0.3188  \u001b[0m | \u001b[0m 0.4262  \u001b[0m | \u001b[0m 0.8051  \u001b[0m | \u001b[0m 10.07   \u001b[0m | \u001b[0m 0.8633  \u001b[0m |\n",
      "| \u001b[0m 32      \u001b[0m | \u001b[0m 0.9297  \u001b[0m | \u001b[0m 0.7299  \u001b[0m | \u001b[0m 0.7322  \u001b[0m | \u001b[0m 0.3076  \u001b[0m | \u001b[0m 0.8426  \u001b[0m | \u001b[0m 0.9783  \u001b[0m | \u001b[0m 14.97   \u001b[0m | \u001b[0m 0.8681  \u001b[0m |\n",
      "| \u001b[95m 33      \u001b[0m | \u001b[95m 0.9315  \u001b[0m | \u001b[95m 0.3956  \u001b[0m | \u001b[95m 0.5212  \u001b[0m | \u001b[95m 0.3011  \u001b[0m | \u001b[95m 0.443   \u001b[0m | \u001b[95m 0.3647  \u001b[0m | \u001b[95m 11.4    \u001b[0m | \u001b[95m 0.8718  \u001b[0m |\n",
      "| \u001b[0m 34      \u001b[0m | \u001b[0m 0.9306  \u001b[0m | \u001b[0m 0.5854  \u001b[0m | \u001b[0m 0.3651  \u001b[0m | \u001b[0m 0.3017  \u001b[0m | \u001b[0m 0.327   \u001b[0m | \u001b[0m 0.9877  \u001b[0m | \u001b[0m 9.976   \u001b[0m | \u001b[0m 0.8885  \u001b[0m |\n",
      "| \u001b[0m 35      \u001b[0m | \u001b[0m 0.9269  \u001b[0m | \u001b[0m 0.09302 \u001b[0m | \u001b[0m 0.648   \u001b[0m | \u001b[0m 0.3125  \u001b[0m | \u001b[0m 0.7616  \u001b[0m | \u001b[0m 0.03949 \u001b[0m | \u001b[0m 9.861   \u001b[0m | \u001b[0m 0.8797  \u001b[0m |\n",
      "| \u001b[0m 36      \u001b[0m | \u001b[0m 0.9198  \u001b[0m | \u001b[0m 0.5496  \u001b[0m | \u001b[0m 0.3     \u001b[0m | \u001b[0m 0.3     \u001b[0m | \u001b[0m 0.3     \u001b[0m | \u001b[0m 0.0     \u001b[0m | \u001b[0m 3.282   \u001b[0m | \u001b[0m 0.9     \u001b[0m |\n",
      "| \u001b[0m 37      \u001b[0m | \u001b[0m 0.9255  \u001b[0m | \u001b[0m 0.2992  \u001b[0m | \u001b[0m 1.0     \u001b[0m | \u001b[0m 0.3     \u001b[0m | \u001b[0m 0.3     \u001b[0m | \u001b[0m 0.0     \u001b[0m | \u001b[0m 12.72   \u001b[0m | \u001b[0m 0.9     \u001b[0m |\n",
      "| \u001b[95m 38      \u001b[0m | \u001b[95m 0.9316  \u001b[0m | \u001b[95m 0.9169  \u001b[0m | \u001b[95m 0.4035  \u001b[0m | \u001b[95m 0.3086  \u001b[0m | \u001b[95m 0.375   \u001b[0m | \u001b[95m 0.5514  \u001b[0m | \u001b[95m 9.833   \u001b[0m | \u001b[95m 0.8971  \u001b[0m |\n",
      "| \u001b[0m 39      \u001b[0m | \u001b[0m 0.9281  \u001b[0m | \u001b[0m 0.9036  \u001b[0m | \u001b[0m 0.6368  \u001b[0m | \u001b[0m 0.3063  \u001b[0m | \u001b[0m 0.8832  \u001b[0m | \u001b[0m 0.2101  \u001b[0m | \u001b[0m 8.173   \u001b[0m | \u001b[0m 0.8954  \u001b[0m |\n",
      "| \u001b[0m 40      \u001b[0m | \u001b[0m 0.9286  \u001b[0m | \u001b[0m 0.9166  \u001b[0m | \u001b[0m 0.4019  \u001b[0m | \u001b[0m 0.3184  \u001b[0m | \u001b[0m 0.3056  \u001b[0m | \u001b[0m 0.7412  \u001b[0m | \u001b[0m 12.22   \u001b[0m | \u001b[0m 0.8291  \u001b[0m |\n",
      "| \u001b[0m 41      \u001b[0m | \u001b[0m 0.9274  \u001b[0m | \u001b[0m 0.3681  \u001b[0m | \u001b[0m 0.8612  \u001b[0m | \u001b[0m 0.3016  \u001b[0m | \u001b[0m 0.8842  \u001b[0m | \u001b[0m 0.6246  \u001b[0m | \u001b[0m 12.45   \u001b[0m | \u001b[0m 0.8841  \u001b[0m |\n",
      "| \u001b[0m 42      \u001b[0m | \u001b[0m 0.9298  \u001b[0m | \u001b[0m 0.5262  \u001b[0m | \u001b[0m 0.3257  \u001b[0m | \u001b[0m 0.3032  \u001b[0m | \u001b[0m 0.3067  \u001b[0m | \u001b[0m 0.3192  \u001b[0m | \u001b[0m 11.34   \u001b[0m | \u001b[0m 0.8891  \u001b[0m |\n",
      "| \u001b[0m 43      \u001b[0m | \u001b[0m 0.9286  \u001b[0m | \u001b[0m 0.5014  \u001b[0m | \u001b[0m 0.7251  \u001b[0m | \u001b[0m 0.3072  \u001b[0m | \u001b[0m 0.7498  \u001b[0m | \u001b[0m 0.9215  \u001b[0m | \u001b[0m 10.42   \u001b[0m | \u001b[0m 0.8938  \u001b[0m |\n",
      "| \u001b[0m 44      \u001b[0m | \u001b[0m 0.9285  \u001b[0m | \u001b[0m 0.6053  \u001b[0m | \u001b[0m 0.6714  \u001b[0m | \u001b[0m 0.3018  \u001b[0m | \u001b[0m 0.4134  \u001b[0m | \u001b[0m 0.648   \u001b[0m | \u001b[0m 9.54    \u001b[0m | \u001b[0m 0.8703  \u001b[0m |\n"
     ]
    },
    {
     "name": "stdout",
     "output_type": "stream",
     "text": [
      "| \u001b[0m 45      \u001b[0m | \u001b[0m 0.9252  \u001b[0m | \u001b[0m 0.04681 \u001b[0m | \u001b[0m 0.4482  \u001b[0m | \u001b[0m 0.324   \u001b[0m | \u001b[0m 0.8907  \u001b[0m | \u001b[0m 0.1764  \u001b[0m | \u001b[0m 11.12   \u001b[0m | \u001b[0m 0.8907  \u001b[0m |\n",
      "| \u001b[95m 46      \u001b[0m | \u001b[95m 0.9319  \u001b[0m | \u001b[95m 0.00888 \u001b[0m | \u001b[95m 0.4886  \u001b[0m | \u001b[95m 0.3083  \u001b[0m | \u001b[95m 0.393   \u001b[0m | \u001b[95m 0.7417  \u001b[0m | \u001b[95m 11.58   \u001b[0m | \u001b[95m 0.8983  \u001b[0m |\n",
      "| \u001b[0m 47      \u001b[0m | \u001b[0m 0.9296  \u001b[0m | \u001b[0m 0.4688  \u001b[0m | \u001b[0m 0.428   \u001b[0m | \u001b[0m 0.3106  \u001b[0m | \u001b[0m 0.4255  \u001b[0m | \u001b[0m 0.9785  \u001b[0m | \u001b[0m 13.15   \u001b[0m | \u001b[0m 0.8863  \u001b[0m |\n",
      "| \u001b[0m 48      \u001b[0m | \u001b[0m 0.9144  \u001b[0m | \u001b[0m 0.9941  \u001b[0m | \u001b[0m 0.3837  \u001b[0m | \u001b[0m 0.3018  \u001b[0m | \u001b[0m 0.8737  \u001b[0m | \u001b[0m 0.7587  \u001b[0m | \u001b[0m 6.411   \u001b[0m | \u001b[0m 0.3499  \u001b[0m |\n",
      "| \u001b[0m 49      \u001b[0m | \u001b[0m 0.9268  \u001b[0m | \u001b[0m 0.01835 \u001b[0m | \u001b[0m 0.7248  \u001b[0m | \u001b[0m 0.3143  \u001b[0m | \u001b[0m 0.3937  \u001b[0m | \u001b[0m 0.06923 \u001b[0m | \u001b[0m 5.739   \u001b[0m | \u001b[0m 0.8821  \u001b[0m |\n",
      "| \u001b[0m 50      \u001b[0m | \u001b[0m 0.9237  \u001b[0m | \u001b[0m 0.04589 \u001b[0m | \u001b[0m 0.4409  \u001b[0m | \u001b[0m 0.3162  \u001b[0m | \u001b[0m 0.4749  \u001b[0m | \u001b[0m 0.9032  \u001b[0m | \u001b[0m 3.679   \u001b[0m | \u001b[0m 0.8557  \u001b[0m |\n",
      "| \u001b[0m 51      \u001b[0m | \u001b[0m 0.9283  \u001b[0m | \u001b[0m 0.9498  \u001b[0m | \u001b[0m 0.4275  \u001b[0m | \u001b[0m 0.3019  \u001b[0m | \u001b[0m 0.6631  \u001b[0m | \u001b[0m 0.6915  \u001b[0m | \u001b[0m 9.683   \u001b[0m | \u001b[0m 0.8789  \u001b[0m |\n",
      "| \u001b[0m 52      \u001b[0m | \u001b[0m 0.9261  \u001b[0m | \u001b[0m 0.3745  \u001b[0m | \u001b[0m 0.6258  \u001b[0m | \u001b[0m 0.3088  \u001b[0m | \u001b[0m 0.8718  \u001b[0m | \u001b[0m 0.4007  \u001b[0m | \u001b[0m 7.219   \u001b[0m | \u001b[0m 0.8924  \u001b[0m |\n",
      "| \u001b[0m 53      \u001b[0m | \u001b[0m 0.9282  \u001b[0m | \u001b[0m 0.1387  \u001b[0m | \u001b[0m 0.3163  \u001b[0m | \u001b[0m 0.3179  \u001b[0m | \u001b[0m 0.8533  \u001b[0m | \u001b[0m 0.9396  \u001b[0m | \u001b[0m 13.06   \u001b[0m | \u001b[0m 0.8933  \u001b[0m |\n",
      "| \u001b[0m 54      \u001b[0m | \u001b[0m 0.9311  \u001b[0m | \u001b[0m 0.3284  \u001b[0m | \u001b[0m 0.3599  \u001b[0m | \u001b[0m 0.325   \u001b[0m | \u001b[0m 0.4368  \u001b[0m | \u001b[0m 0.4195  \u001b[0m | \u001b[0m 12.27   \u001b[0m | \u001b[0m 0.899   \u001b[0m |\n",
      "| \u001b[0m 55      \u001b[0m | \u001b[0m 0.9295  \u001b[0m | \u001b[0m 0.5784  \u001b[0m | \u001b[0m 0.5037  \u001b[0m | \u001b[0m 0.3043  \u001b[0m | \u001b[0m 0.3759  \u001b[0m | \u001b[0m 0.6772  \u001b[0m | \u001b[0m 10.72   \u001b[0m | \u001b[0m 0.893   \u001b[0m |\n",
      "| \u001b[0m 56      \u001b[0m | \u001b[0m 0.9261  \u001b[0m | \u001b[0m 0.9998  \u001b[0m | \u001b[0m 0.9699  \u001b[0m | \u001b[0m 0.3009  \u001b[0m | \u001b[0m 0.4316  \u001b[0m | \u001b[0m 0.8541  \u001b[0m | \u001b[0m 5.432   \u001b[0m | \u001b[0m 0.8638  \u001b[0m |\n",
      "| \u001b[0m 57      \u001b[0m | \u001b[0m 0.9246  \u001b[0m | \u001b[0m 0.0     \u001b[0m | \u001b[0m 0.3     \u001b[0m | \u001b[0m 0.3     \u001b[0m | \u001b[0m 0.3     \u001b[0m | \u001b[0m 0.0     \u001b[0m | \u001b[0m 4.17    \u001b[0m | \u001b[0m 0.9     \u001b[0m |\n",
      "| \u001b[0m 58      \u001b[0m | \u001b[0m 0.9228  \u001b[0m | \u001b[0m 0.9637  \u001b[0m | \u001b[0m 0.8513  \u001b[0m | \u001b[0m 0.309   \u001b[0m | \u001b[0m 0.6348  \u001b[0m | \u001b[0m 0.01327 \u001b[0m | \u001b[0m 7.154   \u001b[0m | \u001b[0m 0.7835  \u001b[0m |\n",
      "| \u001b[0m 59      \u001b[0m | \u001b[0m 0.9251  \u001b[0m | \u001b[0m 0.4531  \u001b[0m | \u001b[0m 0.8467  \u001b[0m | \u001b[0m 0.3037  \u001b[0m | \u001b[0m 0.7443  \u001b[0m | \u001b[0m 0.6847  \u001b[0m | \u001b[0m 4.954   \u001b[0m | \u001b[0m 0.8952  \u001b[0m |\n",
      "| \u001b[0m 60      \u001b[0m | \u001b[0m 0.9306  \u001b[0m | \u001b[0m 0.009617\u001b[0m | \u001b[0m 0.5067  \u001b[0m | \u001b[0m 0.3013  \u001b[0m | \u001b[0m 0.3431  \u001b[0m | \u001b[0m 0.3906  \u001b[0m | \u001b[0m 11.62   \u001b[0m | \u001b[0m 0.8677  \u001b[0m |\n",
      "| \u001b[0m 61      \u001b[0m | \u001b[0m 0.9274  \u001b[0m | \u001b[0m 0.4201  \u001b[0m | \u001b[0m 0.3613  \u001b[0m | \u001b[0m 0.3177  \u001b[0m | \u001b[0m 0.4657  \u001b[0m | \u001b[0m 0.4833  \u001b[0m | \u001b[0m 5.776   \u001b[0m | \u001b[0m 0.8994  \u001b[0m |\n",
      "| \u001b[0m 62      \u001b[0m | \u001b[0m 0.927   \u001b[0m | \u001b[0m 0.905   \u001b[0m | \u001b[0m 0.852   \u001b[0m | \u001b[0m 0.3553  \u001b[0m | \u001b[0m 0.348   \u001b[0m | \u001b[0m 0.7839  \u001b[0m | \u001b[0m 14.92   \u001b[0m | \u001b[0m 0.8972  \u001b[0m |\n",
      "| \u001b[0m 63      \u001b[0m | \u001b[0m 0.9283  \u001b[0m | \u001b[0m 0.2648  \u001b[0m | \u001b[0m 0.4     \u001b[0m | \u001b[0m 0.3023  \u001b[0m | \u001b[0m 0.3527  \u001b[0m | \u001b[0m 0.01362 \u001b[0m | \u001b[0m 10.11   \u001b[0m | \u001b[0m 0.8955  \u001b[0m |\n",
      "| \u001b[0m 64      \u001b[0m | \u001b[0m 0.9263  \u001b[0m | \u001b[0m 0.1807  \u001b[0m | \u001b[0m 0.3945  \u001b[0m | \u001b[0m 0.302   \u001b[0m | \u001b[0m 0.4076  \u001b[0m | \u001b[0m 0.7394  \u001b[0m | \u001b[0m 11.56   \u001b[0m | \u001b[0m 0.8797  \u001b[0m |\n",
      "| \u001b[0m 65      \u001b[0m | \u001b[0m 0.9303  \u001b[0m | \u001b[0m 0.07409 \u001b[0m | \u001b[0m 0.4888  \u001b[0m | \u001b[0m 0.3017  \u001b[0m | \u001b[0m 0.3038  \u001b[0m | \u001b[0m 0.4301  \u001b[0m | \u001b[0m 12.22   \u001b[0m | \u001b[0m 0.8992  \u001b[0m |\n",
      "| \u001b[0m 66      \u001b[0m | \u001b[0m 0.9262  \u001b[0m | \u001b[0m 0.8068  \u001b[0m | \u001b[0m 0.8838  \u001b[0m | \u001b[0m 0.3096  \u001b[0m | \u001b[0m 0.3704  \u001b[0m | \u001b[0m 0.813   \u001b[0m | \u001b[0m 3.179   \u001b[0m | \u001b[0m 0.8999  \u001b[0m |\n",
      "| \u001b[0m 67      \u001b[0m | \u001b[0m 0.9242  \u001b[0m | \u001b[0m 0.9325  \u001b[0m | \u001b[0m 0.3903  \u001b[0m | \u001b[0m 0.3698  \u001b[0m | \u001b[0m 0.3689  \u001b[0m | \u001b[0m 0.9897  \u001b[0m | \u001b[0m 3.957   \u001b[0m | \u001b[0m 0.8778  \u001b[0m |\n",
      "| \u001b[0m 68      \u001b[0m | \u001b[0m 0.9252  \u001b[0m | \u001b[0m 0.8074  \u001b[0m | \u001b[0m 0.497   \u001b[0m | \u001b[0m 0.3139  \u001b[0m | \u001b[0m 0.3453  \u001b[0m | \u001b[0m 0.925   \u001b[0m | \u001b[0m 3.016   \u001b[0m | \u001b[0m 0.8904  \u001b[0m |\n",
      "| \u001b[0m 69      \u001b[0m | \u001b[0m 0.9277  \u001b[0m | \u001b[0m 0.6489  \u001b[0m | \u001b[0m 0.5786  \u001b[0m | \u001b[0m 0.3183  \u001b[0m | \u001b[0m 0.5506  \u001b[0m | \u001b[0m 0.01368 \u001b[0m | \u001b[0m 12.17   \u001b[0m | \u001b[0m 0.882   \u001b[0m |\n",
      "| \u001b[0m 70      \u001b[0m | \u001b[0m 0.9283  \u001b[0m | \u001b[0m 0.72    \u001b[0m | \u001b[0m 0.3243  \u001b[0m | \u001b[0m 0.3048  \u001b[0m | \u001b[0m 0.7443  \u001b[0m | \u001b[0m 0.4868  \u001b[0m | \u001b[0m 8.464   \u001b[0m | \u001b[0m 0.8864  \u001b[0m |\n",
      "| \u001b[0m 71      \u001b[0m | \u001b[0m 0.9243  \u001b[0m | \u001b[0m 0.4487  \u001b[0m | \u001b[0m 0.5667  \u001b[0m | \u001b[0m 0.3043  \u001b[0m | \u001b[0m 0.8593  \u001b[0m | \u001b[0m 0.9926  \u001b[0m | \u001b[0m 3.174   \u001b[0m | \u001b[0m 0.8849  \u001b[0m |\n",
      "| \u001b[0m 72      \u001b[0m | \u001b[0m 0.9273  \u001b[0m | \u001b[0m 0.04086 \u001b[0m | \u001b[0m 0.6158  \u001b[0m | \u001b[0m 0.3011  \u001b[0m | \u001b[0m 0.3158  \u001b[0m | \u001b[0m 0.3365  \u001b[0m | \u001b[0m 10.92   \u001b[0m | \u001b[0m 0.8919  \u001b[0m |\n",
      "| \u001b[0m 73      \u001b[0m | \u001b[0m 0.9212  \u001b[0m | \u001b[0m 0.9428  \u001b[0m | \u001b[0m 0.6711  \u001b[0m | \u001b[0m 0.3021  \u001b[0m | \u001b[0m 0.3202  \u001b[0m | \u001b[0m 0.8615  \u001b[0m | \u001b[0m 10.51   \u001b[0m | \u001b[0m 0.4741  \u001b[0m |\n",
      "| \u001b[0m 74      \u001b[0m | \u001b[0m 0.9287  \u001b[0m | \u001b[0m 0.9597  \u001b[0m | \u001b[0m 0.7869  \u001b[0m | \u001b[0m 0.3072  \u001b[0m | \u001b[0m 0.6912  \u001b[0m | \u001b[0m 0.9728  \u001b[0m | \u001b[0m 14.82   \u001b[0m | \u001b[0m 0.8991  \u001b[0m |\n",
      "| \u001b[0m 75      \u001b[0m | \u001b[0m 0.9246  \u001b[0m | \u001b[0m 0.02674 \u001b[0m | \u001b[0m 0.9085  \u001b[0m | \u001b[0m 0.3331  \u001b[0m | \u001b[0m 0.7976  \u001b[0m | \u001b[0m 0.8882  \u001b[0m | \u001b[0m 14.55   \u001b[0m | \u001b[0m 0.8982  \u001b[0m |\n",
      "| \u001b[0m 76      \u001b[0m | \u001b[0m 0.9291  \u001b[0m | \u001b[0m 0.5523  \u001b[0m | \u001b[0m 0.3139  \u001b[0m | \u001b[0m 0.3048  \u001b[0m | \u001b[0m 0.3042  \u001b[0m | \u001b[0m 0.1896  \u001b[0m | \u001b[0m 12.54   \u001b[0m | \u001b[0m 0.8802  \u001b[0m |\n",
      "| \u001b[0m 77      \u001b[0m | \u001b[0m 0.9286  \u001b[0m | \u001b[0m 0.8563  \u001b[0m | \u001b[0m 0.3022  \u001b[0m | \u001b[0m 0.3058  \u001b[0m | \u001b[0m 0.4646  \u001b[0m | \u001b[0m 0.5557  \u001b[0m | \u001b[0m 9.362   \u001b[0m | \u001b[0m 0.897   \u001b[0m |\n",
      "| \u001b[0m 78      \u001b[0m | \u001b[0m 0.927   \u001b[0m | \u001b[0m 0.9905  \u001b[0m | \u001b[0m 0.7825  \u001b[0m | \u001b[0m 0.311   \u001b[0m | \u001b[0m 0.317   \u001b[0m | \u001b[0m 0.9534  \u001b[0m | \u001b[0m 11.91   \u001b[0m | \u001b[0m 0.8914  \u001b[0m |\n",
      "| \u001b[0m 79      \u001b[0m | \u001b[0m 0.9269  \u001b[0m | \u001b[0m 0.6662  \u001b[0m | \u001b[0m 0.956   \u001b[0m | \u001b[0m 0.3014  \u001b[0m | \u001b[0m 0.3402  \u001b[0m | \u001b[0m 0.3706  \u001b[0m | \u001b[0m 4.136   \u001b[0m | \u001b[0m 0.8828  \u001b[0m |\n",
      "| \u001b[0m 80      \u001b[0m | \u001b[0m 0.9292  \u001b[0m | \u001b[0m 0.6552  \u001b[0m | \u001b[0m 0.3313  \u001b[0m | \u001b[0m 0.3096  \u001b[0m | \u001b[0m 0.3257  \u001b[0m | \u001b[0m 0.9274  \u001b[0m | \u001b[0m 12.75   \u001b[0m | \u001b[0m 0.8751  \u001b[0m |\n",
      "| \u001b[0m 81      \u001b[0m | \u001b[0m 0.9271  \u001b[0m | \u001b[0m 0.5053  \u001b[0m | \u001b[0m 0.47    \u001b[0m | \u001b[0m 0.3015  \u001b[0m | \u001b[0m 0.8976  \u001b[0m | \u001b[0m 0.5266  \u001b[0m | \u001b[0m 8.996   \u001b[0m | \u001b[0m 0.8891  \u001b[0m |\n",
      "| \u001b[0m 82      \u001b[0m | \u001b[0m 0.9289  \u001b[0m | \u001b[0m 0.9843  \u001b[0m | \u001b[0m 0.3532  \u001b[0m | \u001b[0m 0.302   \u001b[0m | \u001b[0m 0.4285  \u001b[0m | \u001b[0m 0.482   \u001b[0m | \u001b[0m 11.74   \u001b[0m | \u001b[0m 0.8851  \u001b[0m |\n",
      "| \u001b[0m 83      \u001b[0m | \u001b[0m 0.9159  \u001b[0m | \u001b[0m 0.9982  \u001b[0m | \u001b[0m 0.3174  \u001b[0m | \u001b[0m 0.7218  \u001b[0m | \u001b[0m 0.8229  \u001b[0m | \u001b[0m 0.9566  \u001b[0m | \u001b[0m 14.98   \u001b[0m | \u001b[0m 0.8846  \u001b[0m |\n",
      "| \u001b[0m 84      \u001b[0m | \u001b[0m 0.9272  \u001b[0m | \u001b[0m 0.9753  \u001b[0m | \u001b[0m 0.6091  \u001b[0m | \u001b[0m 0.3158  \u001b[0m | \u001b[0m 0.528   \u001b[0m | \u001b[0m 0.6323  \u001b[0m | \u001b[0m 13.17   \u001b[0m | \u001b[0m 0.8868  \u001b[0m |\n",
      "| \u001b[0m 85      \u001b[0m | \u001b[0m 0.925   \u001b[0m | \u001b[0m 0.9758  \u001b[0m | \u001b[0m 0.9996  \u001b[0m | \u001b[0m 0.309   \u001b[0m | \u001b[0m 0.8976  \u001b[0m | \u001b[0m 0.5858  \u001b[0m | \u001b[0m 3.182   \u001b[0m | \u001b[0m 0.8857  \u001b[0m |\n",
      "| \u001b[0m 86      \u001b[0m | \u001b[0m 0.924   \u001b[0m | \u001b[0m 0.9116  \u001b[0m | \u001b[0m 0.8934  \u001b[0m | \u001b[0m 0.3016  \u001b[0m | \u001b[0m 0.8579  \u001b[0m | \u001b[0m 0.9507  \u001b[0m | \u001b[0m 7.432   \u001b[0m | \u001b[0m 0.8476  \u001b[0m |\n",
      "| \u001b[0m 87      \u001b[0m | \u001b[0m 0.9276  \u001b[0m | \u001b[0m 0.3644  \u001b[0m | \u001b[0m 0.7797  \u001b[0m | \u001b[0m 0.3044  \u001b[0m | \u001b[0m 0.3102  \u001b[0m | \u001b[0m 0.6372  \u001b[0m | \u001b[0m 6.346   \u001b[0m | \u001b[0m 0.8931  \u001b[0m |\n",
      "| \u001b[0m 88      \u001b[0m | \u001b[0m 0.9292  \u001b[0m | \u001b[0m 0.1157  \u001b[0m | \u001b[0m 0.3034  \u001b[0m | \u001b[0m 0.3005  \u001b[0m | \u001b[0m 0.7331  \u001b[0m | \u001b[0m 0.9127  \u001b[0m | \u001b[0m 12.28   \u001b[0m | \u001b[0m 0.8932  \u001b[0m |\n",
      "| \u001b[0m 89      \u001b[0m | \u001b[0m 0.9266  \u001b[0m | \u001b[0m 0.008638\u001b[0m | \u001b[0m 0.3156  \u001b[0m | \u001b[0m 0.3169  \u001b[0m | \u001b[0m 0.3183  \u001b[0m | \u001b[0m 0.2415  \u001b[0m | \u001b[0m 8.787   \u001b[0m | \u001b[0m 0.8852  \u001b[0m |\n"
     ]
    },
    {
     "name": "stdout",
     "output_type": "stream",
     "text": [
      "| \u001b[0m 90      \u001b[0m | \u001b[0m 0.9306  \u001b[0m | \u001b[0m 0.5403  \u001b[0m | \u001b[0m 0.5665  \u001b[0m | \u001b[0m 0.3174  \u001b[0m | \u001b[0m 0.4483  \u001b[0m | \u001b[0m 0.4788  \u001b[0m | \u001b[0m 10.09   \u001b[0m | \u001b[0m 0.8975  \u001b[0m |\n",
      "| \u001b[0m 91      \u001b[0m | \u001b[0m 0.9313  \u001b[0m | \u001b[0m 0.7761  \u001b[0m | \u001b[0m 0.3207  \u001b[0m | \u001b[0m 0.3008  \u001b[0m | \u001b[0m 0.4125  \u001b[0m | \u001b[0m 0.9325  \u001b[0m | \u001b[0m 14.3    \u001b[0m | \u001b[0m 0.899   \u001b[0m |\n",
      "| \u001b[0m 92      \u001b[0m | \u001b[0m 0.9295  \u001b[0m | \u001b[0m 0.0936  \u001b[0m | \u001b[0m 0.3104  \u001b[0m | \u001b[0m 0.3068  \u001b[0m | \u001b[0m 0.8201  \u001b[0m | \u001b[0m 0.9654  \u001b[0m | \u001b[0m 14.29   \u001b[0m | \u001b[0m 0.8962  \u001b[0m |\n",
      "| \u001b[0m 93      \u001b[0m | \u001b[0m 0.9287  \u001b[0m | \u001b[0m 0.7831  \u001b[0m | \u001b[0m 0.5984  \u001b[0m | \u001b[0m 0.3047  \u001b[0m | \u001b[0m 0.5844  \u001b[0m | \u001b[0m 0.9997  \u001b[0m | \u001b[0m 14.35   \u001b[0m | \u001b[0m 0.8955  \u001b[0m |\n",
      "| \u001b[0m 94      \u001b[0m | \u001b[0m 0.9265  \u001b[0m | \u001b[0m 0.7783  \u001b[0m | \u001b[0m 0.3826  \u001b[0m | \u001b[0m 0.3051  \u001b[0m | \u001b[0m 0.8213  \u001b[0m | \u001b[0m 0.5577  \u001b[0m | \u001b[0m 3.825   \u001b[0m | \u001b[0m 0.8968  \u001b[0m |\n",
      "| \u001b[0m 95      \u001b[0m | \u001b[0m 0.9314  \u001b[0m | \u001b[0m 0.5583  \u001b[0m | \u001b[0m 0.3096  \u001b[0m | \u001b[0m 0.3115  \u001b[0m | \u001b[0m 0.4144  \u001b[0m | \u001b[0m 0.9902  \u001b[0m | \u001b[0m 13.99   \u001b[0m | \u001b[0m 0.8942  \u001b[0m |\n",
      "| \u001b[0m 96      \u001b[0m | \u001b[0m 0.9286  \u001b[0m | \u001b[0m 0.9231  \u001b[0m | \u001b[0m 0.3676  \u001b[0m | \u001b[0m 0.3147  \u001b[0m | \u001b[0m 0.7757  \u001b[0m | \u001b[0m 0.8629  \u001b[0m | \u001b[0m 10.44   \u001b[0m | \u001b[0m 0.8988  \u001b[0m |\n",
      "| \u001b[0m 97      \u001b[0m | \u001b[0m 0.9284  \u001b[0m | \u001b[0m 0.8281  \u001b[0m | \u001b[0m 0.3479  \u001b[0m | \u001b[0m 0.3041  \u001b[0m | \u001b[0m 0.7967  \u001b[0m | \u001b[0m 0.6904  \u001b[0m | \u001b[0m 14.89   \u001b[0m | \u001b[0m 0.8844  \u001b[0m |\n",
      "| \u001b[0m 98      \u001b[0m | \u001b[0m 0.9308  \u001b[0m | \u001b[0m 0.09381 \u001b[0m | \u001b[0m 0.5751  \u001b[0m | \u001b[0m 0.3177  \u001b[0m | \u001b[0m 0.3195  \u001b[0m | \u001b[0m 0.9751  \u001b[0m | \u001b[0m 14.27   \u001b[0m | \u001b[0m 0.898   \u001b[0m |\n",
      "| \u001b[0m 99      \u001b[0m | \u001b[0m 0.9279  \u001b[0m | \u001b[0m 0.8062  \u001b[0m | \u001b[0m 0.4323  \u001b[0m | \u001b[0m 0.302   \u001b[0m | \u001b[0m 0.8485  \u001b[0m | \u001b[0m 0.3715  \u001b[0m | \u001b[0m 12.19   \u001b[0m | \u001b[0m 0.8779  \u001b[0m |\n",
      "| \u001b[0m 100     \u001b[0m | \u001b[0m 0.9314  \u001b[0m | \u001b[0m 0.4891  \u001b[0m | \u001b[0m 0.5032  \u001b[0m | \u001b[0m 0.3047  \u001b[0m | \u001b[0m 0.676   \u001b[0m | \u001b[0m 0.9585  \u001b[0m | \u001b[0m 14.96   \u001b[0m | \u001b[0m 0.8988  \u001b[0m |\n",
      "| \u001b[0m 101     \u001b[0m | \u001b[0m 0.9275  \u001b[0m | \u001b[0m 0.2074  \u001b[0m | \u001b[0m 0.3322  \u001b[0m | \u001b[0m 0.3141  \u001b[0m | \u001b[0m 0.3209  \u001b[0m | \u001b[0m 0.9878  \u001b[0m | \u001b[0m 13.13   \u001b[0m | \u001b[0m 0.8766  \u001b[0m |\n",
      "| \u001b[0m 102     \u001b[0m | \u001b[0m 0.9283  \u001b[0m | \u001b[0m 0.999   \u001b[0m | \u001b[0m 0.3286  \u001b[0m | \u001b[0m 0.3103  \u001b[0m | \u001b[0m 0.4146  \u001b[0m | \u001b[0m 0.3522  \u001b[0m | \u001b[0m 14.01   \u001b[0m | \u001b[0m 0.8972  \u001b[0m |\n",
      "| \u001b[0m 103     \u001b[0m | \u001b[0m 0.9303  \u001b[0m | \u001b[0m 0.5638  \u001b[0m | \u001b[0m 0.5037  \u001b[0m | \u001b[0m 0.3312  \u001b[0m | \u001b[0m 0.3064  \u001b[0m | \u001b[0m 0.9844  \u001b[0m | \u001b[0m 14.64   \u001b[0m | \u001b[0m 0.8866  \u001b[0m |\n",
      "| \u001b[0m 104     \u001b[0m | \u001b[0m 0.9275  \u001b[0m | \u001b[0m 0.5542  \u001b[0m | \u001b[0m 0.5867  \u001b[0m | \u001b[0m 0.3092  \u001b[0m | \u001b[0m 0.3087  \u001b[0m | \u001b[0m 0.4431  \u001b[0m | \u001b[0m 4.883   \u001b[0m | \u001b[0m 0.8712  \u001b[0m |\n",
      "| \u001b[95m 105     \u001b[0m | \u001b[95m 0.9321  \u001b[0m | \u001b[95m 0.9995  \u001b[0m | \u001b[95m 0.3753  \u001b[0m | \u001b[95m 0.3069  \u001b[0m | \u001b[95m 0.7713  \u001b[0m | \u001b[95m 0.109   \u001b[0m | \u001b[95m 13.29   \u001b[0m | \u001b[95m 0.8977  \u001b[0m |\n",
      "| \u001b[0m 106     \u001b[0m | \u001b[0m 0.9275  \u001b[0m | \u001b[0m 0.6767  \u001b[0m | \u001b[0m 0.3632  \u001b[0m | \u001b[0m 0.3144  \u001b[0m | \u001b[0m 0.893   \u001b[0m | \u001b[0m 0.08586 \u001b[0m | \u001b[0m 13.11   \u001b[0m | \u001b[0m 0.8747  \u001b[0m |\n",
      "| \u001b[0m 107     \u001b[0m | \u001b[0m 0.908   \u001b[0m | \u001b[0m 0.9941  \u001b[0m | \u001b[0m 0.3679  \u001b[0m | \u001b[0m 0.8619  \u001b[0m | \u001b[0m 0.4527  \u001b[0m | \u001b[0m 0.1347  \u001b[0m | \u001b[0m 11.54   \u001b[0m | \u001b[0m 0.8941  \u001b[0m |\n",
      "| \u001b[0m 108     \u001b[0m | \u001b[0m 0.9249  \u001b[0m | \u001b[0m 0.9394  \u001b[0m | \u001b[0m 0.6937  \u001b[0m | \u001b[0m 0.3171  \u001b[0m | \u001b[0m 0.886   \u001b[0m | \u001b[0m 0.223   \u001b[0m | \u001b[0m 13.62   \u001b[0m | \u001b[0m 0.893   \u001b[0m |\n",
      "| \u001b[0m 109     \u001b[0m | \u001b[0m 0.9274  \u001b[0m | \u001b[0m 0.9475  \u001b[0m | \u001b[0m 0.3138  \u001b[0m | \u001b[0m 0.3204  \u001b[0m | \u001b[0m 0.8939  \u001b[0m | \u001b[0m 0.9226  \u001b[0m | \u001b[0m 14.3    \u001b[0m | \u001b[0m 0.8999  \u001b[0m |\n",
      "| \u001b[0m 110     \u001b[0m | \u001b[0m 0.9293  \u001b[0m | \u001b[0m 0.3881  \u001b[0m | \u001b[0m 0.5103  \u001b[0m | \u001b[0m 0.3098  \u001b[0m | \u001b[0m 0.4342  \u001b[0m | \u001b[0m 0.8851  \u001b[0m | \u001b[0m 14.85   \u001b[0m | \u001b[0m 0.898   \u001b[0m |\n",
      "=============================================================================================================\n"
     ]
    }
   ],
   "source": [
    "def xgb_evaluate_lead1(max_depth, eta, subsample,colsample_bytree,gamma,lambda1,alpha):\n",
    "    params = {'eval_metric': 'aucpr',\n",
    "              'max_depth': int(max_depth),\n",
    "              'subsample': subsample, #0.8\n",
    "              'eta': eta, #0.3.. 0.2\n",
    "              'gamma': gamma,\n",
    "              'lambda': lambda1,\n",
    "              'aplha': alpha,\n",
    "              'colsample_bytree': colsample_bytree,\n",
    "              'objective': 'binary:logistic',\n",
    "              'verbosity': 0}\n",
    "    # Used around 1000 boosting rounds in the full model\n",
    "    cv_result = xgb.cv(params, dtrain_lead1, num_boost_round=100, nfold=5)    \n",
    "    \n",
    "    # Bayesian optimization only knows how to maximize, not minimize, so return the negative RMSE\n",
    "    return cv_result['test-aucpr-mean'].iloc[-1]\n",
    "\n",
    "xgb_bo_lead1 = BayesianOptimization(xgb_evaluate_lead1, {'max_depth': (3, 15),                                              \n",
    "                                             'subsample': (0.3, 0.9),\n",
    "                                             'eta': (0.3, 0.9),\n",
    "                                             'gamma': (0.3, 0.9),\n",
    "                                             'lambda1': (0.0, 1.0),\n",
    "                                             'alpha': (0.0, 1.0),\n",
    "                                             'colsample_bytree': (0.3, 1)})\n",
    "    \n",
    "\n",
    "xgb_bo_lead1.maximize(init_points=10, n_iter=100, acq='ei')\n"
   ]
  },
  {
   "cell_type": "code",
   "execution_count": 51,
   "metadata": {},
   "outputs": [],
   "source": [
    "params_lead1 = xgb_bo_lead1.max[\"params\"]\n",
    "params_lead1['max_depth'] = int(params_lead1['max_depth'])\n",
    "\n",
    "# Train a new model with the best parameters from the search\n",
    "model2_lead1 = xgb.train(params_lead1, dtrain_lead1, num_boost_round=500)"
   ]
  },
  {
   "cell_type": "code",
   "execution_count": 52,
   "metadata": {},
   "outputs": [],
   "source": [
    "pickle.dump(model2_lead1, open(models_a_dir+\"xgboost_y_lead1.pickle.dat\", \"wb\"))"
   ]
  },
  {
   "cell_type": "markdown",
   "metadata": {},
   "source": [
    "Xgboost two periods before"
   ]
  },
  {
   "cell_type": "code",
   "execution_count": 53,
   "metadata": {},
   "outputs": [
    {
     "name": "stderr",
     "output_type": "stream",
     "text": [
      "C:\\Users\\jchas\\Anaconda3\\lib\\site-packages\\xgboost\\core.py:587: FutureWarning: Series.base is deprecated and will be removed in a future version\n",
      "  if getattr(data, 'base', None) is not None and \\\n",
      "C:\\Users\\jchas\\Anaconda3\\lib\\site-packages\\xgboost\\core.py:588: FutureWarning: Series.base is deprecated and will be removed in a future version\n",
      "  data.base is not None and isinstance(data, np.ndarray) \\\n"
     ]
    }
   ],
   "source": [
    "dtrain_lead2r = xgb.DMatrix(X_train_sc, label=y_lead2_train_label)\n",
    "dtest_lead2r = xgb.DMatrix(X_train_sc)"
   ]
  },
  {
   "cell_type": "code",
   "execution_count": 54,
   "metadata": {},
   "outputs": [
    {
     "name": "stdout",
     "output_type": "stream",
     "text": [
      "|   iter    |  target   |   alpha   | colsam... |    eta    |   gamma   |  lambda1  | max_depth | subsample |\n",
      "-------------------------------------------------------------------------------------------------------------\n",
      "| \u001b[0m 1       \u001b[0m | \u001b[0m 0.8699  \u001b[0m | \u001b[0m 0.1452  \u001b[0m | \u001b[0m 0.3372  \u001b[0m | \u001b[0m 0.6494  \u001b[0m | \u001b[0m 0.4534  \u001b[0m | \u001b[0m 0.7699  \u001b[0m | \u001b[0m 14.47   \u001b[0m | \u001b[0m 0.5874  \u001b[0m |\n",
      "| \u001b[95m 2       \u001b[0m | \u001b[95m 0.8827  \u001b[0m | \u001b[95m 0.6015  \u001b[0m | \u001b[95m 0.6878  \u001b[0m | \u001b[95m 0.654   \u001b[0m | \u001b[95m 0.8671  \u001b[0m | \u001b[95m 0.8397  \u001b[0m | \u001b[95m 7.488   \u001b[0m | \u001b[95m 0.8521  \u001b[0m |\n",
      "| \u001b[95m 3       \u001b[0m | \u001b[95m 0.8845  \u001b[0m | \u001b[95m 0.3377  \u001b[0m | \u001b[95m 0.3126  \u001b[0m | \u001b[95m 0.6012  \u001b[0m | \u001b[95m 0.4405  \u001b[0m | \u001b[95m 0.5581  \u001b[0m | \u001b[95m 6.144   \u001b[0m | \u001b[95m 0.8169  \u001b[0m |\n",
      "| \u001b[0m 4       \u001b[0m | \u001b[0m 0.8396  \u001b[0m | \u001b[0m 0.3307  \u001b[0m | \u001b[0m 0.5571  \u001b[0m | \u001b[0m 0.6023  \u001b[0m | \u001b[0m 0.6472  \u001b[0m | \u001b[0m 0.8598  \u001b[0m | \u001b[0m 3.316   \u001b[0m | \u001b[0m 0.4537  \u001b[0m |\n",
      "| \u001b[0m 5       \u001b[0m | \u001b[0m 0.8576  \u001b[0m | \u001b[0m 0.8583  \u001b[0m | \u001b[0m 0.9901  \u001b[0m | \u001b[0m 0.8589  \u001b[0m | \u001b[0m 0.6322  \u001b[0m | \u001b[0m 0.7047  \u001b[0m | \u001b[0m 6.295   \u001b[0m | \u001b[0m 0.7452  \u001b[0m |\n",
      "| \u001b[0m 6       \u001b[0m | \u001b[0m 0.8481  \u001b[0m | \u001b[0m 0.9802  \u001b[0m | \u001b[0m 0.338   \u001b[0m | \u001b[0m 0.5936  \u001b[0m | \u001b[0m 0.7842  \u001b[0m | \u001b[0m 0.9307  \u001b[0m | \u001b[0m 9.807   \u001b[0m | \u001b[0m 0.3849  \u001b[0m |\n",
      "| \u001b[0m 7       \u001b[0m | \u001b[0m 0.8756  \u001b[0m | \u001b[0m 0.6441  \u001b[0m | \u001b[0m 0.6685  \u001b[0m | \u001b[0m 0.3949  \u001b[0m | \u001b[0m 0.51    \u001b[0m | \u001b[0m 0.9608  \u001b[0m | \u001b[0m 7.383   \u001b[0m | \u001b[0m 0.5345  \u001b[0m |\n",
      "| \u001b[0m 8       \u001b[0m | \u001b[0m 0.8837  \u001b[0m | \u001b[0m 0.4317  \u001b[0m | \u001b[0m 0.7926  \u001b[0m | \u001b[0m 0.5508  \u001b[0m | \u001b[0m 0.4755  \u001b[0m | \u001b[0m 0.08084 \u001b[0m | \u001b[0m 10.88   \u001b[0m | \u001b[0m 0.8055  \u001b[0m |\n",
      "| \u001b[0m 9       \u001b[0m | \u001b[0m 0.8468  \u001b[0m | \u001b[0m 0.552   \u001b[0m | \u001b[0m 0.4921  \u001b[0m | \u001b[0m 0.7438  \u001b[0m | \u001b[0m 0.5724  \u001b[0m | \u001b[0m 0.02834 \u001b[0m | \u001b[0m 7.185   \u001b[0m | \u001b[0m 0.6261  \u001b[0m |\n",
      "| \u001b[0m 10      \u001b[0m | \u001b[0m 0.8639  \u001b[0m | \u001b[0m 0.693   \u001b[0m | \u001b[0m 0.7932  \u001b[0m | \u001b[0m 0.5987  \u001b[0m | \u001b[0m 0.7139  \u001b[0m | \u001b[0m 0.8127  \u001b[0m | \u001b[0m 4.292   \u001b[0m | \u001b[0m 0.71    \u001b[0m |\n",
      "| \u001b[95m 11      \u001b[0m | \u001b[95m 0.9086  \u001b[0m | \u001b[95m 0.0     \u001b[0m | \u001b[95m 0.3     \u001b[0m | \u001b[95m 0.3     \u001b[0m | \u001b[95m 0.3     \u001b[0m | \u001b[95m 1.0     \u001b[0m | \u001b[95m 10.61   \u001b[0m | \u001b[95m 0.9     \u001b[0m |\n",
      "| \u001b[0m 12      \u001b[0m | \u001b[0m 0.8998  \u001b[0m | \u001b[0m 1.0     \u001b[0m | \u001b[0m 1.0     \u001b[0m | \u001b[0m 0.3     \u001b[0m | \u001b[0m 0.3     \u001b[0m | \u001b[0m 0.0     \u001b[0m | \u001b[0m 15.0    \u001b[0m | \u001b[0m 0.9     \u001b[0m |\n",
      "| \u001b[0m 13      \u001b[0m | \u001b[0m 0.9003  \u001b[0m | \u001b[0m 0.0     \u001b[0m | \u001b[0m 1.0     \u001b[0m | \u001b[0m 0.3     \u001b[0m | \u001b[0m 0.9     \u001b[0m | \u001b[0m 1.0     \u001b[0m | \u001b[0m 13.34   \u001b[0m | \u001b[0m 0.9     \u001b[0m |\n",
      "| \u001b[0m 14      \u001b[0m | \u001b[0m 0.9015  \u001b[0m | \u001b[0m 0.342   \u001b[0m | \u001b[0m 0.6454  \u001b[0m | \u001b[0m 0.3188  \u001b[0m | \u001b[0m 0.5255  \u001b[0m | \u001b[0m 0.9684  \u001b[0m | \u001b[0m 6.097   \u001b[0m | \u001b[0m 0.8984  \u001b[0m |\n",
      "| \u001b[0m 15      \u001b[0m | \u001b[0m 0.9044  \u001b[0m | \u001b[0m 0.04052 \u001b[0m | \u001b[0m 0.5423  \u001b[0m | \u001b[0m 0.3196  \u001b[0m | \u001b[0m 0.3161  \u001b[0m | \u001b[0m 0.03563 \u001b[0m | \u001b[0m 14.43   \u001b[0m | \u001b[0m 0.8674  \u001b[0m |\n",
      "| \u001b[0m 16      \u001b[0m | \u001b[0m 0.8984  \u001b[0m | \u001b[0m 0.8643  \u001b[0m | \u001b[0m 0.4254  \u001b[0m | \u001b[0m 0.3416  \u001b[0m | \u001b[0m 0.3213  \u001b[0m | \u001b[0m 0.9852  \u001b[0m | \u001b[0m 7.527   \u001b[0m | \u001b[0m 0.8734  \u001b[0m |\n",
      "| \u001b[0m 17      \u001b[0m | \u001b[0m 0.9006  \u001b[0m | \u001b[0m 0.01156 \u001b[0m | \u001b[0m 0.9658  \u001b[0m | \u001b[0m 0.3127  \u001b[0m | \u001b[0m 0.322   \u001b[0m | \u001b[0m 0.2974  \u001b[0m | \u001b[0m 12.85   \u001b[0m | \u001b[0m 0.8808  \u001b[0m |\n",
      "| \u001b[0m 18      \u001b[0m | \u001b[0m 0.8948  \u001b[0m | \u001b[0m 0.01181 \u001b[0m | \u001b[0m 0.5011  \u001b[0m | \u001b[0m 0.3964  \u001b[0m | \u001b[0m 0.8562  \u001b[0m | \u001b[0m 0.08059 \u001b[0m | \u001b[0m 14.88   \u001b[0m | \u001b[0m 0.8633  \u001b[0m |\n",
      "| \u001b[0m 19      \u001b[0m | \u001b[0m 0.9038  \u001b[0m | \u001b[0m 0.000722\u001b[0m | \u001b[0m 0.5152  \u001b[0m | \u001b[0m 0.343   \u001b[0m | \u001b[0m 0.3845  \u001b[0m | \u001b[0m 0.957   \u001b[0m | \u001b[0m 7.916   \u001b[0m | \u001b[0m 0.887   \u001b[0m |\n",
      "| \u001b[95m 20      \u001b[0m | \u001b[95m 0.9095  \u001b[0m | \u001b[95m 0.1048  \u001b[0m | \u001b[95m 0.3095  \u001b[0m | \u001b[95m 0.31    \u001b[0m | \u001b[95m 0.4529  \u001b[0m | \u001b[95m 0.829   \u001b[0m | \u001b[95m 15.0    \u001b[0m | \u001b[95m 0.8977  \u001b[0m |\n",
      "| \u001b[0m 21      \u001b[0m | \u001b[0m 0.9038  \u001b[0m | \u001b[0m 0.05345 \u001b[0m | \u001b[0m 0.7619  \u001b[0m | \u001b[0m 0.32    \u001b[0m | \u001b[0m 0.3064  \u001b[0m | \u001b[0m 0.8384  \u001b[0m | \u001b[0m 14.6    \u001b[0m | \u001b[0m 0.8746  \u001b[0m |\n",
      "| \u001b[0m 22      \u001b[0m | \u001b[0m 0.9073  \u001b[0m | \u001b[0m 0.1504  \u001b[0m | \u001b[0m 0.3177  \u001b[0m | \u001b[0m 0.3143  \u001b[0m | \u001b[0m 0.3342  \u001b[0m | \u001b[0m 0.6058  \u001b[0m | \u001b[0m 14.35   \u001b[0m | \u001b[0m 0.894   \u001b[0m |\n",
      "| \u001b[0m 23      \u001b[0m | \u001b[0m 0.8978  \u001b[0m | \u001b[0m 0.8946  \u001b[0m | \u001b[0m 0.3052  \u001b[0m | \u001b[0m 0.3311  \u001b[0m | \u001b[0m 0.8948  \u001b[0m | \u001b[0m 0.965   \u001b[0m | \u001b[0m 5.184   \u001b[0m | \u001b[0m 0.8932  \u001b[0m |\n",
      "| \u001b[0m 24      \u001b[0m | \u001b[0m 0.8945  \u001b[0m | \u001b[0m 0.007943\u001b[0m | \u001b[0m 0.4595  \u001b[0m | \u001b[0m 0.3078  \u001b[0m | \u001b[0m 0.8507  \u001b[0m | \u001b[0m 0.9993  \u001b[0m | \u001b[0m 6.903   \u001b[0m | \u001b[0m 0.8739  \u001b[0m |\n",
      "| \u001b[0m 25      \u001b[0m | \u001b[0m 0.9032  \u001b[0m | \u001b[0m 0.04937 \u001b[0m | \u001b[0m 0.8669  \u001b[0m | \u001b[0m 0.3088  \u001b[0m | \u001b[0m 0.3482  \u001b[0m | \u001b[0m 0.8818  \u001b[0m | \u001b[0m 10.36   \u001b[0m | \u001b[0m 0.888   \u001b[0m |\n",
      "| \u001b[0m 26      \u001b[0m | \u001b[0m 0.9001  \u001b[0m | \u001b[0m 0.3259  \u001b[0m | \u001b[0m 0.3308  \u001b[0m | \u001b[0m 0.4008  \u001b[0m | \u001b[0m 0.3165  \u001b[0m | \u001b[0m 0.9604  \u001b[0m | \u001b[0m 5.54    \u001b[0m | \u001b[0m 0.8676  \u001b[0m |\n",
      "| \u001b[0m 27      \u001b[0m | \u001b[0m 0.9058  \u001b[0m | \u001b[0m 0.5344  \u001b[0m | \u001b[0m 0.3022  \u001b[0m | \u001b[0m 0.3231  \u001b[0m | \u001b[0m 0.4439  \u001b[0m | \u001b[0m 0.986   \u001b[0m | \u001b[0m 14.66   \u001b[0m | \u001b[0m 0.8986  \u001b[0m |\n",
      "| \u001b[0m 28      \u001b[0m | \u001b[0m 0.8853  \u001b[0m | \u001b[0m 0.03093 \u001b[0m | \u001b[0m 0.362   \u001b[0m | \u001b[0m 0.7443  \u001b[0m | \u001b[0m 0.3371  \u001b[0m | \u001b[0m 0.8559  \u001b[0m | \u001b[0m 14.93   \u001b[0m | \u001b[0m 0.8921  \u001b[0m |\n",
      "| \u001b[0m 29      \u001b[0m | \u001b[0m 0.904   \u001b[0m | \u001b[0m 0.2405  \u001b[0m | \u001b[0m 0.3259  \u001b[0m | \u001b[0m 0.316   \u001b[0m | \u001b[0m 0.4583  \u001b[0m | \u001b[0m 0.1882  \u001b[0m | \u001b[0m 12.56   \u001b[0m | \u001b[0m 0.8998  \u001b[0m |\n",
      "| \u001b[0m 30      \u001b[0m | \u001b[0m 0.9067  \u001b[0m | \u001b[0m 0.7502  \u001b[0m | \u001b[0m 0.3242  \u001b[0m | \u001b[0m 0.311   \u001b[0m | \u001b[0m 0.3119  \u001b[0m | \u001b[0m 0.1392  \u001b[0m | \u001b[0m 14.97   \u001b[0m | \u001b[0m 0.8916  \u001b[0m |\n",
      "| \u001b[0m 31      \u001b[0m | \u001b[0m 0.8948  \u001b[0m | \u001b[0m 0.9488  \u001b[0m | \u001b[0m 0.5842  \u001b[0m | \u001b[0m 0.3075  \u001b[0m | \u001b[0m 0.3437  \u001b[0m | \u001b[0m 0.1111  \u001b[0m | \u001b[0m 3.184   \u001b[0m | \u001b[0m 0.8707  \u001b[0m |\n",
      "| \u001b[0m 32      \u001b[0m | \u001b[0m 0.8887  \u001b[0m | \u001b[0m 0.9796  \u001b[0m | \u001b[0m 0.3323  \u001b[0m | \u001b[0m 0.3071  \u001b[0m | \u001b[0m 0.3437  \u001b[0m | \u001b[0m 0.8394  \u001b[0m | \u001b[0m 3.598   \u001b[0m | \u001b[0m 0.8686  \u001b[0m |\n",
      "| \u001b[0m 33      \u001b[0m | \u001b[0m 0.8905  \u001b[0m | \u001b[0m 0.01124 \u001b[0m | \u001b[0m 0.502   \u001b[0m | \u001b[0m 0.3126  \u001b[0m | \u001b[0m 0.3497  \u001b[0m | \u001b[0m 0.03348 \u001b[0m | \u001b[0m 3.19    \u001b[0m | \u001b[0m 0.8844  \u001b[0m |\n",
      "| \u001b[0m 34      \u001b[0m | \u001b[0m 0.9057  \u001b[0m | \u001b[0m 0.2088  \u001b[0m | \u001b[0m 0.5018  \u001b[0m | \u001b[0m 0.3017  \u001b[0m | \u001b[0m 0.4972  \u001b[0m | \u001b[0m 0.9822  \u001b[0m | \u001b[0m 11.96   \u001b[0m | \u001b[0m 0.8962  \u001b[0m |\n",
      "| \u001b[0m 35      \u001b[0m | \u001b[0m 0.9037  \u001b[0m | \u001b[0m 0.0936  \u001b[0m | \u001b[0m 0.3416  \u001b[0m | \u001b[0m 0.3176  \u001b[0m | \u001b[0m 0.8112  \u001b[0m | \u001b[0m 0.3012  \u001b[0m | \u001b[0m 10.77   \u001b[0m | \u001b[0m 0.8817  \u001b[0m |\n",
      "| \u001b[0m 36      \u001b[0m | \u001b[0m 0.9053  \u001b[0m | \u001b[0m 0.3074  \u001b[0m | \u001b[0m 0.3086  \u001b[0m | \u001b[0m 0.3223  \u001b[0m | \u001b[0m 0.3637  \u001b[0m | \u001b[0m 0.9187  \u001b[0m | \u001b[0m 14.92   \u001b[0m | \u001b[0m 0.8983  \u001b[0m |\n",
      "| \u001b[0m 37      \u001b[0m | \u001b[0m 0.9046  \u001b[0m | \u001b[0m 0.4791  \u001b[0m | \u001b[0m 0.305   \u001b[0m | \u001b[0m 0.3082  \u001b[0m | \u001b[0m 0.551   \u001b[0m | \u001b[0m 0.9238  \u001b[0m | \u001b[0m 9.094   \u001b[0m | \u001b[0m 0.8948  \u001b[0m |\n",
      "| \u001b[0m 38      \u001b[0m | \u001b[0m 0.9012  \u001b[0m | \u001b[0m 0.7576  \u001b[0m | \u001b[0m 0.4359  \u001b[0m | \u001b[0m 0.3191  \u001b[0m | \u001b[0m 0.3632  \u001b[0m | \u001b[0m 0.1507  \u001b[0m | \u001b[0m 5.124   \u001b[0m | \u001b[0m 0.8936  \u001b[0m |\n",
      "| \u001b[0m 39      \u001b[0m | \u001b[0m 0.9049  \u001b[0m | \u001b[0m 0.2645  \u001b[0m | \u001b[0m 0.4391  \u001b[0m | \u001b[0m 0.3027  \u001b[0m | \u001b[0m 0.8139  \u001b[0m | \u001b[0m 0.8119  \u001b[0m | \u001b[0m 11.04   \u001b[0m | \u001b[0m 0.8935  \u001b[0m |\n",
      "| \u001b[0m 40      \u001b[0m | \u001b[0m 0.9007  \u001b[0m | \u001b[0m 0.08332 \u001b[0m | \u001b[0m 0.3896  \u001b[0m | \u001b[0m 0.3246  \u001b[0m | \u001b[0m 0.3434  \u001b[0m | \u001b[0m 0.1976  \u001b[0m | \u001b[0m 10.58   \u001b[0m | \u001b[0m 0.8858  \u001b[0m |\n",
      "| \u001b[0m 41      \u001b[0m | \u001b[0m 0.9033  \u001b[0m | \u001b[0m 0.9557  \u001b[0m | \u001b[0m 0.6097  \u001b[0m | \u001b[0m 0.3004  \u001b[0m | \u001b[0m 0.8464  \u001b[0m | \u001b[0m 0.03649 \u001b[0m | \u001b[0m 13.54   \u001b[0m | \u001b[0m 0.8758  \u001b[0m |\n",
      "| \u001b[0m 42      \u001b[0m | \u001b[0m 0.8918  \u001b[0m | \u001b[0m 0.8876  \u001b[0m | \u001b[0m 0.3168  \u001b[0m | \u001b[0m 0.3246  \u001b[0m | \u001b[0m 0.8761  \u001b[0m | \u001b[0m 0.1381  \u001b[0m | \u001b[0m 3.4     \u001b[0m | \u001b[0m 0.8939  \u001b[0m |\n",
      "| \u001b[0m 43      \u001b[0m | \u001b[0m 0.8995  \u001b[0m | \u001b[0m 0.8991  \u001b[0m | \u001b[0m 0.8103  \u001b[0m | \u001b[0m 0.3046  \u001b[0m | \u001b[0m 0.833   \u001b[0m | \u001b[0m 0.6391  \u001b[0m | \u001b[0m 11.64   \u001b[0m | \u001b[0m 0.8824  \u001b[0m |\n",
      "| \u001b[0m 44      \u001b[0m | \u001b[0m 0.9045  \u001b[0m | \u001b[0m 0.541   \u001b[0m | \u001b[0m 0.3441  \u001b[0m | \u001b[0m 0.3064  \u001b[0m | \u001b[0m 0.8601  \u001b[0m | \u001b[0m 0.6345  \u001b[0m | \u001b[0m 14.64   \u001b[0m | \u001b[0m 0.8891  \u001b[0m |\n"
     ]
    },
    {
     "name": "stdout",
     "output_type": "stream",
     "text": [
      "| \u001b[0m 45      \u001b[0m | \u001b[0m 0.9052  \u001b[0m | \u001b[0m 0.1075  \u001b[0m | \u001b[0m 0.3448  \u001b[0m | \u001b[0m 0.3094  \u001b[0m | \u001b[0m 0.4055  \u001b[0m | \u001b[0m 0.9906  \u001b[0m | \u001b[0m 9.966   \u001b[0m | \u001b[0m 0.8986  \u001b[0m |\n",
      "| \u001b[0m 46      \u001b[0m | \u001b[0m 0.8988  \u001b[0m | \u001b[0m 0.849   \u001b[0m | \u001b[0m 0.9867  \u001b[0m | \u001b[0m 0.3026  \u001b[0m | \u001b[0m 0.8388  \u001b[0m | \u001b[0m 0.8975  \u001b[0m | \u001b[0m 8.585   \u001b[0m | \u001b[0m 0.8863  \u001b[0m |\n",
      "| \u001b[0m 47      \u001b[0m | \u001b[0m 0.9055  \u001b[0m | \u001b[0m 0.3854  \u001b[0m | \u001b[0m 0.3588  \u001b[0m | \u001b[0m 0.3013  \u001b[0m | \u001b[0m 0.8577  \u001b[0m | \u001b[0m 0.887   \u001b[0m | \u001b[0m 13.54   \u001b[0m | \u001b[0m 0.8962  \u001b[0m |\n",
      "| \u001b[0m 48      \u001b[0m | \u001b[0m 0.9061  \u001b[0m | \u001b[0m 0.318   \u001b[0m | \u001b[0m 0.3362  \u001b[0m | \u001b[0m 0.3019  \u001b[0m | \u001b[0m 0.4127  \u001b[0m | \u001b[0m 0.03434 \u001b[0m | \u001b[0m 14.94   \u001b[0m | \u001b[0m 0.8723  \u001b[0m |\n",
      "| \u001b[0m 49      \u001b[0m | \u001b[0m 0.9074  \u001b[0m | \u001b[0m 0.9972  \u001b[0m | \u001b[0m 0.3343  \u001b[0m | \u001b[0m 0.3051  \u001b[0m | \u001b[0m 0.4566  \u001b[0m | \u001b[0m 0.06219 \u001b[0m | \u001b[0m 12.48   \u001b[0m | \u001b[0m 0.8967  \u001b[0m |\n",
      "| \u001b[0m 50      \u001b[0m | \u001b[0m 0.9053  \u001b[0m | \u001b[0m 0.5841  \u001b[0m | \u001b[0m 0.5131  \u001b[0m | \u001b[0m 0.3125  \u001b[0m | \u001b[0m 0.3188  \u001b[0m | \u001b[0m 0.545   \u001b[0m | \u001b[0m 13.6    \u001b[0m | \u001b[0m 0.8981  \u001b[0m |\n",
      "| \u001b[0m 51      \u001b[0m | \u001b[0m 0.9016  \u001b[0m | \u001b[0m 0.7758  \u001b[0m | \u001b[0m 0.3125  \u001b[0m | \u001b[0m 0.302   \u001b[0m | \u001b[0m 0.6113  \u001b[0m | \u001b[0m 0.1951  \u001b[0m | \u001b[0m 11.65   \u001b[0m | \u001b[0m 0.8831  \u001b[0m |\n",
      "| \u001b[0m 52      \u001b[0m | \u001b[0m 0.9068  \u001b[0m | \u001b[0m 0.9801  \u001b[0m | \u001b[0m 0.3934  \u001b[0m | \u001b[0m 0.3021  \u001b[0m | \u001b[0m 0.4783  \u001b[0m | \u001b[0m 0.4134  \u001b[0m | \u001b[0m 14.35   \u001b[0m | \u001b[0m 0.8934  \u001b[0m |\n",
      "| \u001b[0m 53      \u001b[0m | \u001b[0m 0.9039  \u001b[0m | \u001b[0m 0.05041 \u001b[0m | \u001b[0m 0.3941  \u001b[0m | \u001b[0m 0.3082  \u001b[0m | \u001b[0m 0.8315  \u001b[0m | \u001b[0m 0.7862  \u001b[0m | \u001b[0m 8.826   \u001b[0m | \u001b[0m 0.8908  \u001b[0m |\n",
      "| \u001b[0m 54      \u001b[0m | \u001b[0m 0.9058  \u001b[0m | \u001b[0m 0.9115  \u001b[0m | \u001b[0m 0.5807  \u001b[0m | \u001b[0m 0.3027  \u001b[0m | \u001b[0m 0.3766  \u001b[0m | \u001b[0m 0.02404 \u001b[0m | \u001b[0m 14.09   \u001b[0m | \u001b[0m 0.8777  \u001b[0m |\n",
      "| \u001b[0m 55      \u001b[0m | \u001b[0m 0.8997  \u001b[0m | \u001b[0m 0.01327 \u001b[0m | \u001b[0m 0.8822  \u001b[0m | \u001b[0m 0.3395  \u001b[0m | \u001b[0m 0.6977  \u001b[0m | \u001b[0m 0.9949  \u001b[0m | \u001b[0m 8.941   \u001b[0m | \u001b[0m 0.8907  \u001b[0m |\n",
      "| \u001b[0m 56      \u001b[0m | \u001b[0m 0.9034  \u001b[0m | \u001b[0m 0.9017  \u001b[0m | \u001b[0m 0.3596  \u001b[0m | \u001b[0m 0.3303  \u001b[0m | \u001b[0m 0.7464  \u001b[0m | \u001b[0m 0.8994  \u001b[0m | \u001b[0m 12.56   \u001b[0m | \u001b[0m 0.8948  \u001b[0m |\n",
      "| \u001b[0m 57      \u001b[0m | \u001b[0m 0.9084  \u001b[0m | \u001b[0m 0.1107  \u001b[0m | \u001b[0m 0.3651  \u001b[0m | \u001b[0m 0.3024  \u001b[0m | \u001b[0m 0.385   \u001b[0m | \u001b[0m 0.8196  \u001b[0m | \u001b[0m 13.24   \u001b[0m | \u001b[0m 0.8848  \u001b[0m |\n",
      "| \u001b[0m 58      \u001b[0m | \u001b[0m 0.9036  \u001b[0m | \u001b[0m 0.518   \u001b[0m | \u001b[0m 0.305   \u001b[0m | \u001b[0m 0.3065  \u001b[0m | \u001b[0m 0.4011  \u001b[0m | \u001b[0m 0.3676  \u001b[0m | \u001b[0m 13.67   \u001b[0m | \u001b[0m 0.892   \u001b[0m |\n",
      "| \u001b[0m 59      \u001b[0m | \u001b[0m 0.9048  \u001b[0m | \u001b[0m 0.9216  \u001b[0m | \u001b[0m 0.3215  \u001b[0m | \u001b[0m 0.3071  \u001b[0m | \u001b[0m 0.4261  \u001b[0m | \u001b[0m 0.965   \u001b[0m | \u001b[0m 14.93   \u001b[0m | \u001b[0m 0.8806  \u001b[0m |\n",
      "| \u001b[0m 60      \u001b[0m | \u001b[0m 0.9051  \u001b[0m | \u001b[0m 0.06056 \u001b[0m | \u001b[0m 0.3473  \u001b[0m | \u001b[0m 0.3112  \u001b[0m | \u001b[0m 0.5468  \u001b[0m | \u001b[0m 0.8797  \u001b[0m | \u001b[0m 12.74   \u001b[0m | \u001b[0m 0.8929  \u001b[0m |\n",
      "| \u001b[0m 61      \u001b[0m | \u001b[0m 0.8998  \u001b[0m | \u001b[0m 0.03196 \u001b[0m | \u001b[0m 0.9456  \u001b[0m | \u001b[0m 0.3221  \u001b[0m | \u001b[0m 0.8333  \u001b[0m | \u001b[0m 0.03672 \u001b[0m | \u001b[0m 10.61   \u001b[0m | \u001b[0m 0.8934  \u001b[0m |\n",
      "| \u001b[0m 62      \u001b[0m | \u001b[0m 0.9009  \u001b[0m | \u001b[0m 0.9492  \u001b[0m | \u001b[0m 0.6749  \u001b[0m | \u001b[0m 0.3018  \u001b[0m | \u001b[0m 0.3232  \u001b[0m | \u001b[0m 0.9149  \u001b[0m | \u001b[0m 14.02   \u001b[0m | \u001b[0m 0.8955  \u001b[0m |\n",
      "| \u001b[0m 63      \u001b[0m | \u001b[0m 0.8967  \u001b[0m | \u001b[0m 0.9256  \u001b[0m | \u001b[0m 0.3421  \u001b[0m | \u001b[0m 0.3068  \u001b[0m | \u001b[0m 0.3287  \u001b[0m | \u001b[0m 0.03568 \u001b[0m | \u001b[0m 4.434   \u001b[0m | \u001b[0m 0.883   \u001b[0m |\n",
      "| \u001b[0m 64      \u001b[0m | \u001b[0m 0.9054  \u001b[0m | \u001b[0m 0.9842  \u001b[0m | \u001b[0m 0.5037  \u001b[0m | \u001b[0m 0.3061  \u001b[0m | \u001b[0m 0.3075  \u001b[0m | \u001b[0m 0.2784  \u001b[0m | \u001b[0m 13.19   \u001b[0m | \u001b[0m 0.8983  \u001b[0m |\n",
      "| \u001b[0m 65      \u001b[0m | \u001b[0m 0.9045  \u001b[0m | \u001b[0m 0.1745  \u001b[0m | \u001b[0m 0.3324  \u001b[0m | \u001b[0m 0.3077  \u001b[0m | \u001b[0m 0.3879  \u001b[0m | \u001b[0m 0.9795  \u001b[0m | \u001b[0m 13.49   \u001b[0m | \u001b[0m 0.8797  \u001b[0m |\n",
      "| \u001b[0m 66      \u001b[0m | \u001b[0m 0.9054  \u001b[0m | \u001b[0m 0.06064 \u001b[0m | \u001b[0m 0.4475  \u001b[0m | \u001b[0m 0.3073  \u001b[0m | \u001b[0m 0.3448  \u001b[0m | \u001b[0m 0.8381  \u001b[0m | \u001b[0m 14.09   \u001b[0m | \u001b[0m 0.8984  \u001b[0m |\n",
      "| \u001b[0m 67      \u001b[0m | \u001b[0m 0.9019  \u001b[0m | \u001b[0m 0.9509  \u001b[0m | \u001b[0m 0.3151  \u001b[0m | \u001b[0m 0.3238  \u001b[0m | \u001b[0m 0.3261  \u001b[0m | \u001b[0m 0.9016  \u001b[0m | \u001b[0m 5.46    \u001b[0m | \u001b[0m 0.9     \u001b[0m |\n",
      "| \u001b[0m 68      \u001b[0m | \u001b[0m 0.9037  \u001b[0m | \u001b[0m 0.853   \u001b[0m | \u001b[0m 0.3232  \u001b[0m | \u001b[0m 0.3123  \u001b[0m | \u001b[0m 0.6845  \u001b[0m | \u001b[0m 0.06124 \u001b[0m | \u001b[0m 14.21   \u001b[0m | \u001b[0m 0.894   \u001b[0m |\n",
      "| \u001b[0m 69      \u001b[0m | \u001b[0m 0.9034  \u001b[0m | \u001b[0m 0.2176  \u001b[0m | \u001b[0m 0.3398  \u001b[0m | \u001b[0m 0.3143  \u001b[0m | \u001b[0m 0.8823  \u001b[0m | \u001b[0m 0.853   \u001b[0m | \u001b[0m 14.96   \u001b[0m | \u001b[0m 0.894   \u001b[0m |\n",
      "| \u001b[0m 70      \u001b[0m | \u001b[0m 0.8991  \u001b[0m | \u001b[0m 0.07201 \u001b[0m | \u001b[0m 0.7483  \u001b[0m | \u001b[0m 0.3218  \u001b[0m | \u001b[0m 0.3081  \u001b[0m | \u001b[0m 0.1007  \u001b[0m | \u001b[0m 5.021   \u001b[0m | \u001b[0m 0.8765  \u001b[0m |\n",
      "| \u001b[0m 71      \u001b[0m | \u001b[0m 0.8981  \u001b[0m | \u001b[0m 0.08241 \u001b[0m | \u001b[0m 0.9253  \u001b[0m | \u001b[0m 0.3069  \u001b[0m | \u001b[0m 0.3215  \u001b[0m | \u001b[0m 0.1181  \u001b[0m | \u001b[0m 8.939   \u001b[0m | \u001b[0m 0.8876  \u001b[0m |\n",
      "| \u001b[0m 72      \u001b[0m | \u001b[0m 0.899   \u001b[0m | \u001b[0m 0.9123  \u001b[0m | \u001b[0m 0.4108  \u001b[0m | \u001b[0m 0.3254  \u001b[0m | \u001b[0m 0.8941  \u001b[0m | \u001b[0m 0.665   \u001b[0m | \u001b[0m 8.193   \u001b[0m | \u001b[0m 0.8962  \u001b[0m |\n",
      "| \u001b[0m 73      \u001b[0m | \u001b[0m 0.9039  \u001b[0m | \u001b[0m 0.1671  \u001b[0m | \u001b[0m 0.3058  \u001b[0m | \u001b[0m 0.3085  \u001b[0m | \u001b[0m 0.83    \u001b[0m | \u001b[0m 0.8334  \u001b[0m | \u001b[0m 11.64   \u001b[0m | \u001b[0m 0.886   \u001b[0m |\n",
      "| \u001b[0m 74      \u001b[0m | \u001b[0m 0.9044  \u001b[0m | \u001b[0m 0.8075  \u001b[0m | \u001b[0m 0.9361  \u001b[0m | \u001b[0m 0.3186  \u001b[0m | \u001b[0m 0.3112  \u001b[0m | \u001b[0m 0.6835  \u001b[0m | \u001b[0m 5.364   \u001b[0m | \u001b[0m 0.8956  \u001b[0m |\n",
      "| \u001b[0m 75      \u001b[0m | \u001b[0m 0.903   \u001b[0m | \u001b[0m 0.01726 \u001b[0m | \u001b[0m 0.4243  \u001b[0m | \u001b[0m 0.3024  \u001b[0m | \u001b[0m 0.3519  \u001b[0m | \u001b[0m 0.9876  \u001b[0m | \u001b[0m 14.03   \u001b[0m | \u001b[0m 0.8897  \u001b[0m |\n",
      "| \u001b[0m 76      \u001b[0m | \u001b[0m 0.9094  \u001b[0m | \u001b[0m 0.0687  \u001b[0m | \u001b[0m 0.3106  \u001b[0m | \u001b[0m 0.3066  \u001b[0m | \u001b[0m 0.3235  \u001b[0m | \u001b[0m 0.983   \u001b[0m | \u001b[0m 13.17   \u001b[0m | \u001b[0m 0.8995  \u001b[0m |\n",
      "| \u001b[0m 77      \u001b[0m | \u001b[0m 0.8873  \u001b[0m | \u001b[0m 0.1724  \u001b[0m | \u001b[0m 0.925   \u001b[0m | \u001b[0m 0.3169  \u001b[0m | \u001b[0m 0.4258  \u001b[0m | \u001b[0m 0.8146  \u001b[0m | \u001b[0m 3.221   \u001b[0m | \u001b[0m 0.8958  \u001b[0m |\n",
      "| \u001b[0m 78      \u001b[0m | \u001b[0m 0.9062  \u001b[0m | \u001b[0m 0.3956  \u001b[0m | \u001b[0m 0.3214  \u001b[0m | \u001b[0m 0.3096  \u001b[0m | \u001b[0m 0.3488  \u001b[0m | \u001b[0m 0.6501  \u001b[0m | \u001b[0m 12.76   \u001b[0m | \u001b[0m 0.8989  \u001b[0m |\n",
      "| \u001b[0m 79      \u001b[0m | \u001b[0m 0.8992  \u001b[0m | \u001b[0m 0.7469  \u001b[0m | \u001b[0m 0.7691  \u001b[0m | \u001b[0m 0.3126  \u001b[0m | \u001b[0m 0.867   \u001b[0m | \u001b[0m 0.1519  \u001b[0m | \u001b[0m 10.16   \u001b[0m | \u001b[0m 0.8936  \u001b[0m |\n",
      "| \u001b[0m 80      \u001b[0m | \u001b[0m 0.9064  \u001b[0m | \u001b[0m 0.1339  \u001b[0m | \u001b[0m 0.3152  \u001b[0m | \u001b[0m 0.3085  \u001b[0m | \u001b[0m 0.3856  \u001b[0m | \u001b[0m 0.1305  \u001b[0m | \u001b[0m 14.69   \u001b[0m | \u001b[0m 0.8977  \u001b[0m |\n",
      "| \u001b[0m 81      \u001b[0m | \u001b[0m 0.9062  \u001b[0m | \u001b[0m 0.8612  \u001b[0m | \u001b[0m 0.3673  \u001b[0m | \u001b[0m 0.3001  \u001b[0m | \u001b[0m 0.8695  \u001b[0m | \u001b[0m 0.646   \u001b[0m | \u001b[0m 14.95   \u001b[0m | \u001b[0m 0.8946  \u001b[0m |\n",
      "| \u001b[0m 82      \u001b[0m | \u001b[0m 0.9015  \u001b[0m | \u001b[0m 0.08564 \u001b[0m | \u001b[0m 0.3136  \u001b[0m | \u001b[0m 0.302   \u001b[0m | \u001b[0m 0.3844  \u001b[0m | \u001b[0m 0.9513  \u001b[0m | \u001b[0m 6.385   \u001b[0m | \u001b[0m 0.8905  \u001b[0m |\n",
      "| \u001b[0m 83      \u001b[0m | \u001b[0m 0.9056  \u001b[0m | \u001b[0m 0.4005  \u001b[0m | \u001b[0m 0.4015  \u001b[0m | \u001b[0m 0.3065  \u001b[0m | \u001b[0m 0.3956  \u001b[0m | \u001b[0m 0.6614  \u001b[0m | \u001b[0m 14.99   \u001b[0m | \u001b[0m 0.8996  \u001b[0m |\n",
      "| \u001b[0m 84      \u001b[0m | \u001b[0m 0.9067  \u001b[0m | \u001b[0m 0.06709 \u001b[0m | \u001b[0m 0.9381  \u001b[0m | \u001b[0m 0.301   \u001b[0m | \u001b[0m 0.328   \u001b[0m | \u001b[0m 0.9657  \u001b[0m | \u001b[0m 7.82    \u001b[0m | \u001b[0m 0.8728  \u001b[0m |\n",
      "| \u001b[0m 85      \u001b[0m | \u001b[0m 0.9     \u001b[0m | \u001b[0m 0.8754  \u001b[0m | \u001b[0m 0.9145  \u001b[0m | \u001b[0m 0.3084  \u001b[0m | \u001b[0m 0.816   \u001b[0m | \u001b[0m 0.1013  \u001b[0m | \u001b[0m 4.889   \u001b[0m | \u001b[0m 0.8968  \u001b[0m |\n",
      "| \u001b[0m 86      \u001b[0m | \u001b[0m 0.8986  \u001b[0m | \u001b[0m 0.01882 \u001b[0m | \u001b[0m 0.9475  \u001b[0m | \u001b[0m 0.3215  \u001b[0m | \u001b[0m 0.3631  \u001b[0m | \u001b[0m 0.06467 \u001b[0m | \u001b[0m 14.98   \u001b[0m | \u001b[0m 0.887   \u001b[0m |\n",
      "| \u001b[0m 87      \u001b[0m | \u001b[0m 0.9091  \u001b[0m | \u001b[0m 0.03281 \u001b[0m | \u001b[0m 0.4298  \u001b[0m | \u001b[0m 0.3091  \u001b[0m | \u001b[0m 0.3022  \u001b[0m | \u001b[0m 0.9595  \u001b[0m | \u001b[0m 8.543   \u001b[0m | \u001b[0m 0.8824  \u001b[0m |\n",
      "| \u001b[0m 88      \u001b[0m | \u001b[0m 0.9021  \u001b[0m | \u001b[0m 0.1207  \u001b[0m | \u001b[0m 0.834   \u001b[0m | \u001b[0m 0.3062  \u001b[0m | \u001b[0m 0.3045  \u001b[0m | \u001b[0m 0.8002  \u001b[0m | \u001b[0m 7.989   \u001b[0m | \u001b[0m 0.8928  \u001b[0m |\n",
      "| \u001b[0m 89      \u001b[0m | \u001b[0m 0.9068  \u001b[0m | \u001b[0m 0.9685  \u001b[0m | \u001b[0m 0.3096  \u001b[0m | \u001b[0m 0.3079  \u001b[0m | \u001b[0m 0.3203  \u001b[0m | \u001b[0m 0.6519  \u001b[0m | \u001b[0m 14.71   \u001b[0m | \u001b[0m 0.8953  \u001b[0m |\n",
      "| \u001b[0m 90      \u001b[0m | \u001b[0m 0.903   \u001b[0m | \u001b[0m 0.3087  \u001b[0m | \u001b[0m 0.6725  \u001b[0m | \u001b[0m 0.3067  \u001b[0m | \u001b[0m 0.3389  \u001b[0m | \u001b[0m 0.9403  \u001b[0m | \u001b[0m 8.927   \u001b[0m | \u001b[0m 0.8978  \u001b[0m |\n"
     ]
    },
    {
     "name": "stdout",
     "output_type": "stream",
     "text": [
      "| \u001b[0m 91      \u001b[0m | \u001b[0m 0.8907  \u001b[0m | \u001b[0m 0.9499  \u001b[0m | \u001b[0m 0.8907  \u001b[0m | \u001b[0m 0.3062  \u001b[0m | \u001b[0m 0.831   \u001b[0m | \u001b[0m 0.05918 \u001b[0m | \u001b[0m 3.16    \u001b[0m | \u001b[0m 0.8833  \u001b[0m |\n",
      "| \u001b[0m 92      \u001b[0m | \u001b[0m 0.9053  \u001b[0m | \u001b[0m 0.1448  \u001b[0m | \u001b[0m 0.3183  \u001b[0m | \u001b[0m 0.3102  \u001b[0m | \u001b[0m 0.3117  \u001b[0m | \u001b[0m 0.9626  \u001b[0m | \u001b[0m 11.44   \u001b[0m | \u001b[0m 0.8842  \u001b[0m |\n",
      "| \u001b[0m 93      \u001b[0m | \u001b[0m 0.9057  \u001b[0m | \u001b[0m 0.4746  \u001b[0m | \u001b[0m 0.3114  \u001b[0m | \u001b[0m 0.3019  \u001b[0m | \u001b[0m 0.8897  \u001b[0m | \u001b[0m 0.3609  \u001b[0m | \u001b[0m 12.98   \u001b[0m | \u001b[0m 0.8974  \u001b[0m |\n",
      "| \u001b[0m 94      \u001b[0m | \u001b[0m 0.9008  \u001b[0m | \u001b[0m 0.2656  \u001b[0m | \u001b[0m 0.8829  \u001b[0m | \u001b[0m 0.3226  \u001b[0m | \u001b[0m 0.3236  \u001b[0m | \u001b[0m 0.8961  \u001b[0m | \u001b[0m 5.652   \u001b[0m | \u001b[0m 0.8998  \u001b[0m |\n",
      "| \u001b[0m 95      \u001b[0m | \u001b[0m 0.9059  \u001b[0m | \u001b[0m 0.05096 \u001b[0m | \u001b[0m 0.3427  \u001b[0m | \u001b[0m 0.316   \u001b[0m | \u001b[0m 0.417   \u001b[0m | \u001b[0m 0.06863 \u001b[0m | \u001b[0m 13.51   \u001b[0m | \u001b[0m 0.8987  \u001b[0m |\n",
      "| \u001b[0m 96      \u001b[0m | \u001b[0m 0.8979  \u001b[0m | \u001b[0m 0.3291  \u001b[0m | \u001b[0m 0.3269  \u001b[0m | \u001b[0m 0.3136  \u001b[0m | \u001b[0m 0.8017  \u001b[0m | \u001b[0m 0.1403  \u001b[0m | \u001b[0m 5.353   \u001b[0m | \u001b[0m 0.8895  \u001b[0m |\n",
      "| \u001b[0m 97      \u001b[0m | \u001b[0m 0.9048  \u001b[0m | \u001b[0m 0.1714  \u001b[0m | \u001b[0m 0.3056  \u001b[0m | \u001b[0m 0.3042  \u001b[0m | \u001b[0m 0.8809  \u001b[0m | \u001b[0m 0.9088  \u001b[0m | \u001b[0m 9.685   \u001b[0m | \u001b[0m 0.8934  \u001b[0m |\n",
      "| \u001b[0m 98      \u001b[0m | \u001b[0m 0.9026  \u001b[0m | \u001b[0m 0.0614  \u001b[0m | \u001b[0m 0.4051  \u001b[0m | \u001b[0m 0.3173  \u001b[0m | \u001b[0m 0.32    \u001b[0m | \u001b[0m 0.1786  \u001b[0m | \u001b[0m 14.93   \u001b[0m | \u001b[0m 0.8876  \u001b[0m |\n",
      "| \u001b[0m 99      \u001b[0m | \u001b[0m 0.9043  \u001b[0m | \u001b[0m 0.9976  \u001b[0m | \u001b[0m 0.3488  \u001b[0m | \u001b[0m 0.3013  \u001b[0m | \u001b[0m 0.5861  \u001b[0m | \u001b[0m 0.07851 \u001b[0m | \u001b[0m 14.63   \u001b[0m | \u001b[0m 0.8976  \u001b[0m |\n",
      "| \u001b[0m 100     \u001b[0m | \u001b[0m 0.9083  \u001b[0m | \u001b[0m 0.09617 \u001b[0m | \u001b[0m 0.328   \u001b[0m | \u001b[0m 0.3211  \u001b[0m | \u001b[0m 0.3007  \u001b[0m | \u001b[0m 0.6873  \u001b[0m | \u001b[0m 14.9    \u001b[0m | \u001b[0m 0.8988  \u001b[0m |\n",
      "| \u001b[0m 101     \u001b[0m | \u001b[0m 0.9015  \u001b[0m | \u001b[0m 0.003859\u001b[0m | \u001b[0m 0.8791  \u001b[0m | \u001b[0m 0.3468  \u001b[0m | \u001b[0m 0.3369  \u001b[0m | \u001b[0m 0.9707  \u001b[0m | \u001b[0m 11.83   \u001b[0m | \u001b[0m 0.8963  \u001b[0m |\n",
      "| \u001b[0m 102     \u001b[0m | \u001b[0m 0.9016  \u001b[0m | \u001b[0m 0.6718  \u001b[0m | \u001b[0m 0.8397  \u001b[0m | \u001b[0m 0.3016  \u001b[0m | \u001b[0m 0.6457  \u001b[0m | \u001b[0m 0.02924 \u001b[0m | \u001b[0m 12.33   \u001b[0m | \u001b[0m 0.8973  \u001b[0m |\n",
      "| \u001b[0m 103     \u001b[0m | \u001b[0m 0.8986  \u001b[0m | \u001b[0m 0.9629  \u001b[0m | \u001b[0m 0.9705  \u001b[0m | \u001b[0m 0.3045  \u001b[0m | \u001b[0m 0.3041  \u001b[0m | \u001b[0m 0.4526  \u001b[0m | \u001b[0m 5.799   \u001b[0m | \u001b[0m 0.8964  \u001b[0m |\n",
      "| \u001b[0m 104     \u001b[0m | \u001b[0m 0.9044  \u001b[0m | \u001b[0m 0.02791 \u001b[0m | \u001b[0m 0.3461  \u001b[0m | \u001b[0m 0.3514  \u001b[0m | \u001b[0m 0.3209  \u001b[0m | \u001b[0m 0.8472  \u001b[0m | \u001b[0m 9.562   \u001b[0m | \u001b[0m 0.8971  \u001b[0m |\n",
      "| \u001b[0m 105     \u001b[0m | \u001b[0m 0.9016  \u001b[0m | \u001b[0m 0.04148 \u001b[0m | \u001b[0m 0.4406  \u001b[0m | \u001b[0m 0.3066  \u001b[0m | \u001b[0m 0.6517  \u001b[0m | \u001b[0m 0.9778  \u001b[0m | \u001b[0m 10.53   \u001b[0m | \u001b[0m 0.8972  \u001b[0m |\n",
      "| \u001b[0m 106     \u001b[0m | \u001b[0m 0.902   \u001b[0m | \u001b[0m 0.02404 \u001b[0m | \u001b[0m 0.3386  \u001b[0m | \u001b[0m 0.3126  \u001b[0m | \u001b[0m 0.4056  \u001b[0m | \u001b[0m 0.7541  \u001b[0m | \u001b[0m 4.371   \u001b[0m | \u001b[0m 0.8968  \u001b[0m |\n",
      "| \u001b[0m 107     \u001b[0m | \u001b[0m 0.9068  \u001b[0m | \u001b[0m 0.9868  \u001b[0m | \u001b[0m 0.3362  \u001b[0m | \u001b[0m 0.313   \u001b[0m | \u001b[0m 0.7694  \u001b[0m | \u001b[0m 0.4762  \u001b[0m | \u001b[0m 13.3    \u001b[0m | \u001b[0m 0.8932  \u001b[0m |\n",
      "| \u001b[0m 108     \u001b[0m | \u001b[0m 0.9092  \u001b[0m | \u001b[0m 0.01173 \u001b[0m | \u001b[0m 0.3453  \u001b[0m | \u001b[0m 0.3004  \u001b[0m | \u001b[0m 0.3763  \u001b[0m | \u001b[0m 0.3469  \u001b[0m | \u001b[0m 14.21   \u001b[0m | \u001b[0m 0.8908  \u001b[0m |\n",
      "| \u001b[0m 109     \u001b[0m | \u001b[0m 0.9023  \u001b[0m | \u001b[0m 0.03875 \u001b[0m | \u001b[0m 0.306   \u001b[0m | \u001b[0m 0.3067  \u001b[0m | \u001b[0m 0.8681  \u001b[0m | \u001b[0m 0.1362  \u001b[0m | \u001b[0m 12.12   \u001b[0m | \u001b[0m 0.8793  \u001b[0m |\n",
      "| \u001b[0m 110     \u001b[0m | \u001b[0m 0.8947  \u001b[0m | \u001b[0m 0.3904  \u001b[0m | \u001b[0m 0.9708  \u001b[0m | \u001b[0m 0.3067  \u001b[0m | \u001b[0m 0.4853  \u001b[0m | \u001b[0m 0.0769  \u001b[0m | \u001b[0m 3.984   \u001b[0m | \u001b[0m 0.8979  \u001b[0m |\n",
      "=============================================================================================================\n"
     ]
    }
   ],
   "source": [
    "def xgb_evaluate_lead2(max_depth, eta, subsample,colsample_bytree,gamma,lambda1,alpha):\n",
    "    params = {'eval_metric': 'aucpr',\n",
    "              'max_depth': int(max_depth),\n",
    "              'subsample': subsample, #0.8\n",
    "              'eta': eta, #0.3.. 0.2\n",
    "              'gamma': gamma,\n",
    "              'lambda': lambda1,\n",
    "              'aplha': alpha,\n",
    "              'colsample_bytree': colsample_bytree,\n",
    "              'objective': 'binary:logistic',\n",
    "              'verbosity': 0}\n",
    "    # Used around 1000 boosting rounds in the full model\n",
    "    cv_result = xgb.cv(params, dtrain_lead2r, num_boost_round=100, nfold=5)    \n",
    "    \n",
    "    # Bayesian optimization only knows how to maximize, not minimize, so return the negative RMSE\n",
    "    return cv_result['test-aucpr-mean'].iloc[-1]\n",
    "\n",
    "xgb_bo_lead2 = BayesianOptimization(xgb_evaluate_lead2, {'max_depth': (3, 15),                                              \n",
    "                                             'subsample': (0.3, 0.9),\n",
    "                                             'eta': (0.3, 0.9),\n",
    "                                             'gamma': (0.3, 0.9),\n",
    "                                             'lambda1': (0.0, 1.0),\n",
    "                                             'alpha': (0.0, 1.0),\n",
    "                                             'colsample_bytree': (0.3, 1)})\n",
    "    \n",
    "\n",
    "xgb_bo_lead2.maximize(init_points=10, n_iter=100, acq='ei')"
   ]
  },
  {
   "cell_type": "code",
   "execution_count": 55,
   "metadata": {},
   "outputs": [],
   "source": [
    "params_lead2 = xgb_bo_lead2.max[\"params\"]\n",
    "params_lead2['max_depth'] = int(params_lead2['max_depth'])\n",
    "\n",
    "# Train a new model with the best parameters from the search\n",
    "model2_lead2 = xgb.train(params_lead2, dtrain_lead2r, num_boost_round=500)"
   ]
  },
  {
   "cell_type": "code",
   "execution_count": 56,
   "metadata": {},
   "outputs": [],
   "source": [
    "pickle.dump(model2_lead2, open(models_a_dir+\"xgboost_y_lead2.pickle.dat\", \"wb\"))"
   ]
  },
  {
   "cell_type": "code",
   "execution_count": 57,
   "metadata": {},
   "outputs": [],
   "source": [
    "train_b=pd.read_csv(preproc_dir+\"train_b_preproc1.csv\")\n",
    "test_b=pd.read_csv(preproc_dir+\"test_b_preproc1.csv\")"
   ]
  },
  {
   "cell_type": "code",
   "execution_count": 58,
   "metadata": {},
   "outputs": [],
   "source": [
    "X_b_train=train_b[train_b.columns.intersection(selcols)].copy()\n",
    "X_b_test=test_b[test_b.columns.intersection(selcols)].copy()"
   ]
  },
  {
   "cell_type": "code",
   "execution_count": 59,
   "metadata": {},
   "outputs": [],
   "source": [
    "X_b_train.fillna(0, inplace=True) \n",
    "X_b_train.replace(to_replace=np.inf, value=0, inplace=True)\n",
    "\n",
    "X_b_test.fillna(0, inplace=True) \n",
    "X_b_test.replace(to_replace=np.inf, value=0, inplace=True)"
   ]
  },
  {
   "cell_type": "code",
   "execution_count": 60,
   "metadata": {},
   "outputs": [],
   "source": [
    "X_b_train_sc=scaler.transform(X_b_train)\n",
    "X_b_test_sc=scaler.transform(X_b_test)"
   ]
  },
  {
   "cell_type": "code",
   "execution_count": 61,
   "metadata": {},
   "outputs": [],
   "source": [
    "dtrain_b = xgb.DMatrix(X_b_train_sc)\n",
    "dtest_b = xgb.DMatrix(X_b_test_sc)"
   ]
  },
  {
   "cell_type": "code",
   "execution_count": 62,
   "metadata": {},
   "outputs": [],
   "source": [
    "y_pred_train_b = model2.predict(dtrain_b)\n",
    "y_pred_test_b = model2.predict(dtest_b)"
   ]
  },
  {
   "cell_type": "code",
   "execution_count": 63,
   "metadata": {},
   "outputs": [],
   "source": [
    "y_lead1_pred_train_b = model2_lead1.predict(dtrain_b)\n",
    "y_lead1_pred_test_b = model2_lead1.predict(dtest_b)"
   ]
  },
  {
   "cell_type": "code",
   "execution_count": 64,
   "metadata": {},
   "outputs": [],
   "source": [
    "y_lead2_pred_train_b = model2_lead2.predict(dtrain_b)\n",
    "y_lead2_pred_test_b = model2_lead2.predict(dtest_b)"
   ]
  },
  {
   "cell_type": "code",
   "execution_count": null,
   "metadata": {},
   "outputs": [],
   "source": []
  },
  {
   "cell_type": "code",
   "execution_count": 70,
   "metadata": {},
   "outputs": [],
   "source": [
    "xgb_out_train_b=pd.DataFrame({\"xgb_y_prob\" : y_pred_train_b,\"xgb_ylead1_prob\" : y_lead1_pred_train_b,\"xgb_ylead2_prob\" : y_lead2_pred_train_b})\n",
    "xgb_out_test_b=pd.DataFrame({\"xgb_y_prob\" : y_pred_test_b,\"xgb_ylead1_prob\" : y_lead1_pred_test_b,\"xgb_ylead2_prob\" : y_lead2_pred_test_b})"
   ]
  },
  {
   "cell_type": "code",
   "execution_count": 73,
   "metadata": {},
   "outputs": [],
   "source": [
    "xgb_out_train_b.to_csv(preproc_dir+\"xgb_out_train_b.csv\",index=False)\n",
    "xgb_out_test_b.to_csv(preproc_dir+\"xgb_out_test_b.csv\",index=False)"
   ]
  },
  {
   "cell_type": "markdown",
   "metadata": {},
   "source": [
    "XGB on dataset b"
   ]
  },
  {
   "cell_type": "code",
   "execution_count": 75,
   "metadata": {},
   "outputs": [
    {
     "name": "stderr",
     "output_type": "stream",
     "text": [
      "C:\\Users\\jchas\\Anaconda3\\lib\\site-packages\\xgboost\\core.py:587: FutureWarning: Series.base is deprecated and will be removed in a future version\n",
      "  if getattr(data, 'base', None) is not None and \\\n",
      "C:\\Users\\jchas\\Anaconda3\\lib\\site-packages\\xgboost\\core.py:588: FutureWarning: Series.base is deprecated and will be removed in a future version\n",
      "  data.base is not None and isinstance(data, np.ndarray) \\\n"
     ]
    }
   ],
   "source": [
    "dtrain_b_y = xgb.DMatrix(X_b_train_sc,label=train_b[\"y_lead2\"])"
   ]
  },
  {
   "cell_type": "code",
   "execution_count": 77,
   "metadata": {},
   "outputs": [
    {
     "name": "stdout",
     "output_type": "stream",
     "text": [
      "|   iter    |  target   |   alpha   | colsam... |    eta    |   gamma   |  lambda1  | max_depth | subsample |\n",
      "-------------------------------------------------------------------------------------------------------------\n",
      "| \u001b[0m 1       \u001b[0m | \u001b[0m 0.00947 \u001b[0m | \u001b[0m 0.5715  \u001b[0m | \u001b[0m 0.7388  \u001b[0m | \u001b[0m 0.553   \u001b[0m | \u001b[0m 0.3322  \u001b[0m | \u001b[0m 0.08343 \u001b[0m | \u001b[0m 5.997   \u001b[0m | \u001b[0m 0.4917  \u001b[0m |\n",
      "| \u001b[95m 2       \u001b[0m | \u001b[95m 0.00978 \u001b[0m | \u001b[95m 0.2156  \u001b[0m | \u001b[95m 0.6753  \u001b[0m | \u001b[95m 0.7376  \u001b[0m | \u001b[95m 0.3475  \u001b[0m | \u001b[95m 0.3254  \u001b[0m | \u001b[95m 9.31    \u001b[0m | \u001b[95m 0.4495  \u001b[0m |\n",
      "| \u001b[95m 3       \u001b[0m | \u001b[95m 0.01512 \u001b[0m | \u001b[95m 0.5893  \u001b[0m | \u001b[95m 0.7426  \u001b[0m | \u001b[95m 0.8263  \u001b[0m | \u001b[95m 0.5298  \u001b[0m | \u001b[95m 0.1834  \u001b[0m | \u001b[95m 14.83   \u001b[0m | \u001b[95m 0.6564  \u001b[0m |\n",
      "| \u001b[0m 4       \u001b[0m | \u001b[0m 0.01217 \u001b[0m | \u001b[0m 0.68    \u001b[0m | \u001b[0m 0.3583  \u001b[0m | \u001b[0m 0.8249  \u001b[0m | \u001b[0m 0.4366  \u001b[0m | \u001b[0m 0.02315 \u001b[0m | \u001b[0m 10.54   \u001b[0m | \u001b[0m 0.8274  \u001b[0m |\n",
      "| \u001b[0m 5       \u001b[0m | \u001b[0m 0.01365 \u001b[0m | \u001b[0m 0.7685  \u001b[0m | \u001b[0m 0.9703  \u001b[0m | \u001b[0m 0.3951  \u001b[0m | \u001b[0m 0.6108  \u001b[0m | \u001b[0m 0.5602  \u001b[0m | \u001b[0m 3.187   \u001b[0m | \u001b[0m 0.5484  \u001b[0m |\n",
      "| \u001b[0m 6       \u001b[0m | \u001b[0m 0.01149 \u001b[0m | \u001b[0m 0.2466  \u001b[0m | \u001b[0m 0.6492  \u001b[0m | \u001b[0m 0.6468  \u001b[0m | \u001b[0m 0.4246  \u001b[0m | \u001b[0m 0.08093 \u001b[0m | \u001b[0m 12.94   \u001b[0m | \u001b[0m 0.4871  \u001b[0m |\n",
      "| \u001b[95m 7       \u001b[0m | \u001b[95m 0.02918 \u001b[0m | \u001b[95m 0.01125 \u001b[0m | \u001b[95m 0.8044  \u001b[0m | \u001b[95m 0.7527  \u001b[0m | \u001b[95m 0.4117  \u001b[0m | \u001b[95m 0.5893  \u001b[0m | \u001b[95m 7.538   \u001b[0m | \u001b[95m 0.4812  \u001b[0m |\n",
      "| \u001b[0m 8       \u001b[0m | \u001b[0m 0.01294 \u001b[0m | \u001b[0m 0.271   \u001b[0m | \u001b[0m 0.9062  \u001b[0m | \u001b[0m 0.8013  \u001b[0m | \u001b[0m 0.3848  \u001b[0m | \u001b[0m 0.3536  \u001b[0m | \u001b[0m 11.46   \u001b[0m | \u001b[0m 0.3203  \u001b[0m |\n",
      "| \u001b[0m 9       \u001b[0m | \u001b[0m 0.009607\u001b[0m | \u001b[0m 0.8468  \u001b[0m | \u001b[0m 0.3114  \u001b[0m | \u001b[0m 0.7236  \u001b[0m | \u001b[0m 0.367   \u001b[0m | \u001b[0m 0.8271  \u001b[0m | \u001b[0m 6.693   \u001b[0m | \u001b[0m 0.7021  \u001b[0m |\n",
      "| \u001b[0m 10      \u001b[0m | \u001b[0m 0.01448 \u001b[0m | \u001b[0m 0.06017 \u001b[0m | \u001b[0m 0.3896  \u001b[0m | \u001b[0m 0.325   \u001b[0m | \u001b[0m 0.5805  \u001b[0m | \u001b[0m 0.8913  \u001b[0m | \u001b[0m 13.7    \u001b[0m | \u001b[0m 0.5984  \u001b[0m |\n",
      "| \u001b[0m 11      \u001b[0m | \u001b[0m 0.009952\u001b[0m | \u001b[0m 0.0     \u001b[0m | \u001b[0m 1.0     \u001b[0m | \u001b[0m 0.9     \u001b[0m | \u001b[0m 0.9     \u001b[0m | \u001b[0m 1.0     \u001b[0m | \u001b[0m 5.334   \u001b[0m | \u001b[0m 0.9     \u001b[0m |\n",
      "| \u001b[0m 12      \u001b[0m | \u001b[0m 0.008173\u001b[0m | \u001b[0m 0.0     \u001b[0m | \u001b[0m 0.3     \u001b[0m | \u001b[0m 0.9     \u001b[0m | \u001b[0m 0.3     \u001b[0m | \u001b[0m 1.0     \u001b[0m | \u001b[0m 3.0     \u001b[0m | \u001b[0m 0.3     \u001b[0m |\n",
      "| \u001b[0m 13      \u001b[0m | \u001b[0m 0.01802 \u001b[0m | \u001b[0m 0.0     \u001b[0m | \u001b[0m 1.0     \u001b[0m | \u001b[0m 0.3     \u001b[0m | \u001b[0m 0.3     \u001b[0m | \u001b[0m 1.0     \u001b[0m | \u001b[0m 7.346   \u001b[0m | \u001b[0m 0.9     \u001b[0m |\n",
      "| \u001b[0m 14      \u001b[0m | \u001b[0m 0.009063\u001b[0m | \u001b[0m 1.0     \u001b[0m | \u001b[0m 0.3     \u001b[0m | \u001b[0m 0.9     \u001b[0m | \u001b[0m 0.9     \u001b[0m | \u001b[0m 1.0     \u001b[0m | \u001b[0m 13.41   \u001b[0m | \u001b[0m 0.9     \u001b[0m |\n",
      "| \u001b[0m 15      \u001b[0m | \u001b[0m 0.01061 \u001b[0m | \u001b[0m 0.0     \u001b[0m | \u001b[0m 0.3     \u001b[0m | \u001b[0m 0.9     \u001b[0m | \u001b[0m 0.3     \u001b[0m | \u001b[0m 1.0     \u001b[0m | \u001b[0m 15.0    \u001b[0m | \u001b[0m 0.9     \u001b[0m |\n",
      "| \u001b[0m 16      \u001b[0m | \u001b[0m 0.01318 \u001b[0m | \u001b[0m 0.0     \u001b[0m | \u001b[0m 1.0     \u001b[0m | \u001b[0m 0.3     \u001b[0m | \u001b[0m 0.9     \u001b[0m | \u001b[0m 0.0     \u001b[0m | \u001b[0m 15.0    \u001b[0m | \u001b[0m 0.9     \u001b[0m |\n",
      "| \u001b[0m 17      \u001b[0m | \u001b[0m 0.007654\u001b[0m | \u001b[0m 0.0     \u001b[0m | \u001b[0m 1.0     \u001b[0m | \u001b[0m 0.9     \u001b[0m | \u001b[0m 0.4476  \u001b[0m | \u001b[0m 1.0     \u001b[0m | \u001b[0m 6.908   \u001b[0m | \u001b[0m 0.3     \u001b[0m |\n",
      "| \u001b[0m 18      \u001b[0m | \u001b[0m 0.01405 \u001b[0m | \u001b[0m 0.0     \u001b[0m | \u001b[0m 0.3     \u001b[0m | \u001b[0m 0.3     \u001b[0m | \u001b[0m 0.9     \u001b[0m | \u001b[0m 0.0     \u001b[0m | \u001b[0m 3.0     \u001b[0m | \u001b[0m 0.9     \u001b[0m |\n",
      "| \u001b[0m 19      \u001b[0m | \u001b[0m 0.01257 \u001b[0m | \u001b[0m 0.0     \u001b[0m | \u001b[0m 0.3     \u001b[0m | \u001b[0m 0.9     \u001b[0m | \u001b[0m 0.9     \u001b[0m | \u001b[0m 0.0     \u001b[0m | \u001b[0m 7.51    \u001b[0m | \u001b[0m 0.9     \u001b[0m |\n",
      "| \u001b[0m 20      \u001b[0m | \u001b[0m 0.0152  \u001b[0m | \u001b[0m 0.0     \u001b[0m | \u001b[0m 1.0     \u001b[0m | \u001b[0m 0.9     \u001b[0m | \u001b[0m 0.3     \u001b[0m | \u001b[0m 0.0     \u001b[0m | \u001b[0m 3.0     \u001b[0m | \u001b[0m 0.9     \u001b[0m |\n",
      "| \u001b[0m 21      \u001b[0m | \u001b[0m 0.01446 \u001b[0m | \u001b[0m 1.0     \u001b[0m | \u001b[0m 1.0     \u001b[0m | \u001b[0m 0.3     \u001b[0m | \u001b[0m 0.3     \u001b[0m | \u001b[0m 1.0     \u001b[0m | \u001b[0m 15.0    \u001b[0m | \u001b[0m 0.9     \u001b[0m |\n",
      "| \u001b[0m 22      \u001b[0m | \u001b[0m 0.009701\u001b[0m | \u001b[0m 1.3e-09 \u001b[0m | \u001b[0m 1.0     \u001b[0m | \u001b[0m 0.9     \u001b[0m | \u001b[0m 0.3     \u001b[0m | \u001b[0m 7.978e-1\u001b[0m | \u001b[0m 7.533   \u001b[0m | \u001b[0m 0.9     \u001b[0m |\n",
      "| \u001b[0m 23      \u001b[0m | \u001b[0m 0.01428 \u001b[0m | \u001b[0m 0.0     \u001b[0m | \u001b[0m 0.3     \u001b[0m | \u001b[0m 0.3     \u001b[0m | \u001b[0m 0.3     \u001b[0m | \u001b[0m 0.4107  \u001b[0m | \u001b[0m 7.495   \u001b[0m | \u001b[0m 0.3     \u001b[0m |\n",
      "| \u001b[0m 24      \u001b[0m | \u001b[0m 0.01087 \u001b[0m | \u001b[0m 1.0     \u001b[0m | \u001b[0m 1.0     \u001b[0m | \u001b[0m 0.3     \u001b[0m | \u001b[0m 0.9     \u001b[0m | \u001b[0m 0.3892  \u001b[0m | \u001b[0m 8.037   \u001b[0m | \u001b[0m 0.3221  \u001b[0m |\n",
      "| \u001b[0m 25      \u001b[0m | \u001b[0m 0.009469\u001b[0m | \u001b[0m 1.0     \u001b[0m | \u001b[0m 0.3     \u001b[0m | \u001b[0m 0.9     \u001b[0m | \u001b[0m 0.9     \u001b[0m | \u001b[0m 0.0     \u001b[0m | \u001b[0m 3.0     \u001b[0m | \u001b[0m 0.5411  \u001b[0m |\n",
      "| \u001b[0m 26      \u001b[0m | \u001b[0m 0.01152 \u001b[0m | \u001b[0m 1.0     \u001b[0m | \u001b[0m 0.3     \u001b[0m | \u001b[0m 0.3     \u001b[0m | \u001b[0m 0.3     \u001b[0m | \u001b[0m 0.0     \u001b[0m | \u001b[0m 15.0    \u001b[0m | \u001b[0m 0.3     \u001b[0m |\n",
      "| \u001b[0m 27      \u001b[0m | \u001b[0m 0.009047\u001b[0m | \u001b[0m 0.09104 \u001b[0m | \u001b[0m 0.4212  \u001b[0m | \u001b[0m 0.8701  \u001b[0m | \u001b[0m 0.8749  \u001b[0m | \u001b[0m 0.9023  \u001b[0m | \u001b[0m 8.441   \u001b[0m | \u001b[0m 0.8547  \u001b[0m |\n",
      "| \u001b[0m 28      \u001b[0m | \u001b[0m 0.00814 \u001b[0m | \u001b[0m 0.0     \u001b[0m | \u001b[0m 0.8355  \u001b[0m | \u001b[0m 0.9     \u001b[0m | \u001b[0m 0.9     \u001b[0m | \u001b[0m 0.7905  \u001b[0m | \u001b[0m 3.0     \u001b[0m | \u001b[0m 0.9     \u001b[0m |\n",
      "| \u001b[0m 29      \u001b[0m | \u001b[0m 0.0211  \u001b[0m | \u001b[0m 0.8374  \u001b[0m | \u001b[0m 0.3     \u001b[0m | \u001b[0m 0.3227  \u001b[0m | \u001b[0m 0.3     \u001b[0m | \u001b[0m 0.73    \u001b[0m | \u001b[0m 3.317   \u001b[0m | \u001b[0m 0.9     \u001b[0m |\n",
      "| \u001b[0m 30      \u001b[0m | \u001b[0m 0.01546 \u001b[0m | \u001b[0m 0.0     \u001b[0m | \u001b[0m 1.0     \u001b[0m | \u001b[0m 0.3074  \u001b[0m | \u001b[0m 0.9     \u001b[0m | \u001b[0m 1.0     \u001b[0m | \u001b[0m 15.0    \u001b[0m | \u001b[0m 0.3     \u001b[0m |\n",
      "| \u001b[0m 31      \u001b[0m | \u001b[0m 0.01223 \u001b[0m | \u001b[0m 0.9987  \u001b[0m | \u001b[0m 0.9234  \u001b[0m | \u001b[0m 0.4159  \u001b[0m | \u001b[0m 0.4404  \u001b[0m | \u001b[0m 0.8861  \u001b[0m | \u001b[0m 11.88   \u001b[0m | \u001b[0m 0.8467  \u001b[0m |\n",
      "| \u001b[0m 32      \u001b[0m | \u001b[0m 0.01049 \u001b[0m | \u001b[0m 0.01561 \u001b[0m | \u001b[0m 0.8755  \u001b[0m | \u001b[0m 0.5298  \u001b[0m | \u001b[0m 0.8401  \u001b[0m | \u001b[0m 0.4518  \u001b[0m | \u001b[0m 7.358   \u001b[0m | \u001b[0m 0.5252  \u001b[0m |\n",
      "| \u001b[0m 33      \u001b[0m | \u001b[0m 0.0145  \u001b[0m | \u001b[0m 0.006369\u001b[0m | \u001b[0m 0.3111  \u001b[0m | \u001b[0m 0.7322  \u001b[0m | \u001b[0m 0.3053  \u001b[0m | \u001b[0m 0.3448  \u001b[0m | \u001b[0m 4.868   \u001b[0m | \u001b[0m 0.8848  \u001b[0m |\n",
      "| \u001b[0m 34      \u001b[0m | \u001b[0m 0.0098  \u001b[0m | \u001b[0m 0.9754  \u001b[0m | \u001b[0m 0.3132  \u001b[0m | \u001b[0m 0.8982  \u001b[0m | \u001b[0m 0.4699  \u001b[0m | \u001b[0m 0.24    \u001b[0m | \u001b[0m 11.32   \u001b[0m | \u001b[0m 0.3318  \u001b[0m |\n",
      "| \u001b[0m 35      \u001b[0m | \u001b[0m 0.009874\u001b[0m | \u001b[0m 0.2764  \u001b[0m | \u001b[0m 0.5906  \u001b[0m | \u001b[0m 0.8825  \u001b[0m | \u001b[0m 0.3321  \u001b[0m | \u001b[0m 0.5706  \u001b[0m | \u001b[0m 7.957   \u001b[0m | \u001b[0m 0.7294  \u001b[0m |\n",
      "| \u001b[0m 36      \u001b[0m | \u001b[0m 0.01224 \u001b[0m | \u001b[0m 0.9352  \u001b[0m | \u001b[0m 0.9577  \u001b[0m | \u001b[0m 0.3     \u001b[0m | \u001b[0m 0.9     \u001b[0m | \u001b[0m 4.465e-1\u001b[0m | \u001b[0m 11.59   \u001b[0m | \u001b[0m 0.6101  \u001b[0m |\n",
      "| \u001b[0m 37      \u001b[0m | \u001b[0m 0.01597 \u001b[0m | \u001b[0m 0.0     \u001b[0m | \u001b[0m 0.3     \u001b[0m | \u001b[0m 0.3     \u001b[0m | \u001b[0m 0.9     \u001b[0m | \u001b[0m 0.8369  \u001b[0m | \u001b[0m 11.8    \u001b[0m | \u001b[0m 0.9     \u001b[0m |\n",
      "| \u001b[0m 38      \u001b[0m | \u001b[0m 0.01757 \u001b[0m | \u001b[0m 0.9491  \u001b[0m | \u001b[0m 0.6206  \u001b[0m | \u001b[0m 0.3153  \u001b[0m | \u001b[0m 0.8056  \u001b[0m | \u001b[0m 0.9527  \u001b[0m | \u001b[0m 4.66    \u001b[0m | \u001b[0m 0.8457  \u001b[0m |\n",
      "| \u001b[0m 39      \u001b[0m | \u001b[0m 0.01359 \u001b[0m | \u001b[0m 0.801   \u001b[0m | \u001b[0m 0.315   \u001b[0m | \u001b[0m 0.3626  \u001b[0m | \u001b[0m 0.892   \u001b[0m | \u001b[0m 0.6528  \u001b[0m | \u001b[0m 14.91   \u001b[0m | \u001b[0m 0.7841  \u001b[0m |\n",
      "| \u001b[0m 40      \u001b[0m | \u001b[0m 0.01031 \u001b[0m | \u001b[0m 0.02986 \u001b[0m | \u001b[0m 0.3316  \u001b[0m | \u001b[0m 0.8506  \u001b[0m | \u001b[0m 0.7838  \u001b[0m | \u001b[0m 0.0198  \u001b[0m | \u001b[0m 11.37   \u001b[0m | \u001b[0m 0.77    \u001b[0m |\n",
      "| \u001b[0m 41      \u001b[0m | \u001b[0m 0.01374 \u001b[0m | \u001b[0m 0.01787 \u001b[0m | \u001b[0m 0.9883  \u001b[0m | \u001b[0m 0.3781  \u001b[0m | \u001b[0m 0.3235  \u001b[0m | \u001b[0m 0.8309  \u001b[0m | \u001b[0m 12.47   \u001b[0m | \u001b[0m 0.869   \u001b[0m |\n",
      "| \u001b[0m 42      \u001b[0m | \u001b[0m 0.008205\u001b[0m | \u001b[0m 0.005799\u001b[0m | \u001b[0m 0.5811  \u001b[0m | \u001b[0m 0.86    \u001b[0m | \u001b[0m 0.4027  \u001b[0m | \u001b[0m 0.09815 \u001b[0m | \u001b[0m 7.495   \u001b[0m | \u001b[0m 0.3063  \u001b[0m |\n",
      "| \u001b[0m 43      \u001b[0m | \u001b[0m 0.009705\u001b[0m | \u001b[0m 0.009693\u001b[0m | \u001b[0m 0.9877  \u001b[0m | \u001b[0m 0.4237  \u001b[0m | \u001b[0m 0.3242  \u001b[0m | \u001b[0m 0.8471  \u001b[0m | \u001b[0m 8.497   \u001b[0m | \u001b[0m 0.374   \u001b[0m |\n",
      "| \u001b[0m 44      \u001b[0m | \u001b[0m 0.02112 \u001b[0m | \u001b[0m 0.01776 \u001b[0m | \u001b[0m 0.6011  \u001b[0m | \u001b[0m 0.8762  \u001b[0m | \u001b[0m 0.379   \u001b[0m | \u001b[0m 0.6079  \u001b[0m | \u001b[0m 6.916   \u001b[0m | \u001b[0m 0.8955  \u001b[0m |\n"
     ]
    },
    {
     "name": "stdout",
     "output_type": "stream",
     "text": [
      "| \u001b[0m 45      \u001b[0m | \u001b[0m 0.01448 \u001b[0m | \u001b[0m 0.968   \u001b[0m | \u001b[0m 0.9741  \u001b[0m | \u001b[0m 0.3032  \u001b[0m | \u001b[0m 0.398   \u001b[0m | \u001b[0m 0.5236  \u001b[0m | \u001b[0m 5.53    \u001b[0m | \u001b[0m 0.8907  \u001b[0m |\n",
      "| \u001b[0m 46      \u001b[0m | \u001b[0m 0.01068 \u001b[0m | \u001b[0m 0.9885  \u001b[0m | \u001b[0m 0.4552  \u001b[0m | \u001b[0m 0.3349  \u001b[0m | \u001b[0m 0.8906  \u001b[0m | \u001b[0m 0.2269  \u001b[0m | \u001b[0m 10.2    \u001b[0m | \u001b[0m 0.6619  \u001b[0m |\n",
      "| \u001b[0m 47      \u001b[0m | \u001b[0m 0.01089 \u001b[0m | \u001b[0m 0.8951  \u001b[0m | \u001b[0m 0.9792  \u001b[0m | \u001b[0m 0.3381  \u001b[0m | \u001b[0m 0.3053  \u001b[0m | \u001b[0m 0.3612  \u001b[0m | \u001b[0m 13.76   \u001b[0m | \u001b[0m 0.3147  \u001b[0m |\n",
      "| \u001b[0m 48      \u001b[0m | \u001b[0m 0.01287 \u001b[0m | \u001b[0m 0.9136  \u001b[0m | \u001b[0m 0.372   \u001b[0m | \u001b[0m 0.3124  \u001b[0m | \u001b[0m 0.3146  \u001b[0m | \u001b[0m 0.03775 \u001b[0m | \u001b[0m 3.002   \u001b[0m | \u001b[0m 0.3754  \u001b[0m |\n",
      "| \u001b[0m 49      \u001b[0m | \u001b[0m 0.01182 \u001b[0m | \u001b[0m 0.0344  \u001b[0m | \u001b[0m 0.8434  \u001b[0m | \u001b[0m 0.3164  \u001b[0m | \u001b[0m 0.3643  \u001b[0m | \u001b[0m 0.8517  \u001b[0m | \u001b[0m 3.151   \u001b[0m | \u001b[0m 0.8978  \u001b[0m |\n",
      "| \u001b[0m 50      \u001b[0m | \u001b[0m 0.009324\u001b[0m | \u001b[0m 0.9833  \u001b[0m | \u001b[0m 0.9959  \u001b[0m | \u001b[0m 0.8527  \u001b[0m | \u001b[0m 0.8564  \u001b[0m | \u001b[0m 0.03201 \u001b[0m | \u001b[0m 10.13   \u001b[0m | \u001b[0m 0.7796  \u001b[0m |\n",
      "| \u001b[0m 51      \u001b[0m | \u001b[0m 0.01269 \u001b[0m | \u001b[0m 0.9805  \u001b[0m | \u001b[0m 0.8971  \u001b[0m | \u001b[0m 0.8781  \u001b[0m | \u001b[0m 0.727   \u001b[0m | \u001b[0m 0.0407  \u001b[0m | \u001b[0m 4.327   \u001b[0m | \u001b[0m 0.8992  \u001b[0m |\n",
      "| \u001b[0m 52      \u001b[0m | \u001b[0m 0.01439 \u001b[0m | \u001b[0m 1.898e-0\u001b[0m | \u001b[0m 1.0     \u001b[0m | \u001b[0m 0.7854  \u001b[0m | \u001b[0m 0.9     \u001b[0m | \u001b[0m 1.0     \u001b[0m | \u001b[0m 15.0    \u001b[0m | \u001b[0m 0.9     \u001b[0m |\n",
      "| \u001b[0m 53      \u001b[0m | \u001b[0m 0.01159 \u001b[0m | \u001b[0m 0.9954  \u001b[0m | \u001b[0m 0.3021  \u001b[0m | \u001b[0m 0.3249  \u001b[0m | \u001b[0m 0.3414  \u001b[0m | \u001b[0m 0.005544\u001b[0m | \u001b[0m 12.59   \u001b[0m | \u001b[0m 0.7831  \u001b[0m |\n",
      "| \u001b[0m 54      \u001b[0m | \u001b[0m 0.02242 \u001b[0m | \u001b[0m 1.0     \u001b[0m | \u001b[0m 0.3     \u001b[0m | \u001b[0m 0.3     \u001b[0m | \u001b[0m 0.9     \u001b[0m | \u001b[0m 3.896e-0\u001b[0m | \u001b[0m 5.796   \u001b[0m | \u001b[0m 0.9     \u001b[0m |\n",
      "| \u001b[0m 55      \u001b[0m | \u001b[0m 0.01054 \u001b[0m | \u001b[0m 0.9619  \u001b[0m | \u001b[0m 0.9307  \u001b[0m | \u001b[0m 0.8631  \u001b[0m | \u001b[0m 0.8824  \u001b[0m | \u001b[0m 0.02264 \u001b[0m | \u001b[0m 14.89   \u001b[0m | \u001b[0m 0.3991  \u001b[0m |\n",
      "| \u001b[0m 56      \u001b[0m | \u001b[0m 0.01192 \u001b[0m | \u001b[0m 0.1687  \u001b[0m | \u001b[0m 0.3057  \u001b[0m | \u001b[0m 0.6421  \u001b[0m | \u001b[0m 0.8802  \u001b[0m | \u001b[0m 0.8184  \u001b[0m | \u001b[0m 5.228   \u001b[0m | \u001b[0m 0.8898  \u001b[0m |\n",
      "| \u001b[0m 57      \u001b[0m | \u001b[0m 0.01016 \u001b[0m | \u001b[0m 0.9956  \u001b[0m | \u001b[0m 0.9981  \u001b[0m | \u001b[0m 0.8866  \u001b[0m | \u001b[0m 0.3075  \u001b[0m | \u001b[0m 0.9665  \u001b[0m | \u001b[0m 3.864   \u001b[0m | \u001b[0m 0.8285  \u001b[0m |\n",
      "| \u001b[0m 58      \u001b[0m | \u001b[0m 0.008453\u001b[0m | \u001b[0m 0.06159 \u001b[0m | \u001b[0m 0.9312  \u001b[0m | \u001b[0m 0.7159  \u001b[0m | \u001b[0m 0.3452  \u001b[0m | \u001b[0m 0.04206 \u001b[0m | \u001b[0m 14.95   \u001b[0m | \u001b[0m 0.42    \u001b[0m |\n",
      "| \u001b[0m 59      \u001b[0m | \u001b[0m 0.01508 \u001b[0m | \u001b[0m 0.997   \u001b[0m | \u001b[0m 0.3183  \u001b[0m | \u001b[0m 0.3054  \u001b[0m | \u001b[0m 0.8837  \u001b[0m | \u001b[0m 0.5057  \u001b[0m | \u001b[0m 3.46    \u001b[0m | \u001b[0m 0.7625  \u001b[0m |\n",
      "| \u001b[0m 60      \u001b[0m | \u001b[0m 0.01182 \u001b[0m | \u001b[0m 0.9527  \u001b[0m | \u001b[0m 0.971   \u001b[0m | \u001b[0m 0.3577  \u001b[0m | \u001b[0m 0.364   \u001b[0m | \u001b[0m 0.01912 \u001b[0m | \u001b[0m 14.97   \u001b[0m | \u001b[0m 0.8622  \u001b[0m |\n",
      "| \u001b[0m 61      \u001b[0m | \u001b[0m 0.02074 \u001b[0m | \u001b[0m 0.9549  \u001b[0m | \u001b[0m 0.7374  \u001b[0m | \u001b[0m 0.7886  \u001b[0m | \u001b[0m 0.479   \u001b[0m | \u001b[0m 0.8942  \u001b[0m | \u001b[0m 14.93   \u001b[0m | \u001b[0m 0.305   \u001b[0m |\n",
      "| \u001b[0m 62      \u001b[0m | \u001b[0m 0.01097 \u001b[0m | \u001b[0m 0.9519  \u001b[0m | \u001b[0m 0.8803  \u001b[0m | \u001b[0m 0.3593  \u001b[0m | \u001b[0m 0.3033  \u001b[0m | \u001b[0m 0.07375 \u001b[0m | \u001b[0m 10.79   \u001b[0m | \u001b[0m 0.4671  \u001b[0m |\n",
      "| \u001b[0m 63      \u001b[0m | \u001b[0m 0.01061 \u001b[0m | \u001b[0m 0.04207 \u001b[0m | \u001b[0m 0.4318  \u001b[0m | \u001b[0m 0.8966  \u001b[0m | \u001b[0m 0.3621  \u001b[0m | \u001b[0m 0.9363  \u001b[0m | \u001b[0m 10.7    \u001b[0m | \u001b[0m 0.7692  \u001b[0m |\n",
      "| \u001b[0m 64      \u001b[0m | \u001b[0m 0.009797\u001b[0m | \u001b[0m 0.9551  \u001b[0m | \u001b[0m 0.3018  \u001b[0m | \u001b[0m 0.3055  \u001b[0m | \u001b[0m 0.3321  \u001b[0m | \u001b[0m 0.9435  \u001b[0m | \u001b[0m 4.707   \u001b[0m | \u001b[0m 0.4211  \u001b[0m |\n",
      "| \u001b[0m 65      \u001b[0m | \u001b[0m 0.01236 \u001b[0m | \u001b[0m 0.2144  \u001b[0m | \u001b[0m 0.3447  \u001b[0m | \u001b[0m 0.7477  \u001b[0m | \u001b[0m 0.372   \u001b[0m | \u001b[0m 0.3573  \u001b[0m | \u001b[0m 3.125   \u001b[0m | \u001b[0m 0.898   \u001b[0m |\n",
      "| \u001b[0m 66      \u001b[0m | \u001b[0m 0.01401 \u001b[0m | \u001b[0m 0.984   \u001b[0m | \u001b[0m 0.419   \u001b[0m | \u001b[0m 0.5278  \u001b[0m | \u001b[0m 0.7023  \u001b[0m | \u001b[0m 0.9636  \u001b[0m | \u001b[0m 3.028   \u001b[0m | \u001b[0m 0.7049  \u001b[0m |\n",
      "| \u001b[0m 67      \u001b[0m | \u001b[0m 0.01975 \u001b[0m | \u001b[0m 0.005919\u001b[0m | \u001b[0m 0.9063  \u001b[0m | \u001b[0m 0.8511  \u001b[0m | \u001b[0m 0.8589  \u001b[0m | \u001b[0m 0.8105  \u001b[0m | \u001b[0m 13.24   \u001b[0m | \u001b[0m 0.8848  \u001b[0m |\n",
      "| \u001b[0m 68      \u001b[0m | \u001b[0m 0.0104  \u001b[0m | \u001b[0m 0.9988  \u001b[0m | \u001b[0m 0.9071  \u001b[0m | \u001b[0m 0.5731  \u001b[0m | \u001b[0m 0.8792  \u001b[0m | \u001b[0m 0.9658  \u001b[0m | \u001b[0m 12.77   \u001b[0m | \u001b[0m 0.3548  \u001b[0m |\n",
      "| \u001b[0m 69      \u001b[0m | \u001b[0m 0.01379 \u001b[0m | \u001b[0m 0.9931  \u001b[0m | \u001b[0m 0.9389  \u001b[0m | \u001b[0m 0.3331  \u001b[0m | \u001b[0m 0.8137  \u001b[0m | \u001b[0m 0.1354  \u001b[0m | \u001b[0m 3.081   \u001b[0m | \u001b[0m 0.8967  \u001b[0m |\n",
      "| \u001b[0m 70      \u001b[0m | \u001b[0m 0.01482 \u001b[0m | \u001b[0m 0.01677 \u001b[0m | \u001b[0m 0.7054  \u001b[0m | \u001b[0m 0.3802  \u001b[0m | \u001b[0m 0.3024  \u001b[0m | \u001b[0m 0.4839  \u001b[0m | \u001b[0m 7.269   \u001b[0m | \u001b[0m 0.7666  \u001b[0m |\n",
      "| \u001b[0m 71      \u001b[0m | \u001b[0m 0.01107 \u001b[0m | \u001b[0m 0.953   \u001b[0m | \u001b[0m 0.9274  \u001b[0m | \u001b[0m 0.8597  \u001b[0m | \u001b[0m 0.8874  \u001b[0m | \u001b[0m 0.3085  \u001b[0m | \u001b[0m 6.297   \u001b[0m | \u001b[0m 0.8343  \u001b[0m |\n",
      "| \u001b[0m 72      \u001b[0m | \u001b[0m 0.009517\u001b[0m | \u001b[0m 0.7083  \u001b[0m | \u001b[0m 0.9546  \u001b[0m | \u001b[0m 0.7961  \u001b[0m | \u001b[0m 0.7973  \u001b[0m | \u001b[0m 0.03384 \u001b[0m | \u001b[0m 12.74   \u001b[0m | \u001b[0m 0.8999  \u001b[0m |\n",
      "| \u001b[0m 73      \u001b[0m | \u001b[0m 0.009845\u001b[0m | \u001b[0m 0.01281 \u001b[0m | \u001b[0m 0.3033  \u001b[0m | \u001b[0m 0.7273  \u001b[0m | \u001b[0m 0.4017  \u001b[0m | \u001b[0m 0.8547  \u001b[0m | \u001b[0m 12.49   \u001b[0m | \u001b[0m 0.3245  \u001b[0m |\n",
      "| \u001b[0m 74      \u001b[0m | \u001b[0m 0.01102 \u001b[0m | \u001b[0m 0.01769 \u001b[0m | \u001b[0m 0.9599  \u001b[0m | \u001b[0m 0.8621  \u001b[0m | \u001b[0m 0.3477  \u001b[0m | \u001b[0m 0.9199  \u001b[0m | \u001b[0m 7.777   \u001b[0m | \u001b[0m 0.7942  \u001b[0m |\n",
      "| \u001b[0m 75      \u001b[0m | \u001b[0m 0.01019 \u001b[0m | \u001b[0m 0.09301 \u001b[0m | \u001b[0m 0.3256  \u001b[0m | \u001b[0m 0.3446  \u001b[0m | \u001b[0m 0.3617  \u001b[0m | \u001b[0m 0.9446  \u001b[0m | \u001b[0m 7.415   \u001b[0m | \u001b[0m 0.3427  \u001b[0m |\n",
      "| \u001b[0m 76      \u001b[0m | \u001b[0m 0.011   \u001b[0m | \u001b[0m 0.998   \u001b[0m | \u001b[0m 0.3233  \u001b[0m | \u001b[0m 0.7736  \u001b[0m | \u001b[0m 0.7057  \u001b[0m | \u001b[0m 0.2771  \u001b[0m | \u001b[0m 5.38    \u001b[0m | \u001b[0m 0.8466  \u001b[0m |\n",
      "| \u001b[0m 77      \u001b[0m | \u001b[0m 0.009837\u001b[0m | \u001b[0m 0.01985 \u001b[0m | \u001b[0m 0.8004  \u001b[0m | \u001b[0m 0.8831  \u001b[0m | \u001b[0m 0.8892  \u001b[0m | \u001b[0m 0.0363  \u001b[0m | \u001b[0m 4.08    \u001b[0m | \u001b[0m 0.8507  \u001b[0m |\n",
      "| \u001b[0m 78      \u001b[0m | \u001b[0m 0.01069 \u001b[0m | \u001b[0m 0.1111  \u001b[0m | \u001b[0m 0.9845  \u001b[0m | \u001b[0m 0.3538  \u001b[0m | \u001b[0m 0.3     \u001b[0m | \u001b[0m 0.8441  \u001b[0m | \u001b[0m 7.436   \u001b[0m | \u001b[0m 0.3     \u001b[0m |\n",
      "| \u001b[0m 79      \u001b[0m | \u001b[0m 0.0214  \u001b[0m | \u001b[0m 0.01906 \u001b[0m | \u001b[0m 0.7968  \u001b[0m | \u001b[0m 0.3433  \u001b[0m | \u001b[0m 0.7493  \u001b[0m | \u001b[0m 0.4019  \u001b[0m | \u001b[0m 10.5    \u001b[0m | \u001b[0m 0.864   \u001b[0m |\n",
      "| \u001b[0m 80      \u001b[0m | \u001b[0m 0.01161 \u001b[0m | \u001b[0m 0.9963  \u001b[0m | \u001b[0m 0.3057  \u001b[0m | \u001b[0m 0.6541  \u001b[0m | \u001b[0m 0.8659  \u001b[0m | \u001b[0m 0.1705  \u001b[0m | \u001b[0m 7.957   \u001b[0m | \u001b[0m 0.5208  \u001b[0m |\n",
      "| \u001b[0m 81      \u001b[0m | \u001b[0m 0.01113 \u001b[0m | \u001b[0m 0.008928\u001b[0m | \u001b[0m 0.3893  \u001b[0m | \u001b[0m 0.8922  \u001b[0m | \u001b[0m 0.3154  \u001b[0m | \u001b[0m 0.1871  \u001b[0m | \u001b[0m 13.73   \u001b[0m | \u001b[0m 0.8647  \u001b[0m |\n",
      "| \u001b[0m 82      \u001b[0m | \u001b[0m 0.01262 \u001b[0m | \u001b[0m 0.0174  \u001b[0m | \u001b[0m 0.3085  \u001b[0m | \u001b[0m 0.3434  \u001b[0m | \u001b[0m 0.8807  \u001b[0m | \u001b[0m 0.6316  \u001b[0m | \u001b[0m 8.284   \u001b[0m | \u001b[0m 0.8758  \u001b[0m |\n",
      "| \u001b[0m 83      \u001b[0m | \u001b[0m 0.008174\u001b[0m | \u001b[0m 0.05188 \u001b[0m | \u001b[0m 0.3047  \u001b[0m | \u001b[0m 0.8119  \u001b[0m | \u001b[0m 0.8983  \u001b[0m | \u001b[0m 0.7231  \u001b[0m | \u001b[0m 14.72   \u001b[0m | \u001b[0m 0.3212  \u001b[0m |\n",
      "| \u001b[0m 84      \u001b[0m | \u001b[0m 0.02122 \u001b[0m | \u001b[0m 0.07348 \u001b[0m | \u001b[0m 0.9969  \u001b[0m | \u001b[0m 0.5409  \u001b[0m | \u001b[0m 0.8562  \u001b[0m | \u001b[0m 0.9406  \u001b[0m | \u001b[0m 11.2    \u001b[0m | \u001b[0m 0.6058  \u001b[0m |\n",
      "| \u001b[0m 85      \u001b[0m | \u001b[0m 0.009709\u001b[0m | \u001b[0m 0.02583 \u001b[0m | \u001b[0m 0.3161  \u001b[0m | \u001b[0m 0.489   \u001b[0m | \u001b[0m 0.7688  \u001b[0m | \u001b[0m 0.6184  \u001b[0m | \u001b[0m 10.38   \u001b[0m | \u001b[0m 0.3401  \u001b[0m |\n",
      "| \u001b[0m 86      \u001b[0m | \u001b[0m 0.01446 \u001b[0m | \u001b[0m 0.01921 \u001b[0m | \u001b[0m 0.8465  \u001b[0m | \u001b[0m 0.7288  \u001b[0m | \u001b[0m 0.8347  \u001b[0m | \u001b[0m 0.6125  \u001b[0m | \u001b[0m 11.13   \u001b[0m | \u001b[0m 0.8946  \u001b[0m |\n",
      "| \u001b[0m 87      \u001b[0m | \u001b[0m 0.02254 \u001b[0m | \u001b[0m 0.04249 \u001b[0m | \u001b[0m 0.9516  \u001b[0m | \u001b[0m 0.3024  \u001b[0m | \u001b[0m 0.795   \u001b[0m | \u001b[0m 0.9417  \u001b[0m | \u001b[0m 13.75   \u001b[0m | \u001b[0m 0.8553  \u001b[0m |\n",
      "| \u001b[0m 88      \u001b[0m | \u001b[0m 0.008781\u001b[0m | \u001b[0m 0.005844\u001b[0m | \u001b[0m 0.9899  \u001b[0m | \u001b[0m 0.8352  \u001b[0m | \u001b[0m 0.3888  \u001b[0m | \u001b[0m 0.9766  \u001b[0m | \u001b[0m 13.79   \u001b[0m | \u001b[0m 0.4025  \u001b[0m |\n",
      "| \u001b[0m 89      \u001b[0m | \u001b[0m 0.01227 \u001b[0m | \u001b[0m 0.007698\u001b[0m | \u001b[0m 0.9353  \u001b[0m | \u001b[0m 0.4071  \u001b[0m | \u001b[0m 0.8988  \u001b[0m | \u001b[0m 0.214   \u001b[0m | \u001b[0m 13.02   \u001b[0m | \u001b[0m 0.8488  \u001b[0m |\n",
      "| \u001b[0m 90      \u001b[0m | \u001b[0m 0.01268 \u001b[0m | \u001b[0m 0.02761 \u001b[0m | \u001b[0m 0.9502  \u001b[0m | \u001b[0m 0.3085  \u001b[0m | \u001b[0m 0.3098  \u001b[0m | \u001b[0m 0.9799  \u001b[0m | \u001b[0m 11.08   \u001b[0m | \u001b[0m 0.7834  \u001b[0m |\n"
     ]
    },
    {
     "name": "stdout",
     "output_type": "stream",
     "text": [
      "| \u001b[0m 91      \u001b[0m | \u001b[0m 0.01024 \u001b[0m | \u001b[0m 0.9719  \u001b[0m | \u001b[0m 0.416   \u001b[0m | \u001b[0m 0.8897  \u001b[0m | \u001b[0m 0.307   \u001b[0m | \u001b[0m 0.5808  \u001b[0m | \u001b[0m 14.86   \u001b[0m | \u001b[0m 0.8346  \u001b[0m |\n",
      "| \u001b[0m 92      \u001b[0m | \u001b[0m 0.01842 \u001b[0m | \u001b[0m 0.7602  \u001b[0m | \u001b[0m 0.9857  \u001b[0m | \u001b[0m 0.3196  \u001b[0m | \u001b[0m 0.8761  \u001b[0m | \u001b[0m 0.952   \u001b[0m | \u001b[0m 14.21   \u001b[0m | \u001b[0m 0.766   \u001b[0m |\n",
      "| \u001b[0m 93      \u001b[0m | \u001b[0m 0.01172 \u001b[0m | \u001b[0m 0.9305  \u001b[0m | \u001b[0m 0.9764  \u001b[0m | \u001b[0m 0.3044  \u001b[0m | \u001b[0m 0.3099  \u001b[0m | \u001b[0m 0.003039\u001b[0m | \u001b[0m 4.507   \u001b[0m | \u001b[0m 0.3588  \u001b[0m |\n",
      "| \u001b[0m 94      \u001b[0m | \u001b[0m 0.01322 \u001b[0m | \u001b[0m 0.1529  \u001b[0m | \u001b[0m 0.3473  \u001b[0m | \u001b[0m 0.3322  \u001b[0m | \u001b[0m 0.5838  \u001b[0m | \u001b[0m 0.996   \u001b[0m | \u001b[0m 4.001   \u001b[0m | \u001b[0m 0.8654  \u001b[0m |\n",
      "| \u001b[0m 95      \u001b[0m | \u001b[0m 0.01757 \u001b[0m | \u001b[0m 0.319   \u001b[0m | \u001b[0m 0.9859  \u001b[0m | \u001b[0m 0.312   \u001b[0m | \u001b[0m 0.3169  \u001b[0m | \u001b[0m 0.07813 \u001b[0m | \u001b[0m 4.402   \u001b[0m | \u001b[0m 0.8981  \u001b[0m |\n",
      "| \u001b[0m 96      \u001b[0m | \u001b[0m 0.01218 \u001b[0m | \u001b[0m 0.2533  \u001b[0m | \u001b[0m 0.9978  \u001b[0m | \u001b[0m 0.3489  \u001b[0m | \u001b[0m 0.8721  \u001b[0m | \u001b[0m 0.791   \u001b[0m | \u001b[0m 10.02   \u001b[0m | \u001b[0m 0.7876  \u001b[0m |\n",
      "| \u001b[0m 97      \u001b[0m | \u001b[0m 0.01297 \u001b[0m | \u001b[0m 0.000636\u001b[0m | \u001b[0m 0.3897  \u001b[0m | \u001b[0m 0.4259  \u001b[0m | \u001b[0m 0.3286  \u001b[0m | \u001b[0m 0.8695  \u001b[0m | \u001b[0m 5.638   \u001b[0m | \u001b[0m 0.8862  \u001b[0m |\n",
      "| \u001b[0m 98      \u001b[0m | \u001b[0m 0.01275 \u001b[0m | \u001b[0m 0.07643 \u001b[0m | \u001b[0m 0.3856  \u001b[0m | \u001b[0m 0.3149  \u001b[0m | \u001b[0m 0.466   \u001b[0m | \u001b[0m 0.4084  \u001b[0m | \u001b[0m 14.85   \u001b[0m | \u001b[0m 0.8647  \u001b[0m |\n",
      "| \u001b[0m 99      \u001b[0m | \u001b[0m 0.01567 \u001b[0m | \u001b[0m 0.891   \u001b[0m | \u001b[0m 0.3086  \u001b[0m | \u001b[0m 0.3054  \u001b[0m | \u001b[0m 0.3003  \u001b[0m | \u001b[0m 0.1099  \u001b[0m | \u001b[0m 4.457   \u001b[0m | \u001b[0m 0.8126  \u001b[0m |\n",
      "| \u001b[0m 100     \u001b[0m | \u001b[0m 0.009502\u001b[0m | \u001b[0m 0.816   \u001b[0m | \u001b[0m 0.3205  \u001b[0m | \u001b[0m 0.5033  \u001b[0m | \u001b[0m 0.3927  \u001b[0m | \u001b[0m 0.9992  \u001b[0m | \u001b[0m 14.95   \u001b[0m | \u001b[0m 0.3393  \u001b[0m |\n",
      "| \u001b[0m 101     \u001b[0m | \u001b[0m 0.01182 \u001b[0m | \u001b[0m 0.09148 \u001b[0m | \u001b[0m 0.909   \u001b[0m | \u001b[0m 0.4774  \u001b[0m | \u001b[0m 0.8911  \u001b[0m | \u001b[0m 0.9999  \u001b[0m | \u001b[0m 12.64   \u001b[0m | \u001b[0m 0.884   \u001b[0m |\n",
      "| \u001b[0m 102     \u001b[0m | \u001b[0m 0.01554 \u001b[0m | \u001b[0m 0.6974  \u001b[0m | \u001b[0m 0.9991  \u001b[0m | \u001b[0m 0.302   \u001b[0m | \u001b[0m 0.8353  \u001b[0m | \u001b[0m 0.5394  \u001b[0m | \u001b[0m 14.89   \u001b[0m | \u001b[0m 0.4888  \u001b[0m |\n",
      "| \u001b[0m 103     \u001b[0m | \u001b[0m 0.0223  \u001b[0m | \u001b[0m 0.9313  \u001b[0m | \u001b[0m 0.3294  \u001b[0m | \u001b[0m 0.3158  \u001b[0m | \u001b[0m 0.8658  \u001b[0m | \u001b[0m 0.862   \u001b[0m | \u001b[0m 7.102   \u001b[0m | \u001b[0m 0.8807  \u001b[0m |\n",
      "| \u001b[0m 104     \u001b[0m | \u001b[0m 0.008148\u001b[0m | \u001b[0m 0.9961  \u001b[0m | \u001b[0m 0.9659  \u001b[0m | \u001b[0m 0.6462  \u001b[0m | \u001b[0m 0.8316  \u001b[0m | \u001b[0m 0.971   \u001b[0m | \u001b[0m 11.11   \u001b[0m | \u001b[0m 0.3659  \u001b[0m |\n",
      "| \u001b[0m 105     \u001b[0m | \u001b[0m 0.01061 \u001b[0m | \u001b[0m 0.9574  \u001b[0m | \u001b[0m 0.3501  \u001b[0m | \u001b[0m 0.3629  \u001b[0m | \u001b[0m 0.8853  \u001b[0m | \u001b[0m 0.5036  \u001b[0m | \u001b[0m 6.667   \u001b[0m | \u001b[0m 0.4644  \u001b[0m |\n",
      "| \u001b[0m 106     \u001b[0m | \u001b[0m 0.01676 \u001b[0m | \u001b[0m 0.9996  \u001b[0m | \u001b[0m 0.9931  \u001b[0m | \u001b[0m 0.3054  \u001b[0m | \u001b[0m 0.6638  \u001b[0m | \u001b[0m 0.3266  \u001b[0m | \u001b[0m 8.248   \u001b[0m | \u001b[0m 0.8853  \u001b[0m |\n",
      "| \u001b[0m 107     \u001b[0m | \u001b[0m 0.01048 \u001b[0m | \u001b[0m 0.000154\u001b[0m | \u001b[0m 0.3046  \u001b[0m | \u001b[0m 0.8794  \u001b[0m | \u001b[0m 0.74    \u001b[0m | \u001b[0m 0.6538  \u001b[0m | \u001b[0m 7.418   \u001b[0m | \u001b[0m 0.6498  \u001b[0m |\n",
      "| \u001b[0m 108     \u001b[0m | \u001b[0m 0.009014\u001b[0m | \u001b[0m 0.002241\u001b[0m | \u001b[0m 0.9827  \u001b[0m | \u001b[0m 0.7362  \u001b[0m | \u001b[0m 0.8702  \u001b[0m | \u001b[0m 0.3277  \u001b[0m | \u001b[0m 8.557   \u001b[0m | \u001b[0m 0.8627  \u001b[0m |\n",
      "| \u001b[0m 109     \u001b[0m | \u001b[0m 0.01566 \u001b[0m | \u001b[0m 0.9748  \u001b[0m | \u001b[0m 0.4751  \u001b[0m | \u001b[0m 0.3015  \u001b[0m | \u001b[0m 0.8581  \u001b[0m | \u001b[0m 0.1443  \u001b[0m | \u001b[0m 7.577   \u001b[0m | \u001b[0m 0.8435  \u001b[0m |\n",
      "| \u001b[0m 110     \u001b[0m | \u001b[0m 0.0206  \u001b[0m | \u001b[0m 0.03505 \u001b[0m | \u001b[0m 0.9431  \u001b[0m | \u001b[0m 0.8331  \u001b[0m | \u001b[0m 0.7306  \u001b[0m | \u001b[0m 0.1357  \u001b[0m | \u001b[0m 5.762   \u001b[0m | \u001b[0m 0.882   \u001b[0m |\n",
      "=============================================================================================================\n"
     ]
    }
   ],
   "source": [
    "def xgb_evaluate_blead2(max_depth, eta, subsample,colsample_bytree,gamma,lambda1,alpha):\n",
    "    params = {'eval_metric': 'aucpr',\n",
    "              'max_depth': int(max_depth),\n",
    "              'subsample': subsample, #0.8\n",
    "              'eta': eta, #0.3.. 0.2\n",
    "              'gamma': gamma,\n",
    "              'lambda': lambda1,\n",
    "              'alpha': alpha,\n",
    "              'colsample_bytree': colsample_bytree,\n",
    "              'objective': 'binary:logistic',\n",
    "              'verbosity': 0}\n",
    "    # Used around 1000 boosting rounds in the full model\n",
    "    cv_result = xgb.cv(params, dtrain_b_y, num_boost_round=100, nfold=5)    \n",
    "    \n",
    "    # Bayesian optimization only knows how to maximize, not minimize, so return the negative RMSE\n",
    "    return cv_result['test-aucpr-mean'].iloc[-1]\n",
    "\n",
    "xgb_bo_blead2 = BayesianOptimization(xgb_evaluate_blead2, {'max_depth': (3, 15),                                              \n",
    "                                             'subsample': (0.3, 0.9),\n",
    "                                             'eta': (0.3, 0.9),\n",
    "                                             'gamma': (0.3, 0.9),\n",
    "                                             'lambda1': (0.0, 1.0),\n",
    "                                             'alpha': (0.0, 1.0),\n",
    "                                             'colsample_bytree': (0.3, 1)})\n",
    "    \n",
    "\n",
    "xgb_bo_blead2.maximize(init_points=10, n_iter=100, acq='ei')"
   ]
  },
  {
   "cell_type": "code",
   "execution_count": 78,
   "metadata": {},
   "outputs": [],
   "source": [
    "params_blead2 = xgb_bo_blead2.max[\"params\"]\n",
    "params_blead2['max_depth'] = int(params_blead2['max_depth'])\n",
    "\n",
    "# Train a new model with the best parameters from the search\n",
    "model2_blead2 = xgb.train(params_blead2, dtrain_b_y, num_boost_round=500)"
   ]
  },
  {
   "cell_type": "code",
   "execution_count": 80,
   "metadata": {},
   "outputs": [],
   "source": [
    "pickle.dump(model2_blead2, open(models_b_dir+\"xgboost_y_blead2.pickle.dat\", \"wb\"))"
   ]
  },
  {
   "cell_type": "code",
   "execution_count": 81,
   "metadata": {},
   "outputs": [],
   "source": [
    "y_lead2_pred_train_b_own = model2_blead2.predict(dtrain_b)\n",
    "y_lead2_pred_test_b_own = model2_blead2.predict(dtest_b)"
   ]
  },
  {
   "cell_type": "code",
   "execution_count": 87,
   "metadata": {},
   "outputs": [],
   "source": [
    "xgb_out_train_b_own=pd.DataFrame({\"xgb_y_prob\" : y_pred_train_b,\n",
    "                                  \"xgb_ylead1_prob\" : y_lead1_pred_train_b,\n",
    "                                  #\"xgb_ylead2_prob\" : y_lead2_pred_train_b,\n",
    "                                  \"xgb_yblead2_prob\" : y_lead2_pred_train_b_own})\n",
    "xgb_out_test_b_own=pd.DataFrame({\"xgb_y_prob\" : y_pred_test_b,\n",
    "                                 \"xgb_ylead1_prob\" : y_lead1_pred_test_b,\n",
    "                                 #\"xgb_ylead2_prob\" : y_lead2_pred_test_b,\n",
    "                                 \"xgb_yblead2_prob\" : y_lead2_pred_test_b_own})"
   ]
  },
  {
   "cell_type": "code",
   "execution_count": 88,
   "metadata": {},
   "outputs": [],
   "source": [
    "xgb_out_train_b_own.to_csv(preproc_dir+\"xgb_out_train_b_own.csv\",index=False)\n",
    "xgb_out_test_b_own.to_csv(preproc_dir+\"xgb_out_test_b_own.csv\",index=False)"
   ]
  }
 ],
 "metadata": {
  "kernelspec": {
   "display_name": "Python 3",
   "language": "python",
   "name": "python3"
  },
  "language_info": {
   "codemirror_mode": {
    "name": "ipython",
    "version": 3
   },
   "file_extension": ".py",
   "mimetype": "text/x-python",
   "name": "python",
   "nbconvert_exporter": "python",
   "pygments_lexer": "ipython3",
   "version": "3.6.5"
  },
  "toc": {
   "nav_menu": {},
   "number_sections": true,
   "sideBar": true,
   "skip_h1_title": false,
   "title_cell": "Table of Contents",
   "title_sidebar": "Contents",
   "toc_cell": false,
   "toc_position": {},
   "toc_section_display": true,
   "toc_window_display": false
  }
 },
 "nbformat": 4,
 "nbformat_minor": 2
}
